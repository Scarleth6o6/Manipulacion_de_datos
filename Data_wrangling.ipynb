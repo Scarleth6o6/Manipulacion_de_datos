{
 "cells": [
  {
   "cell_type": "markdown",
   "id": "3Xg_RQfnafXz",
   "metadata": {
    "id": "3Xg_RQfnafXz"
   },
   "source": [
    "# ¡Llena ese carrito!"
   ]
  },
  {
   "cell_type": "markdown",
   "id": "mhIvmmkW414q",
   "metadata": {
    "id": "mhIvmmkW414q"
   },
   "source": [
    "# Introducción\n",
    "\n",
    "Instacart es una plataforma de entregas de comestibles donde la clientela puede registrar un pedido y hacer que se lo entreguen, similar a Uber Eats y Door Dash.\n",
    "El conjunto de datos que te hemos proporcionado tiene modificaciones del original. Redujimos el tamaño del conjunto para que tus cálculos se hicieran más rápido e introdujimos valores ausentes y duplicados. Tuvimos cuidado de conservar las distribuciones de los datos originales cuando hicimos los cambios.\n",
    "\n",
    "Debes completar tres pasos. Para cada uno de ellos, escribe una breve introducción que refleje con claridad cómo pretendes resolver cada paso, y escribe párrafos explicatorios que justifiquen tus decisiones al tiempo que avanzas en tu solución.  También escribe una conclusión que resuma tus hallazgos y elecciones.\n"
   ]
  },
  {
   "cell_type": "markdown",
   "id": "3MbyzpOQZ5Or",
   "metadata": {
    "id": "3MbyzpOQZ5Or"
   },
   "source": [
    "## Diccionario de datos\n",
    "\n",
    "Hay cinco tablas en el conjunto de datos, y tendrás que usarlas todas para hacer el preprocesamiento de datos y el análisis exploratorio de datos. A continuación se muestra un diccionario de datos que enumera las columnas de cada tabla y describe los datos que contienen.\n",
    "\n",
    "- `instacart_orders.csv`: cada fila corresponde a un pedido en la aplicación Instacart.\n",
    "    - `'order_id'`: número de ID que identifica de manera única cada pedido.\n",
    "    - `'user_id'`: número de ID que identifica de manera única la cuenta de cada cliente.\n",
    "    - `'order_number'`: el número de veces que este cliente ha hecho un pedido.\n",
    "    - `'order_dow'`: día de la semana en que se hizo el pedido (0 si es domingo).\n",
    "    - `'order_hour_of_day'`: hora del día en que se hizo el pedido.\n",
    "    - `'days_since_prior_order'`: número de días transcurridos desde que este cliente hizo su pedido anterior.\n",
    "- `products.csv`: cada fila corresponde a un producto único que pueden comprar los clientes.\n",
    "    - `'product_id'`: número ID que identifica de manera única cada producto.\n",
    "    - `'product_name'`: nombre del producto.\n",
    "    - `'aisle_id'`: número ID que identifica de manera única cada categoría de pasillo de víveres.\n",
    "    - `'department_id'`: número ID que identifica de manera única cada departamento de víveres.\n",
    "- `order_products.csv`: cada fila corresponde a un artículo pedido en un pedido.\n",
    "    - `'order_id'`: número de ID que identifica de manera única cada pedido.\n",
    "    - `'product_id'`: número ID que identifica de manera única cada producto.\n",
    "    - `'add_to_cart_order'`: el orden secuencial en el que se añadió cada artículo en el carrito.\n",
    "    - `'reordered'`: 0 si el cliente nunca ha pedido este producto antes, 1 si lo ha pedido.\n",
    "- `aisles.csv`\n",
    "    - `'aisle_id'`: número ID que identifica de manera única cada categoría de pasillo de víveres.\n",
    "    - `'aisle'`: nombre del pasillo.\n",
    "- `departments.csv`\n",
    "    - `'department_id'`: número ID que identifica de manera única cada departamento de víveres.\n",
    "    - `'department'`: nombre del departamento."
   ]
  },
  {
   "cell_type": "markdown",
   "id": "n3Ha_cNSZ8lK",
   "metadata": {
    "id": "n3Ha_cNSZ8lK"
   },
   "source": [
    "# Paso 1. Descripción de los datos\n",
    "\n",
    "Lee los archivos de datos (`/datasets/instacart_orders.csv`, `/datasets/products.csv`, `/datasets/aisles.csv`, `/datasets/departments.csv` y `/datasets/order_products.csv`) con `pd.read_csv()` usando los parámetros adecuados para leer los datos correctamente. Verifica la información para cada DataFrame creado.\n"
   ]
  },
  {
   "cell_type": "markdown",
   "id": "OmlQPLlyaAfR",
   "metadata": {
    "id": "OmlQPLlyaAfR"
   },
   "source": [
    "## Plan de solución\n",
    "\n",
    "Escribe aquí tu plan de solución para el Paso 1. Descripción de los datos.\n",
    "\n",
    "Primero importar la libreria `Pandas` para usar el metodo `.read_csv()`, luego crear un `DataFrame` con los datos obtenidos y almacenarlos con un nombre descriptivo sobre la informacion que contiene y el tipo de dato ejemplo: `products_df`. \n",
    "Como en el archivo los valores estan separados por `;` lo mejor será pasar esto al parametro `sep=` en el metodo `read_csv()`. Por último llamar a la funcion `.info()` para cada dataframe para saber los tipos de datos que contienen y la cantidad de valores nulos en cada uno"
   ]
  },
  {
   "cell_type": "code",
   "execution_count": 1,
   "id": "fbf1adab",
   "metadata": {
    "id": "fbf1adab"
   },
   "outputs": [],
   "source": [
    "# importar librerías\n",
    "import pandas as pd\n",
    "from matplotlib import pyplot as plt\n",
    "import seaborn as sns"
   ]
  },
  {
   "cell_type": "code",
   "execution_count": 2,
   "id": "ad36396d",
   "metadata": {
    "id": "ad36396d"
   },
   "outputs": [],
   "source": [
    "# leer conjuntos de datos en los DataFrames\n",
    "instacart_orders_df = pd.read_csv('/datasets/instacart_orders.csv', sep=';')\n",
    "products_df = pd.read_csv('/datasets/products.csv', sep=';')\n",
    "aisles_df = pd.read_csv('/datasets/aisles.csv', sep=';')\n",
    "departments_df = pd.read_csv('/datasets/departments.csv', sep=';')\n",
    "order_products_df = pd.read_csv('/datasets/order_products.csv', sep=';')\n"
   ]
  },
  {
   "cell_type": "code",
   "execution_count": 3,
   "id": "ad6a1efa",
   "metadata": {
    "id": "ad6a1efa"
   },
   "outputs": [
    {
     "name": "stdout",
     "output_type": "stream",
     "text": [
      "<class 'pandas.core.frame.DataFrame'>\n",
      "RangeIndex: 478967 entries, 0 to 478966\n",
      "Data columns (total 6 columns):\n",
      " #   Column                  Non-Null Count   Dtype  \n",
      "---  ------                  --------------   -----  \n",
      " 0   order_id                478967 non-null  int64  \n",
      " 1   user_id                 478967 non-null  int64  \n",
      " 2   order_number            478967 non-null  int64  \n",
      " 3   order_dow               478967 non-null  int64  \n",
      " 4   order_hour_of_day       478967 non-null  int64  \n",
      " 5   days_since_prior_order  450148 non-null  float64\n",
      "dtypes: float64(1), int64(5)\n",
      "memory usage: 21.9 MB\n"
     ]
    },
    {
     "data": {
      "text/html": [
       "<div>\n",
       "<style scoped>\n",
       "    .dataframe tbody tr th:only-of-type {\n",
       "        vertical-align: middle;\n",
       "    }\n",
       "\n",
       "    .dataframe tbody tr th {\n",
       "        vertical-align: top;\n",
       "    }\n",
       "\n",
       "    .dataframe thead th {\n",
       "        text-align: right;\n",
       "    }\n",
       "</style>\n",
       "<table border=\"1\" class=\"dataframe\">\n",
       "  <thead>\n",
       "    <tr style=\"text-align: right;\">\n",
       "      <th></th>\n",
       "      <th>order_id</th>\n",
       "      <th>user_id</th>\n",
       "      <th>order_number</th>\n",
       "      <th>order_dow</th>\n",
       "      <th>order_hour_of_day</th>\n",
       "      <th>days_since_prior_order</th>\n",
       "    </tr>\n",
       "  </thead>\n",
       "  <tbody>\n",
       "    <tr>\n",
       "      <th>140442</th>\n",
       "      <td>422791</td>\n",
       "      <td>99164</td>\n",
       "      <td>1</td>\n",
       "      <td>4</td>\n",
       "      <td>12</td>\n",
       "      <td>NaN</td>\n",
       "    </tr>\n",
       "    <tr>\n",
       "      <th>257934</th>\n",
       "      <td>1919531</td>\n",
       "      <td>191501</td>\n",
       "      <td>32</td>\n",
       "      <td>3</td>\n",
       "      <td>2</td>\n",
       "      <td>7.0</td>\n",
       "    </tr>\n",
       "    <tr>\n",
       "      <th>69743</th>\n",
       "      <td>2160607</td>\n",
       "      <td>57158</td>\n",
       "      <td>12</td>\n",
       "      <td>5</td>\n",
       "      <td>16</td>\n",
       "      <td>4.0</td>\n",
       "    </tr>\n",
       "    <tr>\n",
       "      <th>440497</th>\n",
       "      <td>3096405</td>\n",
       "      <td>175469</td>\n",
       "      <td>13</td>\n",
       "      <td>5</td>\n",
       "      <td>10</td>\n",
       "      <td>3.0</td>\n",
       "    </tr>\n",
       "    <tr>\n",
       "      <th>435855</th>\n",
       "      <td>1454588</td>\n",
       "      <td>1859</td>\n",
       "      <td>32</td>\n",
       "      <td>0</td>\n",
       "      <td>14</td>\n",
       "      <td>4.0</td>\n",
       "    </tr>\n",
       "  </tbody>\n",
       "</table>\n",
       "</div>"
      ],
      "text/plain": [
       "        order_id  user_id  order_number  order_dow  order_hour_of_day  \\\n",
       "140442    422791    99164             1          4                 12   \n",
       "257934   1919531   191501            32          3                  2   \n",
       "69743    2160607    57158            12          5                 16   \n",
       "440497   3096405   175469            13          5                 10   \n",
       "435855   1454588     1859            32          0                 14   \n",
       "\n",
       "        days_since_prior_order  \n",
       "140442                     NaN  \n",
       "257934                     7.0  \n",
       "69743                      4.0  \n",
       "440497                     3.0  \n",
       "435855                     4.0  "
      ]
     },
     "execution_count": 3,
     "metadata": {},
     "output_type": "execute_result"
    }
   ],
   "source": [
    "# mostrar información del DataFrame\n",
    "instacart_orders_df.info()\n",
    "instacart_orders_df.sample(5)"
   ]
  },
  {
   "cell_type": "code",
   "execution_count": 4,
   "id": "5130e05e",
   "metadata": {
    "id": "5130e05e",
    "scrolled": true
   },
   "outputs": [
    {
     "name": "stdout",
     "output_type": "stream",
     "text": [
      "<class 'pandas.core.frame.DataFrame'>\n",
      "RangeIndex: 49694 entries, 0 to 49693\n",
      "Data columns (total 4 columns):\n",
      " #   Column         Non-Null Count  Dtype \n",
      "---  ------         --------------  ----- \n",
      " 0   product_id     49694 non-null  int64 \n",
      " 1   product_name   48436 non-null  object\n",
      " 2   aisle_id       49694 non-null  int64 \n",
      " 3   department_id  49694 non-null  int64 \n",
      "dtypes: int64(3), object(1)\n",
      "memory usage: 1.5+ MB\n"
     ]
    },
    {
     "data": {
      "text/html": [
       "<div>\n",
       "<style scoped>\n",
       "    .dataframe tbody tr th:only-of-type {\n",
       "        vertical-align: middle;\n",
       "    }\n",
       "\n",
       "    .dataframe tbody tr th {\n",
       "        vertical-align: top;\n",
       "    }\n",
       "\n",
       "    .dataframe thead th {\n",
       "        text-align: right;\n",
       "    }\n",
       "</style>\n",
       "<table border=\"1\" class=\"dataframe\">\n",
       "  <thead>\n",
       "    <tr style=\"text-align: right;\">\n",
       "      <th></th>\n",
       "      <th>product_id</th>\n",
       "      <th>product_name</th>\n",
       "      <th>aisle_id</th>\n",
       "      <th>department_id</th>\n",
       "    </tr>\n",
       "  </thead>\n",
       "  <tbody>\n",
       "    <tr>\n",
       "      <th>0</th>\n",
       "      <td>1</td>\n",
       "      <td>Chocolate Sandwich Cookies</td>\n",
       "      <td>61</td>\n",
       "      <td>19</td>\n",
       "    </tr>\n",
       "    <tr>\n",
       "      <th>1</th>\n",
       "      <td>2</td>\n",
       "      <td>All-Seasons Salt</td>\n",
       "      <td>104</td>\n",
       "      <td>13</td>\n",
       "    </tr>\n",
       "    <tr>\n",
       "      <th>2</th>\n",
       "      <td>3</td>\n",
       "      <td>Robust Golden Unsweetened Oolong Tea</td>\n",
       "      <td>94</td>\n",
       "      <td>7</td>\n",
       "    </tr>\n",
       "    <tr>\n",
       "      <th>3</th>\n",
       "      <td>4</td>\n",
       "      <td>Smart Ones Classic Favorites Mini Rigatoni Wit...</td>\n",
       "      <td>38</td>\n",
       "      <td>1</td>\n",
       "    </tr>\n",
       "    <tr>\n",
       "      <th>4</th>\n",
       "      <td>5</td>\n",
       "      <td>Green Chile Anytime Sauce</td>\n",
       "      <td>5</td>\n",
       "      <td>13</td>\n",
       "    </tr>\n",
       "  </tbody>\n",
       "</table>\n",
       "</div>"
      ],
      "text/plain": [
       "   product_id                                       product_name  aisle_id  \\\n",
       "0           1                         Chocolate Sandwich Cookies        61   \n",
       "1           2                                   All-Seasons Salt       104   \n",
       "2           3               Robust Golden Unsweetened Oolong Tea        94   \n",
       "3           4  Smart Ones Classic Favorites Mini Rigatoni Wit...        38   \n",
       "4           5                          Green Chile Anytime Sauce         5   \n",
       "\n",
       "   department_id  \n",
       "0             19  \n",
       "1             13  \n",
       "2              7  \n",
       "3              1  \n",
       "4             13  "
      ]
     },
     "execution_count": 4,
     "metadata": {},
     "output_type": "execute_result"
    }
   ],
   "source": [
    "# mostrar información del DataFrame\n",
    "products_df.info()\n",
    "products_df.head()"
   ]
  },
  {
   "cell_type": "code",
   "execution_count": 5,
   "id": "d8370c05",
   "metadata": {
    "id": "d8370c05"
   },
   "outputs": [
    {
     "name": "stdout",
     "output_type": "stream",
     "text": [
      "<class 'pandas.core.frame.DataFrame'>\n",
      "RangeIndex: 134 entries, 0 to 133\n",
      "Data columns (total 2 columns):\n",
      " #   Column    Non-Null Count  Dtype \n",
      "---  ------    --------------  ----- \n",
      " 0   aisle_id  134 non-null    int64 \n",
      " 1   aisle     134 non-null    object\n",
      "dtypes: int64(1), object(1)\n",
      "memory usage: 2.2+ KB\n"
     ]
    }
   ],
   "source": [
    "# mostrar información del DataFrame\n",
    "aisles_df.info()"
   ]
  },
  {
   "cell_type": "code",
   "execution_count": 6,
   "id": "59e2090f",
   "metadata": {
    "id": "59e2090f"
   },
   "outputs": [
    {
     "name": "stdout",
     "output_type": "stream",
     "text": [
      "<class 'pandas.core.frame.DataFrame'>\n",
      "RangeIndex: 21 entries, 0 to 20\n",
      "Data columns (total 2 columns):\n",
      " #   Column         Non-Null Count  Dtype \n",
      "---  ------         --------------  ----- \n",
      " 0   department_id  21 non-null     int64 \n",
      " 1   department     21 non-null     object\n",
      "dtypes: int64(1), object(1)\n",
      "memory usage: 464.0+ bytes\n"
     ]
    }
   ],
   "source": [
    "# mostrar información del DataFrame\n",
    "departments_df.info()"
   ]
  },
  {
   "cell_type": "code",
   "execution_count": 7,
   "id": "6fc81694",
   "metadata": {
    "id": "6fc81694",
    "scrolled": true
   },
   "outputs": [
    {
     "name": "stdout",
     "output_type": "stream",
     "text": [
      "<class 'pandas.core.frame.DataFrame'>\n",
      "RangeIndex: 4545007 entries, 0 to 4545006\n",
      "Data columns (total 4 columns):\n",
      " #   Column             Non-Null Count    Dtype  \n",
      "---  ------             --------------    -----  \n",
      " 0   order_id           4545007 non-null  int64  \n",
      " 1   product_id         4545007 non-null  int64  \n",
      " 2   add_to_cart_order  4544171 non-null  float64\n",
      " 3   reordered          4545007 non-null  int64  \n",
      "dtypes: float64(1), int64(3)\n",
      "memory usage: 138.7 MB\n"
     ]
    },
    {
     "data": {
      "text/html": [
       "<div>\n",
       "<style scoped>\n",
       "    .dataframe tbody tr th:only-of-type {\n",
       "        vertical-align: middle;\n",
       "    }\n",
       "\n",
       "    .dataframe tbody tr th {\n",
       "        vertical-align: top;\n",
       "    }\n",
       "\n",
       "    .dataframe thead th {\n",
       "        text-align: right;\n",
       "    }\n",
       "</style>\n",
       "<table border=\"1\" class=\"dataframe\">\n",
       "  <thead>\n",
       "    <tr style=\"text-align: right;\">\n",
       "      <th></th>\n",
       "      <th>order_id</th>\n",
       "      <th>product_id</th>\n",
       "      <th>add_to_cart_order</th>\n",
       "      <th>reordered</th>\n",
       "    </tr>\n",
       "  </thead>\n",
       "  <tbody>\n",
       "    <tr>\n",
       "      <th>4545002</th>\n",
       "      <td>577211</td>\n",
       "      <td>15290</td>\n",
       "      <td>12.0</td>\n",
       "      <td>1</td>\n",
       "    </tr>\n",
       "    <tr>\n",
       "      <th>4545003</th>\n",
       "      <td>1219554</td>\n",
       "      <td>21914</td>\n",
       "      <td>9.0</td>\n",
       "      <td>0</td>\n",
       "    </tr>\n",
       "    <tr>\n",
       "      <th>4545004</th>\n",
       "      <td>692640</td>\n",
       "      <td>47766</td>\n",
       "      <td>4.0</td>\n",
       "      <td>1</td>\n",
       "    </tr>\n",
       "    <tr>\n",
       "      <th>4545005</th>\n",
       "      <td>319435</td>\n",
       "      <td>691</td>\n",
       "      <td>8.0</td>\n",
       "      <td>1</td>\n",
       "    </tr>\n",
       "    <tr>\n",
       "      <th>4545006</th>\n",
       "      <td>1398151</td>\n",
       "      <td>28733</td>\n",
       "      <td>9.0</td>\n",
       "      <td>0</td>\n",
       "    </tr>\n",
       "  </tbody>\n",
       "</table>\n",
       "</div>"
      ],
      "text/plain": [
       "         order_id  product_id  add_to_cart_order  reordered\n",
       "4545002    577211       15290               12.0          1\n",
       "4545003   1219554       21914                9.0          0\n",
       "4545004    692640       47766                4.0          1\n",
       "4545005    319435         691                8.0          1\n",
       "4545006   1398151       28733                9.0          0"
      ]
     },
     "execution_count": 7,
     "metadata": {},
     "output_type": "execute_result"
    }
   ],
   "source": [
    "# mostrar información del DataFrame\n",
    "order_products_df.info(show_counts=True)\n",
    "order_products_df.tail()"
   ]
  },
  {
   "cell_type": "markdown",
   "id": "t75BD19oaR5f",
   "metadata": {
    "id": "t75BD19oaR5f"
   },
   "source": [
    "## Conclusiones\n",
    "\n",
    "Los datos `days_since_prior_order` en la tabla `instacart_order_df` podria producir errores si se deja como float, ya que los dias transcurridos se cuentan de uno en uno no deberia ser un dato con decimales, al revisar la los datos con `sample()` noté que por el momento no hay valores decimales en esa columna, no deberia alterar el analisis cambiar el tipo de dato. Existe el mismo problema en la tabla `order_products_df` en la columna `add_to_cart_order` es ilogico que los valores sean decimales.\n",
    "Por último y este creo que es opcional cambiarlo, la columna `reordered` en la misma tabla podria ser booleana ya que solo tiene 2 valores posibles.\n",
    "\n",
    "Tenemos valores ausentes en las tablas `instacart_order_df`,`products_df ` y `order_products_df`, en el paso siguiente determinaré si debo eliminar las filas completas o solo reemplazar los valores."
   ]
  },
  {
   "cell_type": "markdown",
   "id": "8RJHqxVmaVsF",
   "metadata": {
    "id": "8RJHqxVmaVsF"
   },
   "source": [
    "# Paso 2. Preprocesamiento de los datos\n",
    "\n",
    "Preprocesa los datos de la siguiente manera:\n",
    "\n",
    "- Verifica y corrige los tipos de datos (por ejemplo, asegúrate de que las columnas de ID sean números enteros).\n",
    "- Identifica y completa los valores ausentes.\n",
    "- Identifica y elimina los valores duplicados.\n",
    "\n",
    "Asegúrate de explicar qué tipos de valores ausentes y duplicados encontraste, cómo los completaste o eliminaste y por qué usaste esos métodos. ¿Por qué crees que estos valores ausentes y duplicados pueden haber estado presentes en el conjunto de datos?"
   ]
  },
  {
   "cell_type": "markdown",
   "id": "p6poABZQaZYb",
   "metadata": {
    "id": "p6poABZQaZYb"
   },
   "source": [
    "## Plan de solución\n",
    "\n",
    "Escribe aquí tu plan para el Paso 2. Preprocesamiento de los datos.\n",
    "\n",
    "1.- Identificar los datos a los que debo cambiar el tipo de dato. \n",
    "\n",
    "2.- Verificar que al cambiar el tipo de dato no altere los resultados del análisis\n",
    "\n",
    "3.- Utilizar `astype()` para cambiar los datos o `to_number()` dependiendo cual resulte más util\n",
    "\n",
    "4.- Usando `duplicated().sum()` revisaré si hay valores duplicados en alguna columna, y `value_counts()` para saber cuales son los valores duplicados.\n",
    "\n",
    "5.- Eliminar los datos duplicados con `drop_duplicates()`\n",
    "\n",
    "6.- Revisar los DataFrames en busca de valores ausentes con `isna().sum()` y verificar para cada caso si es mejor eliminar la fila o reemplazar el valor por algun otro.\n",
    "\n",
    "7.- Identificar las columnas con valores nulos y decidir como tratarlos en cada caso, pueden elimonarse las filas en las que se encuentran o reemplazar el valor nulo con un valor que entregue informacion para el análisis\n"
   ]
  },
  {
   "cell_type": "markdown",
   "id": "07357848-dc64-4156-9cc3-01ff4365226d",
   "metadata": {
    "id": "07357848-dc64-4156-9cc3-01ff4365226d"
   },
   "source": [
    "## Encontrar y eliminar los valores duplicados "
   ]
  },
  {
   "cell_type": "markdown",
   "id": "f179f0a9",
   "metadata": {
    "id": "f179f0a9"
   },
   "source": [
    "### `instacart_orders` data frame"
   ]
  },
  {
   "cell_type": "code",
   "execution_count": 8,
   "id": "b99297a5-405a-463d-8535-9adc3da4ad74",
   "metadata": {
    "id": "b99297a5-405a-463d-8535-9adc3da4ad74"
   },
   "outputs": [
    {
     "data": {
      "text/plain": [
       "15"
      ]
     },
     "execution_count": 8,
     "metadata": {},
     "output_type": "execute_result"
    }
   ],
   "source": [
    "# Revisa si hay pedidos duplicados\n",
    "instacart_orders_df.duplicated().sum()"
   ]
  },
  {
   "cell_type": "code",
   "execution_count": 9,
   "id": "9e84613a",
   "metadata": {},
   "outputs": [
    {
     "data": {
      "text/plain": [
       "2125197    2\n",
       "1782114    2\n",
       "1286742    2\n",
       "391768     2\n",
       "1021560    2\n",
       "2232988    2\n",
       "408114     2\n",
       "2282673    2\n",
       "1919531    2\n",
       "2160484    2\n",
       "1918001    2\n",
       "794638     2\n",
       "1112182    2\n",
       "467134     2\n",
       "2845099    2\n",
       "Name: order_id, dtype: int64"
      ]
     },
     "execution_count": 9,
     "metadata": {},
     "output_type": "execute_result"
    }
   ],
   "source": [
    "# Mostrar duplicados \n",
    "instacart_orders_df['order_id'].value_counts().head(15)"
   ]
  },
  {
   "cell_type": "markdown",
   "id": "PEkwUX_gvt5A",
   "metadata": {
    "id": "PEkwUX_gvt5A"
   },
   "source": [
    "¿Tienes líneas duplicadas? Si sí, ¿qué tienen en común? \n",
    "\n",
    "Al parecer hay 15 filas duplicadas, la columna que debemos revisar es la de `order_id` porque en las demas columnas es normal que se repitan muchas veces los mismos valores, en este caso son filas completamente duplicadas (los valores se repiten en todas las columnas de la fila).\n",
    "La columna con datos duplicados contiene datos tipo `int` pero son de caracter cualitativo, ya que representan un `ID`"
   ]
  },
  {
   "cell_type": "code",
   "execution_count": 10,
   "id": "9d9b9aea",
   "metadata": {},
   "outputs": [
    {
     "data": {
      "text/html": [
       "<div>\n",
       "<style scoped>\n",
       "    .dataframe tbody tr th:only-of-type {\n",
       "        vertical-align: middle;\n",
       "    }\n",
       "\n",
       "    .dataframe tbody tr th {\n",
       "        vertical-align: top;\n",
       "    }\n",
       "\n",
       "    .dataframe thead th {\n",
       "        text-align: right;\n",
       "    }\n",
       "</style>\n",
       "<table border=\"1\" class=\"dataframe\">\n",
       "  <thead>\n",
       "    <tr style=\"text-align: right;\">\n",
       "      <th></th>\n",
       "      <th>order_id</th>\n",
       "      <th>user_id</th>\n",
       "      <th>order_number</th>\n",
       "      <th>order_dow</th>\n",
       "      <th>order_hour_of_day</th>\n",
       "      <th>days_since_prior_order</th>\n",
       "    </tr>\n",
       "  </thead>\n",
       "  <tbody>\n",
       "    <tr>\n",
       "      <th>257934</th>\n",
       "      <td>1919531</td>\n",
       "      <td>191501</td>\n",
       "      <td>32</td>\n",
       "      <td>3</td>\n",
       "      <td>2</td>\n",
       "      <td>7.0</td>\n",
       "    </tr>\n",
       "    <tr>\n",
       "      <th>323900</th>\n",
       "      <td>1919531</td>\n",
       "      <td>191501</td>\n",
       "      <td>32</td>\n",
       "      <td>3</td>\n",
       "      <td>2</td>\n",
       "      <td>7.0</td>\n",
       "    </tr>\n",
       "  </tbody>\n",
       "</table>\n",
       "</div>"
      ],
      "text/plain": [
       "        order_id  user_id  order_number  order_dow  order_hour_of_day  \\\n",
       "257934   1919531   191501            32          3                  2   \n",
       "323900   1919531   191501            32          3                  2   \n",
       "\n",
       "        days_since_prior_order  \n",
       "257934                     7.0  \n",
       "323900                     7.0  "
      ]
     },
     "execution_count": 10,
     "metadata": {},
     "output_type": "execute_result"
    }
   ],
   "source": [
    "# Ejemplo fila duplicada \n",
    "instacart_orders_df[instacart_orders_df['order_id']==1919531]"
   ]
  },
  {
   "cell_type": "markdown",
   "id": "3521f2f3",
   "metadata": {},
   "source": [
    "La linea de codigo anterio la ejecuté con los distintos valores con `order_id` duplicados y los datos concuerdan, son duplicados exactos."
   ]
  },
  {
   "cell_type": "code",
   "execution_count": 11,
   "id": "0d44de5d",
   "metadata": {
    "id": "0d44de5d"
   },
   "outputs": [
    {
     "name": "stdout",
     "output_type": "stream",
     "text": [
      "        order_id  user_id  order_number  order_dow  order_hour_of_day  \\\n",
      "4838     2766110   162084            41          3                  2   \n",
      "5156     2190225   138285            18          3                  2   \n",
      "15506     553049    58599            13          3                  2   \n",
      "18420     382357   120200            19          3                  2   \n",
      "24691     690242    77357             2          3                  2   \n",
      "...          ...      ...           ...        ...                ...   \n",
      "457013   3384021    14881             6          3                  2   \n",
      "458816    910166   164782            18          3                  2   \n",
      "459635   1680532   106435             6          3                  2   \n",
      "468324    222962    54979            59          3                  2   \n",
      "477526   2592344    46860            38          3                  2   \n",
      "\n",
      "        days_since_prior_order  \n",
      "4838                      16.0  \n",
      "5156                      11.0  \n",
      "15506                      7.0  \n",
      "18420                     11.0  \n",
      "24691                      9.0  \n",
      "...                        ...  \n",
      "457013                    30.0  \n",
      "458816                     4.0  \n",
      "459635                    21.0  \n",
      "468324                     3.0  \n",
      "477526                     3.0  \n",
      "\n",
      "[121 rows x 6 columns]\n"
     ]
    }
   ],
   "source": [
    "# Basándote en tus hallazgos,\n",
    "# Verifica todos los pedidos que se hicieron el miércoles a las 2:00 a.m.\n",
    "pedidos_2_am = instacart_orders_df[(instacart_orders_df['order_hour_of_day']== 2)&(instacart_orders_df['order_dow']==3) ]\n",
    "print(pedidos_2_am)"
   ]
  },
  {
   "cell_type": "markdown",
   "id": "vu2OWyoqwOx5",
   "metadata": {
    "id": "vu2OWyoqwOx5"
   },
   "source": [
    "¿Qué sugiere este resultado?\n",
    "\n",
    "Sugiere que se realizaron varios pedidos a las 2:00 a.m lo que no implica que los datos estén duplicados pero podemos ver que se han realizado exactamente 1004 pedidos a esa hora, es mejor realizar ese tipo de consultas una vez haya eliminado los duplicados para evitar errores, aunque la columna `'order_hour_of_day'` es tipo int también es una columna cualitativa, y podriamos cambiar su tipo de dato a `DateTime` si llega a ser conveniente"
   ]
  },
  {
   "cell_type": "code",
   "execution_count": 12,
   "id": "480563c7",
   "metadata": {
    "id": "480563c7"
   },
   "outputs": [],
   "source": [
    "# Elimina los pedidos duplicados\n",
    "instacart_orders_df.drop_duplicates(inplace= True)"
   ]
  },
  {
   "cell_type": "code",
   "execution_count": 13,
   "id": "0b2396a2",
   "metadata": {
    "id": "0b2396a2"
   },
   "outputs": [
    {
     "data": {
      "text/plain": [
       "0"
      ]
     },
     "execution_count": 13,
     "metadata": {},
     "output_type": "execute_result"
    }
   ],
   "source": [
    "# Vuelve a verificar si hay filas duplicadas\n",
    "instacart_orders_df.duplicated().sum()"
   ]
  },
  {
   "cell_type": "code",
   "execution_count": 14,
   "id": "f6113ef1",
   "metadata": {
    "id": "f6113ef1"
   },
   "outputs": [
    {
     "data": {
      "text/plain": [
       "0"
      ]
     },
     "execution_count": 14,
     "metadata": {},
     "output_type": "execute_result"
    }
   ],
   "source": [
    "# Vuelve a verificar únicamente si hay IDs duplicados de pedidos\n",
    "instacart_orders_df['order_id'].duplicated().sum()"
   ]
  },
  {
   "cell_type": "markdown",
   "id": "5e8905ae",
   "metadata": {
    "id": "5e8905ae"
   },
   "source": [
    "Describe brevemente tus hallazgos y lo que hiciste con ellos.\n",
    "- Encontré 15 filas duplicadas con el metodo `duplicated()` y `sum()`, para corroborar que fueran duplicados exactos revisé algunos valores al azar de la lista de duplicados que obtuve con `value_counts()` y al confirmar que lo eran los eliminé con el mentodo `drop_duplicates()` con el parametro `inplace = True` para reasignar el valor a la misma variable"
   ]
  },
  {
   "cell_type": "markdown",
   "id": "45e6bc46",
   "metadata": {
    "id": "45e6bc46"
   },
   "source": [
    "### `products` data frame"
   ]
  },
  {
   "cell_type": "code",
   "execution_count": 15,
   "id": "5f526b5b-8175-46fa-a0fd-441767d50e64",
   "metadata": {
    "id": "5f526b5b-8175-46fa-a0fd-441767d50e64"
   },
   "outputs": [
    {
     "data": {
      "text/plain": [
       "0"
      ]
     },
     "execution_count": 15,
     "metadata": {},
     "output_type": "execute_result"
    }
   ],
   "source": [
    "# Verifica si hay filas totalmente duplicadas\n",
    "products_df.duplicated().sum()"
   ]
  },
  {
   "cell_type": "code",
   "execution_count": 16,
   "id": "88daa4f4",
   "metadata": {
    "id": "88daa4f4"
   },
   "outputs": [
    {
     "data": {
      "text/plain": [
       "0"
      ]
     },
     "execution_count": 16,
     "metadata": {},
     "output_type": "execute_result"
    }
   ],
   "source": [
    "# Revisa únicamente si hay ID de departamentos duplicados\n",
    "products_df['product_id'].duplicated().sum()"
   ]
  },
  {
   "cell_type": "code",
   "execution_count": 17,
   "id": "c773f0bf",
   "metadata": {
    "id": "c773f0bf"
   },
   "outputs": [
    {
     "data": {
      "text/plain": [
       "1361"
      ]
     },
     "execution_count": 17,
     "metadata": {},
     "output_type": "execute_result"
    }
   ],
   "source": [
    "# Revisa únicamente si hay nombres duplicados de productos (convierte los nombres a letras mayúsculas para compararlos mejor)\n",
    "products_df['product_name'] = products_df['product_name'].str.lower()\n",
    "products_df['product_name'].duplicated().sum()"
   ]
  },
  {
   "cell_type": "code",
   "execution_count": 18,
   "id": "01efd02e",
   "metadata": {
    "id": "01efd02e"
   },
   "outputs": [
    {
     "data": {
      "text/html": [
       "<div>\n",
       "<style scoped>\n",
       "    .dataframe tbody tr th:only-of-type {\n",
       "        vertical-align: middle;\n",
       "    }\n",
       "\n",
       "    .dataframe tbody tr th {\n",
       "        vertical-align: top;\n",
       "    }\n",
       "\n",
       "    .dataframe thead th {\n",
       "        text-align: right;\n",
       "    }\n",
       "</style>\n",
       "<table border=\"1\" class=\"dataframe\">\n",
       "  <thead>\n",
       "    <tr style=\"text-align: right;\">\n",
       "      <th></th>\n",
       "      <th>product_id</th>\n",
       "      <th>product_name</th>\n",
       "      <th>aisle_id</th>\n",
       "      <th>department_id</th>\n",
       "    </tr>\n",
       "  </thead>\n",
       "  <tbody>\n",
       "    <tr>\n",
       "      <th>2058</th>\n",
       "      <td>2059</td>\n",
       "      <td>biotin 1000 mcg</td>\n",
       "      <td>47</td>\n",
       "      <td>11</td>\n",
       "    </tr>\n",
       "    <tr>\n",
       "      <th>5455</th>\n",
       "      <td>5456</td>\n",
       "      <td>green tea with ginseng and honey</td>\n",
       "      <td>96</td>\n",
       "      <td>20</td>\n",
       "    </tr>\n",
       "    <tr>\n",
       "      <th>5558</th>\n",
       "      <td>5559</td>\n",
       "      <td>cream of mushroom soup</td>\n",
       "      <td>69</td>\n",
       "      <td>15</td>\n",
       "    </tr>\n",
       "    <tr>\n",
       "      <th>7558</th>\n",
       "      <td>7559</td>\n",
       "      <td>cinnamon rolls with icing</td>\n",
       "      <td>105</td>\n",
       "      <td>13</td>\n",
       "    </tr>\n",
       "    <tr>\n",
       "      <th>9037</th>\n",
       "      <td>9038</td>\n",
       "      <td>american cheese slices</td>\n",
       "      <td>21</td>\n",
       "      <td>16</td>\n",
       "    </tr>\n",
       "    <tr>\n",
       "      <th>...</th>\n",
       "      <td>...</td>\n",
       "      <td>...</td>\n",
       "      <td>...</td>\n",
       "      <td>...</td>\n",
       "    </tr>\n",
       "    <tr>\n",
       "      <th>49689</th>\n",
       "      <td>49690</td>\n",
       "      <td>high performance energy drink</td>\n",
       "      <td>64</td>\n",
       "      <td>7</td>\n",
       "    </tr>\n",
       "    <tr>\n",
       "      <th>49690</th>\n",
       "      <td>49691</td>\n",
       "      <td>original pancake &amp; waffle mix</td>\n",
       "      <td>130</td>\n",
       "      <td>14</td>\n",
       "    </tr>\n",
       "    <tr>\n",
       "      <th>49691</th>\n",
       "      <td>49692</td>\n",
       "      <td>organic instant oatmeal light maple brown sugar</td>\n",
       "      <td>130</td>\n",
       "      <td>14</td>\n",
       "    </tr>\n",
       "    <tr>\n",
       "      <th>49692</th>\n",
       "      <td>49693</td>\n",
       "      <td>spring water body wash</td>\n",
       "      <td>127</td>\n",
       "      <td>11</td>\n",
       "    </tr>\n",
       "    <tr>\n",
       "      <th>49693</th>\n",
       "      <td>49694</td>\n",
       "      <td>burrito- steak &amp; cheese</td>\n",
       "      <td>38</td>\n",
       "      <td>1</td>\n",
       "    </tr>\n",
       "  </tbody>\n",
       "</table>\n",
       "<p>104 rows × 4 columns</p>\n",
       "</div>"
      ],
      "text/plain": [
       "       product_id                                     product_name  aisle_id  \\\n",
       "2058         2059                                  biotin 1000 mcg        47   \n",
       "5455         5456                 green tea with ginseng and honey        96   \n",
       "5558         5559                           cream of mushroom soup        69   \n",
       "7558         7559                        cinnamon rolls with icing       105   \n",
       "9037         9038                           american cheese slices        21   \n",
       "...           ...                                              ...       ...   \n",
       "49689       49690                    high performance energy drink        64   \n",
       "49690       49691                    original pancake & waffle mix       130   \n",
       "49691       49692  organic instant oatmeal light maple brown sugar       130   \n",
       "49692       49693                           spring water body wash       127   \n",
       "49693       49694                          burrito- steak & cheese        38   \n",
       "\n",
       "       department_id  \n",
       "2058              11  \n",
       "5455              20  \n",
       "5558              15  \n",
       "7558              13  \n",
       "9037              16  \n",
       "...              ...  \n",
       "49689              7  \n",
       "49690             14  \n",
       "49691             14  \n",
       "49692             11  \n",
       "49693              1  \n",
       "\n",
       "[104 rows x 4 columns]"
      ]
     },
     "execution_count": 18,
     "metadata": {},
     "output_type": "execute_result"
    }
   ],
   "source": [
    "# Revisa si hay nombres duplicados de productos no faltantes\n",
    "products_df[(products_df['product_name'].duplicated()==True)& (~products_df['product_name'].isna())]"
   ]
  },
  {
   "cell_type": "code",
   "execution_count": 19,
   "id": "0a4f2a8e",
   "metadata": {},
   "outputs": [
    {
     "data": {
      "text/html": [
       "<div>\n",
       "<style scoped>\n",
       "    .dataframe tbody tr th:only-of-type {\n",
       "        vertical-align: middle;\n",
       "    }\n",
       "\n",
       "    .dataframe tbody tr th {\n",
       "        vertical-align: top;\n",
       "    }\n",
       "\n",
       "    .dataframe thead th {\n",
       "        text-align: right;\n",
       "    }\n",
       "</style>\n",
       "<table border=\"1\" class=\"dataframe\">\n",
       "  <thead>\n",
       "    <tr style=\"text-align: right;\">\n",
       "      <th></th>\n",
       "      <th>product_id</th>\n",
       "      <th>product_name</th>\n",
       "      <th>aisle_id</th>\n",
       "      <th>department_id</th>\n",
       "    </tr>\n",
       "  </thead>\n",
       "  <tbody>\n",
       "    <tr>\n",
       "      <th>44314</th>\n",
       "      <td>44315</td>\n",
       "      <td>burrito- steak &amp; cheese</td>\n",
       "      <td>38</td>\n",
       "      <td>1</td>\n",
       "    </tr>\n",
       "    <tr>\n",
       "      <th>49693</th>\n",
       "      <td>49694</td>\n",
       "      <td>burrito- steak &amp; cheese</td>\n",
       "      <td>38</td>\n",
       "      <td>1</td>\n",
       "    </tr>\n",
       "  </tbody>\n",
       "</table>\n",
       "</div>"
      ],
      "text/plain": [
       "       product_id             product_name  aisle_id  department_id\n",
       "44314       44315  burrito- steak & cheese        38              1\n",
       "49693       49694  burrito- steak & cheese        38              1"
      ]
     },
     "execution_count": 19,
     "metadata": {},
     "output_type": "execute_result"
    }
   ],
   "source": [
    "# Corroborar la informacion de las otras columnas \n",
    "products_df[products_df['product_name']== 'burrito- steak & cheese']"
   ]
  },
  {
   "cell_type": "code",
   "execution_count": 20,
   "id": "f5d123f5",
   "metadata": {},
   "outputs": [
    {
     "data": {
      "text/html": [
       "<div>\n",
       "<style scoped>\n",
       "    .dataframe tbody tr th:only-of-type {\n",
       "        vertical-align: middle;\n",
       "    }\n",
       "\n",
       "    .dataframe tbody tr th {\n",
       "        vertical-align: top;\n",
       "    }\n",
       "\n",
       "    .dataframe thead th {\n",
       "        text-align: right;\n",
       "    }\n",
       "</style>\n",
       "<table border=\"1\" class=\"dataframe\">\n",
       "  <thead>\n",
       "    <tr style=\"text-align: right;\">\n",
       "      <th></th>\n",
       "      <th>product_id</th>\n",
       "      <th>product_name</th>\n",
       "      <th>aisle_id</th>\n",
       "      <th>department_id</th>\n",
       "    </tr>\n",
       "  </thead>\n",
       "  <tbody>\n",
       "    <tr>\n",
       "      <th>71</th>\n",
       "      <td>72</td>\n",
       "      <td>NaN</td>\n",
       "      <td>100</td>\n",
       "      <td>21</td>\n",
       "    </tr>\n",
       "    <tr>\n",
       "      <th>109</th>\n",
       "      <td>110</td>\n",
       "      <td>NaN</td>\n",
       "      <td>100</td>\n",
       "      <td>21</td>\n",
       "    </tr>\n",
       "    <tr>\n",
       "      <th>296</th>\n",
       "      <td>297</td>\n",
       "      <td>NaN</td>\n",
       "      <td>100</td>\n",
       "      <td>21</td>\n",
       "    </tr>\n",
       "    <tr>\n",
       "      <th>416</th>\n",
       "      <td>417</td>\n",
       "      <td>NaN</td>\n",
       "      <td>100</td>\n",
       "      <td>21</td>\n",
       "    </tr>\n",
       "    <tr>\n",
       "      <th>436</th>\n",
       "      <td>437</td>\n",
       "      <td>NaN</td>\n",
       "      <td>100</td>\n",
       "      <td>21</td>\n",
       "    </tr>\n",
       "    <tr>\n",
       "      <th>...</th>\n",
       "      <td>...</td>\n",
       "      <td>...</td>\n",
       "      <td>...</td>\n",
       "      <td>...</td>\n",
       "    </tr>\n",
       "    <tr>\n",
       "      <th>49552</th>\n",
       "      <td>49553</td>\n",
       "      <td>NaN</td>\n",
       "      <td>100</td>\n",
       "      <td>21</td>\n",
       "    </tr>\n",
       "    <tr>\n",
       "      <th>49574</th>\n",
       "      <td>49575</td>\n",
       "      <td>NaN</td>\n",
       "      <td>100</td>\n",
       "      <td>21</td>\n",
       "    </tr>\n",
       "    <tr>\n",
       "      <th>49640</th>\n",
       "      <td>49641</td>\n",
       "      <td>NaN</td>\n",
       "      <td>100</td>\n",
       "      <td>21</td>\n",
       "    </tr>\n",
       "    <tr>\n",
       "      <th>49663</th>\n",
       "      <td>49664</td>\n",
       "      <td>NaN</td>\n",
       "      <td>100</td>\n",
       "      <td>21</td>\n",
       "    </tr>\n",
       "    <tr>\n",
       "      <th>49668</th>\n",
       "      <td>49669</td>\n",
       "      <td>NaN</td>\n",
       "      <td>100</td>\n",
       "      <td>21</td>\n",
       "    </tr>\n",
       "  </tbody>\n",
       "</table>\n",
       "<p>1257 rows × 4 columns</p>\n",
       "</div>"
      ],
      "text/plain": [
       "       product_id product_name  aisle_id  department_id\n",
       "71             72          NaN       100             21\n",
       "109           110          NaN       100             21\n",
       "296           297          NaN       100             21\n",
       "416           417          NaN       100             21\n",
       "436           437          NaN       100             21\n",
       "...           ...          ...       ...            ...\n",
       "49552       49553          NaN       100             21\n",
       "49574       49575          NaN       100             21\n",
       "49640       49641          NaN       100             21\n",
       "49663       49664          NaN       100             21\n",
       "49668       49669          NaN       100             21\n",
       "\n",
       "[1257 rows x 4 columns]"
      ]
     },
     "execution_count": 20,
     "metadata": {},
     "output_type": "execute_result"
    }
   ],
   "source": [
    "# Revisa si hay nombres duplicados de productos faltantes\n",
    "products_df[(products_df['product_name'].duplicated()==True)& (products_df['product_name'].isna())]"
   ]
  },
  {
   "cell_type": "code",
   "execution_count": 21,
   "id": "da807b0b",
   "metadata": {},
   "outputs": [],
   "source": [
    "# Eliminar los datos duplicados\n",
    "products_df.drop_duplicates(subset='product_name', inplace= True)"
   ]
  },
  {
   "cell_type": "markdown",
   "id": "9da8d293",
   "metadata": {
    "id": "9da8d293"
   },
   "source": [
    "- En el DataFrame habia varios duplicados implicitos en la columna `product_name`, ya que algunos nombres de producto tenian mayúsculas en ellos, se resolvió con el método `str.lower()`, y de esa forma se detectaron con el metodo `duplicated()`, aún así solo 104 resultaron ser valores duplicados los otros 1258 eran Nulos, al eliminar los valores duplicados con `drop_duplicate()` solo quedó un producto con valor nulo en la tabla `producto_df`.\n",
    "- Al parecer todos los valores nulos estaban duplicados tambien en las columnas `aisle_id` y `department_id`."
   ]
  },
  {
   "cell_type": "markdown",
   "id": "60f30db1",
   "metadata": {
    "id": "60f30db1"
   },
   "source": [
    "### `departments` data frame"
   ]
  },
  {
   "cell_type": "code",
   "execution_count": 22,
   "id": "fb410ad4-0fbf-4b80-bb09-23fdea79afe3",
   "metadata": {
    "id": "fb410ad4-0fbf-4b80-bb09-23fdea79afe3"
   },
   "outputs": [
    {
     "data": {
      "text/plain": [
       "0"
      ]
     },
     "execution_count": 22,
     "metadata": {},
     "output_type": "execute_result"
    }
   ],
   "source": [
    "# Revisa si hay filas totalmente duplicadas\n",
    "departments_df.duplicated().sum()"
   ]
  },
  {
   "cell_type": "code",
   "execution_count": 23,
   "id": "332b12bb",
   "metadata": {
    "id": "332b12bb"
   },
   "outputs": [
    {
     "data": {
      "text/plain": [
       "0"
      ]
     },
     "execution_count": 23,
     "metadata": {},
     "output_type": "execute_result"
    }
   ],
   "source": [
    "# Revisa únicamente si hay IDs duplicadas de productos\n",
    "departments_df['department_id'].duplicated().sum()"
   ]
  },
  {
   "cell_type": "code",
   "execution_count": 24,
   "id": "a02b2037",
   "metadata": {},
   "outputs": [
    {
     "data": {
      "text/plain": [
       "0"
      ]
     },
     "execution_count": 24,
     "metadata": {},
     "output_type": "execute_result"
    }
   ],
   "source": [
    "# Tampoco hay nombres de departamento duplicado\n",
    "departments_df['department'].duplicated().sum()"
   ]
  },
  {
   "cell_type": "markdown",
   "id": "bd30d78e",
   "metadata": {
    "id": "bd30d78e"
   },
   "source": [
    "Tanto al revisar la tabla completa como las columnas por separado, no se encontraron valores duplicados en este dataframe, no requiere acciones correctivas en este caso."
   ]
  },
  {
   "cell_type": "markdown",
   "id": "889349c1",
   "metadata": {
    "id": "889349c1"
   },
   "source": [
    "### `aisles` data frame"
   ]
  },
  {
   "cell_type": "code",
   "execution_count": 25,
   "id": "9da89fb9-4679-40f5-ad0d-c34df753a3f8",
   "metadata": {
    "id": "9da89fb9-4679-40f5-ad0d-c34df753a3f8"
   },
   "outputs": [
    {
     "data": {
      "text/plain": [
       "0"
      ]
     },
     "execution_count": 25,
     "metadata": {},
     "output_type": "execute_result"
    }
   ],
   "source": [
    "# Revisa si hay filas totalmente duplicadas\n",
    "aisles_df.duplicated().sum()"
   ]
  },
  {
   "cell_type": "code",
   "execution_count": 26,
   "id": "da7c2822",
   "metadata": {
    "id": "da7c2822"
   },
   "outputs": [
    {
     "data": {
      "text/plain": [
       "0"
      ]
     },
     "execution_count": 26,
     "metadata": {},
     "output_type": "execute_result"
    }
   ],
   "source": [
    "# Revisa únicamente si hay IDs duplicadas de productos\n",
    "aisles_df['aisle_id'].duplicated().sum()"
   ]
  },
  {
   "cell_type": "markdown",
   "id": "ac63826f",
   "metadata": {
    "id": "ac63826f"
   },
   "source": [
    "Al igual que en el caso del DF `departments_df` no se encontraron datos duplicados en esta tabla."
   ]
  },
  {
   "cell_type": "markdown",
   "id": "274cd06a",
   "metadata": {
    "id": "274cd06a"
   },
   "source": [
    "### `order_products` data frame"
   ]
  },
  {
   "cell_type": "code",
   "execution_count": 27,
   "id": "52326689-84a8-4b8f-a881-7c68780f62c9",
   "metadata": {
    "id": "52326689-84a8-4b8f-a881-7c68780f62c9"
   },
   "outputs": [
    {
     "data": {
      "text/plain": [
       "0"
      ]
     },
     "execution_count": 27,
     "metadata": {},
     "output_type": "execute_result"
    }
   ],
   "source": [
    "# Revisa si hay filas totalmente duplicadas\n",
    "order_products_df.duplicated().sum()"
   ]
  },
  {
   "cell_type": "code",
   "execution_count": 28,
   "id": "7b861391",
   "metadata": {
    "id": "7b861391"
   },
   "outputs": [
    {
     "data": {
      "text/plain": [
       "0"
      ]
     },
     "execution_count": 28,
     "metadata": {},
     "output_type": "execute_result"
    }
   ],
   "source": [
    "# Vuelve a verificar si hay cualquier otro duplicado engañoso\n",
    "order_products_df.duplicated(subset= ['order_id', 'product_id']).sum()\n",
    "\n",
    "#order_products_df['order_id'].value_counts()"
   ]
  },
  {
   "cell_type": "code",
   "execution_count": 29,
   "id": "dd1635bb",
   "metadata": {},
   "outputs": [
    {
     "data": {
      "text/html": [
       "<div>\n",
       "<style scoped>\n",
       "    .dataframe tbody tr th:only-of-type {\n",
       "        vertical-align: middle;\n",
       "    }\n",
       "\n",
       "    .dataframe tbody tr th {\n",
       "        vertical-align: top;\n",
       "    }\n",
       "\n",
       "    .dataframe thead th {\n",
       "        text-align: right;\n",
       "    }\n",
       "</style>\n",
       "<table border=\"1\" class=\"dataframe\">\n",
       "  <thead>\n",
       "    <tr style=\"text-align: right;\">\n",
       "      <th></th>\n",
       "      <th>order_id</th>\n",
       "      <th>product_id</th>\n",
       "      <th>add_to_cart_order</th>\n",
       "      <th>reordered</th>\n",
       "    </tr>\n",
       "  </thead>\n",
       "  <tbody>\n",
       "    <tr>\n",
       "      <th>4026844</th>\n",
       "      <td>61355</td>\n",
       "      <td>48104</td>\n",
       "      <td>NaN</td>\n",
       "      <td>0</td>\n",
       "    </tr>\n",
       "    <tr>\n",
       "      <th>4063159</th>\n",
       "      <td>61355</td>\n",
       "      <td>1087</td>\n",
       "      <td>NaN</td>\n",
       "      <td>0</td>\n",
       "    </tr>\n",
       "    <tr>\n",
       "      <th>4126014</th>\n",
       "      <td>61355</td>\n",
       "      <td>12440</td>\n",
       "      <td>NaN</td>\n",
       "      <td>0</td>\n",
       "    </tr>\n",
       "    <tr>\n",
       "      <th>4164200</th>\n",
       "      <td>61355</td>\n",
       "      <td>9484</td>\n",
       "      <td>NaN</td>\n",
       "      <td>0</td>\n",
       "    </tr>\n",
       "    <tr>\n",
       "      <th>4268097</th>\n",
       "      <td>61355</td>\n",
       "      <td>40709</td>\n",
       "      <td>NaN</td>\n",
       "      <td>0</td>\n",
       "    </tr>\n",
       "  </tbody>\n",
       "</table>\n",
       "</div>"
      ],
      "text/plain": [
       "         order_id  product_id  add_to_cart_order  reordered\n",
       "4026844     61355       48104                NaN          0\n",
       "4063159     61355        1087                NaN          0\n",
       "4126014     61355       12440                NaN          0\n",
       "4164200     61355        9484                NaN          0\n",
       "4268097     61355       40709                NaN          0"
      ]
     },
     "execution_count": 29,
     "metadata": {},
     "output_type": "execute_result"
    }
   ],
   "source": [
    "# Este es una lista con algunos de los productos en la orden 61355\n",
    "order_products_df[order_products_df['order_id']==61355].sort_values(by='add_to_cart_order').tail(5)"
   ]
  },
  {
   "cell_type": "markdown",
   "id": "0b890492",
   "metadata": {
    "id": "0b890492"
   },
   "source": [
    "Esta es una tabla intermedia, conecta los `order_id` con los `product_id` ya que existe una relacion M:M (muchos a muchos) entre los dataframes `product_df` y `order_df`es normal que ambos datos aún siendo ID se repitan muchas veces, pero si ambos se repiten al mismo tiempo podria ser un duplicado. En esta tabla no se dio el caso, no hay filas duplicadas."
   ]
  },
  {
   "cell_type": "markdown",
   "id": "1e46de76",
   "metadata": {
    "id": "1e46de76"
   },
   "source": [
    "## Encuentra y elimina los valores ausentes\n",
    "\n",
    "Al trabajar con valores duplicados, pudimos observar que también nos falta investigar valores ausentes:\n",
    "\n",
    "* La columna `'product_name'` de la tabla products.\n",
    "* La columna `'days_since_prior_order'` de la tabla orders.\n",
    "* La columna `'add_to_cart_order'` de la tabla order_productos."
   ]
  },
  {
   "cell_type": "markdown",
   "id": "c0aebd78",
   "metadata": {
    "id": "c0aebd78"
   },
   "source": [
    "### `products` data frame"
   ]
  },
  {
   "cell_type": "code",
   "execution_count": 30,
   "id": "fe4a8b0f",
   "metadata": {
    "id": "fe4a8b0f"
   },
   "outputs": [
    {
     "data": {
      "text/html": [
       "<div>\n",
       "<style scoped>\n",
       "    .dataframe tbody tr th:only-of-type {\n",
       "        vertical-align: middle;\n",
       "    }\n",
       "\n",
       "    .dataframe tbody tr th {\n",
       "        vertical-align: top;\n",
       "    }\n",
       "\n",
       "    .dataframe thead th {\n",
       "        text-align: right;\n",
       "    }\n",
       "</style>\n",
       "<table border=\"1\" class=\"dataframe\">\n",
       "  <thead>\n",
       "    <tr style=\"text-align: right;\">\n",
       "      <th></th>\n",
       "      <th>product_id</th>\n",
       "      <th>product_name</th>\n",
       "      <th>aisle_id</th>\n",
       "      <th>department_id</th>\n",
       "    </tr>\n",
       "  </thead>\n",
       "  <tbody>\n",
       "    <tr>\n",
       "      <th>37</th>\n",
       "      <td>38</td>\n",
       "      <td>NaN</td>\n",
       "      <td>100</td>\n",
       "      <td>21</td>\n",
       "    </tr>\n",
       "  </tbody>\n",
       "</table>\n",
       "</div>"
      ],
      "text/plain": [
       "    product_id product_name  aisle_id  department_id\n",
       "37          38          NaN       100             21"
      ]
     },
     "execution_count": 30,
     "metadata": {},
     "output_type": "execute_result"
    }
   ],
   "source": [
    "# Encuentra los valores ausentes en la columna 'product_name'\n",
    "products_df[products_df['product_name'].isna()]"
   ]
  },
  {
   "cell_type": "markdown",
   "id": "-A6x1AbJhjkp",
   "metadata": {
    "id": "-A6x1AbJhjkp"
   },
   "source": [
    "- Justo ahora solo existe un valor ausente, porque los demás fueron eliminados como duplicado de este valor, pero ya se revisó anteriormente y, sí coincidian en el con el mismo ID de pasillo y departamento."
   ]
  },
  {
   "cell_type": "code",
   "execution_count": 31,
   "id": "e96167bc",
   "metadata": {
    "id": "e96167bc"
   },
   "outputs": [
    {
     "data": {
      "text/plain": [
       "product_id       1\n",
       "product_name     0\n",
       "aisle_id         1\n",
       "department_id    1\n",
       "dtype: int64"
      ]
     },
     "execution_count": 31,
     "metadata": {},
     "output_type": "execute_result"
    }
   ],
   "source": [
    "#  ¿Todos los nombres de productos ausentes están relacionados con el pasillo con ID 100?\n",
    "products_df[(products_df['product_name'].isna()) & (products_df['aisle_id']==100)].count()"
   ]
  },
  {
   "cell_type": "markdown",
   "id": "WRpIfXRphpSL",
   "metadata": {
    "id": "WRpIfXRphpSL"
   },
   "source": [
    "- Si todos los productos ausentes están relacionados con el pasillo de ID 100\n",
    "- Tambien probe ejecutar la linea anterior de codigo sin haber ejecutado antes la linea para eliminar duplicados y los 1258 datos nulos coincidian en el mismo pasillo con ID 100"
   ]
  },
  {
   "cell_type": "code",
   "execution_count": 32,
   "id": "8fd0a541",
   "metadata": {
    "id": "8fd0a541"
   },
   "outputs": [
    {
     "data": {
      "text/plain": [
       "product_id       1\n",
       "product_name     0\n",
       "aisle_id         1\n",
       "department_id    1\n",
       "dtype: int64"
      ]
     },
     "execution_count": 32,
     "metadata": {},
     "output_type": "execute_result"
    }
   ],
   "source": [
    "# ¿Todos los nombres de productos ausentes están relacionados con el departamento con ID 21?\n",
    "products_df[(products_df['product_name'].isna()) & (products_df['department_id']==21)].count()"
   ]
  },
  {
   "cell_type": "markdown",
   "id": "qDpdYn1Fht_I",
   "metadata": {
    "id": "qDpdYn1Fht_I"
   },
   "source": [
    "- Efectivamente el producto ausente está relacionado con el departamento ID 21\n",
    "- Tambien probe ejecutar la linea anterior de codigo sin haber ejecutado antes la linea para eliminar duplicados y los 1258 datos nulos coincidian en el mismo departamento con ID 21"
   ]
  },
  {
   "cell_type": "code",
   "execution_count": 33,
   "id": "325c3464",
   "metadata": {
    "id": "325c3464"
   },
   "outputs": [
    {
     "name": "stdout",
     "output_type": "stream",
     "text": [
      "    aisle_id    aisle\n",
      "99       100  missing \n",
      "\n",
      "=========================\n",
      "    department_id department\n",
      "20             21    missing\n"
     ]
    }
   ],
   "source": [
    "# Usa las tablas department y aisle para revisar los datos del pasillo con ID 100 y el departamento con ID 21.\n",
    "print(aisles_df[aisles_df['aisle_id'] == 100 ],'\\n')\n",
    "print('=========================')\n",
    "print(departments_df[departments_df['department_id'] == 21])"
   ]
  },
  {
   "cell_type": "markdown",
   "id": "nqhSTUPhhvEJ",
   "metadata": {
    "id": "nqhSTUPhhvEJ"
   },
   "source": [
    "- Tanto el pasillo con ID 100 como el departamento con ID 21 corresponden a la descirpcion de `missing` (Faltante). Ya que estos datos no contienen informacion alguna para los analisis, podriamos eliminarlos por completo sin alterar nuestros resultados."
   ]
  },
  {
   "cell_type": "code",
   "execution_count": 34,
   "id": "6b295120",
   "metadata": {
    "id": "6b295120"
   },
   "outputs": [
    {
     "data": {
      "text/plain": [
       "0"
      ]
     },
     "execution_count": 34,
     "metadata": {},
     "output_type": "execute_result"
    }
   ],
   "source": [
    "# Completa los nombres de productos ausentes con 'Unknown'\n",
    "products_df['product_name']= products_df['product_name'].fillna('Unknown')\n",
    "products_df['product_name'].isnull().sum()\n"
   ]
  },
  {
   "cell_type": "markdown",
   "id": "fc70e5ad",
   "metadata": {
    "id": "fc70e5ad"
   },
   "source": [
    "- Al parecer el pasillo ID 100 y el departamento ID 21 son pasillos lugares y productos sobre los que no se tiene informacion, para almecenar esta informacion bastará con tener un unico registro o una sola categoria de producto denominado `Unknown` para todos los productos sin nombre, no necesitamos los 1258 registros que habia almacenado anteriormente. Por lo dicho anteriormente se utilizó el metodo `fillna()` para llenar los datos ausentes con la el nombre 'Unknown' ya que la variable es de tipo string."
   ]
  },
  {
   "cell_type": "markdown",
   "id": "7eb45c86",
   "metadata": {
    "id": "7eb45c86"
   },
   "source": [
    "### `orders` data frame"
   ]
  },
  {
   "cell_type": "code",
   "execution_count": 35,
   "id": "93e41d96",
   "metadata": {
    "id": "93e41d96"
   },
   "outputs": [
    {
     "data": {
      "text/plain": [
       "order_id                      0\n",
       "user_id                       0\n",
       "order_number                  0\n",
       "order_dow                     0\n",
       "order_hour_of_day             0\n",
       "days_since_prior_order    28817\n",
       "dtype: int64"
      ]
     },
     "execution_count": 35,
     "metadata": {},
     "output_type": "execute_result"
    }
   ],
   "source": [
    "# Encuentra los valores ausentes\n",
    "instacart_orders_df.isna().sum()"
   ]
  },
  {
   "cell_type": "markdown",
   "id": "406a78e4",
   "metadata": {
    "id": "166e5a86"
   },
   "source": [
    "¿Hay algún valor ausente que no sea el primer pedido del cliente?\n",
    "- No, solo hay valores ausentes en la columna `days_since_prior_order`"
   ]
  },
  {
   "cell_type": "markdown",
   "id": "69dc9ca4",
   "metadata": {
    "id": "69dc9ca4"
   },
   "source": [
    "### `order_products` data frame"
   ]
  },
  {
   "cell_type": "code",
   "execution_count": 36,
   "id": "b8240253",
   "metadata": {
    "id": "b8240253"
   },
   "outputs": [
    {
     "data": {
      "text/plain": [
       "order_id               0\n",
       "product_id             0\n",
       "add_to_cart_order    836\n",
       "reordered              0\n",
       "dtype: int64"
      ]
     },
     "execution_count": 36,
     "metadata": {},
     "output_type": "execute_result"
    }
   ],
   "source": [
    "# Encuentra los valores ausentes\n",
    "order_products_df.isnull().sum()"
   ]
  },
  {
   "cell_type": "code",
   "execution_count": 37,
   "id": "9a78e5ee",
   "metadata": {
    "id": "9a78e5ee"
   },
   "outputs": [
    {
     "name": "stdout",
     "output_type": "stream",
     "text": [
      "Los valores minimos y maximos en la columna \"add_to_cart_order\" son:  1.0  y  64.0 respectivamente\n"
     ]
    }
   ],
   "source": [
    "# ¿Cuáles son los valores mínimos y máximos en esta columna?\n",
    "numero_min_carrito = order_products_df['add_to_cart_order'].min()\n",
    "numero_max_carrito = order_products_df['add_to_cart_order'].max()\n",
    "print('Los valores minimos y maximos en la columna \"add_to_cart_order\" son: ', numero_min_carrito,' y ', numero_max_carrito, 'respectivamente')"
   ]
  },
  {
   "cell_type": "code",
   "execution_count": 38,
   "id": "ab9d0c2b",
   "metadata": {
    "id": "ab9d0c2b",
    "scrolled": true
   },
   "outputs": [
    {
     "name": "stdout",
     "output_type": "stream",
     "text": [
      "2437093       9310\n",
      "3195573      61355\n",
      "3941595      61355\n",
      "2968806      61355\n",
      "3965219      61355\n",
      "            ...   \n",
      "3760909    3383594\n",
      "3784932    3383594\n",
      "2772397    3383594\n",
      "1537276    3383594\n",
      "1038616    3383594\n",
      "Name: order_id, Length: 836, dtype: int64\n"
     ]
    }
   ],
   "source": [
    "# Guarda todas las IDs de pedidos que tengan un valor ausente en 'add_to_cart_order'\n",
    "null_carrito_id = order_products_df[order_products_df['add_to_cart_order'].isnull()]['order_id'].sort_values()\n",
    "print(null_carrito_id)"
   ]
  },
  {
   "cell_type": "code",
   "execution_count": 39,
   "id": "54c31695",
   "metadata": {
    "id": "54c31695"
   },
   "outputs": [
    {
     "name": "stdout",
     "output_type": "stream",
     "text": [
      "Los pedidos con valores ausentes tienen maximo 25 productos, y minimo 1\n"
     ]
    }
   ],
   "source": [
    "# ¿Todos los pedidos con valores ausentes tienen más de 64 productos?\n",
    "# Cuenta el número de 'product_id' en cada pedido y revisa el valor mínimo del conteo.\n",
    "count_products = order_products_df.query('order_id in @null_carrito_id')['product_id'].value_counts()\n",
    "min_productos_pedidos = count_products.min()\n",
    "max_productos_pedidos = count_products.max()\n",
    "print('Los pedidos con valores ausentes tienen maximo',max_productos_pedidos, 'productos, y minimo', min_productos_pedidos)"
   ]
  },
  {
   "cell_type": "markdown",
   "id": "p9V6pddtjglj",
   "metadata": {
    "id": "p9V6pddtjglj"
   },
   "source": [
    "- Al parecer los pedidos con valores ausentes tienen distintas cantidades de productos, pero ninguno supera los 25 artículos "
   ]
  },
  {
   "cell_type": "code",
   "execution_count": 40,
   "id": "7a987d08",
   "metadata": {
    "id": "7a987d08"
   },
   "outputs": [
    {
     "data": {
      "text/plain": [
       "dtype('int64')"
      ]
     },
     "execution_count": 40,
     "metadata": {},
     "output_type": "execute_result"
    }
   ],
   "source": [
    "# Remplaza los valores ausentes en la columna 'add_to_cart' con 999 y convierte la columna al tipo entero.\n",
    "order_products_df['add_to_cart_order'].fillna(999, inplace = True)\n",
    "order_products_df['add_to_cart_order'] = order_products_df['add_to_cart_order'].astype(int)\n",
    "order_products_df['add_to_cart_order'].dtype\n",
    "#print(order_products_df[order_products_df['add_to_cart_order']==999])"
   ]
  },
  {
   "cell_type": "markdown",
   "id": "eb225fd4",
   "metadata": {},
   "source": [
    "- Reemplacé los 836 valores ausentes de la columna `add_to_cart_order` por el valor `999` con el metodo `fillna()` y cambié el tipo de dato de la misma columna de `float` a `int` con el metodo `astype(int)`."
   ]
  },
  {
   "cell_type": "markdown",
   "id": "RnplPFY1gSrb",
   "metadata": {
    "id": "RnplPFY1gSrb"
   },
   "source": [
    "## Conclusiones\n",
    "\n",
    "Preprocesamiento de los datos\n",
    "- Los valores ausentes ocupaban gran parte de los datos duplicados en la columna `'product_name'` en la tabla `'product_df'` por lo que fue buena idea eliminar los duplicados primero ya que de lo contrario hubiera habido que rellenar 1258 valores nulos con el metodo fillna() solo para ser eliminados posteriormente como duplicados. Aunque, ahora que lo considero, no sé que repercuciones tendrá en la tabla `'order_products_df'` creo que habria que guardar esos ID eliminados de producto y definirlos como 'Unknown' si llegan a aparecer en la tabla en esta tabla.\n",
    "- Los datos duplicados implicitos podrian causar problemas en el analisis ya que podrian de contarse como dos productos diferentes un mismo producto solo por estar escrito de manera diferente.\n",
    "- Los datos de la columna `'add_to_cart_order'` son poco relevantes para el análisis ya que no describen de manera precisa cuantos productos estan asociados a cada orden, como se vio anteriormente fue mas efectivo filtrar los datos con valosres ausentes en la columna `'add_to_cart_order'`, obtener su ID y con el metodo `groupby()` agruparlos por `'order_id'` y luego contarlos con el metodo `count()` para determinar la cantidad de productos en cada orden, la columna en este dataframe cumple mas una funcion descriptiva o cualitativa por lo que importa poco su tipo de dato.\n"
   ]
  },
  {
   "cell_type": "markdown",
   "id": "UjrOIwTcz3ri",
   "metadata": {
    "id": "UjrOIwTcz3ri"
   },
   "source": [
    "# Paso 3. Análisis de los datos\n",
    "\n",
    "Una vez los datos estén procesados y listos, haz el siguiente análisis:"
   ]
  },
  {
   "cell_type": "markdown",
   "id": "turkish-kidney",
   "metadata": {
    "id": "turkish-kidney"
   },
   "source": [
    "# [A] Fácil (deben completarse todos para aprobar)\n",
    "\n",
    "1. Verifica que los valores en las columnas `'order_hour_of_day'` y `'order_dow'` en la tabla orders sean razonables (es decir, `'order_hour_of_day'` oscile entre 0 y 23 y `'order_dow'` oscile entre 0 y 6).\n",
    "2. Crea un gráfico que muestre el número de personas que hacen pedidos dependiendo de la hora del día.\n",
    "3. Crea un gráfico que muestre qué día de la semana la gente hace sus compras.\n",
    "4. Crea un gráfico que muestre el tiempo que la gente espera hasta hacer su siguiente pedido, y comenta sobre los valores mínimos y máximos."
   ]
  },
  {
   "cell_type": "markdown",
   "id": "short-capability",
   "metadata": {
    "id": "short-capability"
   },
   "source": [
    "### [A1] Verifica que los valores sean sensibles"
   ]
  },
  {
   "cell_type": "code",
   "execution_count": 41,
   "id": "growing-fruit",
   "metadata": {
    "id": "growing-fruit"
   },
   "outputs": [
    {
     "data": {
      "text/html": [
       "<div>\n",
       "<style scoped>\n",
       "    .dataframe tbody tr th:only-of-type {\n",
       "        vertical-align: middle;\n",
       "    }\n",
       "\n",
       "    .dataframe tbody tr th {\n",
       "        vertical-align: top;\n",
       "    }\n",
       "\n",
       "    .dataframe thead th {\n",
       "        text-align: right;\n",
       "    }\n",
       "</style>\n",
       "<table border=\"1\" class=\"dataframe\">\n",
       "  <thead>\n",
       "    <tr style=\"text-align: right;\">\n",
       "      <th></th>\n",
       "      <th>order_id</th>\n",
       "      <th>user_id</th>\n",
       "      <th>order_number</th>\n",
       "      <th>order_dow</th>\n",
       "      <th>order_hour_of_day</th>\n",
       "      <th>days_since_prior_order</th>\n",
       "    </tr>\n",
       "  </thead>\n",
       "  <tbody>\n",
       "    <tr>\n",
       "      <th>0</th>\n",
       "      <td>1515936</td>\n",
       "      <td>183418</td>\n",
       "      <td>11</td>\n",
       "      <td>6</td>\n",
       "      <td>13</td>\n",
       "      <td>30.0</td>\n",
       "    </tr>\n",
       "    <tr>\n",
       "      <th>1</th>\n",
       "      <td>1690866</td>\n",
       "      <td>163593</td>\n",
       "      <td>5</td>\n",
       "      <td>5</td>\n",
       "      <td>12</td>\n",
       "      <td>9.0</td>\n",
       "    </tr>\n",
       "    <tr>\n",
       "      <th>2</th>\n",
       "      <td>1454967</td>\n",
       "      <td>39980</td>\n",
       "      <td>4</td>\n",
       "      <td>5</td>\n",
       "      <td>19</td>\n",
       "      <td>2.0</td>\n",
       "    </tr>\n",
       "    <tr>\n",
       "      <th>3</th>\n",
       "      <td>1768857</td>\n",
       "      <td>82516</td>\n",
       "      <td>56</td>\n",
       "      <td>0</td>\n",
       "      <td>20</td>\n",
       "      <td>10.0</td>\n",
       "    </tr>\n",
       "    <tr>\n",
       "      <th>4</th>\n",
       "      <td>3007858</td>\n",
       "      <td>196724</td>\n",
       "      <td>2</td>\n",
       "      <td>4</td>\n",
       "      <td>12</td>\n",
       "      <td>17.0</td>\n",
       "    </tr>\n",
       "    <tr>\n",
       "      <th>...</th>\n",
       "      <td>...</td>\n",
       "      <td>...</td>\n",
       "      <td>...</td>\n",
       "      <td>...</td>\n",
       "      <td>...</td>\n",
       "      <td>...</td>\n",
       "    </tr>\n",
       "    <tr>\n",
       "      <th>478962</th>\n",
       "      <td>3210681</td>\n",
       "      <td>5617</td>\n",
       "      <td>5</td>\n",
       "      <td>1</td>\n",
       "      <td>14</td>\n",
       "      <td>7.0</td>\n",
       "    </tr>\n",
       "    <tr>\n",
       "      <th>478963</th>\n",
       "      <td>3270802</td>\n",
       "      <td>112087</td>\n",
       "      <td>2</td>\n",
       "      <td>3</td>\n",
       "      <td>13</td>\n",
       "      <td>6.0</td>\n",
       "    </tr>\n",
       "    <tr>\n",
       "      <th>478964</th>\n",
       "      <td>885349</td>\n",
       "      <td>82944</td>\n",
       "      <td>16</td>\n",
       "      <td>2</td>\n",
       "      <td>11</td>\n",
       "      <td>6.0</td>\n",
       "    </tr>\n",
       "    <tr>\n",
       "      <th>478965</th>\n",
       "      <td>216274</td>\n",
       "      <td>4391</td>\n",
       "      <td>3</td>\n",
       "      <td>3</td>\n",
       "      <td>8</td>\n",
       "      <td>8.0</td>\n",
       "    </tr>\n",
       "    <tr>\n",
       "      <th>478966</th>\n",
       "      <td>2071924</td>\n",
       "      <td>1730</td>\n",
       "      <td>18</td>\n",
       "      <td>1</td>\n",
       "      <td>14</td>\n",
       "      <td>15.0</td>\n",
       "    </tr>\n",
       "  </tbody>\n",
       "</table>\n",
       "<p>478952 rows × 6 columns</p>\n",
       "</div>"
      ],
      "text/plain": [
       "        order_id  user_id  order_number  order_dow  order_hour_of_day  \\\n",
       "0        1515936   183418            11          6                 13   \n",
       "1        1690866   163593             5          5                 12   \n",
       "2        1454967    39980             4          5                 19   \n",
       "3        1768857    82516            56          0                 20   \n",
       "4        3007858   196724             2          4                 12   \n",
       "...          ...      ...           ...        ...                ...   \n",
       "478962   3210681     5617             5          1                 14   \n",
       "478963   3270802   112087             2          3                 13   \n",
       "478964    885349    82944            16          2                 11   \n",
       "478965    216274     4391             3          3                  8   \n",
       "478966   2071924     1730            18          1                 14   \n",
       "\n",
       "        days_since_prior_order  \n",
       "0                         30.0  \n",
       "1                          9.0  \n",
       "2                          2.0  \n",
       "3                         10.0  \n",
       "4                         17.0  \n",
       "...                        ...  \n",
       "478962                     7.0  \n",
       "478963                     6.0  \n",
       "478964                     6.0  \n",
       "478965                     8.0  \n",
       "478966                    15.0  \n",
       "\n",
       "[478952 rows x 6 columns]"
      ]
     },
     "execution_count": 41,
     "metadata": {},
     "output_type": "execute_result"
    }
   ],
   "source": [
    "# Verifica que la hora del dia oscile entre 0 y 23\n",
    "str_query_hd = 'order_hour_of_day > -1 and order_hour_of_day <= 23'\n",
    "instacart_orders_df.query(str_query_hd)"
   ]
  },
  {
   "cell_type": "code",
   "execution_count": 42,
   "id": "accessory-malaysia",
   "metadata": {
    "id": "accessory-malaysia"
   },
   "outputs": [],
   "source": [
    "# Verifica que el día de la semana oscile de 0 a 6\n",
    "#srt_query_dow = 'order_dow >= 0 and order_dow <= 6'\n",
    "#instacart_orders_df = instacart_orders_df.query(str_query_hd)"
   ]
  },
  {
   "cell_type": "markdown",
   "id": "hmR2GNQ6lCsX",
   "metadata": {
    "id": "hmR2GNQ6lCsX"
   },
   "source": [
    "- Todos los datos de la columna order_dow estan dentro del rango de 0 a 6 "
   ]
  },
  {
   "cell_type": "code",
   "execution_count": 43,
   "id": "508cdebc",
   "metadata": {},
   "outputs": [
    {
     "data": {
      "text/plain": [
       "array([6, 5, 0, 4, 3, 1, 2])"
      ]
     },
     "execution_count": 43,
     "metadata": {},
     "output_type": "execute_result"
    }
   ],
   "source": [
    "# Verifica que el día de la semana oscile de 0 a 6\n",
    "instacart_orders_df['order_dow'].unique()"
   ]
  },
  {
   "cell_type": "markdown",
   "id": "a6743a70",
   "metadata": {
    "id": "a6743a70"
   },
   "source": [
    "### [A2] Para cada hora del día, ¿cuántas personas hacen órdenes?"
   ]
  },
  {
   "cell_type": "code",
   "execution_count": 44,
   "id": "a36cca27",
   "metadata": {
    "id": "a36cca27"
   },
   "outputs": [
    {
     "data": {
      "image/png": "[encoded data removed]",
      "text/plain": [
       "<Figure size 640x480 with 1 Axes>"
      ]
     },
     "metadata": {},
     "output_type": "display_data"
    }
   ],
   "source": [
    "# Agrupar ordenes por la hora en la que se realizan\n",
    "order_per_hour = instacart_orders_df.groupby('order_hour_of_day')['user_id'].count()\n",
    " # Crear gráfico de barras\n",
    "order_per_hour.plot(kind='bar', \n",
    "                    xlabel= 'Hora del Día', \n",
    "                    ylabel='Pedidos', title= 'La mayoria de las personas hacen pedidos entre la 8:00 y la 18:00 horas ')\n",
    "plt.show()\n",
    "#instacart_orders_df.groupby(['order_hour_of_day','user_id'])['user_id'].count()"
   ]
  },
  {
   "cell_type": "markdown",
   "id": "11270eed",
   "metadata": {
    "id": "11270eed"
   },
   "source": [
    "- Las horas entre 8:00 a 18:00 son las horas en las que se registran más compras, en cambio entre la 1:00 y las 5:00 de la mañana es cuando menos personas compran.\n",
    "- A las 7:00 de la mañana y en la noche de 19:00 a las 12 a.m hay una cantidad moderada de personas comprando"
   ]
  },
  {
   "cell_type": "markdown",
   "id": "documented-command",
   "metadata": {
    "id": "documented-command"
   },
   "source": [
    "### [A3] ¿Qué día de la semana compran víveres las personas?"
   ]
  },
  {
   "cell_type": "code",
   "execution_count": 45,
   "id": "chief-digit",
   "metadata": {
    "id": "chief-digit"
   },
   "outputs": [
    {
     "data": {
      "image/png": "[encoded data removed]",
      "text/plain": [
       "<Figure size 640x480 with 1 Axes>"
      ]
     },
     "metadata": {},
     "output_type": "display_data"
    }
   ],
   "source": [
    "# Agrupar las ordenes por el día en que se realizan y contar el ID de los clientes\n",
    "dias_de_compra= instacart_orders_df.groupby('order_dow')['user_id'].count()\n",
    "\n",
    "# Crear grafico de barras\n",
    "dias_de_compra.plot(kind= 'bar', rot=45,\n",
    "                    xlabel='Día de la Semana ',\n",
    "                    ylabel='Pedidos', \n",
    "                    title= 'Las personas hacen más pedidos los lunes y domingo')\n",
    "\n",
    "# Cambiar nombre a los dias de la semana para que sea más claro\n",
    "dias_semana = ['Domingo','Lunes', 'Martes', 'Miércoles', 'Jueves', 'Viernes', 'Sábado']\n",
    "plt.xticks(ticks=range(7), labels=dias_semana)\n",
    "\n",
    "# Mostrar gráfico\n",
    "plt.show()"
   ]
  },
  {
   "cell_type": "markdown",
   "id": "dominant-lightning",
   "metadata": {
    "id": "dominant-lightning"
   },
   "source": [
    "- Al parecer las personas compran viveres todos los dias de la semana, pero se realizan más compras los días Domingo y Lunes"
   ]
  },
  {
   "cell_type": "markdown",
   "id": "cutting-concert",
   "metadata": {
    "id": "cutting-concert"
   },
   "source": [
    "### [A4] ¿Cuánto tiempo esperan las personas hasta hacer otro pedido? Comenta sobre los valores mínimos y máximos."
   ]
  },
  {
   "cell_type": "code",
   "execution_count": 46,
   "id": "c231f523",
   "metadata": {
    "id": "c231f523"
   },
   "outputs": [
    {
     "data": {
      "image/png": "[encoded data removed]",
      "text/plain": [
       "<Figure size 640x480 with 1 Axes>"
      ]
     },
     "metadata": {},
     "output_type": "display_data"
    }
   ],
   "source": [
    "# Definir el tamaño del gráfico\n",
    "#plt.figure(figsize=(5, 1))\n",
    "instacart_orders_df['days_since_prior_order'].plot(kind='hist', bins=31, rot = 90)\n",
    "# Crear un gráfico de caja y bigotes\n",
    "#sns.boxplot(x=instacart_orders_df['days_since_prior_order'])\n",
    "#plt.xlabel('Tiempo entre pedidos (días)')\n",
    "#plt.title('Distribución del Tiempo entre Pedidos')\n",
    "# Mostrar gráfico\n",
    "plt.show()"
   ]
  },
  {
   "cell_type": "markdown",
   "id": "discrete-vertex",
   "metadata": {
    "id": "discrete-vertex"
   },
   "source": [
    "- Las personas esperan entre 0 y 30 días para realizar otro pedido, la mayoria espera entre 5 y 15 días entre un pedido y otro."
   ]
  },
  {
   "cell_type": "markdown",
   "id": "008b1fa4",
   "metadata": {},
   "source": [
    "- Las personas esperan entre 0 y 30 días para realizar otro pedido, la mayoria espera entre 0 y 10 días entre un pedido y otro. Aunque tabién son muchos los clientes que esperan 30 días entre una compra."
   ]
  },
  {
   "cell_type": "markdown",
   "id": "tight-staff",
   "metadata": {
    "id": "tight-staff"
   },
   "source": [
    "# [B] Intermedio (deben completarse todos para aprobar)\n",
    "\n",
    "1. ¿Existe alguna diferencia entre las distribuciones `'order_hour_of_day'` de los miércoles y los sábados? Traza gráficos de barra de `'order_hour_of_day'` para ambos días en la misma figura y describe las diferencias que observes.\n",
    "2. Grafica la distribución para el número de órdenes que hacen los clientes (es decir, cuántos clientes hicieron solo 1 pedido, cuántos hicieron 2, cuántos 3, y así sucesivamente...).\n",
    "3. ¿Cuáles son los 20 principales productos que se piden con más frecuencia (muestra su identificación y nombre)?"
   ]
  },
  {
   "cell_type": "markdown",
   "id": "packed-classic",
   "metadata": {
    "id": "packed-classic"
   },
   "source": [
    "### [B1] Diferencia entre miércoles y sábados para  `'order_hour_of_day'`. Traza gráficos de barra para los dos días y describe las diferencias que veas."
   ]
  },
  {
   "cell_type": "code",
   "execution_count": 47,
   "id": "d89b8403",
   "metadata": {
    "id": "d89b8403"
   },
   "outputs": [],
   "source": [
    "# Agrupar los pedidos realizados miercoles y sábado \n",
    "mie_sab_df = instacart_orders_df[(instacart_orders_df['order_dow']==6)|(instacart_orders_df['order_dow']==3)]"
   ]
  },
  {
   "cell_type": "code",
   "execution_count": 48,
   "id": "3f0ac5f3",
   "metadata": {},
   "outputs": [],
   "source": [
    "# Crear tabla dinamica con los las horas en las que se realizan los pedidos los días miercoles y sábado \n",
    "mier_sab_df = mie_sab_df.pivot_table(index='order_hour_of_day', \n",
    "                          columns = 'order_dow', \n",
    "                          values = 'user_id', aggfunc = 'count')"
   ]
  },
  {
   "cell_type": "code",
   "execution_count": 49,
   "id": "94e54e8a",
   "metadata": {
    "id": "94e54e8a"
   },
   "outputs": [
    {
     "data": {
      "image/png": "[encoded data removed]",
      "text/plain": [
       "<Figure size 500x500 with 1 Axes>"
      ]
     },
     "metadata": {},
     "output_type": "display_data"
    }
   ],
   "source": [
    "# Crear un gráfico de barras\n",
    "mier_sab_df.plot(xlabel = 'Hora del día', \n",
    "                 title= 'Los sabados se generan más pedidos que los miercoles la mayor parte del día',\n",
    "                 figsize=[5, 5],\n",
    "                 y = [3, 6], ylabel= 'Pedidos realizados',\n",
    "                 kind= 'bar')\n",
    "plt.legend(['Miercoles', 'Sabado'])\n",
    "\n",
    "# Mostrar gráfico\n",
    "plt.show()"
   ]
  },
  {
   "cell_type": "markdown",
   "id": "charitable-congo",
   "metadata": {
    "id": "charitable-congo"
   },
   "source": [
    "- Tanto el miércoles como el sabado suelen aumentar las ventas a partir de las 7:00 y comienza a disminuir gradualmente a parir de las 16:00. \n",
    "- Los dias miércoles vende más que los sabados en los siguientes horarios: de 6 a 7, de 9 a 10 y 18 a 20, el sabado genera más pedidos en los demas horarios   "
   ]
  },
  {
   "cell_type": "markdown",
   "id": "e3891143",
   "metadata": {
    "id": "e3891143"
   },
   "source": [
    "### [B2] ¿Cuál es la distribución para el número de pedidos por cliente?"
   ]
  },
  {
   "cell_type": "code",
   "execution_count": 50,
   "id": "d8c26c23",
   "metadata": {
    "id": "d8c26c23"
   },
   "outputs": [],
   "source": [
    "# Contar cantidad de pedidos por cliente\n",
    "count_order_per_user = instacart_orders_df.groupby('user_id')['order_id'].count().sort_values()"
   ]
  },
  {
   "cell_type": "code",
   "execution_count": 51,
   "id": "00e69a66",
   "metadata": {
    "id": "00e69a66"
   },
   "outputs": [
    {
     "data": {
      "image/png": "[encoded data removed]",
      "text/plain": [
       "<Figure size 640x480 with 1 Axes>"
      ]
     },
     "metadata": {},
     "output_type": "display_data"
    }
   ],
   "source": [
    "# Crear historiograma de cantidad de pedidos por cliente\n",
    "count_order_per_user.plot(kind= 'hist', bins = 28, rot= 90)\n",
    "plt.title('Distribución de la cantidad de pedidos por cliente')\n",
    "plt.xlabel('Cantidad de pedidos por cliente')\n",
    "plt.xticks([i for i in range(25)]) \n",
    "plt.show()"
   ]
  },
  {
   "cell_type": "markdown",
   "id": "d2eff7d5",
   "metadata": {
    "id": "d2eff7d5"
   },
   "source": [
    "- La mayor parte de los clientes ha realizado solo uno o dos pedidos. \n",
    "- Es poco frecuente que un cliente haga más de 10 pedidos y ninguno supera las 23 ordenes"
   ]
  },
  {
   "cell_type": "markdown",
   "id": "54a0319c",
   "metadata": {
    "id": "54a0319c"
   },
   "source": [
    "### [B3] ¿Cuáles son los 20 productos más populares (muestra su ID y nombre)?"
   ]
  },
  {
   "cell_type": "code",
   "execution_count": 52,
   "id": "exterior-arizona",
   "metadata": {
    "id": "exterior-arizona",
    "scrolled": true
   },
   "outputs": [],
   "source": [
    "# Seleccionar las columnas con informacion util de la tabla producto\n",
    "products_name =  products_df[['product_id','product_name']]\n",
    "# Unir el DF products con el DF de order_products\n",
    "products = products_name.merge(order_products_df, on='product_id', how='right')"
   ]
  },
  {
   "cell_type": "code",
   "execution_count": 53,
   "id": "universal-facial",
   "metadata": {
    "id": "universal-facial"
   },
   "outputs": [
    {
     "data": {
      "text/html": [
       "<div>\n",
       "<style scoped>\n",
       "    .dataframe tbody tr th:only-of-type {\n",
       "        vertical-align: middle;\n",
       "    }\n",
       "\n",
       "    .dataframe tbody tr th {\n",
       "        vertical-align: top;\n",
       "    }\n",
       "\n",
       "    .dataframe thead th {\n",
       "        text-align: right;\n",
       "    }\n",
       "</style>\n",
       "<table border=\"1\" class=\"dataframe\">\n",
       "  <thead>\n",
       "    <tr style=\"text-align: right;\">\n",
       "      <th></th>\n",
       "      <th>product_id</th>\n",
       "      <th>product_name</th>\n",
       "      <th>count</th>\n",
       "    </tr>\n",
       "  </thead>\n",
       "  <tbody>\n",
       "    <tr>\n",
       "      <th>0</th>\n",
       "      <td>24852</td>\n",
       "      <td>banana</td>\n",
       "      <td>66050</td>\n",
       "    </tr>\n",
       "    <tr>\n",
       "      <th>1</th>\n",
       "      <td>13176</td>\n",
       "      <td>bag of organic bananas</td>\n",
       "      <td>53297</td>\n",
       "    </tr>\n",
       "    <tr>\n",
       "      <th>2</th>\n",
       "      <td>21137</td>\n",
       "      <td>organic strawberries</td>\n",
       "      <td>37039</td>\n",
       "    </tr>\n",
       "    <tr>\n",
       "      <th>3</th>\n",
       "      <td>21903</td>\n",
       "      <td>organic baby spinach</td>\n",
       "      <td>33971</td>\n",
       "    </tr>\n",
       "    <tr>\n",
       "      <th>4</th>\n",
       "      <td>47209</td>\n",
       "      <td>organic hass avocado</td>\n",
       "      <td>29773</td>\n",
       "    </tr>\n",
       "    <tr>\n",
       "      <th>5</th>\n",
       "      <td>47766</td>\n",
       "      <td>organic avocado</td>\n",
       "      <td>24689</td>\n",
       "    </tr>\n",
       "    <tr>\n",
       "      <th>6</th>\n",
       "      <td>47626</td>\n",
       "      <td>large lemon</td>\n",
       "      <td>21495</td>\n",
       "    </tr>\n",
       "    <tr>\n",
       "      <th>7</th>\n",
       "      <td>16797</td>\n",
       "      <td>strawberries</td>\n",
       "      <td>20018</td>\n",
       "    </tr>\n",
       "    <tr>\n",
       "      <th>8</th>\n",
       "      <td>26209</td>\n",
       "      <td>limes</td>\n",
       "      <td>19690</td>\n",
       "    </tr>\n",
       "    <tr>\n",
       "      <th>9</th>\n",
       "      <td>27845</td>\n",
       "      <td>organic whole milk</td>\n",
       "      <td>19600</td>\n",
       "    </tr>\n",
       "    <tr>\n",
       "      <th>10</th>\n",
       "      <td>27966</td>\n",
       "      <td>organic raspberries</td>\n",
       "      <td>19197</td>\n",
       "    </tr>\n",
       "    <tr>\n",
       "      <th>11</th>\n",
       "      <td>22935</td>\n",
       "      <td>organic yellow onion</td>\n",
       "      <td>15898</td>\n",
       "    </tr>\n",
       "    <tr>\n",
       "      <th>12</th>\n",
       "      <td>24964</td>\n",
       "      <td>organic garlic</td>\n",
       "      <td>15292</td>\n",
       "    </tr>\n",
       "    <tr>\n",
       "      <th>13</th>\n",
       "      <td>45007</td>\n",
       "      <td>organic zucchini</td>\n",
       "      <td>14584</td>\n",
       "    </tr>\n",
       "    <tr>\n",
       "      <th>14</th>\n",
       "      <td>39275</td>\n",
       "      <td>organic blueberries</td>\n",
       "      <td>13879</td>\n",
       "    </tr>\n",
       "    <tr>\n",
       "      <th>15</th>\n",
       "      <td>49683</td>\n",
       "      <td>cucumber kirby</td>\n",
       "      <td>13675</td>\n",
       "    </tr>\n",
       "    <tr>\n",
       "      <th>16</th>\n",
       "      <td>28204</td>\n",
       "      <td>organic fuji apple</td>\n",
       "      <td>12544</td>\n",
       "    </tr>\n",
       "    <tr>\n",
       "      <th>17</th>\n",
       "      <td>5876</td>\n",
       "      <td>organic lemon</td>\n",
       "      <td>12232</td>\n",
       "    </tr>\n",
       "    <tr>\n",
       "      <th>18</th>\n",
       "      <td>8277</td>\n",
       "      <td>apple honeycrisp organic</td>\n",
       "      <td>11993</td>\n",
       "    </tr>\n",
       "    <tr>\n",
       "      <th>19</th>\n",
       "      <td>40706</td>\n",
       "      <td>organic grape tomatoes</td>\n",
       "      <td>11781</td>\n",
       "    </tr>\n",
       "  </tbody>\n",
       "</table>\n",
       "</div>"
      ],
      "text/plain": [
       "    product_id              product_name  count\n",
       "0        24852                    banana  66050\n",
       "1        13176    bag of organic bananas  53297\n",
       "2        21137      organic strawberries  37039\n",
       "3        21903      organic baby spinach  33971\n",
       "4        47209      organic hass avocado  29773\n",
       "5        47766           organic avocado  24689\n",
       "6        47626               large lemon  21495\n",
       "7        16797              strawberries  20018\n",
       "8        26209                     limes  19690\n",
       "9        27845        organic whole milk  19600\n",
       "10       27966       organic raspberries  19197\n",
       "11       22935      organic yellow onion  15898\n",
       "12       24964            organic garlic  15292\n",
       "13       45007          organic zucchini  14584\n",
       "14       39275       organic blueberries  13879\n",
       "15       49683            cucumber kirby  13675\n",
       "16       28204        organic fuji apple  12544\n",
       "17        5876             organic lemon  12232\n",
       "18        8277  apple honeycrisp organic  11993\n",
       "19       40706    organic grape tomatoes  11781"
      ]
     },
     "execution_count": 53,
     "metadata": {},
     "output_type": "execute_result"
    }
   ],
   "source": [
    "# Contar los la cantidad de veces que se repite cada producto con su id y nombre\n",
    "product_counts = products[['product_id','product_name']].value_counts().reset_index()\n",
    "# Crear un nuevo df para mostrar mejor la informacion \n",
    "product_counts.columns=['product_id','product_name','count']\n",
    "top_20_order_products= product_counts.head(20)\n",
    "top_20_order_products"
   ]
  },
  {
   "cell_type": "code",
   "execution_count": 54,
   "id": "bbcdd20b",
   "metadata": {
    "id": "bbcdd20b"
   },
   "outputs": [
    {
     "data": {
      "text/plain": [
       "<Figure size 500x500 with 0 Axes>"
      ]
     },
     "metadata": {},
     "output_type": "display_data"
    },
    {
     "data": {
      "image/png": "[encoded data removed]",
      "text/plain": [
       "<Figure size 640x480 with 1 Axes>"
      ]
     },
     "metadata": {},
     "output_type": "display_data"
    }
   ],
   "source": [
    "# Crear gráfico de barras\n",
    "plt.figure(figsize=[5,5])\n",
    "top_20_order_products.plot(kind='barh' , color= 'green', y= 'count', x= 'product_name', legend=False)\n",
    "plt.ylabel('Productos')\n",
    "plt.xlabel('Proporción')\n",
    "plt.title('Productos Pedidos con Mayor Frecuencia')\n",
    "plt.show()"
   ]
  },
  {
   "cell_type": "markdown",
   "id": "7df00f47",
   "metadata": {
    "id": "7df00f47"
   },
   "source": [
    "- Las bananas son el producto más consumido por mucho, está en los dos primeros lugares con 66050 compras la banana generica, y otras 53297 de la banana organica.\n",
    "- Las personas  que ordenan en esta app consumen comida muy saludable y vegetariana por los que se ve en el top 20\n",
    "- Existe una diferencia de más de 50000 pedidos entre el primer producto más pedido y el último y eso considerando solo los 20 mas populares"
   ]
  },
  {
   "cell_type": "markdown",
   "id": "gross-theme",
   "metadata": {
    "id": "gross-theme"
   },
   "source": [
    "# [C] Difícil (deben completarse todos para aprobar)\n",
    "\n",
    "1. ¿Cuántos artículos suelen comprar las personas en un pedido? ¿Cómo es la distribución?\n",
    "2. ¿Cuáles son los 20 principales artículos que vuelven a pedirse con mayor frecuencia (muestra sus nombres e IDs de los productos)?\n",
    "3. Para cada producto, ¿cuál es la tasa de repetición del pedido (número de repeticiones de pedido/total de pedidos?\n",
    "4. Para cada cliente, ¿qué proporción de los productos que pidió ya los había pedido? Calcula la tasa de repetición de pedido para cada usuario en lugar de para cada producto.\n",
    "5. ¿Cuáles son los 20 principales artículos que la gente pone primero en sus carritos (muestra las IDs de los productos, sus nombres, y el número de veces en que fueron el primer artículo en añadirse al carrito)?"
   ]
  },
  {
   "cell_type": "markdown",
   "id": "romantic-deposit",
   "metadata": {
    "id": "romantic-deposit"
   },
   "source": [
    "### [C1] ¿Cuántos artículos compran normalmente las personas en un pedido? ¿Cómo es la distribución?"
   ]
  },
  {
   "cell_type": "code",
   "execution_count": 55,
   "id": "virtual-punch",
   "metadata": {
    "id": "virtual-punch"
   },
   "outputs": [],
   "source": [
    "# Agrupar las ordenes de productos por order_id y contar cuantos productos hay en cada orden\n",
    "products_per_order = order_products_df.groupby('order_id')['product_id'].count()"
   ]
  },
  {
   "cell_type": "code",
   "execution_count": 56,
   "id": "sensitive-breathing",
   "metadata": {
    "id": "sensitive-breathing"
   },
   "outputs": [
    {
     "data": {
      "image/png": "[encoded data removed]",
      "text/plain": [
       "<Figure size 500x500 with 1 Axes>"
      ]
     },
     "metadata": {},
     "output_type": "display_data"
    }
   ],
   "source": [
    "# Crear historiograma\n",
    "plt.figure(figsize=[5,5])\n",
    "products_per_order.plot(kind='hist', bins=64)\n",
    "plt.xticks(range(0, max(products_per_order), 10))\n",
    "plt.xlabel('Cantidad de artículos por pedido')\n",
    "plt.ylabel('Frecuencia')\n",
    "plt.title('Distribución de la cantidad de artículos por pedido')\n",
    "plt.show()"
   ]
  },
  {
   "cell_type": "markdown",
   "id": "designed-mortality",
   "metadata": {
    "id": "designed-mortality"
   },
   "source": [
    "- Normalmente las personas compran entre 1 y 10 articulos por pedido. Las compras de 10 a 20 articulos tambien son frecuentes, y son menos frecuentes los pedidos con más de 20 productos."
   ]
  },
  {
   "cell_type": "markdown",
   "id": "5e6b5537",
   "metadata": {
    "id": "5e6b5537"
   },
   "source": [
    "### [C2] ¿Cuáles son los 20 principales artículos que vuelven a pedirse con mayor frecuencia (muestra sus nombres e IDs de los productos)?"
   ]
  },
  {
   "cell_type": "code",
   "execution_count": 57,
   "id": "9374e55a",
   "metadata": {
    "id": "9374e55a"
   },
   "outputs": [],
   "source": [
    "# Revisar que los productos hayan sido reordenados\n",
    "reordenado = order_products_df[order_products_df['reordered']==1]\n",
    "# Unir las tablas products y order_products para saber a que producto pertenece cada ID\n",
    "reordenado = products_name.merge(reordenado, on='product_id', how='right')"
   ]
  },
  {
   "cell_type": "code",
   "execution_count": 58,
   "id": "professional-surfing",
   "metadata": {
    "id": "professional-surfing",
    "scrolled": true
   },
   "outputs": [
    {
     "data": {
      "text/html": [
       "<div>\n",
       "<style scoped>\n",
       "    .dataframe tbody tr th:only-of-type {\n",
       "        vertical-align: middle;\n",
       "    }\n",
       "\n",
       "    .dataframe tbody tr th {\n",
       "        vertical-align: top;\n",
       "    }\n",
       "\n",
       "    .dataframe thead th {\n",
       "        text-align: right;\n",
       "    }\n",
       "</style>\n",
       "<table border=\"1\" class=\"dataframe\">\n",
       "  <thead>\n",
       "    <tr style=\"text-align: right;\">\n",
       "      <th></th>\n",
       "      <th>product_id</th>\n",
       "      <th>product_name</th>\n",
       "      <th>count</th>\n",
       "    </tr>\n",
       "  </thead>\n",
       "  <tbody>\n",
       "    <tr>\n",
       "      <th>0</th>\n",
       "      <td>24852</td>\n",
       "      <td>banana</td>\n",
       "      <td>55763</td>\n",
       "    </tr>\n",
       "    <tr>\n",
       "      <th>1</th>\n",
       "      <td>13176</td>\n",
       "      <td>bag of organic bananas</td>\n",
       "      <td>44450</td>\n",
       "    </tr>\n",
       "    <tr>\n",
       "      <th>2</th>\n",
       "      <td>21137</td>\n",
       "      <td>organic strawberries</td>\n",
       "      <td>28639</td>\n",
       "    </tr>\n",
       "    <tr>\n",
       "      <th>3</th>\n",
       "      <td>21903</td>\n",
       "      <td>organic baby spinach</td>\n",
       "      <td>26233</td>\n",
       "    </tr>\n",
       "    <tr>\n",
       "      <th>4</th>\n",
       "      <td>47209</td>\n",
       "      <td>organic hass avocado</td>\n",
       "      <td>23629</td>\n",
       "    </tr>\n",
       "    <tr>\n",
       "      <th>5</th>\n",
       "      <td>47766</td>\n",
       "      <td>organic avocado</td>\n",
       "      <td>18743</td>\n",
       "    </tr>\n",
       "    <tr>\n",
       "      <th>6</th>\n",
       "      <td>27845</td>\n",
       "      <td>organic whole milk</td>\n",
       "      <td>16251</td>\n",
       "    </tr>\n",
       "    <tr>\n",
       "      <th>7</th>\n",
       "      <td>47626</td>\n",
       "      <td>large lemon</td>\n",
       "      <td>15044</td>\n",
       "    </tr>\n",
       "    <tr>\n",
       "      <th>8</th>\n",
       "      <td>27966</td>\n",
       "      <td>organic raspberries</td>\n",
       "      <td>14748</td>\n",
       "    </tr>\n",
       "    <tr>\n",
       "      <th>9</th>\n",
       "      <td>16797</td>\n",
       "      <td>strawberries</td>\n",
       "      <td>13945</td>\n",
       "    </tr>\n",
       "    <tr>\n",
       "      <th>10</th>\n",
       "      <td>26209</td>\n",
       "      <td>limes</td>\n",
       "      <td>13327</td>\n",
       "    </tr>\n",
       "    <tr>\n",
       "      <th>11</th>\n",
       "      <td>22935</td>\n",
       "      <td>organic yellow onion</td>\n",
       "      <td>11145</td>\n",
       "    </tr>\n",
       "    <tr>\n",
       "      <th>12</th>\n",
       "      <td>24964</td>\n",
       "      <td>organic garlic</td>\n",
       "      <td>10411</td>\n",
       "    </tr>\n",
       "    <tr>\n",
       "      <th>13</th>\n",
       "      <td>45007</td>\n",
       "      <td>organic zucchini</td>\n",
       "      <td>10076</td>\n",
       "    </tr>\n",
       "    <tr>\n",
       "      <th>14</th>\n",
       "      <td>49683</td>\n",
       "      <td>cucumber kirby</td>\n",
       "      <td>9538</td>\n",
       "    </tr>\n",
       "    <tr>\n",
       "      <th>15</th>\n",
       "      <td>28204</td>\n",
       "      <td>organic fuji apple</td>\n",
       "      <td>8989</td>\n",
       "    </tr>\n",
       "    <tr>\n",
       "      <th>16</th>\n",
       "      <td>8277</td>\n",
       "      <td>apple honeycrisp organic</td>\n",
       "      <td>8836</td>\n",
       "    </tr>\n",
       "    <tr>\n",
       "      <th>17</th>\n",
       "      <td>39275</td>\n",
       "      <td>organic blueberries</td>\n",
       "      <td>8799</td>\n",
       "    </tr>\n",
       "    <tr>\n",
       "      <th>18</th>\n",
       "      <td>5876</td>\n",
       "      <td>organic lemon</td>\n",
       "      <td>8412</td>\n",
       "    </tr>\n",
       "    <tr>\n",
       "      <th>19</th>\n",
       "      <td>49235</td>\n",
       "      <td>organic half &amp; half</td>\n",
       "      <td>8389</td>\n",
       "    </tr>\n",
       "  </tbody>\n",
       "</table>\n",
       "</div>"
      ],
      "text/plain": [
       "    product_id              product_name  count\n",
       "0        24852                    banana  55763\n",
       "1        13176    bag of organic bananas  44450\n",
       "2        21137      organic strawberries  28639\n",
       "3        21903      organic baby spinach  26233\n",
       "4        47209      organic hass avocado  23629\n",
       "5        47766           organic avocado  18743\n",
       "6        27845        organic whole milk  16251\n",
       "7        47626               large lemon  15044\n",
       "8        27966       organic raspberries  14748\n",
       "9        16797              strawberries  13945\n",
       "10       26209                     limes  13327\n",
       "11       22935      organic yellow onion  11145\n",
       "12       24964            organic garlic  10411\n",
       "13       45007          organic zucchini  10076\n",
       "14       49683            cucumber kirby   9538\n",
       "15       28204        organic fuji apple   8989\n",
       "16        8277  apple honeycrisp organic   8836\n",
       "17       39275       organic blueberries   8799\n",
       "18        5876             organic lemon   8412\n",
       "19       49235       organic half & half   8389"
      ]
     },
     "execution_count": 58,
     "metadata": {},
     "output_type": "execute_result"
    }
   ],
   "source": [
    "# Contar las veces que se ordena cada producto\n",
    "###reorder_counts = reordenado.groupby('product_id')['product_name'].count().reset_index(name='count')\n",
    "###reorder_counts['count'].sort_values(ascending=False).head(20)# no retorna el product_name\n",
    "reorder_counts = reordenado[['product_id','product_name']].value_counts().reset_index()\n",
    "reorder_counts.columns= ['product_id','product_name', 'count']\n",
    "top_20_reorder= reorder_counts.head(20)\n",
    "top_20_reorder"
   ]
  },
  {
   "cell_type": "code",
   "execution_count": 59,
   "id": "48dd3658",
   "metadata": {
    "id": "48dd3658"
   },
   "outputs": [
    {
     "data": {
      "text/plain": [
       "<Figure size 500x500 with 0 Axes>"
      ]
     },
     "metadata": {},
     "output_type": "display_data"
    },
    {
     "data": {
      "image/png": "[encoded data removed]",
      "text/plain": [
       "<Figure size 640x480 with 1 Axes>"
      ]
     },
     "metadata": {},
     "output_type": "display_data"
    }
   ],
   "source": [
    "plt.figure(figsize=[5,5])\n",
    "top_20_reorder.plot(kind='barh' , color= 'green', y= 'count', x= 'product_name', legend = False)\n",
    "plt.ylabel('Productos')\n",
    "plt.xlabel('Proporción')\n",
    "plt.title('Productos Re-ordenados con Mayor Frecuencia')\n",
    "\n",
    "plt.show()"
   ]
  },
  {
   "cell_type": "markdown",
   "id": "80e70c74",
   "metadata": {
    "id": "80e70c74"
   },
   "source": [
    "- Vuelven a aparecer los mismos productos que en la lista en la consulta enterior, al parecer la mayoria de las ventas de estos productos se debe a que las personas las piden han ordenado en más de una ocación, aunque desaparecieron algunos productos y aparecieron otros nuevos, lo que significa que algunos de los productos mas ordenados no son reordenados"
   ]
  },
  {
   "cell_type": "markdown",
   "id": "9d312b14",
   "metadata": {
    "id": "9d312b14"
   },
   "source": [
    "### [C3] Para cada producto, ¿cuál es la proporción de las veces que se pide y que se vuelve a pedir?"
   ]
  },
  {
   "cell_type": "code",
   "execution_count": 60,
   "id": "dffc5129",
   "metadata": {},
   "outputs": [],
   "source": [
    "# Unir los df de `product_counts` y  `reorder_counts` con el metodo 'merge()' \n",
    "count_both = product_counts.merge(reorder_counts, \n",
    "                                  on = ['product_id','product_name'], \n",
    "                                  how='left' , \n",
    "                                  suffixes= ['_order','_reorder'])\n",
    "count_both.set_index('product_id', inplace= True)"
   ]
  },
  {
   "cell_type": "code",
   "execution_count": 61,
   "id": "9d7964d1",
   "metadata": {},
   "outputs": [
    {
     "data": {
      "text/html": [
       "<div>\n",
       "<style scoped>\n",
       "    .dataframe tbody tr th:only-of-type {\n",
       "        vertical-align: middle;\n",
       "    }\n",
       "\n",
       "    .dataframe tbody tr th {\n",
       "        vertical-align: top;\n",
       "    }\n",
       "\n",
       "    .dataframe thead th {\n",
       "        text-align: right;\n",
       "    }\n",
       "</style>\n",
       "<table border=\"1\" class=\"dataframe\">\n",
       "  <thead>\n",
       "    <tr style=\"text-align: right;\">\n",
       "      <th></th>\n",
       "      <th>product_name</th>\n",
       "      <th>count_order</th>\n",
       "      <th>count_reorder</th>\n",
       "      <th>proporcion_order</th>\n",
       "      <th>proporcion_reorder</th>\n",
       "    </tr>\n",
       "    <tr>\n",
       "      <th>product_id</th>\n",
       "      <th></th>\n",
       "      <th></th>\n",
       "      <th></th>\n",
       "      <th></th>\n",
       "      <th></th>\n",
       "    </tr>\n",
       "  </thead>\n",
       "  <tbody>\n",
       "    <tr>\n",
       "      <th>24852</th>\n",
       "      <td>banana</td>\n",
       "      <td>66050</td>\n",
       "      <td>55763.0</td>\n",
       "      <td>0.155746</td>\n",
       "      <td>0.844254</td>\n",
       "    </tr>\n",
       "    <tr>\n",
       "      <th>13176</th>\n",
       "      <td>bag of organic bananas</td>\n",
       "      <td>53297</td>\n",
       "      <td>44450.0</td>\n",
       "      <td>0.165994</td>\n",
       "      <td>0.834006</td>\n",
       "    </tr>\n",
       "    <tr>\n",
       "      <th>21137</th>\n",
       "      <td>organic strawberries</td>\n",
       "      <td>37039</td>\n",
       "      <td>28639.0</td>\n",
       "      <td>0.226788</td>\n",
       "      <td>0.773212</td>\n",
       "    </tr>\n",
       "    <tr>\n",
       "      <th>21903</th>\n",
       "      <td>organic baby spinach</td>\n",
       "      <td>33971</td>\n",
       "      <td>26233.0</td>\n",
       "      <td>0.227783</td>\n",
       "      <td>0.772217</td>\n",
       "    </tr>\n",
       "    <tr>\n",
       "      <th>47209</th>\n",
       "      <td>organic hass avocado</td>\n",
       "      <td>29773</td>\n",
       "      <td>23629.0</td>\n",
       "      <td>0.206361</td>\n",
       "      <td>0.793639</td>\n",
       "    </tr>\n",
       "    <tr>\n",
       "      <th>...</th>\n",
       "      <td>...</td>\n",
       "      <td>...</td>\n",
       "      <td>...</td>\n",
       "      <td>...</td>\n",
       "      <td>...</td>\n",
       "    </tr>\n",
       "    <tr>\n",
       "      <th>39313</th>\n",
       "      <td>organic whipped honey pure &amp; raw</td>\n",
       "      <td>1</td>\n",
       "      <td>NaN</td>\n",
       "      <td>NaN</td>\n",
       "      <td>NaN</td>\n",
       "    </tr>\n",
       "    <tr>\n",
       "      <th>12027</th>\n",
       "      <td>herb and spices havarti</td>\n",
       "      <td>1</td>\n",
       "      <td>1.0</td>\n",
       "      <td>0.000000</td>\n",
       "      <td>1.000000</td>\n",
       "    </tr>\n",
       "    <tr>\n",
       "      <th>39306</th>\n",
       "      <td>mango tea</td>\n",
       "      <td>1</td>\n",
       "      <td>NaN</td>\n",
       "      <td>NaN</td>\n",
       "      <td>NaN</td>\n",
       "    </tr>\n",
       "    <tr>\n",
       "      <th>39304</th>\n",
       "      <td>white corn canned</td>\n",
       "      <td>1</td>\n",
       "      <td>NaN</td>\n",
       "      <td>NaN</td>\n",
       "      <td>NaN</td>\n",
       "    </tr>\n",
       "    <tr>\n",
       "      <th>24793</th>\n",
       "      <td>sea salt- course</td>\n",
       "      <td>1</td>\n",
       "      <td>NaN</td>\n",
       "      <td>NaN</td>\n",
       "      <td>NaN</td>\n",
       "    </tr>\n",
       "  </tbody>\n",
       "</table>\n",
       "<p>44516 rows × 5 columns</p>\n",
       "</div>"
      ],
      "text/plain": [
       "                                product_name  count_order  count_reorder  \\\n",
       "product_id                                                                 \n",
       "24852                                 banana        66050        55763.0   \n",
       "13176                 bag of organic bananas        53297        44450.0   \n",
       "21137                   organic strawberries        37039        28639.0   \n",
       "21903                   organic baby spinach        33971        26233.0   \n",
       "47209                   organic hass avocado        29773        23629.0   \n",
       "...                                      ...          ...            ...   \n",
       "39313       organic whipped honey pure & raw            1            NaN   \n",
       "12027                herb and spices havarti            1            1.0   \n",
       "39306                              mango tea            1            NaN   \n",
       "39304                      white corn canned            1            NaN   \n",
       "24793                       sea salt- course            1            NaN   \n",
       "\n",
       "            proporcion_order  proporcion_reorder  \n",
       "product_id                                        \n",
       "24852               0.155746            0.844254  \n",
       "13176               0.165994            0.834006  \n",
       "21137               0.226788            0.773212  \n",
       "21903               0.227783            0.772217  \n",
       "47209               0.206361            0.793639  \n",
       "...                      ...                 ...  \n",
       "39313                    NaN                 NaN  \n",
       "12027               0.000000            1.000000  \n",
       "39306                    NaN                 NaN  \n",
       "39304                    NaN                 NaN  \n",
       "24793                    NaN                 NaN  \n",
       "\n",
       "[44516 rows x 5 columns]"
      ]
     },
     "execution_count": 61,
     "metadata": {},
     "output_type": "execute_result"
    }
   ],
   "source": [
    "#Calcular la proporción de productos pedidos\n",
    "count_both['proporcion_order'] = (count_both['count_order'] - count_both['count_reorder']) / count_both['count_order']\n",
    "#Calcular la proporción de las veces que se vuelve a pedir\n",
    "count_both['proporcion_reorder'] = count_both['count_reorder'] / count_both['count_order']\n",
    "count_both\n"
   ]
  },
  {
   "cell_type": "markdown",
   "id": "I10dEIAyldcO",
   "metadata": {
    "id": "I10dEIAyldcO"
   },
   "source": [
    "- Los pedidos en la categoria reorder conforman casi el 80% del total de pedidos de esos productos, auque por el producto 'herb and spices havarti' creo que puede haber productos mal ingresados ya que si hay solo una orden de ese producto no es posible que haya sido reordenado, está en la categoria incorrecta"
   ]
  },
  {
   "cell_type": "markdown",
   "id": "subject-boxing",
   "metadata": {
    "id": "subject-boxing"
   },
   "source": [
    "### [C4] Para cada cliente, ¿qué proporción de sus productos ya los había pedido?"
   ]
  },
  {
   "cell_type": "code",
   "execution_count": 62,
   "id": "ab934488",
   "metadata": {},
   "outputs": [],
   "source": [
    "# Unir el DF instacart_orders_df por el order_id con order_products_df\n",
    "client_products = instacart_orders_df.merge(order_products_df, on = 'order_id', how= 'left')"
   ]
  },
  {
   "cell_type": "code",
   "execution_count": 63,
   "id": "medical-couple",
   "metadata": {
    "id": "medical-couple",
    "scrolled": true
   },
   "outputs": [],
   "source": [
    "# verificar los product_id en los que reordered = 1\n",
    "reodered_products = client_products[client_products['reordered']==1]"
   ]
  },
  {
   "cell_type": "code",
   "execution_count": 64,
   "id": "8892e4b4",
   "metadata": {
    "id": "8892e4b4"
   },
   "outputs": [
    {
     "data": {
      "text/html": [
       "<div>\n",
       "<style scoped>\n",
       "    .dataframe tbody tr th:only-of-type {\n",
       "        vertical-align: middle;\n",
       "    }\n",
       "\n",
       "    .dataframe tbody tr th {\n",
       "        vertical-align: top;\n",
       "    }\n",
       "\n",
       "    .dataframe thead th {\n",
       "        text-align: right;\n",
       "    }\n",
       "</style>\n",
       "<table border=\"1\" class=\"dataframe\">\n",
       "  <thead>\n",
       "    <tr style=\"text-align: right;\">\n",
       "      <th></th>\n",
       "      <th>user_id</th>\n",
       "      <th>proporcion_products_reorder</th>\n",
       "    </tr>\n",
       "  </thead>\n",
       "  <tbody>\n",
       "    <tr>\n",
       "      <th>130813</th>\n",
       "      <td>171440</td>\n",
       "      <td>0.285714</td>\n",
       "    </tr>\n",
       "    <tr>\n",
       "      <th>77064</th>\n",
       "      <td>100958</td>\n",
       "      <td>0.441860</td>\n",
       "    </tr>\n",
       "    <tr>\n",
       "      <th>133207</th>\n",
       "      <td>174631</td>\n",
       "      <td>0.500000</td>\n",
       "    </tr>\n",
       "    <tr>\n",
       "      <th>25936</th>\n",
       "      <td>34038</td>\n",
       "      <td>0.640000</td>\n",
       "    </tr>\n",
       "    <tr>\n",
       "      <th>40102</th>\n",
       "      <td>52642</td>\n",
       "      <td>0.750000</td>\n",
       "    </tr>\n",
       "  </tbody>\n",
       "</table>\n",
       "</div>"
      ],
      "text/plain": [
       "        user_id  proporcion_products_reorder\n",
       "130813   171440                     0.285714\n",
       "77064    100958                     0.441860\n",
       "133207   174631                     0.500000\n",
       "25936     34038                     0.640000\n",
       "40102     52642                     0.750000"
      ]
     },
     "execution_count": 64,
     "metadata": {},
     "output_type": "execute_result"
    }
   ],
   "source": [
    "# agrupar las ordenes de los clientes por user_id y contar los productos_reordenados\n",
    "reodered_propotion = reodered_products.groupby('user_id')['product_id'].count().sort_values(ascending= False)\n",
    "# agrupar las ordenes de los clientes por user_id y contar los productos_totales\n",
    "total_products_per_client = client_products.groupby('user_id')['product_id'].count().sort_values(ascending= False)\n",
    "# calcular proporcion de productos ya pedidos\n",
    "proporcion_reorder_per_client = reodered_propotion/total_products_per_client\n",
    "proporcion_reorder_client = proporcion_reorder_per_client.reset_index()\n",
    "proporcion_reorder_client.columns=['user_id', 'proporcion_products_reorder']\n",
    "#proporcion_reorder_client['proporcion_products_reorder'].min()\n",
    "proporcion_reorder_client.sample(5)"
   ]
  },
  {
   "cell_type": "markdown",
   "id": "BgJSvXDsleXz",
   "metadata": {
    "id": "BgJSvXDsleXz"
   },
   "source": [
    "- La proporcion de pedidos reordenados versus el total de productos ordenados, varia mucho por cada cliente y pueden ir desde 0.014 hasta 1.0 "
   ]
  },
  {
   "cell_type": "markdown",
   "id": "92d35137",
   "metadata": {
    "id": "92d35137"
   },
   "source": [
    "### [C5] ¿Cuáles son los 20 principales artículos que las personas ponen primero en sus carritos?"
   ]
  },
  {
   "cell_type": "code",
   "execution_count": null,
   "id": "9d4979f4",
   "metadata": {},
   "outputs": [],
   "source": [
    "# Unir el DF order_products_df con el products_df con product_id\n",
    "client_products = client_products.merge(products_name, on = 'product_id', how = 'left')"
   ]
  },
  {
   "cell_type": "code",
   "execution_count": null,
   "id": "0ae57274",
   "metadata": {
    "id": "0ae57274",
    "scrolled": true
   },
   "outputs": [],
   "source": [
    "# Filtrar los productos que han sido agregados primero al carrito\n",
    "first_products_to_cart = client_products[client_products['add_to_cart_order']==1]\n",
    "# Agrupar por nombre de producto y guardar en la variable\n",
    "first_products_to_cart = first_products_to_cart['product_name'].value_counts()"
   ]
  },
  {
   "cell_type": "code",
   "execution_count": null,
   "id": "forty-netherlands",
   "metadata": {
    "id": "forty-netherlands",
    "scrolled": true
   },
   "outputs": [],
   "source": [
    "first_products_to_cart.head(20)"
   ]
  },
  {
   "cell_type": "markdown",
   "id": "28ce9872",
   "metadata": {
    "id": "28ce9872"
   },
   "source": [
    "- Muchos de los productos que las personas agrega primero al carrito son tambien los productos más vendidos y más veces reordenados"
   ]
  },
  {
   "cell_type": "markdown",
   "id": "uITbFCEoDosC",
   "metadata": {
    "id": "uITbFCEoDosC"
   },
   "source": [
    "### Conclusion general del proyecto:"
   ]
  },
  {
   "cell_type": "markdown",
   "id": "3442fe22",
   "metadata": {
    "id": "Nk-4GS7mDwqY"
   },
   "source": [
    "- Para este proyecto se recibió mucha informacion de parte del cliente, muchas veces no se está seguro de que datos podrian ser relevante o cuales no, por ejemplo, durante todo el analisis no se requiso la informacion las tablas `aisle_df` o `department_df` pero son importantes para mantener la base de datos del cliente organizada y clara.\n",
    "- Es importante despejar o limpliar los datos de las tablas que se van a analizar antes de procesar los datos para no generar errores en el análisis. \n",
    "- En algunos casos no afecta mucho el tipo de dato de una columna, y durante el analisis podria determinarse mejor si conviene más cambiar el tipo de dato, o en el formato original no genera problema.\n",
    "- Las herramientas que me resultan más utiles y fáciles de usar durante el procesamiento de datos fueron las `merge` y los distintos tipos de filtrado de datos\n",
    "- Uno de los desafíos más dificiles del proyecto fue entender bien que datos se requerian para responder las preguntas de forma adecuada, y más dificil e importante aún interpretar correctamente la pregunta misma que se planteaba.\n",
    "- Creo que aun me queda mucho por aprender, sobre todo en cuanto a que tipo de grafico se requiere para cada ocasión.\n",
    "- ChatGPT es de gran ayuda para depurar el proyecto cuando hay problemas de sintaxis o de cualquier tipo"
   ]
  }
 ],
 "metadata": {
  "ExecuteTimeLog": [
   {
    "duration": 4490,
    "start_time": "2024-06-29T15:28:57.949Z"
   },
   {
    "duration": 1082,
    "start_time": "2024-06-29T15:29:06.753Z"
   },
   {
    "duration": 1734,
    "start_time": "2024-06-29T15:29:31.454Z"
   },
   {
    "duration": 19,
    "start_time": "2024-06-29T15:30:03.028Z"
   },
   {
    "duration": 15,
    "start_time": "2024-06-29T15:30:30.297Z"
   },
   {
    "duration": 16,
    "start_time": "2024-06-29T15:30:58.663Z"
   },
   {
    "duration": 13,
    "start_time": "2024-06-29T15:31:38.310Z"
   },
   {
    "duration": 12,
    "start_time": "2024-06-29T15:31:41.244Z"
   },
   {
    "duration": 42,
    "start_time": "2024-06-29T15:47:52.728Z"
   },
   {
    "duration": 20,
    "start_time": "2024-06-29T15:58:59.192Z"
   },
   {
    "duration": 19,
    "start_time": "2024-06-29T15:59:11.452Z"
   },
   {
    "duration": 17,
    "start_time": "2024-06-29T16:02:19.846Z"
   },
   {
    "duration": 14,
    "start_time": "2024-06-29T16:04:04.068Z"
   },
   {
    "duration": 26,
    "start_time": "2024-06-29T16:04:35.093Z"
   },
   {
    "duration": 27,
    "start_time": "2024-06-29T16:04:40.490Z"
   },
   {
    "duration": 27,
    "start_time": "2024-06-29T16:04:51.150Z"
   },
   {
    "duration": 16,
    "start_time": "2024-06-29T16:16:38.353Z"
   },
   {
    "duration": 321,
    "start_time": "2024-06-30T12:32:09.344Z"
   },
   {
    "duration": 4542,
    "start_time": "2024-06-30T12:32:17.818Z"
   },
   {
    "duration": 1851,
    "start_time": "2024-06-30T12:32:25.711Z"
   },
   {
    "duration": 23,
    "start_time": "2024-06-30T12:32:31.204Z"
   },
   {
    "duration": 18,
    "start_time": "2024-06-30T12:32:44.273Z"
   },
   {
    "duration": 15,
    "start_time": "2024-06-30T12:32:50.991Z"
   },
   {
    "duration": 14,
    "start_time": "2024-06-30T12:32:57.472Z"
   },
   {
    "duration": 41,
    "start_time": "2024-06-30T12:33:13.170Z"
   },
   {
    "duration": 349,
    "start_time": "2024-06-30T12:33:21.816Z"
   },
   {
    "duration": 71,
    "start_time": "2024-06-30T12:37:36.628Z"
   },
   {
    "duration": 152,
    "start_time": "2024-06-30T12:37:43.358Z"
   },
   {
    "duration": 150,
    "start_time": "2024-06-30T12:38:05.084Z"
   },
   {
    "duration": 197,
    "start_time": "2024-06-30T12:47:15.987Z"
   },
   {
    "duration": 395,
    "start_time": "2024-06-30T12:47:23.849Z"
   },
   {
    "duration": 406,
    "start_time": "2024-06-30T12:47:36.373Z"
   },
   {
    "duration": 882,
    "start_time": "2024-06-30T12:48:32.088Z"
   },
   {
    "duration": 54,
    "start_time": "2024-06-30T12:48:40.404Z"
   },
   {
    "duration": 195,
    "start_time": "2024-06-30T12:51:13.698Z"
   },
   {
    "duration": 227,
    "start_time": "2024-06-30T12:52:39.596Z"
   },
   {
    "duration": 207,
    "start_time": "2024-06-30T12:53:01.627Z"
   },
   {
    "duration": 283,
    "start_time": "2024-06-30T12:53:30.482Z"
   },
   {
    "duration": 194,
    "start_time": "2024-06-30T12:53:44.036Z"
   },
   {
    "duration": 227,
    "start_time": "2024-06-30T12:53:54.331Z"
   },
   {
    "duration": 204,
    "start_time": "2024-06-30T12:53:57.817Z"
   },
   {
    "duration": 227,
    "start_time": "2024-06-30T12:54:00.711Z"
   },
   {
    "duration": 204,
    "start_time": "2024-06-30T12:54:03.012Z"
   },
   {
    "duration": 218,
    "start_time": "2024-06-30T12:54:04.424Z"
   },
   {
    "duration": 260,
    "start_time": "2024-06-30T12:54:06.084Z"
   },
   {
    "duration": 237,
    "start_time": "2024-06-30T12:54:07.412Z"
   },
   {
    "duration": 201,
    "start_time": "2024-06-30T12:54:10.280Z"
   },
   {
    "duration": 203,
    "start_time": "2024-06-30T12:54:11.809Z"
   },
   {
    "duration": 222,
    "start_time": "2024-06-30T12:54:13.433Z"
   },
   {
    "duration": 213,
    "start_time": "2024-06-30T12:54:15.682Z"
   },
   {
    "duration": 235,
    "start_time": "2024-06-30T12:54:18.307Z"
   },
   {
    "duration": 241,
    "start_time": "2024-06-30T12:54:23.195Z"
   },
   {
    "duration": 265,
    "start_time": "2024-06-30T12:54:25.243Z"
   },
   {
    "duration": 260,
    "start_time": "2024-06-30T12:54:26.581Z"
   },
   {
    "duration": 213,
    "start_time": "2024-06-30T12:54:27.900Z"
   },
   {
    "duration": 255,
    "start_time": "2024-06-30T12:57:15.617Z"
   },
   {
    "duration": 185,
    "start_time": "2024-06-30T12:58:06.595Z"
   },
   {
    "duration": 232,
    "start_time": "2024-06-30T12:58:13.810Z"
   },
   {
    "duration": 244,
    "start_time": "2024-06-30T12:58:46.837Z"
   },
   {
    "duration": 257,
    "start_time": "2024-06-30T12:58:50.993Z"
   },
   {
    "duration": 190,
    "start_time": "2024-06-30T12:59:07.861Z"
   },
   {
    "duration": 199,
    "start_time": "2024-06-30T12:59:20.249Z"
   },
   {
    "duration": 47,
    "start_time": "2024-06-30T13:00:56.342Z"
   },
   {
    "duration": 40,
    "start_time": "2024-06-30T13:01:02.024Z"
   },
   {
    "duration": 42,
    "start_time": "2024-06-30T13:02:29.626Z"
   },
   {
    "duration": 30,
    "start_time": "2024-06-30T13:02:48.156Z"
   },
   {
    "duration": 25,
    "start_time": "2024-06-30T13:03:26.782Z"
   },
   {
    "duration": 25,
    "start_time": "2024-06-30T13:03:32.956Z"
   },
   {
    "duration": 26,
    "start_time": "2024-06-30T13:03:39.021Z"
   },
   {
    "duration": 18,
    "start_time": "2024-06-30T13:08:06.556Z"
   },
   {
    "duration": 193,
    "start_time": "2024-06-30T13:10:58.575Z"
   },
   {
    "duration": 187,
    "start_time": "2024-06-30T13:11:02.037Z"
   },
   {
    "duration": 170,
    "start_time": "2024-06-30T13:11:04.770Z"
   },
   {
    "duration": 163,
    "start_time": "2024-06-30T13:11:17.110Z"
   },
   {
    "duration": 19,
    "start_time": "2024-06-30T13:11:40.026Z"
   },
   {
    "duration": 66,
    "start_time": "2024-06-30T13:12:27.345Z"
   },
   {
    "duration": 38,
    "start_time": "2024-06-30T13:18:54.701Z"
   },
   {
    "duration": 4,
    "start_time": "2024-06-30T13:19:25.703Z"
   },
   {
    "duration": 5,
    "start_time": "2024-06-30T13:19:30.049Z"
   },
   {
    "duration": 677,
    "start_time": "2024-06-30T13:19:47.354Z"
   },
   {
    "duration": 1561,
    "start_time": "2024-06-30T13:19:50.675Z"
   },
   {
    "duration": 18,
    "start_time": "2024-06-30T13:19:57.991Z"
   },
   {
    "duration": 31,
    "start_time": "2024-06-30T13:20:01.474Z"
   },
   {
    "duration": 16,
    "start_time": "2024-06-30T13:20:04.486Z"
   },
   {
    "duration": 15,
    "start_time": "2024-06-30T13:20:06.556Z"
   },
   {
    "duration": 19,
    "start_time": "2024-06-30T13:20:08.810Z"
   },
   {
    "duration": 40,
    "start_time": "2024-06-30T13:20:13.499Z"
   },
   {
    "duration": 363,
    "start_time": "2024-06-30T13:20:24.275Z"
   },
   {
    "duration": 45,
    "start_time": "2024-06-30T13:20:44.447Z"
   },
   {
    "duration": 45,
    "start_time": "2024-06-30T13:21:57.769Z"
   },
   {
    "duration": 45,
    "start_time": "2024-06-30T13:23:15.773Z"
   },
   {
    "duration": 50,
    "start_time": "2024-06-30T13:23:55.328Z"
   },
   {
    "duration": 9,
    "start_time": "2024-06-30T13:24:19.240Z"
   },
   {
    "duration": 6,
    "start_time": "2024-06-30T13:24:24.769Z"
   },
   {
    "duration": 43,
    "start_time": "2024-06-30T13:24:35.841Z"
   },
   {
    "duration": 50,
    "start_time": "2024-06-30T13:24:54.896Z"
   },
   {
    "duration": 59,
    "start_time": "2024-06-30T13:26:12.805Z"
   },
   {
    "duration": 137,
    "start_time": "2024-06-30T13:29:08.668Z"
   },
   {
    "duration": 197,
    "start_time": "2024-06-30T13:31:19.359Z"
   },
   {
    "duration": 106,
    "start_time": "2024-06-30T13:32:53.500Z"
   },
   {
    "duration": 109,
    "start_time": "2024-06-30T13:35:21.014Z"
   },
   {
    "duration": 146,
    "start_time": "2024-06-30T13:36:14.208Z"
   },
   {
    "duration": 88,
    "start_time": "2024-06-30T13:36:29.921Z"
   },
   {
    "duration": 74,
    "start_time": "2024-06-30T13:36:39.175Z"
   },
   {
    "duration": 217,
    "start_time": "2024-06-30T13:37:27.365Z"
   },
   {
    "duration": 88,
    "start_time": "2024-06-30T13:39:25.513Z"
   },
   {
    "duration": 1076,
    "start_time": "2024-06-30T13:39:59.636Z"
   },
   {
    "duration": 231,
    "start_time": "2024-06-30T13:40:09.786Z"
   },
   {
    "duration": 209,
    "start_time": "2024-06-30T13:40:43.753Z"
   },
   {
    "duration": 245,
    "start_time": "2024-06-30T13:41:01.287Z"
   },
   {
    "duration": 452,
    "start_time": "2024-06-30T13:41:24.418Z"
   },
   {
    "duration": 154,
    "start_time": "2024-06-30T13:41:47.710Z"
   },
   {
    "duration": 153,
    "start_time": "2024-06-30T13:41:59.276Z"
   },
   {
    "duration": 77,
    "start_time": "2024-06-30T13:42:53.866Z"
   },
   {
    "duration": 7,
    "start_time": "2024-06-30T13:46:53.241Z"
   },
   {
    "duration": 175,
    "start_time": "2024-06-30T13:47:03.339Z"
   },
   {
    "duration": 178,
    "start_time": "2024-06-30T13:48:35.998Z"
   },
   {
    "duration": 178,
    "start_time": "2024-06-30T13:49:04.001Z"
   },
   {
    "duration": 102,
    "start_time": "2024-06-30T13:49:42.833Z"
   },
   {
    "duration": 118,
    "start_time": "2024-06-30T13:49:49.752Z"
   },
   {
    "duration": 183,
    "start_time": "2024-06-30T13:50:57.991Z"
   },
   {
    "duration": 84,
    "start_time": "2024-06-30T13:52:08.682Z"
   },
   {
    "duration": 90,
    "start_time": "2024-06-30T13:52:18.406Z"
   },
   {
    "duration": 89,
    "start_time": "2024-06-30T13:52:34.399Z"
   },
   {
    "duration": 44,
    "start_time": "2024-06-30T13:56:17.065Z"
   },
   {
    "duration": 84,
    "start_time": "2024-06-30T13:56:27.446Z"
   },
   {
    "duration": 39,
    "start_time": "2024-06-30T13:56:59.507Z"
   },
   {
    "duration": 208,
    "start_time": "2024-06-30T14:03:51.952Z"
   },
   {
    "duration": 200,
    "start_time": "2024-06-30T14:04:39.617Z"
   },
   {
    "duration": 6,
    "start_time": "2024-06-30T14:04:53.249Z"
   },
   {
    "duration": 125,
    "start_time": "2024-06-30T14:04:57.044Z"
   },
   {
    "duration": 130,
    "start_time": "2024-06-30T14:09:48.855Z"
   },
   {
    "duration": 127,
    "start_time": "2024-06-30T14:09:56.934Z"
   },
   {
    "duration": 183,
    "start_time": "2024-06-30T14:12:03.282Z"
   },
   {
    "duration": 163,
    "start_time": "2024-06-30T14:14:28.362Z"
   },
   {
    "duration": 175,
    "start_time": "2024-06-30T14:18:19.874Z"
   },
   {
    "duration": 177,
    "start_time": "2024-06-30T14:18:25.683Z"
   },
   {
    "duration": 681,
    "start_time": "2024-06-30T14:19:05.734Z"
   },
   {
    "duration": 1615,
    "start_time": "2024-06-30T14:19:08.755Z"
   },
   {
    "duration": 29,
    "start_time": "2024-06-30T14:19:12.236Z"
   },
   {
    "duration": 165,
    "start_time": "2024-06-30T14:19:28.065Z"
   },
   {
    "duration": 43,
    "start_time": "2024-06-30T14:19:51.049Z"
   },
   {
    "duration": 176,
    "start_time": "2024-06-30T14:25:28.186Z"
   },
   {
    "duration": 425,
    "start_time": "2024-06-30T14:26:05.792Z"
   },
   {
    "duration": 81,
    "start_time": "2024-06-30T14:26:11.679Z"
   },
   {
    "duration": 72,
    "start_time": "2024-06-30T14:26:16.703Z"
   },
   {
    "duration": 53,
    "start_time": "2024-06-30T14:26:53.433Z"
   },
   {
    "duration": 55,
    "start_time": "2024-06-30T14:27:48.499Z"
   },
   {
    "duration": 175,
    "start_time": "2024-06-30T14:28:26.148Z"
   },
   {
    "duration": 60,
    "start_time": "2024-06-30T14:28:47.116Z"
   },
   {
    "duration": 15,
    "start_time": "2024-06-30T14:29:51.792Z"
   },
   {
    "duration": 26,
    "start_time": "2024-06-30T14:30:41.125Z"
   },
   {
    "duration": 59,
    "start_time": "2024-06-30T14:32:17.643Z"
   },
   {
    "duration": 102,
    "start_time": "2024-06-30T14:34:44.622Z"
   },
   {
    "duration": 13,
    "start_time": "2024-06-30T14:35:52.158Z"
   },
   {
    "duration": 45,
    "start_time": "2024-06-30T14:36:07.203Z"
   },
   {
    "duration": 13,
    "start_time": "2024-06-30T14:36:10.784Z"
   },
   {
    "duration": 112,
    "start_time": "2024-06-30T14:36:47.039Z"
   },
   {
    "duration": 15,
    "start_time": "2024-06-30T14:36:49.663Z"
   },
   {
    "duration": 559,
    "start_time": "2024-06-30T14:37:37.678Z"
   },
   {
    "duration": 72,
    "start_time": "2024-06-30T14:37:53.858Z"
   },
   {
    "duration": 155,
    "start_time": "2024-06-30T14:38:19.058Z"
   },
   {
    "duration": 84,
    "start_time": "2024-06-30T14:39:37.365Z"
   },
   {
    "duration": 74,
    "start_time": "2024-06-30T14:39:44.290Z"
   },
   {
    "duration": 666,
    "start_time": "2024-06-30T14:40:15.557Z"
   },
   {
    "duration": 1567,
    "start_time": "2024-06-30T14:40:18.257Z"
   },
   {
    "duration": 17,
    "start_time": "2024-06-30T14:40:21.940Z"
   },
   {
    "duration": 46,
    "start_time": "2024-06-30T14:40:44.766Z"
   },
   {
    "duration": 93,
    "start_time": "2024-06-30T14:40:52.168Z"
   },
   {
    "duration": 83,
    "start_time": "2024-06-30T14:41:21.976Z"
   },
   {
    "duration": 81,
    "start_time": "2024-06-30T14:41:26.902Z"
   },
   {
    "duration": 21,
    "start_time": "2024-06-30T14:43:36.196Z"
   },
   {
    "duration": 14,
    "start_time": "2024-06-30T14:43:57.957Z"
   },
   {
    "duration": 456,
    "start_time": "2024-06-30T14:49:05.962Z"
   },
   {
    "duration": 61,
    "start_time": "2024-06-30T14:49:22.140Z"
   },
   {
    "duration": 127,
    "start_time": "2024-06-30T14:49:24.796Z"
   },
   {
    "duration": 124,
    "start_time": "2024-06-30T14:49:37.788Z"
   },
   {
    "duration": 194,
    "start_time": "2024-06-30T14:49:40.867Z"
   },
   {
    "duration": 59,
    "start_time": "2024-06-30T14:50:24.039Z"
   },
   {
    "duration": 376,
    "start_time": "2024-06-30T14:59:39.058Z"
   },
   {
    "duration": 34,
    "start_time": "2024-06-30T14:59:45.890Z"
   },
   {
    "duration": 8,
    "start_time": "2024-06-30T15:00:17.432Z"
   },
   {
    "duration": 7,
    "start_time": "2024-06-30T15:01:04.482Z"
   },
   {
    "duration": 15,
    "start_time": "2024-06-30T15:02:24.109Z"
   },
   {
    "duration": 37,
    "start_time": "2024-06-30T15:02:37.331Z"
   },
   {
    "duration": 33,
    "start_time": "2024-06-30T15:02:43.447Z"
   },
   {
    "duration": 34,
    "start_time": "2024-06-30T15:03:46.995Z"
   },
   {
    "duration": 218,
    "start_time": "2024-06-30T15:05:07.722Z"
   },
   {
    "duration": 45,
    "start_time": "2024-06-30T15:05:28.236Z"
   },
   {
    "duration": 102,
    "start_time": "2024-06-30T15:07:04.910Z"
   },
   {
    "duration": 87,
    "start_time": "2024-06-30T15:08:01.372Z"
   },
   {
    "duration": 82,
    "start_time": "2024-06-30T15:08:12.468Z"
   },
   {
    "duration": 70,
    "start_time": "2024-06-30T15:09:35.936Z"
   },
   {
    "duration": 98,
    "start_time": "2024-06-30T15:09:50.460Z"
   },
   {
    "duration": 23,
    "start_time": "2024-06-30T15:18:19.039Z"
   },
   {
    "duration": 44,
    "start_time": "2024-06-30T15:18:28.675Z"
   },
   {
    "duration": 86,
    "start_time": "2024-06-30T15:23:08.343Z"
   },
   {
    "duration": 210,
    "start_time": "2024-06-30T15:23:52.609Z"
   },
   {
    "duration": 137,
    "start_time": "2024-06-30T15:24:19.718Z"
   },
   {
    "duration": 107,
    "start_time": "2024-06-30T15:24:26.751Z"
   },
   {
    "duration": 84,
    "start_time": "2024-06-30T15:25:29.144Z"
   },
   {
    "duration": 119,
    "start_time": "2024-06-30T15:25:50.555Z"
   },
   {
    "duration": 146,
    "start_time": "2024-06-30T15:26:15.681Z"
   },
   {
    "duration": 90,
    "start_time": "2024-06-30T15:26:37.976Z"
   },
   {
    "duration": 61,
    "start_time": "2024-06-30T15:27:24.330Z"
   },
   {
    "duration": 78,
    "start_time": "2024-06-30T15:27:28.082Z"
   },
   {
    "duration": 88,
    "start_time": "2024-06-30T15:27:32.795Z"
   },
   {
    "duration": 68,
    "start_time": "2024-06-30T15:27:48.954Z"
   },
   {
    "duration": 126,
    "start_time": "2024-06-30T15:28:07.111Z"
   },
   {
    "duration": 73,
    "start_time": "2024-06-30T15:29:03.500Z"
   },
   {
    "duration": 78,
    "start_time": "2024-06-30T15:29:07.761Z"
   },
   {
    "duration": 105,
    "start_time": "2024-06-30T15:30:16.666Z"
   },
   {
    "duration": 70,
    "start_time": "2024-06-30T15:30:24.692Z"
   },
   {
    "duration": 763,
    "start_time": "2024-06-30T15:32:09.651Z"
   },
   {
    "duration": 1644,
    "start_time": "2024-06-30T15:32:11.948Z"
   },
   {
    "duration": 20,
    "start_time": "2024-06-30T15:32:15.828Z"
   },
   {
    "duration": 40,
    "start_time": "2024-06-30T15:32:18.188Z"
   },
   {
    "duration": 36,
    "start_time": "2024-06-30T15:32:30.645Z"
   },
   {
    "duration": 18,
    "start_time": "2024-06-30T15:32:37.400Z"
   },
   {
    "duration": 70,
    "start_time": "2024-06-30T15:32:49.225Z"
   },
   {
    "duration": 103,
    "start_time": "2024-06-30T15:32:51.265Z"
   },
   {
    "duration": 18,
    "start_time": "2024-06-30T15:32:55.327Z"
   },
   {
    "duration": 13,
    "start_time": "2024-06-30T15:32:59.058Z"
   },
   {
    "duration": 231,
    "start_time": "2024-06-30T15:33:15.434Z"
   },
   {
    "duration": 238,
    "start_time": "2024-06-30T15:33:18.602Z"
   },
   {
    "duration": 72,
    "start_time": "2024-06-30T15:33:29.287Z"
   },
   {
    "duration": 41,
    "start_time": "2024-06-30T15:33:33.904Z"
   },
   {
    "duration": 9,
    "start_time": "2024-06-30T15:33:35.619Z"
   },
   {
    "duration": 92,
    "start_time": "2024-06-30T15:33:55.345Z"
   },
   {
    "duration": 104,
    "start_time": "2024-06-30T15:34:21.467Z"
   },
   {
    "duration": 36,
    "start_time": "2024-06-30T15:34:43.085Z"
   },
   {
    "duration": 97,
    "start_time": "2024-06-30T15:35:11.034Z"
   },
   {
    "duration": 50,
    "start_time": "2024-06-30T15:36:28.001Z"
   },
   {
    "duration": 41,
    "start_time": "2024-06-30T15:37:52.565Z"
   },
   {
    "duration": 93,
    "start_time": "2024-06-30T15:38:01.353Z"
   },
   {
    "duration": 38,
    "start_time": "2024-06-30T15:38:59.835Z"
   },
   {
    "duration": 55,
    "start_time": "2024-06-30T15:40:15.409Z"
   },
   {
    "duration": 419,
    "start_time": "2024-06-30T15:40:21.239Z"
   },
   {
    "duration": 44,
    "start_time": "2024-06-30T15:40:29.454Z"
   },
   {
    "duration": 56,
    "start_time": "2024-06-30T15:40:46.108Z"
   },
   {
    "duration": 48,
    "start_time": "2024-06-30T15:40:59.294Z"
   },
   {
    "duration": 46,
    "start_time": "2024-06-30T15:41:08.793Z"
   },
   {
    "duration": 44,
    "start_time": "2024-06-30T15:41:14.786Z"
   },
   {
    "duration": 56,
    "start_time": "2024-06-30T15:41:30.267Z"
   },
   {
    "duration": 69,
    "start_time": "2024-06-30T15:41:36.452Z"
   },
   {
    "duration": 48,
    "start_time": "2024-06-30T15:41:48.292Z"
   },
   {
    "duration": 45,
    "start_time": "2024-06-30T15:41:51.648Z"
   },
   {
    "duration": 66,
    "start_time": "2024-06-30T15:42:14.061Z"
   },
   {
    "duration": 47,
    "start_time": "2024-06-30T15:42:34.857Z"
   },
   {
    "duration": 11,
    "start_time": "2024-06-30T15:44:15.473Z"
   },
   {
    "duration": 10,
    "start_time": "2024-06-30T15:44:20.703Z"
   },
   {
    "duration": 10,
    "start_time": "2024-06-30T15:44:32.394Z"
   },
   {
    "duration": 96,
    "start_time": "2024-06-30T15:46:09.147Z"
   },
   {
    "duration": 44,
    "start_time": "2024-06-30T15:46:16.384Z"
   },
   {
    "duration": 66,
    "start_time": "2024-06-30T15:46:47.431Z"
   },
   {
    "duration": 60,
    "start_time": "2024-06-30T15:46:53.302Z"
   },
   {
    "duration": 49,
    "start_time": "2024-06-30T15:47:15.445Z"
   },
   {
    "duration": 85,
    "start_time": "2024-06-30T15:49:17.921Z"
   },
   {
    "duration": 48,
    "start_time": "2024-06-30T15:49:37.344Z"
   },
   {
    "duration": 55,
    "start_time": "2024-06-30T15:49:53.115Z"
   },
   {
    "duration": 43,
    "start_time": "2024-06-30T15:51:12.485Z"
   },
   {
    "duration": 43,
    "start_time": "2024-06-30T15:51:39.244Z"
   },
   {
    "duration": 18,
    "start_time": "2024-06-30T15:53:02.870Z"
   },
   {
    "duration": 26,
    "start_time": "2024-06-30T15:53:55.249Z"
   },
   {
    "duration": 19,
    "start_time": "2024-06-30T15:54:39.621Z"
   },
   {
    "duration": 32,
    "start_time": "2024-06-30T15:54:50.199Z"
   },
   {
    "duration": 38,
    "start_time": "2024-06-30T15:55:15.711Z"
   },
   {
    "duration": 40,
    "start_time": "2024-06-30T15:55:40.113Z"
   },
   {
    "duration": 4378,
    "start_time": "2024-07-01T06:21:47.175Z"
   },
   {
    "duration": 1741,
    "start_time": "2024-07-01T06:21:52.801Z"
   },
   {
    "duration": 24,
    "start_time": "2024-07-01T06:21:57.327Z"
   },
   {
    "duration": 31,
    "start_time": "2024-07-01T06:21:59.061Z"
   },
   {
    "duration": 18,
    "start_time": "2024-07-01T06:22:00.505Z"
   },
   {
    "duration": 15,
    "start_time": "2024-07-01T06:22:01.722Z"
   },
   {
    "duration": 17,
    "start_time": "2024-07-01T06:22:02.981Z"
   },
   {
    "duration": 39,
    "start_time": "2024-07-01T06:22:04.027Z"
   },
   {
    "duration": 301,
    "start_time": "2024-07-01T06:22:05.149Z"
   },
   {
    "duration": 44,
    "start_time": "2024-07-01T06:31:25.340Z"
   },
   {
    "duration": 72,
    "start_time": "2024-07-01T06:31:29.766Z"
   },
   {
    "duration": 18,
    "start_time": "2024-07-01T06:31:40.732Z"
   },
   {
    "duration": 10,
    "start_time": "2024-07-01T06:31:50.335Z"
   },
   {
    "duration": 180,
    "start_time": "2024-07-01T06:32:15.356Z"
   },
   {
    "duration": 175,
    "start_time": "2024-07-01T06:32:34.308Z"
   },
   {
    "duration": 668,
    "start_time": "2024-07-01T06:32:58.892Z"
   },
   {
    "duration": 1552,
    "start_time": "2024-07-01T06:33:02.318Z"
   },
   {
    "duration": 21,
    "start_time": "2024-07-01T06:33:05.640Z"
   },
   {
    "duration": 43,
    "start_time": "2024-07-01T06:33:20.150Z"
   },
   {
    "duration": 75,
    "start_time": "2024-07-01T06:33:21.462Z"
   },
   {
    "duration": 14,
    "start_time": "2024-07-01T06:33:30.256Z"
   },
   {
    "duration": 179,
    "start_time": "2024-07-01T06:33:35.210Z"
   },
   {
    "duration": 157,
    "start_time": "2024-07-01T06:34:27.463Z"
   },
   {
    "duration": 44,
    "start_time": "2024-07-01T06:34:30.788Z"
   },
   {
    "duration": 155,
    "start_time": "2024-07-01T06:35:11.257Z"
   },
   {
    "duration": 690,
    "start_time": "2024-07-01T06:35:29.314Z"
   },
   {
    "duration": 1610,
    "start_time": "2024-07-01T06:35:31.392Z"
   },
   {
    "duration": 19,
    "start_time": "2024-07-01T06:35:34.200Z"
   },
   {
    "duration": 30,
    "start_time": "2024-07-01T06:35:38.440Z"
   },
   {
    "duration": 17,
    "start_time": "2024-07-01T06:35:40.302Z"
   },
   {
    "duration": 14,
    "start_time": "2024-07-01T06:35:41.599Z"
   },
   {
    "duration": 16,
    "start_time": "2024-07-01T06:35:42.688Z"
   },
   {
    "duration": 40,
    "start_time": "2024-07-01T06:35:44.451Z"
   },
   {
    "duration": 306,
    "start_time": "2024-07-01T06:35:45.995Z"
   },
   {
    "duration": 158,
    "start_time": "2024-07-01T06:35:52.957Z"
   },
   {
    "duration": 76,
    "start_time": "2024-07-01T06:36:05.714Z"
   },
   {
    "duration": 18,
    "start_time": "2024-07-01T06:38:16.273Z"
   },
   {
    "duration": 12,
    "start_time": "2024-07-01T06:38:56.465Z"
   },
   {
    "duration": 168,
    "start_time": "2024-07-01T06:39:08.903Z"
   },
   {
    "duration": 157,
    "start_time": "2024-07-01T06:39:18.178Z"
   },
   {
    "duration": 49,
    "start_time": "2024-07-01T06:39:27.477Z"
   },
   {
    "duration": 22,
    "start_time": "2024-07-01T06:39:32.187Z"
   },
   {
    "duration": 6,
    "start_time": "2024-07-01T06:39:34.698Z"
   },
   {
    "duration": 35,
    "start_time": "2024-07-01T06:39:39.075Z"
   },
   {
    "duration": 47,
    "start_time": "2024-07-01T06:39:45.251Z"
   },
   {
    "duration": 13,
    "start_time": "2024-07-01T06:40:11.341Z"
   },
   {
    "duration": 47,
    "start_time": "2024-07-01T06:40:23.564Z"
   },
   {
    "duration": 24,
    "start_time": "2024-07-01T06:40:52.331Z"
   },
   {
    "duration": 7,
    "start_time": "2024-07-01T06:41:41.639Z"
   },
   {
    "duration": 6,
    "start_time": "2024-07-01T06:42:30.832Z"
   },
   {
    "duration": 1174,
    "start_time": "2024-07-01T06:42:54.840Z"
   },
   {
    "duration": 4450,
    "start_time": "2024-07-01T13:17:59.473Z"
   },
   {
    "duration": 1729,
    "start_time": "2024-07-01T13:18:05.664Z"
   },
   {
    "duration": 20,
    "start_time": "2024-07-01T13:18:09.795Z"
   },
   {
    "duration": 30,
    "start_time": "2024-07-01T13:18:11.429Z"
   },
   {
    "duration": 17,
    "start_time": "2024-07-01T13:18:19.586Z"
   },
   {
    "duration": 13,
    "start_time": "2024-07-01T13:18:20.770Z"
   },
   {
    "duration": 15,
    "start_time": "2024-07-01T13:18:21.852Z"
   },
   {
    "duration": 48,
    "start_time": "2024-07-01T13:18:22.913Z"
   },
   {
    "duration": 354,
    "start_time": "2024-07-01T13:18:24.066Z"
   },
   {
    "duration": 175,
    "start_time": "2024-07-01T13:18:28.359Z"
   },
   {
    "duration": 79,
    "start_time": "2024-07-01T13:18:30.013Z"
   },
   {
    "duration": 14,
    "start_time": "2024-07-01T13:18:55.412Z"
   },
   {
    "duration": 16,
    "start_time": "2024-07-01T13:19:11.508Z"
   },
   {
    "duration": 165,
    "start_time": "2024-07-01T13:21:42.468Z"
   },
   {
    "duration": 153,
    "start_time": "2024-07-01T13:21:45.261Z"
   },
   {
    "duration": 46,
    "start_time": "2024-07-01T13:21:48.202Z"
   },
   {
    "duration": 23,
    "start_time": "2024-07-01T13:22:20.393Z"
   },
   {
    "duration": 7,
    "start_time": "2024-07-01T13:22:22.306Z"
   },
   {
    "duration": 44,
    "start_time": "2024-07-01T13:22:25.893Z"
   },
   {
    "duration": 14,
    "start_time": "2024-07-01T13:22:33.914Z"
   },
   {
    "duration": 39,
    "start_time": "2024-07-01T13:22:41.209Z"
   },
   {
    "duration": 31,
    "start_time": "2024-07-01T13:22:57.830Z"
   },
   {
    "duration": 42,
    "start_time": "2024-07-01T13:23:01.122Z"
   },
   {
    "duration": 15,
    "start_time": "2024-07-01T13:23:03.468Z"
   },
   {
    "duration": 48,
    "start_time": "2024-07-01T13:23:11.538Z"
   },
   {
    "duration": 18,
    "start_time": "2024-07-01T13:23:14.976Z"
   },
   {
    "duration": 6,
    "start_time": "2024-07-01T13:23:41.610Z"
   },
   {
    "duration": 7,
    "start_time": "2024-07-01T13:23:46.945Z"
   },
   {
    "duration": 8,
    "start_time": "2024-07-01T13:28:29.878Z"
   },
   {
    "duration": 7,
    "start_time": "2024-07-01T13:29:16.977Z"
   },
   {
    "duration": 1160,
    "start_time": "2024-07-01T13:30:07.529Z"
   },
   {
    "duration": 7,
    "start_time": "2024-07-01T13:30:11.749Z"
   },
   {
    "duration": 6,
    "start_time": "2024-07-01T13:30:17.897Z"
   },
   {
    "duration": 6,
    "start_time": "2024-07-01T13:30:28.774Z"
   },
   {
    "duration": 15,
    "start_time": "2024-07-01T13:32:06.400Z"
   },
   {
    "duration": 1363,
    "start_time": "2024-07-01T13:32:45.127Z"
   },
   {
    "duration": 16,
    "start_time": "2024-07-01T13:33:09.832Z"
   },
   {
    "duration": 1355,
    "start_time": "2024-07-01T13:34:42.505Z"
   },
   {
    "duration": 256,
    "start_time": "2024-07-01T13:35:12.291Z"
   },
   {
    "duration": 16,
    "start_time": "2024-07-01T13:35:21.878Z"
   },
   {
    "duration": 4,
    "start_time": "2024-07-01T13:48:33.324Z"
   },
   {
    "duration": 7,
    "start_time": "2024-07-01T13:48:51.439Z"
   },
   {
    "duration": 6,
    "start_time": "2024-07-01T13:48:52.409Z"
   },
   {
    "duration": 1340,
    "start_time": "2024-07-01T13:48:55.043Z"
   },
   {
    "duration": 265,
    "start_time": "2024-07-01T13:48:58.502Z"
   },
   {
    "duration": 1203,
    "start_time": "2024-07-01T13:49:28.560Z"
   },
   {
    "duration": 1342,
    "start_time": "2024-07-01T13:50:20.036Z"
   },
   {
    "duration": 221,
    "start_time": "2024-07-01T13:59:59.759Z"
   },
   {
    "duration": 1177,
    "start_time": "2024-07-01T14:00:07.726Z"
   },
   {
    "duration": 1680,
    "start_time": "2024-07-01T14:01:12.754Z"
   },
   {
    "duration": 9,
    "start_time": "2024-07-01T14:01:43.977Z"
   },
   {
    "duration": 1655,
    "start_time": "2024-07-01T14:02:04.465Z"
   },
   {
    "duration": 2975,
    "start_time": "2024-07-01T14:02:11.006Z"
   },
   {
    "duration": 1630,
    "start_time": "2024-07-01T14:02:24.657Z"
   },
   {
    "duration": 20,
    "start_time": "2024-07-01T14:02:49.491Z"
   },
   {
    "duration": 7,
    "start_time": "2024-07-01T14:03:32.827Z"
   },
   {
    "duration": 6,
    "start_time": "2024-07-01T14:03:38.807Z"
   },
   {
    "duration": 23,
    "start_time": "2024-07-01T14:03:47.924Z"
   },
   {
    "duration": 5,
    "start_time": "2024-07-01T14:04:11.170Z"
   },
   {
    "duration": 5,
    "start_time": "2024-07-01T14:04:23.058Z"
   },
   {
    "duration": 19,
    "start_time": "2024-07-01T14:04:34.080Z"
   },
   {
    "duration": 19,
    "start_time": "2024-07-01T14:04:58.723Z"
   },
   {
    "duration": 20,
    "start_time": "2024-07-01T14:05:58.997Z"
   },
   {
    "duration": 10,
    "start_time": "2024-07-01T14:08:51.299Z"
   },
   {
    "duration": 48,
    "start_time": "2024-07-01T14:12:30.620Z"
   },
   {
    "duration": 8,
    "start_time": "2024-07-01T14:16:32.387Z"
   },
   {
    "duration": 7,
    "start_time": "2024-07-01T14:17:01.780Z"
   },
   {
    "duration": 13,
    "start_time": "2024-07-01T14:17:08.633Z"
   },
   {
    "duration": 748,
    "start_time": "2024-07-01T14:22:13.826Z"
   },
   {
    "duration": 1715,
    "start_time": "2024-07-01T14:22:15.882Z"
   },
   {
    "duration": 22,
    "start_time": "2024-07-01T14:22:19.753Z"
   },
   {
    "duration": 34,
    "start_time": "2024-07-01T14:22:21.392Z"
   },
   {
    "duration": 17,
    "start_time": "2024-07-01T14:22:23.241Z"
   },
   {
    "duration": 15,
    "start_time": "2024-07-01T14:22:25.217Z"
   },
   {
    "duration": 26,
    "start_time": "2024-07-01T14:22:26.785Z"
   },
   {
    "duration": 60,
    "start_time": "2024-07-01T14:22:28.623Z"
   },
   {
    "duration": 483,
    "start_time": "2024-07-01T14:22:30.262Z"
   },
   {
    "duration": 188,
    "start_time": "2024-07-01T14:22:36.659Z"
   },
   {
    "duration": 82,
    "start_time": "2024-07-01T14:22:38.190Z"
   },
   {
    "duration": 15,
    "start_time": "2024-07-01T14:22:41.562Z"
   },
   {
    "duration": 12,
    "start_time": "2024-07-01T14:22:46.889Z"
   },
   {
    "duration": 216,
    "start_time": "2024-07-01T14:22:51.266Z"
   },
   {
    "duration": 164,
    "start_time": "2024-07-01T14:22:55.363Z"
   },
   {
    "duration": 51,
    "start_time": "2024-07-01T14:22:58.781Z"
   },
   {
    "duration": 27,
    "start_time": "2024-07-01T14:23:05.581Z"
   },
   {
    "duration": 9,
    "start_time": "2024-07-01T14:23:07.693Z"
   },
   {
    "duration": 57,
    "start_time": "2024-07-01T14:23:13.008Z"
   },
   {
    "duration": 49,
    "start_time": "2024-07-01T14:24:31.885Z"
   },
   {
    "duration": 32,
    "start_time": "2024-07-01T14:24:52.222Z"
   },
   {
    "duration": 33,
    "start_time": "2024-07-01T14:26:10.880Z"
   },
   {
    "duration": 51,
    "start_time": "2024-07-01T14:27:10.355Z"
   },
   {
    "duration": 20,
    "start_time": "2024-07-01T14:28:32.464Z"
   },
   {
    "duration": 21,
    "start_time": "2024-07-01T14:29:26.605Z"
   },
   {
    "duration": 16,
    "start_time": "2024-07-01T14:29:33.158Z"
   },
   {
    "duration": 16,
    "start_time": "2024-07-01T14:30:11.354Z"
   },
   {
    "duration": 38,
    "start_time": "2024-07-01T14:31:30.668Z"
   },
   {
    "duration": 30,
    "start_time": "2024-07-01T14:31:58.872Z"
   },
   {
    "duration": 17,
    "start_time": "2024-07-01T14:32:02.862Z"
   },
   {
    "duration": 60,
    "start_time": "2024-07-01T14:32:06.597Z"
   },
   {
    "duration": 13,
    "start_time": "2024-07-01T14:34:05.975Z"
   },
   {
    "duration": 16,
    "start_time": "2024-07-01T14:35:10.369Z"
   },
   {
    "duration": 25,
    "start_time": "2024-07-01T14:35:34.780Z"
   },
   {
    "duration": 6,
    "start_time": "2024-07-01T14:36:13.241Z"
   },
   {
    "duration": 29,
    "start_time": "2024-07-01T14:36:50.106Z"
   },
   {
    "duration": 19,
    "start_time": "2024-07-01T14:38:04.691Z"
   },
   {
    "duration": 29,
    "start_time": "2024-07-01T14:39:17.493Z"
   },
   {
    "duration": 7,
    "start_time": "2024-07-01T14:45:19.064Z"
   },
   {
    "duration": 8,
    "start_time": "2024-07-01T14:45:20.335Z"
   },
   {
    "duration": 5,
    "start_time": "2024-07-01T14:45:21.318Z"
   },
   {
    "duration": 7,
    "start_time": "2024-07-01T14:45:33.895Z"
   },
   {
    "duration": 6,
    "start_time": "2024-07-01T14:45:35.935Z"
   },
   {
    "duration": 1374,
    "start_time": "2024-07-01T14:45:38.260Z"
   },
   {
    "duration": 1625,
    "start_time": "2024-07-01T14:45:41.244Z"
   },
   {
    "duration": 1185,
    "start_time": "2024-07-01T14:46:00.963Z"
   },
   {
    "duration": 21,
    "start_time": "2024-07-01T14:46:08.101Z"
   },
   {
    "duration": 17,
    "start_time": "2024-07-01T14:46:27.495Z"
   },
   {
    "duration": 16,
    "start_time": "2024-07-01T14:48:16.063Z"
   },
   {
    "duration": 1147,
    "start_time": "2024-07-01T14:49:06.467Z"
   },
   {
    "duration": 1167,
    "start_time": "2024-07-01T14:49:24.353Z"
   },
   {
    "duration": 1207,
    "start_time": "2024-07-01T14:49:43.613Z"
   },
   {
    "duration": 16,
    "start_time": "2024-07-01T14:51:52.776Z"
   },
   {
    "duration": 13,
    "start_time": "2024-07-01T14:54:36.117Z"
   },
   {
    "duration": 13,
    "start_time": "2024-07-01T14:57:25.912Z"
   },
   {
    "duration": 6,
    "start_time": "2024-07-01T14:58:52.979Z"
   },
   {
    "duration": 23,
    "start_time": "2024-07-01T14:59:02.797Z"
   },
   {
    "duration": 24,
    "start_time": "2024-07-01T14:59:24.845Z"
   },
   {
    "duration": 11,
    "start_time": "2024-07-01T15:00:03.505Z"
   },
   {
    "duration": 14,
    "start_time": "2024-07-01T15:01:21.530Z"
   },
   {
    "duration": 27,
    "start_time": "2024-07-01T15:01:57.085Z"
   },
   {
    "duration": 10,
    "start_time": "2024-07-01T15:02:07.160Z"
   },
   {
    "duration": 6,
    "start_time": "2024-07-01T15:02:20.683Z"
   },
   {
    "duration": 5,
    "start_time": "2024-07-01T15:02:33.987Z"
   },
   {
    "duration": 11,
    "start_time": "2024-07-01T15:02:38.998Z"
   },
   {
    "duration": 9,
    "start_time": "2024-07-01T15:02:53.373Z"
   },
   {
    "duration": 23,
    "start_time": "2024-07-01T15:04:35.612Z"
   },
   {
    "duration": 13,
    "start_time": "2024-07-01T15:04:52.930Z"
   },
   {
    "duration": 13,
    "start_time": "2024-07-01T15:04:58.519Z"
   },
   {
    "duration": 4339,
    "start_time": "2024-07-02T12:38:27.024Z"
   },
   {
    "duration": 1695,
    "start_time": "2024-07-02T12:38:34.259Z"
   },
   {
    "duration": 19,
    "start_time": "2024-07-02T12:38:39.587Z"
   },
   {
    "duration": 29,
    "start_time": "2024-07-02T12:38:41.084Z"
   },
   {
    "duration": 16,
    "start_time": "2024-07-02T12:38:44.721Z"
   },
   {
    "duration": 13,
    "start_time": "2024-07-02T12:38:46.346Z"
   },
   {
    "duration": 14,
    "start_time": "2024-07-02T12:38:47.634Z"
   },
   {
    "duration": 38,
    "start_time": "2024-07-02T12:38:48.834Z"
   },
   {
    "duration": 288,
    "start_time": "2024-07-02T12:38:49.862Z"
   },
   {
    "duration": 153,
    "start_time": "2024-07-02T12:38:57.545Z"
   },
   {
    "duration": 75,
    "start_time": "2024-07-02T12:39:00.797Z"
   },
   {
    "duration": 15,
    "start_time": "2024-07-02T12:39:16.774Z"
   },
   {
    "duration": 13,
    "start_time": "2024-07-02T12:39:47.293Z"
   },
   {
    "duration": 7,
    "start_time": "2024-07-02T12:41:10.292Z"
   },
   {
    "duration": 8,
    "start_time": "2024-07-02T12:41:12.134Z"
   },
   {
    "duration": 7,
    "start_time": "2024-07-02T12:41:13.548Z"
   },
   {
    "duration": 8,
    "start_time": "2024-07-02T12:41:16.563Z"
   },
   {
    "duration": 7,
    "start_time": "2024-07-02T12:41:20.486Z"
   },
   {
    "duration": 1352,
    "start_time": "2024-07-02T12:41:24.195Z"
   },
   {
    "duration": 1176,
    "start_time": "2024-07-02T12:41:27.702Z"
   },
   {
    "duration": 16,
    "start_time": "2024-07-02T12:41:34.665Z"
   },
   {
    "duration": 19,
    "start_time": "2024-07-02T12:43:28.104Z"
   },
   {
    "duration": 15,
    "start_time": "2024-07-02T12:44:22.029Z"
   },
   {
    "duration": 13,
    "start_time": "2024-07-02T12:45:19.241Z"
   },
   {
    "duration": 12,
    "start_time": "2024-07-02T12:46:57.053Z"
   },
   {
    "duration": 9,
    "start_time": "2024-07-02T12:51:29.339Z"
   },
   {
    "duration": 8,
    "start_time": "2024-07-02T12:57:34.123Z"
   },
   {
    "duration": 13,
    "start_time": "2024-07-02T12:58:02.563Z"
   },
   {
    "duration": 7,
    "start_time": "2024-07-02T13:00:29.229Z"
   },
   {
    "duration": 5,
    "start_time": "2024-07-02T13:00:34.133Z"
   },
   {
    "duration": 10,
    "start_time": "2024-07-02T13:00:44.832Z"
   },
   {
    "duration": 16,
    "start_time": "2024-07-02T13:01:01.244Z"
   },
   {
    "duration": 7,
    "start_time": "2024-07-02T13:07:34.269Z"
   },
   {
    "duration": 34,
    "start_time": "2024-07-02T13:07:46.933Z"
   },
   {
    "duration": 15,
    "start_time": "2024-07-02T13:07:49.209Z"
   },
   {
    "duration": 26,
    "start_time": "2024-07-02T13:07:53.437Z"
   },
   {
    "duration": 22,
    "start_time": "2024-07-02T13:07:59.439Z"
   },
   {
    "duration": 7,
    "start_time": "2024-07-02T13:08:09.959Z"
   },
   {
    "duration": 6,
    "start_time": "2024-07-02T13:08:12.142Z"
   },
   {
    "duration": 6,
    "start_time": "2024-07-02T13:08:16.909Z"
   },
   {
    "duration": 7,
    "start_time": "2024-07-02T13:08:21.978Z"
   },
   {
    "duration": 6,
    "start_time": "2024-07-02T13:08:23.989Z"
   },
   {
    "duration": 1353,
    "start_time": "2024-07-02T13:08:26.325Z"
   },
   {
    "duration": 1185,
    "start_time": "2024-07-02T13:08:31.998Z"
   },
   {
    "duration": 16,
    "start_time": "2024-07-02T13:08:40.101Z"
   },
   {
    "duration": 11,
    "start_time": "2024-07-02T13:08:47.987Z"
   },
   {
    "duration": 12,
    "start_time": "2024-07-02T13:09:02.808Z"
   },
   {
    "duration": 11,
    "start_time": "2024-07-02T13:09:06.139Z"
   },
   {
    "duration": 9,
    "start_time": "2024-07-02T13:09:18.040Z"
   },
   {
    "duration": 20,
    "start_time": "2024-07-02T13:12:03.438Z"
   },
   {
    "duration": 975,
    "start_time": "2024-07-02T13:12:31.862Z"
   },
   {
    "duration": 1633,
    "start_time": "2024-07-02T13:12:34.150Z"
   },
   {
    "duration": 22,
    "start_time": "2024-07-02T13:12:38.030Z"
   },
   {
    "duration": 56,
    "start_time": "2024-07-02T13:12:39.339Z"
   },
   {
    "duration": 22,
    "start_time": "2024-07-02T13:12:40.694Z"
   },
   {
    "duration": 17,
    "start_time": "2024-07-02T13:12:42.104Z"
   },
   {
    "duration": 20,
    "start_time": "2024-07-02T13:12:43.475Z"
   },
   {
    "duration": 42,
    "start_time": "2024-07-02T13:12:44.668Z"
   },
   {
    "duration": 358,
    "start_time": "2024-07-02T13:12:45.995Z"
   },
   {
    "duration": 198,
    "start_time": "2024-07-02T13:12:50.967Z"
   },
   {
    "duration": 101,
    "start_time": "2024-07-02T13:12:52.897Z"
   },
   {
    "duration": 18,
    "start_time": "2024-07-02T13:12:55.404Z"
   },
   {
    "duration": 13,
    "start_time": "2024-07-02T13:12:59.212Z"
   },
   {
    "duration": 216,
    "start_time": "2024-07-02T13:13:03.098Z"
   },
   {
    "duration": 229,
    "start_time": "2024-07-02T13:13:09.505Z"
   },
   {
    "duration": 50,
    "start_time": "2024-07-02T13:13:11.103Z"
   },
   {
    "duration": 31,
    "start_time": "2024-07-02T13:13:14.288Z"
   },
   {
    "duration": 9,
    "start_time": "2024-07-02T13:13:15.917Z"
   },
   {
    "duration": 35,
    "start_time": "2024-07-02T13:13:19.168Z"
   },
   {
    "duration": 17,
    "start_time": "2024-07-02T13:13:21.893Z"
   },
   {
    "duration": 41,
    "start_time": "2024-07-02T13:13:24.851Z"
   },
   {
    "duration": 17,
    "start_time": "2024-07-02T13:14:37.366Z"
   },
   {
    "duration": 30,
    "start_time": "2024-07-02T13:15:22.061Z"
   },
   {
    "duration": 7,
    "start_time": "2024-07-02T13:20:16.349Z"
   },
   {
    "duration": 10,
    "start_time": "2024-07-02T13:20:18.961Z"
   },
   {
    "duration": 7,
    "start_time": "2024-07-02T13:20:20.298Z"
   },
   {
    "duration": 9,
    "start_time": "2024-07-02T13:20:22.806Z"
   },
   {
    "duration": 8,
    "start_time": "2024-07-02T13:20:23.955Z"
   },
   {
    "duration": 1475,
    "start_time": "2024-07-02T13:20:27.549Z"
   },
   {
    "duration": 1283,
    "start_time": "2024-07-02T13:20:29.944Z"
   },
   {
    "duration": 17,
    "start_time": "2024-07-02T13:20:33.783Z"
   },
   {
    "duration": 19,
    "start_time": "2024-07-02T13:20:40.347Z"
   },
   {
    "duration": 23,
    "start_time": "2024-07-02T13:21:14.890Z"
   },
   {
    "duration": 18,
    "start_time": "2024-07-02T13:21:32.180Z"
   },
   {
    "duration": 18,
    "start_time": "2024-07-02T13:22:29.826Z"
   },
   {
    "duration": 9,
    "start_time": "2024-07-02T13:22:37.462Z"
   },
   {
    "duration": 7,
    "start_time": "2024-07-02T13:22:39.094Z"
   },
   {
    "duration": 6,
    "start_time": "2024-07-02T13:22:40.267Z"
   },
   {
    "duration": 17,
    "start_time": "2024-07-02T13:22:49.415Z"
   },
   {
    "duration": 14,
    "start_time": "2024-07-02T13:22:52.986Z"
   },
   {
    "duration": 13,
    "start_time": "2024-07-02T13:24:38.884Z"
   },
   {
    "duration": 14,
    "start_time": "2024-07-02T13:28:36.774Z"
   },
   {
    "duration": 444,
    "start_time": "2024-07-02T13:33:25.946Z"
   },
   {
    "duration": 23,
    "start_time": "2024-07-02T13:33:42.038Z"
   },
   {
    "duration": 29,
    "start_time": "2024-07-02T13:34:57.150Z"
   },
   {
    "duration": 42,
    "start_time": "2024-07-02T13:35:27.134Z"
   },
   {
    "duration": 3,
    "start_time": "2024-07-02T13:36:36.917Z"
   },
   {
    "duration": 34,
    "start_time": "2024-07-02T13:40:46.487Z"
   },
   {
    "duration": 28,
    "start_time": "2024-07-02T13:44:52.490Z"
   },
   {
    "duration": 57,
    "start_time": "2024-07-02T13:46:16.205Z"
   },
   {
    "duration": 47,
    "start_time": "2024-07-02T13:47:55.453Z"
   },
   {
    "duration": 13,
    "start_time": "2024-07-02T13:50:37.586Z"
   },
   {
    "duration": 11,
    "start_time": "2024-07-02T13:51:10.550Z"
   },
   {
    "duration": 10,
    "start_time": "2024-07-02T13:51:50.385Z"
   },
   {
    "duration": 14,
    "start_time": "2024-07-02T13:52:10.301Z"
   },
   {
    "duration": 11,
    "start_time": "2024-07-02T13:55:22.542Z"
   },
   {
    "duration": 48,
    "start_time": "2024-07-02T13:59:43.287Z"
   },
   {
    "duration": 41,
    "start_time": "2024-07-02T14:02:38.468Z"
   },
   {
    "duration": 13,
    "start_time": "2024-07-02T14:14:18.737Z"
   },
   {
    "duration": 722,
    "start_time": "2024-07-02T14:15:34.742Z"
   },
   {
    "duration": 79,
    "start_time": "2024-07-02T14:16:05.260Z"
   },
   {
    "duration": 8,
    "start_time": "2024-07-02T14:17:11.188Z"
   },
   {
    "duration": 8,
    "start_time": "2024-07-02T14:17:46.836Z"
   },
   {
    "duration": 7,
    "start_time": "2024-07-02T14:18:04.644Z"
   },
   {
    "duration": 5,
    "start_time": "2024-07-02T14:19:01.303Z"
   },
   {
    "duration": 5,
    "start_time": "2024-07-02T14:19:40.813Z"
   },
   {
    "duration": 6,
    "start_time": "2024-07-02T14:19:44.432Z"
   },
   {
    "duration": 7,
    "start_time": "2024-07-02T14:20:22.978Z"
   },
   {
    "duration": 9,
    "start_time": "2024-07-02T14:20:28.046Z"
   },
   {
    "duration": 12,
    "start_time": "2024-07-02T14:20:52.099Z"
   },
   {
    "duration": 8,
    "start_time": "2024-07-02T14:26:07.499Z"
   },
   {
    "duration": 6,
    "start_time": "2024-07-02T14:27:43.577Z"
   },
   {
    "duration": 8,
    "start_time": "2024-07-02T14:28:30.014Z"
   },
   {
    "duration": 7,
    "start_time": "2024-07-02T14:30:42.408Z"
   },
   {
    "duration": 7,
    "start_time": "2024-07-02T14:38:32.976Z"
   },
   {
    "duration": 7,
    "start_time": "2024-07-02T14:38:52.664Z"
   },
   {
    "duration": 8,
    "start_time": "2024-07-02T14:38:56.980Z"
   },
   {
    "duration": 15,
    "start_time": "2024-07-02T14:40:41.472Z"
   },
   {
    "duration": 13,
    "start_time": "2024-07-02T14:41:01.259Z"
   },
   {
    "duration": 23,
    "start_time": "2024-07-02T14:41:27.395Z"
   },
   {
    "duration": 13,
    "start_time": "2024-07-02T14:41:34.988Z"
   },
   {
    "duration": 29,
    "start_time": "2024-07-02T14:41:51.932Z"
   },
   {
    "duration": 11,
    "start_time": "2024-07-02T14:42:36.638Z"
   },
   {
    "duration": 9,
    "start_time": "2024-07-02T14:42:44.027Z"
   },
   {
    "duration": 32,
    "start_time": "2024-07-02T14:44:37.384Z"
   },
   {
    "duration": 25,
    "start_time": "2024-07-02T14:45:02.005Z"
   },
   {
    "duration": 42,
    "start_time": "2024-07-02T14:45:54.131Z"
   },
   {
    "duration": 29,
    "start_time": "2024-07-02T14:47:47.591Z"
   },
   {
    "duration": 37,
    "start_time": "2024-07-02T14:48:14.066Z"
   },
   {
    "duration": 34,
    "start_time": "2024-07-02T14:48:37.256Z"
   },
   {
    "duration": 27,
    "start_time": "2024-07-02T14:50:49.621Z"
   },
   {
    "duration": 94,
    "start_time": "2024-07-02T14:53:06.239Z"
   },
   {
    "duration": 28,
    "start_time": "2024-07-02T14:53:26.028Z"
   },
   {
    "duration": 10,
    "start_time": "2024-07-02T15:14:35.953Z"
   },
   {
    "duration": 4335,
    "start_time": "2024-07-03T12:17:54.407Z"
   },
   {
    "duration": 1676,
    "start_time": "2024-07-03T12:17:59.441Z"
   },
   {
    "duration": 17,
    "start_time": "2024-07-03T12:18:03.557Z"
   },
   {
    "duration": 30,
    "start_time": "2024-07-03T12:18:05.497Z"
   },
   {
    "duration": 16,
    "start_time": "2024-07-03T12:18:06.848Z"
   },
   {
    "duration": 15,
    "start_time": "2024-07-03T12:18:10.660Z"
   },
   {
    "duration": 12,
    "start_time": "2024-07-03T12:18:12.059Z"
   },
   {
    "duration": 14,
    "start_time": "2024-07-03T12:18:13.080Z"
   },
   {
    "duration": 39,
    "start_time": "2024-07-03T12:18:15.525Z"
   },
   {
    "duration": 315,
    "start_time": "2024-07-03T12:18:17.562Z"
   },
   {
    "duration": 173,
    "start_time": "2024-07-03T12:18:21.579Z"
   },
   {
    "duration": 81,
    "start_time": "2024-07-03T12:18:23.766Z"
   },
   {
    "duration": 15,
    "start_time": "2024-07-03T12:18:49.458Z"
   },
   {
    "duration": 11,
    "start_time": "2024-07-03T12:18:59.603Z"
   },
   {
    "duration": 214,
    "start_time": "2024-07-03T12:19:25.776Z"
   },
   {
    "duration": 186,
    "start_time": "2024-07-03T12:19:27.242Z"
   },
   {
    "duration": 47,
    "start_time": "2024-07-03T12:19:28.395Z"
   },
   {
    "duration": 30,
    "start_time": "2024-07-03T12:19:56.765Z"
   },
   {
    "duration": 7,
    "start_time": "2024-07-03T12:19:57.976Z"
   },
   {
    "duration": 38,
    "start_time": "2024-07-03T12:19:59.787Z"
   },
   {
    "duration": 22,
    "start_time": "2024-07-03T12:20:41.503Z"
   },
   {
    "duration": 7,
    "start_time": "2024-07-03T12:21:00.242Z"
   },
   {
    "duration": 6,
    "start_time": "2024-07-03T12:21:02.274Z"
   },
   {
    "duration": 8,
    "start_time": "2024-07-03T12:21:03.878Z"
   },
   {
    "duration": 8,
    "start_time": "2024-07-03T12:21:08.129Z"
   },
   {
    "duration": 7,
    "start_time": "2024-07-03T12:21:09.194Z"
   },
   {
    "duration": 1367,
    "start_time": "2024-07-03T12:21:18.688Z"
   },
   {
    "duration": 1295,
    "start_time": "2024-07-03T12:21:23.765Z"
   },
   {
    "duration": 24,
    "start_time": "2024-07-03T12:21:30.911Z"
   },
   {
    "duration": 16,
    "start_time": "2024-07-03T12:22:24.786Z"
   },
   {
    "duration": 15,
    "start_time": "2024-07-03T12:22:28.048Z"
   },
   {
    "duration": 10,
    "start_time": "2024-07-03T12:22:45.054Z"
   },
   {
    "duration": 10,
    "start_time": "2024-07-03T12:22:54.423Z"
   },
   {
    "duration": 13,
    "start_time": "2024-07-03T12:23:16.927Z"
   },
   {
    "duration": 14,
    "start_time": "2024-07-03T12:24:03.605Z"
   },
   {
    "duration": 10,
    "start_time": "2024-07-03T12:24:06.663Z"
   },
   {
    "duration": 29,
    "start_time": "2024-07-03T12:24:20.431Z"
   },
   {
    "duration": 54,
    "start_time": "2024-07-03T12:24:58.059Z"
   },
   {
    "duration": 13,
    "start_time": "2024-07-03T12:25:24.833Z"
   },
   {
    "duration": 8,
    "start_time": "2024-07-03T12:25:44.329Z"
   },
   {
    "duration": 35,
    "start_time": "2024-07-03T12:26:12.505Z"
   },
   {
    "duration": 29,
    "start_time": "2024-07-03T12:41:21.996Z"
   },
   {
    "duration": 415,
    "start_time": "2024-07-03T12:41:41.299Z"
   },
   {
    "duration": 10,
    "start_time": "2024-07-03T12:42:17.223Z"
   },
   {
    "duration": 29,
    "start_time": "2024-07-03T12:42:26.748Z"
   },
   {
    "duration": 3,
    "start_time": "2024-07-03T12:42:55.181Z"
   },
   {
    "duration": 43,
    "start_time": "2024-07-03T12:43:29.217Z"
   },
   {
    "duration": 32,
    "start_time": "2024-07-03T12:44:26.638Z"
   },
   {
    "duration": 37,
    "start_time": "2024-07-03T12:45:23.955Z"
   },
   {
    "duration": 23,
    "start_time": "2024-07-03T12:46:31.712Z"
   },
   {
    "duration": 18,
    "start_time": "2024-07-03T12:46:41.749Z"
   },
   {
    "duration": 224,
    "start_time": "2024-07-03T12:51:06.899Z"
   },
   {
    "duration": 17,
    "start_time": "2024-07-03T12:51:54.730Z"
   },
   {
    "duration": 217,
    "start_time": "2024-07-03T12:54:07.966Z"
   },
   {
    "duration": 16,
    "start_time": "2024-07-03T12:55:02.451Z"
   },
   {
    "duration": 203,
    "start_time": "2024-07-03T12:55:30.448Z"
   },
   {
    "duration": 15,
    "start_time": "2024-07-03T12:55:51.547Z"
   },
   {
    "duration": 15,
    "start_time": "2024-07-03T13:01:00.690Z"
   },
   {
    "duration": 24,
    "start_time": "2024-07-03T13:09:04.644Z"
   },
   {
    "duration": 20,
    "start_time": "2024-07-03T13:10:09.936Z"
   },
   {
    "duration": 25,
    "start_time": "2024-07-03T13:11:09.237Z"
   },
   {
    "duration": 21,
    "start_time": "2024-07-03T13:11:42.453Z"
   },
   {
    "duration": 21,
    "start_time": "2024-07-03T13:12:05.101Z"
   },
   {
    "duration": 41,
    "start_time": "2024-07-03T13:12:20.166Z"
   },
   {
    "duration": 21,
    "start_time": "2024-07-03T13:13:22.820Z"
   },
   {
    "duration": 8,
    "start_time": "2024-07-03T13:14:24.117Z"
   },
   {
    "duration": 9,
    "start_time": "2024-07-03T13:14:31.863Z"
   },
   {
    "duration": 8,
    "start_time": "2024-07-03T13:14:36.871Z"
   },
   {
    "duration": 10,
    "start_time": "2024-07-03T13:16:32.958Z"
   },
   {
    "duration": 10,
    "start_time": "2024-07-03T13:16:47.773Z"
   },
   {
    "duration": 11,
    "start_time": "2024-07-03T13:16:58.258Z"
   },
   {
    "duration": 9,
    "start_time": "2024-07-03T13:17:34.173Z"
   },
   {
    "duration": 10,
    "start_time": "2024-07-03T13:17:49.079Z"
   },
   {
    "duration": 16,
    "start_time": "2024-07-03T13:19:29.357Z"
   },
   {
    "duration": 14,
    "start_time": "2024-07-03T13:19:54.545Z"
   },
   {
    "duration": 309,
    "start_time": "2024-07-03T13:28:57.858Z"
   },
   {
    "duration": 659,
    "start_time": "2024-07-03T13:29:11.469Z"
   },
   {
    "duration": 1801,
    "start_time": "2024-07-03T13:29:14.043Z"
   },
   {
    "duration": 17,
    "start_time": "2024-07-03T13:29:20.174Z"
   },
   {
    "duration": 30,
    "start_time": "2024-07-03T13:29:23.160Z"
   },
   {
    "duration": 16,
    "start_time": "2024-07-03T13:29:25.154Z"
   },
   {
    "duration": 13,
    "start_time": "2024-07-03T13:29:26.872Z"
   },
   {
    "duration": 14,
    "start_time": "2024-07-03T13:29:28.009Z"
   },
   {
    "duration": 39,
    "start_time": "2024-07-03T13:29:29.175Z"
   },
   {
    "duration": 316,
    "start_time": "2024-07-03T13:29:30.188Z"
   },
   {
    "duration": 165,
    "start_time": "2024-07-03T13:29:35.265Z"
   },
   {
    "duration": 75,
    "start_time": "2024-07-03T13:29:36.446Z"
   },
   {
    "duration": 14,
    "start_time": "2024-07-03T13:29:38.912Z"
   },
   {
    "duration": 11,
    "start_time": "2024-07-03T13:29:41.120Z"
   },
   {
    "duration": 198,
    "start_time": "2024-07-03T13:29:42.834Z"
   },
   {
    "duration": 231,
    "start_time": "2024-07-03T13:29:44.440Z"
   },
   {
    "duration": 48,
    "start_time": "2024-07-03T13:29:45.711Z"
   },
   {
    "duration": 24,
    "start_time": "2024-07-03T13:29:48.297Z"
   },
   {
    "duration": 7,
    "start_time": "2024-07-03T13:29:49.941Z"
   },
   {
    "duration": 38,
    "start_time": "2024-07-03T13:29:52.450Z"
   },
   {
    "duration": 25,
    "start_time": "2024-07-03T13:29:53.993Z"
   },
   {
    "duration": 14,
    "start_time": "2024-07-03T13:29:55.527Z"
   },
   {
    "duration": 27,
    "start_time": "2024-07-03T13:29:56.738Z"
   },
   {
    "duration": 17,
    "start_time": "2024-07-03T13:29:58.093Z"
   },
   {
    "duration": 7,
    "start_time": "2024-07-03T13:30:01.163Z"
   },
   {
    "duration": 5,
    "start_time": "2024-07-03T13:30:03.742Z"
   },
   {
    "duration": 7,
    "start_time": "2024-07-03T13:30:05.204Z"
   },
   {
    "duration": 6,
    "start_time": "2024-07-03T13:30:07.609Z"
   },
   {
    "duration": 6,
    "start_time": "2024-07-03T13:30:08.701Z"
   },
   {
    "duration": 1352,
    "start_time": "2024-07-03T13:30:10.909Z"
   },
   {
    "duration": 1197,
    "start_time": "2024-07-03T13:30:13.693Z"
   },
   {
    "duration": 16,
    "start_time": "2024-07-03T13:30:16.082Z"
   },
   {
    "duration": 16,
    "start_time": "2024-07-03T13:30:19.844Z"
   },
   {
    "duration": 16,
    "start_time": "2024-07-03T13:30:22.497Z"
   },
   {
    "duration": 13,
    "start_time": "2024-07-03T13:30:25.388Z"
   },
   {
    "duration": 9,
    "start_time": "2024-07-03T13:30:28.121Z"
   },
   {
    "duration": 15,
    "start_time": "2024-07-03T13:30:30.036Z"
   },
   {
    "duration": 11,
    "start_time": "2024-07-03T13:30:40.013Z"
   },
   {
    "duration": 27,
    "start_time": "2024-07-03T13:30:48.554Z"
   },
   {
    "duration": 48,
    "start_time": "2024-07-03T13:31:06.242Z"
   },
   {
    "duration": 13,
    "start_time": "2024-07-03T13:31:07.722Z"
   },
   {
    "duration": 9,
    "start_time": "2024-07-03T13:31:10.268Z"
   },
   {
    "duration": 36,
    "start_time": "2024-07-03T13:31:12.390Z"
   },
   {
    "duration": 29,
    "start_time": "2024-07-03T13:31:17.080Z"
   },
   {
    "duration": 34,
    "start_time": "2024-07-03T13:31:18.755Z"
   },
   {
    "duration": 16,
    "start_time": "2024-07-03T13:31:28.145Z"
   },
   {
    "duration": 17,
    "start_time": "2024-07-03T13:32:14.950Z"
   },
   {
    "duration": 10,
    "start_time": "2024-07-03T13:32:27.373Z"
   },
   {
    "duration": 342,
    "start_time": "2024-07-03T13:36:46.576Z"
   },
   {
    "duration": 706,
    "start_time": "2024-07-03T13:37:05.275Z"
   },
   {
    "duration": 1716,
    "start_time": "2024-07-03T13:37:07.499Z"
   },
   {
    "duration": 23,
    "start_time": "2024-07-03T13:37:12.076Z"
   },
   {
    "duration": 530,
    "start_time": "2024-07-03T13:37:26.528Z"
   },
   {
    "duration": 27366,
    "start_time": "2024-07-03T13:42:57.738Z"
   },
   {
    "duration": 8,
    "start_time": "2024-07-03T13:46:09.008Z"
   },
   {
    "duration": 343,
    "start_time": "2024-07-03T13:51:11.207Z"
   },
   {
    "duration": 766,
    "start_time": "2024-07-03T13:51:25.867Z"
   },
   {
    "duration": 1791,
    "start_time": "2024-07-03T13:51:28.295Z"
   },
   {
    "duration": 19,
    "start_time": "2024-07-03T13:51:30.979Z"
   },
   {
    "duration": 33,
    "start_time": "2024-07-03T13:51:38.372Z"
   },
   {
    "duration": 20,
    "start_time": "2024-07-03T13:51:40.010Z"
   },
   {
    "duration": 369,
    "start_time": "2024-07-03T13:54:14.293Z"
   },
   {
    "duration": 901,
    "start_time": "2024-07-03T13:56:22.154Z"
   },
   {
    "duration": 1855,
    "start_time": "2024-07-03T13:56:24.494Z"
   },
   {
    "duration": 775,
    "start_time": "2024-07-03T13:59:40.346Z"
   },
   {
    "duration": 1998,
    "start_time": "2024-07-03T13:59:42.511Z"
   },
   {
    "duration": 775,
    "start_time": "2024-07-03T14:12:00.391Z"
   },
   {
    "duration": 1965,
    "start_time": "2024-07-03T14:12:03.223Z"
   },
   {
    "duration": 383,
    "start_time": "2024-07-03T14:17:01.456Z"
   },
   {
    "duration": 804,
    "start_time": "2024-07-03T14:17:10.279Z"
   },
   {
    "duration": 1964,
    "start_time": "2024-07-03T14:17:12.308Z"
   },
   {
    "duration": 2313,
    "start_time": "2024-07-03T14:17:23.123Z"
   },
   {
    "duration": 8,
    "start_time": "2024-07-03T14:17:52.800Z"
   },
   {
    "duration": 13,
    "start_time": "2024-07-03T14:18:16.883Z"
   },
   {
    "duration": 27,
    "start_time": "2024-07-03T14:18:28.452Z"
   },
   {
    "duration": 23,
    "start_time": "2024-07-03T14:18:47.206Z"
   },
   {
    "duration": 7,
    "start_time": "2024-07-03T14:25:38.707Z"
   },
   {
    "duration": 4369,
    "start_time": "2024-07-03T18:12:39.044Z"
   },
   {
    "duration": 1693,
    "start_time": "2024-07-03T18:12:44.498Z"
   },
   {
    "duration": 746,
    "start_time": "2024-07-03T18:17:26.708Z"
   },
   {
    "duration": 18,
    "start_time": "2024-07-03T18:18:13.254Z"
   },
   {
    "duration": 21,
    "start_time": "2024-07-03T18:24:38.748Z"
   },
   {
    "duration": 19,
    "start_time": "2024-07-03T18:27:08.690Z"
   },
   {
    "duration": 23,
    "start_time": "2024-07-03T18:33:57.563Z"
   },
   {
    "duration": 27,
    "start_time": "2024-07-03T18:34:45.364Z"
   },
   {
    "duration": 86,
    "start_time": "2024-07-03T18:35:18.875Z"
   },
   {
    "duration": 851,
    "start_time": "2024-07-03T18:36:05.616Z"
   },
   {
    "duration": 24,
    "start_time": "2024-07-03T18:37:45.127Z"
   },
   {
    "duration": 107,
    "start_time": "2024-07-03T18:38:26.990Z"
   },
   {
    "duration": 31,
    "start_time": "2024-07-03T18:39:43.462Z"
   },
   {
    "duration": 38,
    "start_time": "2024-07-03T18:41:42.109Z"
   },
   {
    "duration": 35,
    "start_time": "2024-07-03T18:42:10.155Z"
   },
   {
    "duration": 63,
    "start_time": "2024-07-03T18:42:53.872Z"
   },
   {
    "duration": 54,
    "start_time": "2024-07-03T18:43:20.924Z"
   },
   {
    "duration": 34,
    "start_time": "2024-07-03T18:43:31.936Z"
   },
   {
    "duration": 32,
    "start_time": "2024-07-03T18:46:58.430Z"
   },
   {
    "duration": 525,
    "start_time": "2024-07-03T18:49:47.840Z"
   },
   {
    "duration": 95,
    "start_time": "2024-07-03T18:51:31.689Z"
   },
   {
    "duration": 95,
    "start_time": "2024-07-03T18:51:55.164Z"
   },
   {
    "duration": 107,
    "start_time": "2024-07-03T18:57:03.703Z"
   },
   {
    "duration": 115,
    "start_time": "2024-07-03T18:58:28.314Z"
   },
   {
    "duration": 95,
    "start_time": "2024-07-03T18:58:42.206Z"
   },
   {
    "duration": 99,
    "start_time": "2024-07-03T18:59:07.989Z"
   },
   {
    "duration": 111,
    "start_time": "2024-07-03T19:00:28.869Z"
   },
   {
    "duration": 24,
    "start_time": "2024-07-03T19:00:57.585Z"
   },
   {
    "duration": 99,
    "start_time": "2024-07-03T19:01:12.890Z"
   },
   {
    "duration": 98,
    "start_time": "2024-07-03T19:02:06.115Z"
   },
   {
    "duration": 382,
    "start_time": "2024-07-03T19:02:18.911Z"
   },
   {
    "duration": 83,
    "start_time": "2024-07-03T19:02:25.623Z"
   },
   {
    "duration": 102,
    "start_time": "2024-07-03T19:04:40.710Z"
   },
   {
    "duration": 35,
    "start_time": "2024-07-03T19:08:41.768Z"
   },
   {
    "duration": 9,
    "start_time": "2024-07-03T19:11:42.356Z"
   },
   {
    "duration": 35,
    "start_time": "2024-07-03T19:11:47.752Z"
   },
   {
    "duration": 33,
    "start_time": "2024-07-03T19:11:53.492Z"
   },
   {
    "duration": 30,
    "start_time": "2024-07-03T19:12:58.818Z"
   },
   {
    "duration": 42,
    "start_time": "2024-07-03T19:13:47.747Z"
   },
   {
    "duration": 377,
    "start_time": "2024-07-03T19:14:35.002Z"
   },
   {
    "duration": 360,
    "start_time": "2024-07-03T19:14:45.200Z"
   },
   {
    "duration": 371,
    "start_time": "2024-07-03T19:14:52.817Z"
   },
   {
    "duration": 28,
    "start_time": "2024-07-03T19:22:03.468Z"
   },
   {
    "duration": 46,
    "start_time": "2024-07-03T19:24:08.313Z"
   },
   {
    "duration": 40,
    "start_time": "2024-07-03T19:24:42.012Z"
   },
   {
    "duration": 22,
    "start_time": "2024-07-03T19:25:11.329Z"
   },
   {
    "duration": 20,
    "start_time": "2024-07-03T19:25:51.146Z"
   },
   {
    "duration": 6,
    "start_time": "2024-07-03T19:26:55.210Z"
   },
   {
    "duration": 32,
    "start_time": "2024-07-03T19:26:59.711Z"
   },
   {
    "duration": 499,
    "start_time": "2024-07-03T19:28:20.587Z"
   },
   {
    "duration": 34,
    "start_time": "2024-07-03T19:28:49.503Z"
   },
   {
    "duration": 25,
    "start_time": "2024-07-03T19:29:15.403Z"
   },
   {
    "duration": 396,
    "start_time": "2024-07-03T19:29:25.056Z"
   },
   {
    "duration": 411,
    "start_time": "2024-07-03T19:30:22.094Z"
   },
   {
    "duration": 8,
    "start_time": "2024-07-03T19:33:17.253Z"
   },
   {
    "duration": 384,
    "start_time": "2024-07-03T19:33:21.989Z"
   },
   {
    "duration": 13,
    "start_time": "2024-07-03T19:35:30.263Z"
   },
   {
    "duration": 23,
    "start_time": "2024-07-03T19:35:40.506Z"
   },
   {
    "duration": 22,
    "start_time": "2024-07-03T19:35:58.248Z"
   },
   {
    "duration": 283,
    "start_time": "2024-07-03T19:36:41.305Z"
   },
   {
    "duration": 402,
    "start_time": "2024-07-03T19:36:50.991Z"
   },
   {
    "duration": 439,
    "start_time": "2024-07-03T19:36:55.961Z"
   },
   {
    "duration": 153,
    "start_time": "2024-07-03T19:37:02.316Z"
   },
   {
    "duration": 419,
    "start_time": "2024-07-03T19:37:33.379Z"
   },
   {
    "duration": 388,
    "start_time": "2024-07-03T19:51:28.101Z"
   },
   {
    "duration": 396,
    "start_time": "2024-07-03T19:52:18.603Z"
   },
   {
    "duration": 398,
    "start_time": "2024-07-03T19:52:39.328Z"
   },
   {
    "duration": 403,
    "start_time": "2024-07-03T19:53:01.494Z"
   },
   {
    "duration": 417,
    "start_time": "2024-07-03T19:56:19.863Z"
   },
   {
    "duration": 64,
    "start_time": "2024-07-03T20:00:57.314Z"
   },
   {
    "duration": 472,
    "start_time": "2024-07-03T20:04:59.740Z"
   },
   {
    "duration": 65,
    "start_time": "2024-07-03T20:10:04.505Z"
   },
   {
    "duration": 83,
    "start_time": "2024-07-03T20:15:36.759Z"
   },
   {
    "duration": 64,
    "start_time": "2024-07-03T20:16:32.560Z"
   },
   {
    "duration": 59,
    "start_time": "2024-07-03T20:21:32.433Z"
   },
   {
    "duration": 75,
    "start_time": "2024-07-03T20:21:49.288Z"
   },
   {
    "duration": 68,
    "start_time": "2024-07-03T20:22:01.055Z"
   },
   {
    "duration": 67,
    "start_time": "2024-07-03T20:22:04.816Z"
   },
   {
    "duration": 75,
    "start_time": "2024-07-03T20:22:35.863Z"
   },
   {
    "duration": 69,
    "start_time": "2024-07-03T20:22:49.349Z"
   },
   {
    "duration": 66,
    "start_time": "2024-07-03T20:28:35.311Z"
   },
   {
    "duration": 71,
    "start_time": "2024-07-03T20:28:44.196Z"
   },
   {
    "duration": 66,
    "start_time": "2024-07-03T20:34:14.310Z"
   },
   {
    "duration": 75,
    "start_time": "2024-07-03T20:34:29.708Z"
   },
   {
    "duration": 71,
    "start_time": "2024-07-03T20:34:50.546Z"
   },
   {
    "duration": 70,
    "start_time": "2024-07-03T20:35:04.549Z"
   },
   {
    "duration": 88,
    "start_time": "2024-07-03T20:35:59.721Z"
   },
   {
    "duration": 69,
    "start_time": "2024-07-03T20:36:10.573Z"
   },
   {
    "duration": 72,
    "start_time": "2024-07-03T20:36:43.744Z"
   },
   {
    "duration": 73,
    "start_time": "2024-07-03T20:38:23.656Z"
   },
   {
    "duration": 100,
    "start_time": "2024-07-03T20:38:45.282Z"
   },
   {
    "duration": 103,
    "start_time": "2024-07-03T20:40:02.401Z"
   },
   {
    "duration": 72,
    "start_time": "2024-07-03T20:40:20.879Z"
   },
   {
    "duration": 72,
    "start_time": "2024-07-03T20:40:45.529Z"
   },
   {
    "duration": 73,
    "start_time": "2024-07-03T20:41:07.148Z"
   },
   {
    "duration": 78,
    "start_time": "2024-07-03T20:42:11.940Z"
   },
   {
    "duration": 88,
    "start_time": "2024-07-03T20:42:20.386Z"
   },
   {
    "duration": 93,
    "start_time": "2024-07-03T20:42:44.090Z"
   },
   {
    "duration": 69,
    "start_time": "2024-07-03T20:43:17.138Z"
   },
   {
    "duration": 73,
    "start_time": "2024-07-03T20:43:44.301Z"
   },
   {
    "duration": 90,
    "start_time": "2024-07-03T20:44:11.411Z"
   },
   {
    "duration": 86,
    "start_time": "2024-07-03T20:44:20.428Z"
   },
   {
    "duration": 67,
    "start_time": "2024-07-03T20:45:21.529Z"
   },
   {
    "duration": 73,
    "start_time": "2024-07-03T20:46:02.957Z"
   },
   {
    "duration": 4317,
    "start_time": "2024-07-04T12:36:41.760Z"
   },
   {
    "duration": 1699,
    "start_time": "2024-07-04T12:36:53.947Z"
   },
   {
    "duration": 76,
    "start_time": "2024-07-04T12:42:45.028Z"
   },
   {
    "duration": 339,
    "start_time": "2024-07-04T12:45:53.228Z"
   },
   {
    "duration": 353,
    "start_time": "2024-07-04T12:48:22.138Z"
   },
   {
    "duration": 365,
    "start_time": "2024-07-04T12:48:57.113Z"
   },
   {
    "duration": 442,
    "start_time": "2024-07-04T12:49:37.734Z"
   },
   {
    "duration": 354,
    "start_time": "2024-07-04T12:49:49.353Z"
   },
   {
    "duration": 736,
    "start_time": "2024-07-04T12:50:24.214Z"
   },
   {
    "duration": 391,
    "start_time": "2024-07-04T12:54:49.695Z"
   },
   {
    "duration": 326,
    "start_time": "2024-07-04T12:56:27.543Z"
   },
   {
    "duration": 322,
    "start_time": "2024-07-04T12:57:00.854Z"
   },
   {
    "duration": 457,
    "start_time": "2024-07-04T12:57:18.533Z"
   },
   {
    "duration": 367,
    "start_time": "2024-07-04T12:57:31.223Z"
   },
   {
    "duration": 261,
    "start_time": "2024-07-04T12:57:42.410Z"
   },
   {
    "duration": 310,
    "start_time": "2024-07-04T12:58:07.521Z"
   },
   {
    "duration": 306,
    "start_time": "2024-07-04T12:58:41.545Z"
   },
   {
    "duration": 368,
    "start_time": "2024-07-04T12:59:08.106Z"
   },
   {
    "duration": 332,
    "start_time": "2024-07-04T13:00:22.798Z"
   },
   {
    "duration": 458,
    "start_time": "2024-07-04T13:03:33.960Z"
   },
   {
    "duration": 444,
    "start_time": "2024-07-04T13:04:21.237Z"
   },
   {
    "duration": 449,
    "start_time": "2024-07-04T13:04:40.201Z"
   },
   {
    "duration": 487,
    "start_time": "2024-07-04T13:08:06.559Z"
   },
   {
    "duration": 534,
    "start_time": "2024-07-04T13:08:20.494Z"
   },
   {
    "duration": 500,
    "start_time": "2024-07-04T13:10:25.827Z"
   },
   {
    "duration": 420,
    "start_time": "2024-07-04T13:10:35.094Z"
   },
   {
    "duration": 443,
    "start_time": "2024-07-04T13:10:40.885Z"
   },
   {
    "duration": 430,
    "start_time": "2024-07-04T13:11:51.424Z"
   },
   {
    "duration": 71,
    "start_time": "2024-07-04T13:23:09.968Z"
   },
   {
    "duration": 328,
    "start_time": "2024-07-04T13:23:16.833Z"
   },
   {
    "duration": 21,
    "start_time": "2024-07-04T13:23:53.643Z"
   },
   {
    "duration": 24,
    "start_time": "2024-07-04T13:24:04.428Z"
   },
   {
    "duration": 17,
    "start_time": "2024-07-04T13:24:33.215Z"
   },
   {
    "duration": 255,
    "start_time": "2024-07-04T13:25:40.727Z"
   },
   {
    "duration": 34,
    "start_time": "2024-07-04T13:25:53.240Z"
   },
   {
    "duration": 181,
    "start_time": "2024-07-04T13:26:16.345Z"
   },
   {
    "duration": 175,
    "start_time": "2024-07-04T13:26:21.651Z"
   },
   {
    "duration": 183,
    "start_time": "2024-07-04T13:26:37.533Z"
   },
   {
    "duration": 176,
    "start_time": "2024-07-04T13:27:46.968Z"
   },
   {
    "duration": 186,
    "start_time": "2024-07-04T13:32:39.499Z"
   },
   {
    "duration": 361,
    "start_time": "2024-07-04T13:33:14.064Z"
   },
   {
    "duration": 383,
    "start_time": "2024-07-04T13:33:56.977Z"
   },
   {
    "duration": 1559,
    "start_time": "2024-07-04T13:34:19.613Z"
   },
   {
    "duration": 368,
    "start_time": "2024-07-04T13:34:32.350Z"
   },
   {
    "duration": 184,
    "start_time": "2024-07-04T13:35:52.828Z"
   },
   {
    "duration": 178,
    "start_time": "2024-07-04T13:36:05.096Z"
   },
   {
    "duration": 271,
    "start_time": "2024-07-04T13:36:55.928Z"
   },
   {
    "duration": 240,
    "start_time": "2024-07-04T13:37:08.151Z"
   },
   {
    "duration": 190,
    "start_time": "2024-07-04T13:38:09.463Z"
   },
   {
    "duration": 184,
    "start_time": "2024-07-04T13:39:11.283Z"
   },
   {
    "duration": 382,
    "start_time": "2024-07-04T13:39:31.876Z"
   },
   {
    "duration": 197,
    "start_time": "2024-07-04T13:45:56.055Z"
   },
   {
    "duration": 9,
    "start_time": "2024-07-04T13:46:12.698Z"
   },
   {
    "duration": 200,
    "start_time": "2024-07-04T13:46:17.602Z"
   },
   {
    "duration": 258,
    "start_time": "2024-07-04T13:46:27.762Z"
   },
   {
    "duration": 1078,
    "start_time": "2024-07-04T13:47:13.111Z"
   },
   {
    "duration": 6,
    "start_time": "2024-07-04T13:47:32.004Z"
   },
   {
    "duration": 8,
    "start_time": "2024-07-04T13:47:54.041Z"
   },
   {
    "duration": 255,
    "start_time": "2024-07-04T13:48:51.293Z"
   },
   {
    "duration": 197,
    "start_time": "2024-07-04T13:49:13.574Z"
   },
   {
    "duration": 12,
    "start_time": "2024-07-04T13:49:36.881Z"
   },
   {
    "duration": 6,
    "start_time": "2024-07-04T13:50:35.524Z"
   },
   {
    "duration": 196,
    "start_time": "2024-07-04T13:50:42.237Z"
   },
   {
    "duration": 203,
    "start_time": "2024-07-04T13:50:49.451Z"
   },
   {
    "duration": 194,
    "start_time": "2024-07-04T13:51:49.376Z"
   },
   {
    "duration": 215,
    "start_time": "2024-07-04T13:53:14.499Z"
   },
   {
    "duration": 4,
    "start_time": "2024-07-04T13:53:39.132Z"
   },
   {
    "duration": 3,
    "start_time": "2024-07-04T13:53:53.018Z"
   },
   {
    "duration": 1477,
    "start_time": "2024-07-04T13:53:55.934Z"
   },
   {
    "duration": 691,
    "start_time": "2024-07-04T13:54:06.005Z"
   },
   {
    "duration": 1573,
    "start_time": "2024-07-04T13:54:07.914Z"
   },
   {
    "duration": 22,
    "start_time": "2024-07-04T13:54:12.494Z"
   },
   {
    "duration": 29,
    "start_time": "2024-07-04T13:54:15.128Z"
   },
   {
    "duration": 17,
    "start_time": "2024-07-04T13:54:17.731Z"
   },
   {
    "duration": 13,
    "start_time": "2024-07-04T13:54:19.378Z"
   },
   {
    "duration": 15,
    "start_time": "2024-07-04T13:54:22.015Z"
   },
   {
    "duration": 39,
    "start_time": "2024-07-04T13:54:24.024Z"
   },
   {
    "duration": 295,
    "start_time": "2024-07-04T13:54:26.870Z"
   },
   {
    "duration": 190,
    "start_time": "2024-07-04T13:54:31.938Z"
   },
   {
    "duration": 79,
    "start_time": "2024-07-04T13:54:34.096Z"
   },
   {
    "duration": 19,
    "start_time": "2024-07-04T13:54:36.700Z"
   },
   {
    "duration": 10,
    "start_time": "2024-07-04T13:54:38.891Z"
   },
   {
    "duration": 178,
    "start_time": "2024-07-04T13:54:40.866Z"
   },
   {
    "duration": 157,
    "start_time": "2024-07-04T13:54:42.062Z"
   },
   {
    "duration": 48,
    "start_time": "2024-07-04T13:54:43.522Z"
   },
   {
    "duration": 23,
    "start_time": "2024-07-04T13:54:46.370Z"
   },
   {
    "duration": 7,
    "start_time": "2024-07-04T13:54:48.054Z"
   },
   {
    "duration": 36,
    "start_time": "2024-07-04T13:54:49.480Z"
   },
   {
    "duration": 24,
    "start_time": "2024-07-04T13:54:51.687Z"
   },
   {
    "duration": 16,
    "start_time": "2024-07-04T13:54:53.496Z"
   },
   {
    "duration": 24,
    "start_time": "2024-07-04T13:54:54.952Z"
   },
   {
    "duration": 19,
    "start_time": "2024-07-04T13:54:56.661Z"
   },
   {
    "duration": 7,
    "start_time": "2024-07-04T13:54:59.696Z"
   },
   {
    "duration": 6,
    "start_time": "2024-07-04T13:55:02.766Z"
   },
   {
    "duration": 6,
    "start_time": "2024-07-04T13:55:05.133Z"
   },
   {
    "duration": 6,
    "start_time": "2024-07-04T13:55:07.790Z"
   },
   {
    "duration": 1387,
    "start_time": "2024-07-04T13:55:10.837Z"
   },
   {
    "duration": 1202,
    "start_time": "2024-07-04T13:55:13.390Z"
   },
   {
    "duration": 24,
    "start_time": "2024-07-04T13:55:16.005Z"
   },
   {
    "duration": 12,
    "start_time": "2024-07-04T13:55:19.557Z"
   },
   {
    "duration": 15,
    "start_time": "2024-07-04T13:55:23.814Z"
   },
   {
    "duration": 13,
    "start_time": "2024-07-04T13:55:29.636Z"
   },
   {
    "duration": 10,
    "start_time": "2024-07-04T13:55:31.975Z"
   },
   {
    "duration": 14,
    "start_time": "2024-07-04T13:55:34.714Z"
   },
   {
    "duration": 11,
    "start_time": "2024-07-04T13:55:38.935Z"
   },
   {
    "duration": 29,
    "start_time": "2024-07-04T13:55:42.235Z"
   },
   {
    "duration": 48,
    "start_time": "2024-07-04T13:55:44.871Z"
   },
   {
    "duration": 14,
    "start_time": "2024-07-04T13:55:47.416Z"
   },
   {
    "duration": 8,
    "start_time": "2024-07-04T13:55:54.656Z"
   },
   {
    "duration": 35,
    "start_time": "2024-07-04T13:55:59.438Z"
   },
   {
    "duration": 33,
    "start_time": "2024-07-04T13:56:12.661Z"
   },
   {
    "duration": 35,
    "start_time": "2024-07-04T13:56:15.018Z"
   },
   {
    "duration": 16,
    "start_time": "2024-07-04T13:56:18.198Z"
   },
   {
    "duration": 16,
    "start_time": "2024-07-04T13:56:21.620Z"
   },
   {
    "duration": 351,
    "start_time": "2024-07-04T13:59:11.265Z"
   },
   {
    "duration": 244,
    "start_time": "2024-07-04T13:59:45.607Z"
   },
   {
    "duration": 327,
    "start_time": "2024-07-04T14:00:04.075Z"
   },
   {
    "duration": 337,
    "start_time": "2024-07-04T14:01:41.209Z"
   },
   {
    "duration": 381,
    "start_time": "2024-07-04T14:12:10.958Z"
   },
   {
    "duration": 365,
    "start_time": "2024-07-04T14:12:34.754Z"
   },
   {
    "duration": 214,
    "start_time": "2024-07-04T14:13:42.338Z"
   },
   {
    "duration": 414,
    "start_time": "2024-07-04T14:14:09.791Z"
   },
   {
    "duration": 31,
    "start_time": "2024-07-04T14:14:26.959Z"
   },
   {
    "duration": 12,
    "start_time": "2024-07-04T14:14:57.026Z"
   },
   {
    "duration": 26,
    "start_time": "2024-07-04T14:14:59.418Z"
   },
   {
    "duration": 206,
    "start_time": "2024-07-04T14:15:45.504Z"
   },
   {
    "duration": 217,
    "start_time": "2024-07-04T14:20:47.163Z"
   },
   {
    "duration": 1322,
    "start_time": "2024-07-04T14:25:04.408Z"
   },
   {
    "duration": 231,
    "start_time": "2024-07-04T14:25:28.102Z"
   },
   {
    "duration": 301,
    "start_time": "2024-07-04T14:25:56.106Z"
   },
   {
    "duration": 247,
    "start_time": "2024-07-04T14:27:45.281Z"
   },
   {
    "duration": 234,
    "start_time": "2024-07-04T14:32:47.499Z"
   },
   {
    "duration": 1223,
    "start_time": "2024-07-04T14:33:13.963Z"
   },
   {
    "duration": 245,
    "start_time": "2024-07-04T14:33:42.438Z"
   },
   {
    "duration": 222,
    "start_time": "2024-07-04T14:34:50.697Z"
   },
   {
    "duration": 3001,
    "start_time": "2024-07-04T14:38:54.335Z"
   },
   {
    "duration": 9671,
    "start_time": "2024-07-04T14:40:23.811Z"
   },
   {
    "duration": 8786,
    "start_time": "2024-07-04T14:40:38.251Z"
   },
   {
    "duration": 321,
    "start_time": "2024-07-04T14:56:21.682Z"
   },
   {
    "duration": 771,
    "start_time": "2024-07-04T14:56:46.194Z"
   },
   {
    "duration": 1700,
    "start_time": "2024-07-04T14:56:48.059Z"
   },
   {
    "duration": 22,
    "start_time": "2024-07-04T14:56:55.412Z"
   },
   {
    "duration": 35,
    "start_time": "2024-07-04T14:56:56.458Z"
   },
   {
    "duration": 15,
    "start_time": "2024-07-04T14:56:57.477Z"
   },
   {
    "duration": 13,
    "start_time": "2024-07-04T14:56:58.498Z"
   },
   {
    "duration": 15,
    "start_time": "2024-07-04T14:56:59.518Z"
   },
   {
    "duration": 38,
    "start_time": "2024-07-04T14:57:00.384Z"
   },
   {
    "duration": 302,
    "start_time": "2024-07-04T14:57:01.345Z"
   },
   {
    "duration": 174,
    "start_time": "2024-07-04T14:57:05.210Z"
   },
   {
    "duration": 77,
    "start_time": "2024-07-04T14:57:06.058Z"
   },
   {
    "duration": 14,
    "start_time": "2024-07-04T14:57:08.917Z"
   },
   {
    "duration": 12,
    "start_time": "2024-07-04T14:57:10.584Z"
   },
   {
    "duration": 172,
    "start_time": "2024-07-04T14:57:12.360Z"
   },
   {
    "duration": 177,
    "start_time": "2024-07-04T14:57:13.166Z"
   },
   {
    "duration": 49,
    "start_time": "2024-07-04T14:57:14.227Z"
   },
   {
    "duration": 25,
    "start_time": "2024-07-04T14:57:16.860Z"
   },
   {
    "duration": 7,
    "start_time": "2024-07-04T14:57:17.654Z"
   },
   {
    "duration": 38,
    "start_time": "2024-07-04T14:57:18.463Z"
   },
   {
    "duration": 23,
    "start_time": "2024-07-04T14:57:19.854Z"
   },
   {
    "duration": 21,
    "start_time": "2024-07-04T14:57:20.959Z"
   },
   {
    "duration": 24,
    "start_time": "2024-07-04T14:57:21.871Z"
   },
   {
    "duration": 16,
    "start_time": "2024-07-04T14:57:23.074Z"
   },
   {
    "duration": 7,
    "start_time": "2024-07-04T14:57:29.433Z"
   },
   {
    "duration": 7,
    "start_time": "2024-07-04T14:57:30.431Z"
   },
   {
    "duration": 1381,
    "start_time": "2024-07-04T14:57:32.385Z"
   },
   {
    "duration": 1155,
    "start_time": "2024-07-04T14:57:34.578Z"
   },
   {
    "duration": 17,
    "start_time": "2024-07-04T14:57:38.803Z"
   },
   {
    "duration": 12,
    "start_time": "2024-07-04T14:57:42.477Z"
   },
   {
    "duration": 13,
    "start_time": "2024-07-04T14:57:45.036Z"
   },
   {
    "duration": 16,
    "start_time": "2024-07-04T14:57:46.923Z"
   },
   {
    "duration": 10,
    "start_time": "2024-07-04T14:57:49.348Z"
   },
   {
    "duration": 15,
    "start_time": "2024-07-04T14:57:51.353Z"
   },
   {
    "duration": 11,
    "start_time": "2024-07-04T14:57:55.062Z"
   },
   {
    "duration": 28,
    "start_time": "2024-07-04T14:58:00.127Z"
   },
   {
    "duration": 49,
    "start_time": "2024-07-04T14:58:03.159Z"
   },
   {
    "duration": 14,
    "start_time": "2024-07-04T14:58:05.714Z"
   },
   {
    "duration": 8,
    "start_time": "2024-07-04T14:58:16.682Z"
   },
   {
    "duration": 37,
    "start_time": "2024-07-04T14:58:20.210Z"
   },
   {
    "duration": 27,
    "start_time": "2024-07-04T14:58:25.685Z"
   },
   {
    "duration": 35,
    "start_time": "2024-07-04T14:58:27.478Z"
   },
   {
    "duration": 681,
    "start_time": "2024-07-04T14:59:01.917Z"
   },
   {
    "duration": 0,
    "start_time": "2024-07-04T14:59:39.185Z"
   },
   {
    "duration": 272,
    "start_time": "2024-07-04T15:00:21.077Z"
   },
   {
    "duration": 261,
    "start_time": "2024-07-04T15:01:01.385Z"
   },
   {
    "duration": 0,
    "start_time": "2024-07-04T15:03:26.888Z"
   },
   {
    "duration": 1242,
    "start_time": "2024-07-04T15:03:54.482Z"
   },
   {
    "duration": 299,
    "start_time": "2024-07-04T15:05:14.203Z"
   },
   {
    "duration": 400,
    "start_time": "2024-07-04T15:05:59.596Z"
   },
   {
    "duration": 398,
    "start_time": "2024-07-04T15:06:25.093Z"
   },
   {
    "duration": 434,
    "start_time": "2024-07-04T15:06:34.513Z"
   },
   {
    "duration": 422,
    "start_time": "2024-07-04T15:06:50.759Z"
   },
   {
    "duration": 8,
    "start_time": "2024-07-04T15:07:49.059Z"
   },
   {
    "duration": 447,
    "start_time": "2024-07-04T15:07:58.541Z"
   },
   {
    "duration": 400,
    "start_time": "2024-07-04T15:08:39.190Z"
   },
   {
    "duration": 48,
    "start_time": "2024-07-04T15:10:51.878Z"
   },
   {
    "duration": 409,
    "start_time": "2024-07-04T15:11:21.757Z"
   },
   {
    "duration": 22,
    "start_time": "2024-07-04T15:11:54.590Z"
   },
   {
    "duration": 13,
    "start_time": "2024-07-04T15:12:00.385Z"
   },
   {
    "duration": 21,
    "start_time": "2024-07-04T15:12:02.835Z"
   },
   {
    "duration": 190,
    "start_time": "2024-07-04T15:14:29.723Z"
   },
   {
    "duration": 11,
    "start_time": "2024-07-04T15:15:09.531Z"
   },
   {
    "duration": 12,
    "start_time": "2024-07-04T15:15:14.942Z"
   },
   {
    "duration": 180,
    "start_time": "2024-07-04T15:15:37.851Z"
   },
   {
    "duration": 181,
    "start_time": "2024-07-04T15:15:55.425Z"
   },
   {
    "duration": 184,
    "start_time": "2024-07-04T15:16:43.981Z"
   },
   {
    "duration": 198,
    "start_time": "2024-07-04T15:17:10.278Z"
   },
   {
    "duration": 193,
    "start_time": "2024-07-04T15:17:17.381Z"
   },
   {
    "duration": 184,
    "start_time": "2024-07-04T15:17:20.757Z"
   },
   {
    "duration": 217,
    "start_time": "2024-07-04T15:17:51.958Z"
   },
   {
    "duration": 735,
    "start_time": "2024-07-04T15:20:41.528Z"
   },
   {
    "duration": 758,
    "start_time": "2024-07-04T15:21:32.312Z"
   },
   {
    "duration": 740,
    "start_time": "2024-07-04T15:21:43.009Z"
   },
   {
    "duration": 754,
    "start_time": "2024-07-04T15:23:34.401Z"
   },
   {
    "duration": 750,
    "start_time": "2024-07-04T15:24:09.142Z"
   },
   {
    "duration": 191,
    "start_time": "2024-07-04T15:25:04.634Z"
   },
   {
    "duration": 524,
    "start_time": "2024-07-04T15:25:39.474Z"
   },
   {
    "duration": 176,
    "start_time": "2024-07-04T15:27:35.596Z"
   },
   {
    "duration": 4,
    "start_time": "2024-07-04T15:28:23.881Z"
   },
   {
    "duration": 184,
    "start_time": "2024-07-04T15:28:55.626Z"
   },
   {
    "duration": 180,
    "start_time": "2024-07-04T15:29:21.876Z"
   },
   {
    "duration": 461,
    "start_time": "2024-07-04T15:30:37.790Z"
   },
   {
    "duration": 197,
    "start_time": "2024-07-04T15:31:09.122Z"
   },
   {
    "duration": 170,
    "start_time": "2024-07-04T15:31:28.835Z"
   },
   {
    "duration": 210,
    "start_time": "2024-07-04T15:31:46.768Z"
   },
   {
    "duration": 8,
    "start_time": "2024-07-04T15:37:37.145Z"
   },
   {
    "duration": 178,
    "start_time": "2024-07-04T15:37:49.872Z"
   },
   {
    "duration": 180,
    "start_time": "2024-07-04T15:38:37.698Z"
   },
   {
    "duration": 207,
    "start_time": "2024-07-04T15:38:57.170Z"
   },
   {
    "duration": 184,
    "start_time": "2024-07-04T15:40:12.322Z"
   },
   {
    "duration": 388,
    "start_time": "2024-07-04T15:41:41.469Z"
   },
   {
    "duration": 905,
    "start_time": "2024-07-04T15:43:29.949Z"
   },
   {
    "duration": 941,
    "start_time": "2024-07-04T15:43:35.389Z"
   },
   {
    "duration": 4684,
    "start_time": "2024-07-04T15:43:57.845Z"
   },
   {
    "duration": 1265,
    "start_time": "2024-07-04T15:44:31.433Z"
   },
   {
    "duration": 1301,
    "start_time": "2024-07-04T15:47:51.017Z"
   },
   {
    "duration": 722,
    "start_time": "2024-07-04T15:49:26.001Z"
   },
   {
    "duration": 1736,
    "start_time": "2024-07-04T15:49:27.806Z"
   },
   {
    "duration": 18,
    "start_time": "2024-07-04T15:49:32.209Z"
   },
   {
    "duration": 36,
    "start_time": "2024-07-04T15:49:33.710Z"
   },
   {
    "duration": 16,
    "start_time": "2024-07-04T15:49:35.039Z"
   },
   {
    "duration": 14,
    "start_time": "2024-07-04T15:49:36.132Z"
   },
   {
    "duration": 13,
    "start_time": "2024-07-04T15:49:37.301Z"
   },
   {
    "duration": 39,
    "start_time": "2024-07-04T15:49:41.951Z"
   },
   {
    "duration": 317,
    "start_time": "2024-07-04T15:49:43.033Z"
   },
   {
    "duration": 173,
    "start_time": "2024-07-04T15:49:47.097Z"
   },
   {
    "duration": 76,
    "start_time": "2024-07-04T15:49:48.386Z"
   },
   {
    "duration": 14,
    "start_time": "2024-07-04T15:49:51.192Z"
   },
   {
    "duration": 18,
    "start_time": "2024-07-04T15:49:53.005Z"
   },
   {
    "duration": 173,
    "start_time": "2024-07-04T15:49:54.710Z"
   },
   {
    "duration": 162,
    "start_time": "2024-07-04T15:49:55.683Z"
   },
   {
    "duration": 46,
    "start_time": "2024-07-04T15:49:56.675Z"
   },
   {
    "duration": 25,
    "start_time": "2024-07-04T15:49:58.673Z"
   },
   {
    "duration": 6,
    "start_time": "2024-07-04T15:49:59.752Z"
   },
   {
    "duration": 35,
    "start_time": "2024-07-04T15:50:00.872Z"
   },
   {
    "duration": 74,
    "start_time": "2024-07-04T15:50:02.342Z"
   },
   {
    "duration": 14,
    "start_time": "2024-07-04T15:50:04.289Z"
   },
   {
    "duration": 23,
    "start_time": "2024-07-04T15:50:06.380Z"
   },
   {
    "duration": 18,
    "start_time": "2024-07-04T15:50:08.033Z"
   },
   {
    "duration": 8,
    "start_time": "2024-07-04T15:50:10.381Z"
   },
   {
    "duration": 6,
    "start_time": "2024-07-04T15:50:11.610Z"
   },
   {
    "duration": 6,
    "start_time": "2024-07-04T15:50:13.403Z"
   },
   {
    "duration": 7,
    "start_time": "2024-07-04T15:50:16.267Z"
   },
   {
    "duration": 6,
    "start_time": "2024-07-04T15:50:17.770Z"
   },
   {
    "duration": 1343,
    "start_time": "2024-07-04T15:50:20.387Z"
   },
   {
    "duration": 1159,
    "start_time": "2024-07-04T15:50:21.734Z"
   },
   {
    "duration": 24,
    "start_time": "2024-07-04T15:50:22.897Z"
   },
   {
    "duration": 13,
    "start_time": "2024-07-04T15:50:28.791Z"
   },
   {
    "duration": 13,
    "start_time": "2024-07-04T15:50:31.584Z"
   },
   {
    "duration": 14,
    "start_time": "2024-07-04T15:50:33.728Z"
   },
   {
    "duration": 10,
    "start_time": "2024-07-04T15:50:36.169Z"
   },
   {
    "duration": 14,
    "start_time": "2024-07-04T15:50:37.800Z"
   },
   {
    "duration": 11,
    "start_time": "2024-07-04T15:50:39.979Z"
   },
   {
    "duration": 29,
    "start_time": "2024-07-04T15:50:43.053Z"
   },
   {
    "duration": 49,
    "start_time": "2024-07-04T15:50:45.232Z"
   },
   {
    "duration": 14,
    "start_time": "2024-07-04T15:50:46.717Z"
   },
   {
    "duration": 8,
    "start_time": "2024-07-04T15:50:48.137Z"
   },
   {
    "duration": 39,
    "start_time": "2024-07-04T15:50:50.224Z"
   },
   {
    "duration": 26,
    "start_time": "2024-07-04T15:50:54.975Z"
   },
   {
    "duration": 39,
    "start_time": "2024-07-04T15:50:56.549Z"
   },
   {
    "duration": 372,
    "start_time": "2024-07-04T15:50:59.734Z"
   },
   {
    "duration": 226,
    "start_time": "2024-07-04T15:51:03.554Z"
   },
   {
    "duration": 439,
    "start_time": "2024-07-04T15:51:08.242Z"
   },
   {
    "duration": 14,
    "start_time": "2024-07-04T15:51:14.215Z"
   },
   {
    "duration": 20,
    "start_time": "2024-07-04T15:51:16.127Z"
   },
   {
    "duration": 430,
    "start_time": "2024-07-04T15:51:18.042Z"
   },
   {
    "duration": 74,
    "start_time": "2024-07-04T15:51:24.064Z"
   },
   {
    "duration": 327,
    "start_time": "2024-07-04T15:51:26.189Z"
   },
   {
    "duration": 1402,
    "start_time": "2024-07-04T15:51:30.650Z"
   },
   {
    "duration": 1380,
    "start_time": "2024-07-04T15:51:59.247Z"
   },
   {
    "duration": 1773,
    "start_time": "2024-07-04T15:52:38.752Z"
   },
   {
    "duration": 2213,
    "start_time": "2024-07-04T15:55:43.178Z"
   },
   {
    "duration": 1777,
    "start_time": "2024-07-04T15:55:56.009Z"
   },
   {
    "duration": 1761,
    "start_time": "2024-07-04T15:56:48.879Z"
   },
   {
    "duration": 1756,
    "start_time": "2024-07-04T16:00:19.733Z"
   },
   {
    "duration": 1758,
    "start_time": "2024-07-04T16:00:27.861Z"
   },
   {
    "duration": 251,
    "start_time": "2024-07-04T16:01:49.606Z"
   },
   {
    "duration": 241,
    "start_time": "2024-07-04T16:02:28.767Z"
   },
   {
    "duration": 238,
    "start_time": "2024-07-04T16:03:18.479Z"
   },
   {
    "duration": 236,
    "start_time": "2024-07-04T16:04:07.959Z"
   },
   {
    "duration": 309,
    "start_time": "2024-07-04T16:04:29.828Z"
   },
   {
    "duration": 1756,
    "start_time": "2024-07-04T16:06:42.221Z"
   },
   {
    "duration": 1405,
    "start_time": "2024-07-04T16:06:57.617Z"
   },
   {
    "duration": 1432,
    "start_time": "2024-07-04T16:07:31.062Z"
   },
   {
    "duration": 1744,
    "start_time": "2024-07-04T16:08:10.084Z"
   },
   {
    "duration": 1719,
    "start_time": "2024-07-04T16:08:37.525Z"
   },
   {
    "duration": 1698,
    "start_time": "2024-07-04T16:08:59.603Z"
   },
   {
    "duration": 1719,
    "start_time": "2024-07-04T16:09:24.555Z"
   },
   {
    "duration": 2016,
    "start_time": "2024-07-04T16:09:57.830Z"
   },
   {
    "duration": 1728,
    "start_time": "2024-07-04T16:10:09.228Z"
   },
   {
    "duration": 989,
    "start_time": "2024-07-04T16:10:35.074Z"
   },
   {
    "duration": 348,
    "start_time": "2024-07-04T16:10:53.511Z"
   },
   {
    "duration": 7,
    "start_time": "2024-07-04T16:12:33.136Z"
   },
   {
    "duration": 322,
    "start_time": "2024-07-04T16:12:40.394Z"
   },
   {
    "duration": 4295,
    "start_time": "2024-07-04T17:50:13.637Z"
   },
   {
    "duration": 1671,
    "start_time": "2024-07-04T17:50:21.408Z"
   },
   {
    "duration": 20,
    "start_time": "2024-07-04T17:50:25.952Z"
   },
   {
    "duration": 35,
    "start_time": "2024-07-04T17:50:27.813Z"
   },
   {
    "duration": 20,
    "start_time": "2024-07-04T17:50:30.174Z"
   },
   {
    "duration": 17,
    "start_time": "2024-07-04T17:50:31.574Z"
   },
   {
    "duration": 17,
    "start_time": "2024-07-04T17:50:32.829Z"
   },
   {
    "duration": 45,
    "start_time": "2024-07-04T17:50:34.458Z"
   },
   {
    "duration": 313,
    "start_time": "2024-07-04T17:50:35.976Z"
   },
   {
    "duration": 173,
    "start_time": "2024-07-04T17:50:39.992Z"
   },
   {
    "duration": 83,
    "start_time": "2024-07-04T17:50:41.171Z"
   },
   {
    "duration": 14,
    "start_time": "2024-07-04T17:50:44.145Z"
   },
   {
    "duration": 13,
    "start_time": "2024-07-04T17:50:46.901Z"
   },
   {
    "duration": 179,
    "start_time": "2024-07-04T17:50:48.714Z"
   },
   {
    "duration": 166,
    "start_time": "2024-07-04T17:50:50.081Z"
   },
   {
    "duration": 47,
    "start_time": "2024-07-04T17:50:51.442Z"
   },
   {
    "duration": 22,
    "start_time": "2024-07-04T17:50:54.712Z"
   },
   {
    "duration": 8,
    "start_time": "2024-07-04T17:50:56.027Z"
   },
   {
    "duration": 42,
    "start_time": "2024-07-04T17:50:57.018Z"
   },
   {
    "duration": 23,
    "start_time": "2024-07-04T17:50:57.833Z"
   },
   {
    "duration": 14,
    "start_time": "2024-07-04T17:50:59.351Z"
   },
   {
    "duration": 23,
    "start_time": "2024-07-04T17:51:20.587Z"
   },
   {
    "duration": 16,
    "start_time": "2024-07-04T17:51:23.254Z"
   },
   {
    "duration": 8,
    "start_time": "2024-07-04T17:51:40.868Z"
   },
   {
    "duration": 6,
    "start_time": "2024-07-04T17:51:42.430Z"
   },
   {
    "duration": 6,
    "start_time": "2024-07-04T17:51:43.605Z"
   },
   {
    "duration": 10,
    "start_time": "2024-07-04T17:51:46.169Z"
   },
   {
    "duration": 7,
    "start_time": "2024-07-04T17:51:47.509Z"
   },
   {
    "duration": 1327,
    "start_time": "2024-07-04T17:51:50.143Z"
   },
   {
    "duration": 1158,
    "start_time": "2024-07-04T17:51:52.840Z"
   },
   {
    "duration": 23,
    "start_time": "2024-07-04T17:51:55.942Z"
   },
   {
    "duration": 13,
    "start_time": "2024-07-04T17:52:00.557Z"
   },
   {
    "duration": 15,
    "start_time": "2024-07-04T17:52:02.582Z"
   },
   {
    "duration": 12,
    "start_time": "2024-07-04T17:52:05.728Z"
   },
   {
    "duration": 9,
    "start_time": "2024-07-04T17:52:07.939Z"
   },
   {
    "duration": 13,
    "start_time": "2024-07-04T17:52:09.890Z"
   },
   {
    "duration": 11,
    "start_time": "2024-07-04T17:52:13.070Z"
   },
   {
    "duration": 3,
    "start_time": "2024-07-04T17:52:14.849Z"
   },
   {
    "duration": 32,
    "start_time": "2024-07-04T17:52:18.122Z"
   },
   {
    "duration": 49,
    "start_time": "2024-07-04T17:52:19.526Z"
   },
   {
    "duration": 14,
    "start_time": "2024-07-04T17:52:21.028Z"
   },
   {
    "duration": 8,
    "start_time": "2024-07-04T17:52:22.713Z"
   },
   {
    "duration": 36,
    "start_time": "2024-07-04T17:52:25.510Z"
   },
   {
    "duration": 30,
    "start_time": "2024-07-04T17:52:31.851Z"
   },
   {
    "duration": 44,
    "start_time": "2024-07-04T17:52:35.574Z"
   },
   {
    "duration": 360,
    "start_time": "2024-07-04T17:52:40.158Z"
   },
   {
    "duration": 219,
    "start_time": "2024-07-04T17:52:44.236Z"
   },
   {
    "duration": 433,
    "start_time": "2024-07-04T17:52:53.044Z"
   },
   {
    "duration": 17,
    "start_time": "2024-07-04T17:52:57.872Z"
   },
   {
    "duration": 22,
    "start_time": "2024-07-04T17:52:59.836Z"
   },
   {
    "duration": 474,
    "start_time": "2024-07-04T17:53:01.791Z"
   },
   {
    "duration": 74,
    "start_time": "2024-07-04T17:53:05.565Z"
   },
   {
    "duration": 322,
    "start_time": "2024-07-04T17:53:07.185Z"
   },
   {
    "duration": 968,
    "start_time": "2024-07-04T17:53:11.523Z"
   },
   {
    "duration": 379,
    "start_time": "2024-07-04T17:53:14.612Z"
   },
   {
    "duration": 6,
    "start_time": "2024-07-04T17:53:33.478Z"
   },
   {
    "duration": 3700,
    "start_time": "2024-07-04T17:53:52.232Z"
   },
   {
    "duration": 16,
    "start_time": "2024-07-04T17:53:59.698Z"
   },
   {
    "duration": 399,
    "start_time": "2024-07-04T17:55:16.131Z"
   },
   {
    "duration": 392,
    "start_time": "2024-07-04T17:55:19.073Z"
   },
   {
    "duration": 8,
    "start_time": "2024-07-04T17:55:21.061Z"
   },
   {
    "duration": 834,
    "start_time": "2024-07-04T17:56:18.792Z"
   },
   {
    "duration": 9,
    "start_time": "2024-07-04T17:56:21.724Z"
   },
   {
    "duration": 593,
    "start_time": "2024-07-04T18:07:11.587Z"
   },
   {
    "duration": 458,
    "start_time": "2024-07-04T18:07:40.270Z"
   },
   {
    "duration": 3,
    "start_time": "2024-07-04T18:08:33.317Z"
   },
   {
    "duration": 34,
    "start_time": "2024-07-04T18:09:02.464Z"
   },
   {
    "duration": 8,
    "start_time": "2024-07-04T18:12:34.134Z"
   },
   {
    "duration": 340,
    "start_time": "2024-07-04T18:13:56.573Z"
   },
   {
    "duration": 760,
    "start_time": "2024-07-04T18:14:39.275Z"
   },
   {
    "duration": 1524,
    "start_time": "2024-07-04T18:14:40.038Z"
   },
   {
    "duration": 34,
    "start_time": "2024-07-04T18:14:41.569Z"
   },
   {
    "duration": 37,
    "start_time": "2024-07-04T18:14:41.608Z"
   },
   {
    "duration": 19,
    "start_time": "2024-07-04T18:14:41.648Z"
   },
   {
    "duration": 44,
    "start_time": "2024-07-04T18:14:41.670Z"
   },
   {
    "duration": 14,
    "start_time": "2024-07-04T18:14:41.717Z"
   },
   {
    "duration": 69,
    "start_time": "2024-07-04T18:14:41.733Z"
   },
   {
    "duration": 318,
    "start_time": "2024-07-04T18:14:41.805Z"
   },
   {
    "duration": 171,
    "start_time": "2024-07-04T18:14:42.130Z"
   },
   {
    "duration": 74,
    "start_time": "2024-07-04T18:14:42.304Z"
   },
   {
    "duration": 32,
    "start_time": "2024-07-04T18:14:42.381Z"
   },
   {
    "duration": 11,
    "start_time": "2024-07-04T18:14:42.417Z"
   },
   {
    "duration": 208,
    "start_time": "2024-07-04T18:14:42.431Z"
   },
   {
    "duration": 177,
    "start_time": "2024-07-04T18:14:42.642Z"
   },
   {
    "duration": 46,
    "start_time": "2024-07-04T18:14:42.822Z"
   },
   {
    "duration": 49,
    "start_time": "2024-07-04T18:14:42.872Z"
   },
   {
    "duration": 9,
    "start_time": "2024-07-04T18:14:42.925Z"
   },
   {
    "duration": 68,
    "start_time": "2024-07-04T18:14:42.937Z"
   },
   {
    "duration": 25,
    "start_time": "2024-07-04T18:14:43.008Z"
   },
   {
    "duration": 15,
    "start_time": "2024-07-04T18:14:43.036Z"
   },
   {
    "duration": 61,
    "start_time": "2024-07-04T18:14:43.053Z"
   },
   {
    "duration": 18,
    "start_time": "2024-07-04T18:14:43.117Z"
   },
   {
    "duration": 7,
    "start_time": "2024-07-04T18:14:43.138Z"
   },
   {
    "duration": 7,
    "start_time": "2024-07-04T18:14:43.148Z"
   },
   {
    "duration": 46,
    "start_time": "2024-07-04T18:14:43.159Z"
   },
   {
    "duration": 8,
    "start_time": "2024-07-04T18:14:43.209Z"
   },
   {
    "duration": 7,
    "start_time": "2024-07-04T18:14:43.225Z"
   },
   {
    "duration": 1338,
    "start_time": "2024-07-04T18:14:43.234Z"
   },
   {
    "duration": 1148,
    "start_time": "2024-07-04T18:14:44.575Z"
   },
   {
    "duration": 17,
    "start_time": "2024-07-04T18:14:45.726Z"
   },
   {
    "duration": 13,
    "start_time": "2024-07-04T18:14:45.746Z"
   },
   {
    "duration": 46,
    "start_time": "2024-07-04T18:14:45.762Z"
   },
   {
    "duration": 14,
    "start_time": "2024-07-04T18:14:45.811Z"
   },
   {
    "duration": 10,
    "start_time": "2024-07-04T18:14:45.828Z"
   },
   {
    "duration": 13,
    "start_time": "2024-07-04T18:14:45.842Z"
   },
   {
    "duration": 56,
    "start_time": "2024-07-04T18:14:45.858Z"
   },
   {
    "duration": 4,
    "start_time": "2024-07-04T18:14:45.917Z"
   },
   {
    "duration": 37,
    "start_time": "2024-07-04T18:14:45.924Z"
   },
   {
    "duration": 77,
    "start_time": "2024-07-04T18:14:45.966Z"
   },
   {
    "duration": 14,
    "start_time": "2024-07-04T18:14:46.046Z"
   },
   {
    "duration": 39,
    "start_time": "2024-07-04T18:14:46.063Z"
   },
   {
    "duration": 37,
    "start_time": "2024-07-04T18:14:46.106Z"
   },
   {
    "duration": 66,
    "start_time": "2024-07-04T18:14:46.146Z"
   },
   {
    "duration": 40,
    "start_time": "2024-07-04T18:14:46.216Z"
   },
   {
    "duration": 397,
    "start_time": "2024-07-04T18:14:46.262Z"
   },
   {
    "duration": 233,
    "start_time": "2024-07-04T18:14:46.663Z"
   },
   {
    "duration": 421,
    "start_time": "2024-07-04T18:14:46.903Z"
   },
   {
    "duration": 12,
    "start_time": "2024-07-04T18:14:47.327Z"
   },
   {
    "duration": 20,
    "start_time": "2024-07-04T18:14:47.342Z"
   },
   {
    "duration": 463,
    "start_time": "2024-07-04T18:14:47.365Z"
   },
   {
    "duration": 85,
    "start_time": "2024-07-04T18:14:47.831Z"
   },
   {
    "duration": 417,
    "start_time": "2024-07-04T18:14:47.919Z"
   },
   {
    "duration": 1037,
    "start_time": "2024-07-04T18:14:48.339Z"
   },
   {
    "duration": 859,
    "start_time": "2024-07-04T18:14:49.378Z"
   },
   {
    "duration": 10,
    "start_time": "2024-07-04T18:14:50.240Z"
   },
   {
    "duration": 5,
    "start_time": "2024-07-04T18:14:50.253Z"
   },
   {
    "duration": 490,
    "start_time": "2024-07-04T18:21:39.788Z"
   },
   {
    "duration": 521,
    "start_time": "2024-07-04T18:21:51.242Z"
   },
   {
    "duration": 499,
    "start_time": "2024-07-04T18:22:30.366Z"
   },
   {
    "duration": 248,
    "start_time": "2024-07-04T18:23:22.089Z"
   },
   {
    "duration": 266,
    "start_time": "2024-07-04T18:25:00.829Z"
   },
   {
    "duration": 261,
    "start_time": "2024-07-04T18:26:10.499Z"
   },
   {
    "duration": 248,
    "start_time": "2024-07-04T18:29:20.753Z"
   },
   {
    "duration": 273,
    "start_time": "2024-07-04T18:29:31.388Z"
   },
   {
    "duration": 294,
    "start_time": "2024-07-04T18:29:52.148Z"
   },
   {
    "duration": 295,
    "start_time": "2024-07-04T18:30:10.218Z"
   },
   {
    "duration": 380,
    "start_time": "2024-07-04T18:31:13.701Z"
   },
   {
    "duration": 365,
    "start_time": "2024-07-04T18:31:30.270Z"
   },
   {
    "duration": 693,
    "start_time": "2024-07-04T18:32:04.471Z"
   },
   {
    "duration": 1499,
    "start_time": "2024-07-04T18:32:41.578Z"
   },
   {
    "duration": 362,
    "start_time": "2024-07-04T18:34:48.766Z"
   },
   {
    "duration": 337,
    "start_time": "2024-07-04T18:36:35.391Z"
   },
   {
    "duration": 356,
    "start_time": "2024-07-04T18:37:29.795Z"
   },
   {
    "duration": 414,
    "start_time": "2024-07-04T18:38:30.510Z"
   },
   {
    "duration": 668,
    "start_time": "2024-07-04T18:41:23.201Z"
   },
   {
    "duration": 325,
    "start_time": "2024-07-04T18:47:48.124Z"
   },
   {
    "duration": 585,
    "start_time": "2024-07-04T18:48:30.354Z"
   },
   {
    "duration": 235,
    "start_time": "2024-07-04T18:48:36.966Z"
   },
   {
    "duration": 177,
    "start_time": "2024-07-04T18:50:24.023Z"
   },
   {
    "duration": 495,
    "start_time": "2024-07-04T18:51:10.385Z"
   },
   {
    "duration": 706,
    "start_time": "2024-07-04T18:51:41.586Z"
   },
   {
    "duration": 478,
    "start_time": "2024-07-04T18:52:14.089Z"
   },
   {
    "duration": 342,
    "start_time": "2024-07-04T18:52:55.266Z"
   },
   {
    "duration": 1286,
    "start_time": "2024-07-04T18:53:48.756Z"
   },
   {
    "duration": 1511,
    "start_time": "2024-07-04T18:53:50.046Z"
   },
   {
    "duration": 18,
    "start_time": "2024-07-04T18:53:51.560Z"
   },
   {
    "duration": 49,
    "start_time": "2024-07-04T18:53:51.583Z"
   },
   {
    "duration": 17,
    "start_time": "2024-07-04T18:53:51.635Z"
   },
   {
    "duration": 46,
    "start_time": "2024-07-04T18:53:51.655Z"
   },
   {
    "duration": 13,
    "start_time": "2024-07-04T18:53:51.705Z"
   },
   {
    "duration": 42,
    "start_time": "2024-07-04T18:53:51.721Z"
   },
   {
    "duration": 325,
    "start_time": "2024-07-04T18:53:51.766Z"
   },
   {
    "duration": 185,
    "start_time": "2024-07-04T18:53:52.101Z"
   },
   {
    "duration": 82,
    "start_time": "2024-07-04T18:53:52.289Z"
   },
   {
    "duration": 39,
    "start_time": "2024-07-04T18:53:52.374Z"
   },
   {
    "duration": 13,
    "start_time": "2024-07-04T18:53:52.416Z"
   },
   {
    "duration": 213,
    "start_time": "2024-07-04T18:53:52.432Z"
   },
   {
    "duration": 163,
    "start_time": "2024-07-04T18:53:52.648Z"
   },
   {
    "duration": 48,
    "start_time": "2024-07-04T18:53:52.814Z"
   },
   {
    "duration": 48,
    "start_time": "2024-07-04T18:53:52.865Z"
   },
   {
    "duration": 7,
    "start_time": "2024-07-04T18:53:52.916Z"
   },
   {
    "duration": 35,
    "start_time": "2024-07-04T18:53:52.926Z"
   },
   {
    "duration": 57,
    "start_time": "2024-07-04T18:53:52.964Z"
   },
   {
    "duration": 15,
    "start_time": "2024-07-04T18:53:53.024Z"
   },
   {
    "duration": 23,
    "start_time": "2024-07-04T18:53:53.042Z"
   },
   {
    "duration": 19,
    "start_time": "2024-07-04T18:53:53.101Z"
   },
   {
    "duration": 6,
    "start_time": "2024-07-04T18:53:53.123Z"
   },
   {
    "duration": 6,
    "start_time": "2024-07-04T18:53:53.133Z"
   },
   {
    "duration": 6,
    "start_time": "2024-07-04T18:53:53.143Z"
   },
   {
    "duration": 52,
    "start_time": "2024-07-04T18:53:53.152Z"
   },
   {
    "duration": 6,
    "start_time": "2024-07-04T18:53:53.212Z"
   },
   {
    "duration": 1359,
    "start_time": "2024-07-04T18:53:53.221Z"
   },
   {
    "duration": 1165,
    "start_time": "2024-07-04T18:53:54.583Z"
   },
   {
    "duration": 19,
    "start_time": "2024-07-04T18:53:55.754Z"
   },
   {
    "duration": 31,
    "start_time": "2024-07-04T18:53:55.776Z"
   },
   {
    "duration": 17,
    "start_time": "2024-07-04T18:53:55.810Z"
   },
   {
    "duration": 17,
    "start_time": "2024-07-04T18:53:55.830Z"
   },
   {
    "duration": 53,
    "start_time": "2024-07-04T18:53:55.853Z"
   },
   {
    "duration": 14,
    "start_time": "2024-07-04T18:53:55.910Z"
   },
   {
    "duration": 14,
    "start_time": "2024-07-04T18:53:55.928Z"
   },
   {
    "duration": 4,
    "start_time": "2024-07-04T18:53:55.945Z"
   },
   {
    "duration": 72,
    "start_time": "2024-07-04T18:53:55.954Z"
   },
   {
    "duration": 50,
    "start_time": "2024-07-04T18:53:56.028Z"
   },
   {
    "duration": 16,
    "start_time": "2024-07-04T18:53:56.101Z"
   },
   {
    "duration": 10,
    "start_time": "2024-07-04T18:53:56.120Z"
   },
   {
    "duration": 70,
    "start_time": "2024-07-04T18:53:56.133Z"
   },
   {
    "duration": 35,
    "start_time": "2024-07-04T18:53:56.207Z"
   },
   {
    "duration": 60,
    "start_time": "2024-07-04T18:53:56.246Z"
   },
   {
    "duration": 397,
    "start_time": "2024-07-04T18:53:56.309Z"
   },
   {
    "duration": 304,
    "start_time": "2024-07-04T18:53:56.713Z"
   },
   {
    "duration": 359,
    "start_time": "2024-07-04T18:53:57.021Z"
   },
   {
    "duration": 20,
    "start_time": "2024-07-04T18:53:57.383Z"
   },
   {
    "duration": 22,
    "start_time": "2024-07-04T18:53:57.406Z"
   },
   {
    "duration": 436,
    "start_time": "2024-07-04T18:53:57.431Z"
   },
   {
    "duration": 87,
    "start_time": "2024-07-04T18:53:57.870Z"
   },
   {
    "duration": 401,
    "start_time": "2024-07-04T18:53:57.960Z"
   },
   {
    "duration": 983,
    "start_time": "2024-07-04T18:53:58.366Z"
   },
   {
    "duration": 834,
    "start_time": "2024-07-04T18:53:59.352Z"
   },
   {
    "duration": 14,
    "start_time": "2024-07-04T18:54:00.189Z"
   },
   {
    "duration": 541,
    "start_time": "2024-07-04T18:54:00.205Z"
   },
   {
    "duration": 314,
    "start_time": "2024-07-04T18:54:00.749Z"
   },
   {
    "duration": 204,
    "start_time": "2024-07-04T18:54:31.880Z"
   },
   {
    "duration": 162,
    "start_time": "2024-07-04T18:55:09.872Z"
   },
   {
    "duration": 469,
    "start_time": "2024-07-04T18:59:15.674Z"
   },
   {
    "duration": 296,
    "start_time": "2024-07-04T19:07:02.404Z"
   },
   {
    "duration": 260,
    "start_time": "2024-07-04T19:08:14.349Z"
   },
   {
    "duration": 147,
    "start_time": "2024-07-04T19:08:24.772Z"
   },
   {
    "duration": 150,
    "start_time": "2024-07-04T19:08:39.296Z"
   },
   {
    "duration": 300,
    "start_time": "2024-07-04T19:14:01.105Z"
   },
   {
    "duration": 272,
    "start_time": "2024-07-04T19:14:14.396Z"
   },
   {
    "duration": 330,
    "start_time": "2024-07-04T19:14:26.962Z"
   },
   {
    "duration": 312,
    "start_time": "2024-07-04T19:15:03.502Z"
   },
   {
    "duration": 242,
    "start_time": "2024-07-04T19:15:23.831Z"
   },
   {
    "duration": 285,
    "start_time": "2024-07-04T19:15:44.272Z"
   },
   {
    "duration": 223,
    "start_time": "2024-07-04T19:16:17.142Z"
   },
   {
    "duration": 260,
    "start_time": "2024-07-04T19:16:35.347Z"
   },
   {
    "duration": 1195,
    "start_time": "2024-07-04T19:19:39.887Z"
   },
   {
    "duration": 334,
    "start_time": "2024-07-04T19:20:11.660Z"
   },
   {
    "duration": 335,
    "start_time": "2024-07-04T19:20:43.973Z"
   },
   {
    "duration": 312,
    "start_time": "2024-07-04T19:21:24.225Z"
   },
   {
    "duration": 353,
    "start_time": "2024-07-04T19:21:41.657Z"
   },
   {
    "duration": 349,
    "start_time": "2024-07-04T19:22:06.681Z"
   },
   {
    "duration": 254,
    "start_time": "2024-07-04T19:25:56.722Z"
   },
   {
    "duration": 237,
    "start_time": "2024-07-04T19:26:45.592Z"
   },
   {
    "duration": 265,
    "start_time": "2024-07-04T19:27:12.185Z"
   },
   {
    "duration": 234,
    "start_time": "2024-07-04T19:27:41.098Z"
   },
   {
    "duration": 308,
    "start_time": "2024-07-04T19:28:26.884Z"
   },
   {
    "duration": 638,
    "start_time": "2024-07-04T19:29:24.396Z"
   },
   {
    "duration": 530,
    "start_time": "2024-07-04T19:30:06.480Z"
   },
   {
    "duration": 423,
    "start_time": "2024-07-04T19:30:45.978Z"
   },
   {
    "duration": 700,
    "start_time": "2024-07-04T19:39:08.992Z"
   },
   {
    "duration": 766,
    "start_time": "2024-07-04T19:39:49.348Z"
   },
   {
    "duration": 800,
    "start_time": "2024-07-04T19:40:10.949Z"
   },
   {
    "duration": 1601,
    "start_time": "2024-07-04T19:40:32.384Z"
   },
   {
    "duration": 575,
    "start_time": "2024-07-04T19:40:43.091Z"
   },
   {
    "duration": 665,
    "start_time": "2024-07-04T19:42:39.469Z"
   },
   {
    "duration": 1180,
    "start_time": "2024-07-04T19:42:57.873Z"
   },
   {
    "duration": 516,
    "start_time": "2024-07-04T19:44:54.896Z"
   },
   {
    "duration": 552,
    "start_time": "2024-07-04T19:46:17.226Z"
   },
   {
    "duration": 657,
    "start_time": "2024-07-04T19:47:01.837Z"
   },
   {
    "duration": 1019,
    "start_time": "2024-07-04T19:47:15.958Z"
   },
   {
    "duration": 1008,
    "start_time": "2024-07-04T19:48:09.966Z"
   },
   {
    "duration": 1012,
    "start_time": "2024-07-04T19:48:49.467Z"
   },
   {
    "duration": 1022,
    "start_time": "2024-07-04T19:49:05.523Z"
   },
   {
    "duration": 105,
    "start_time": "2024-07-04T19:50:50.907Z"
   },
   {
    "duration": 867,
    "start_time": "2024-07-04T19:51:19.975Z"
   },
   {
    "duration": 109,
    "start_time": "2024-07-04T19:51:33.297Z"
   },
   {
    "duration": 7,
    "start_time": "2024-07-04T19:51:41.246Z"
   },
   {
    "duration": 104,
    "start_time": "2024-07-04T19:51:43.491Z"
   },
   {
    "duration": 384,
    "start_time": "2024-07-04T19:51:45.357Z"
   },
   {
    "duration": 469,
    "start_time": "2024-07-04T19:51:47.371Z"
   },
   {
    "duration": 126,
    "start_time": "2024-07-04T19:58:06.284Z"
   },
   {
    "duration": 105,
    "start_time": "2024-07-04T19:59:25.333Z"
   },
   {
    "duration": 271,
    "start_time": "2024-07-04T19:59:41.545Z"
   },
   {
    "duration": 385,
    "start_time": "2024-07-04T19:59:51.812Z"
   },
   {
    "duration": 41,
    "start_time": "2024-07-04T19:59:54.628Z"
   },
   {
    "duration": 6,
    "start_time": "2024-07-04T20:02:36.488Z"
   },
   {
    "duration": 580,
    "start_time": "2024-07-04T20:02:43.574Z"
   },
   {
    "duration": 5,
    "start_time": "2024-07-04T20:03:36.500Z"
   },
   {
    "duration": 6,
    "start_time": "2024-07-04T20:03:49.202Z"
   },
   {
    "duration": 627,
    "start_time": "2024-07-04T20:04:18.123Z"
   },
   {
    "duration": 612,
    "start_time": "2024-07-04T20:05:28.427Z"
   },
   {
    "duration": 58,
    "start_time": "2024-07-04T20:06:20.402Z"
   },
   {
    "duration": 471,
    "start_time": "2024-07-04T20:08:31.254Z"
   },
   {
    "duration": 268,
    "start_time": "2024-07-04T20:20:39.551Z"
   },
   {
    "duration": 213,
    "start_time": "2024-07-04T20:20:41.875Z"
   },
   {
    "duration": 209,
    "start_time": "2024-07-04T20:20:54.369Z"
   },
   {
    "duration": 158,
    "start_time": "2024-07-04T20:20:59.545Z"
   },
   {
    "duration": 156,
    "start_time": "2024-07-04T20:21:50.447Z"
   },
   {
    "duration": 127,
    "start_time": "2024-07-04T20:23:21.276Z"
   },
   {
    "duration": 149,
    "start_time": "2024-07-04T20:25:17.548Z"
   },
   {
    "duration": 216,
    "start_time": "2024-07-04T20:26:18.922Z"
   },
   {
    "duration": 343,
    "start_time": "2024-07-04T20:28:08.900Z"
   },
   {
    "duration": 328,
    "start_time": "2024-07-04T20:28:47.563Z"
   },
   {
    "duration": 404,
    "start_time": "2024-07-04T20:29:26.363Z"
   },
   {
    "duration": 473,
    "start_time": "2024-07-04T20:37:48.336Z"
   },
   {
    "duration": 499,
    "start_time": "2024-07-04T20:38:36.183Z"
   },
   {
    "duration": 138,
    "start_time": "2024-07-04T20:39:23.674Z"
   },
   {
    "duration": 126,
    "start_time": "2024-07-04T20:39:48.011Z"
   },
   {
    "duration": 6,
    "start_time": "2024-07-04T20:41:09.986Z"
   },
   {
    "duration": 665,
    "start_time": "2024-07-04T20:41:23.625Z"
   },
   {
    "duration": 6,
    "start_time": "2024-07-04T20:42:18.258Z"
   },
   {
    "duration": 6,
    "start_time": "2024-07-04T20:42:23.148Z"
   },
   {
    "duration": 409,
    "start_time": "2024-07-04T20:42:30.531Z"
   },
   {
    "duration": 467,
    "start_time": "2024-07-04T20:42:37.571Z"
   },
   {
    "duration": 6,
    "start_time": "2024-07-04T20:43:03.200Z"
   },
   {
    "duration": 480,
    "start_time": "2024-07-04T20:43:07.136Z"
   },
   {
    "duration": 674,
    "start_time": "2024-07-04T20:48:05.892Z"
   },
   {
    "duration": 135,
    "start_time": "2024-07-04T20:49:20.156Z"
   },
   {
    "duration": 499,
    "start_time": "2024-07-04T20:54:11.773Z"
   },
   {
    "duration": 487,
    "start_time": "2024-07-04T21:00:05.366Z"
   },
   {
    "duration": 139,
    "start_time": "2024-07-04T21:17:19.053Z"
   },
   {
    "duration": 382,
    "start_time": "2024-07-04T21:19:09.346Z"
   },
   {
    "duration": 7,
    "start_time": "2024-07-04T21:19:36.027Z"
   },
   {
    "duration": 23832,
    "start_time": "2024-07-04T21:19:39.779Z"
   },
   {
    "duration": 332,
    "start_time": "2024-07-04T21:20:13.024Z"
   },
   {
    "duration": 23,
    "start_time": "2024-07-04T21:20:32.062Z"
   },
   {
    "duration": 21,
    "start_time": "2024-07-04T21:20:39.370Z"
   },
   {
    "duration": 21,
    "start_time": "2024-07-04T21:20:42.822Z"
   },
   {
    "duration": 1316,
    "start_time": "2024-07-04T21:21:00.120Z"
   },
   {
    "duration": 1669,
    "start_time": "2024-07-04T21:21:01.440Z"
   },
   {
    "duration": 19,
    "start_time": "2024-07-04T21:21:03.112Z"
   },
   {
    "duration": 31,
    "start_time": "2024-07-04T21:21:03.135Z"
   },
   {
    "duration": 44,
    "start_time": "2024-07-04T21:21:03.171Z"
   },
   {
    "duration": 14,
    "start_time": "2024-07-04T21:21:03.218Z"
   },
   {
    "duration": 14,
    "start_time": "2024-07-04T21:21:03.235Z"
   },
   {
    "duration": 80,
    "start_time": "2024-07-04T21:21:03.252Z"
   },
   {
    "duration": 311,
    "start_time": "2024-07-04T21:21:03.335Z"
   },
   {
    "duration": 199,
    "start_time": "2024-07-04T21:21:03.649Z"
   },
   {
    "duration": 98,
    "start_time": "2024-07-04T21:21:03.851Z"
   },
   {
    "duration": 13,
    "start_time": "2024-07-04T21:21:03.952Z"
   },
   {
    "duration": 34,
    "start_time": "2024-07-04T21:21:03.969Z"
   },
   {
    "duration": 191,
    "start_time": "2024-07-04T21:21:04.010Z"
   },
   {
    "duration": 169,
    "start_time": "2024-07-04T21:21:04.204Z"
   },
   {
    "duration": 59,
    "start_time": "2024-07-04T21:21:04.376Z"
   },
   {
    "duration": 23,
    "start_time": "2024-07-04T21:21:04.438Z"
   },
   {
    "duration": 7,
    "start_time": "2024-07-04T21:21:04.463Z"
   },
   {
    "duration": 58,
    "start_time": "2024-07-04T21:21:04.473Z"
   },
   {
    "duration": 24,
    "start_time": "2024-07-04T21:21:04.534Z"
   },
   {
    "duration": 44,
    "start_time": "2024-07-04T21:21:04.561Z"
   },
   {
    "duration": 23,
    "start_time": "2024-07-04T21:21:04.609Z"
   },
   {
    "duration": 17,
    "start_time": "2024-07-04T21:21:04.635Z"
   },
   {
    "duration": 46,
    "start_time": "2024-07-04T21:21:04.655Z"
   },
   {
    "duration": 11,
    "start_time": "2024-07-04T21:21:04.704Z"
   },
   {
    "duration": 6,
    "start_time": "2024-07-04T21:21:04.718Z"
   },
   {
    "duration": 8,
    "start_time": "2024-07-04T21:21:04.727Z"
   },
   {
    "duration": 6,
    "start_time": "2024-07-04T21:21:04.738Z"
   },
   {
    "duration": 1382,
    "start_time": "2024-07-04T21:21:04.747Z"
   },
   {
    "duration": 1185,
    "start_time": "2024-07-04T21:21:06.132Z"
   },
   {
    "duration": 17,
    "start_time": "2024-07-04T21:21:07.320Z"
   },
   {
    "duration": 13,
    "start_time": "2024-07-04T21:21:07.340Z"
   },
   {
    "duration": 49,
    "start_time": "2024-07-04T21:21:07.356Z"
   },
   {
    "duration": 14,
    "start_time": "2024-07-04T21:21:07.408Z"
   },
   {
    "duration": 9,
    "start_time": "2024-07-04T21:21:07.425Z"
   },
   {
    "duration": 15,
    "start_time": "2024-07-04T21:21:07.437Z"
   },
   {
    "duration": 57,
    "start_time": "2024-07-04T21:21:07.454Z"
   },
   {
    "duration": 6,
    "start_time": "2024-07-04T21:21:07.514Z"
   },
   {
    "duration": 28,
    "start_time": "2024-07-04T21:21:07.523Z"
   },
   {
    "duration": 85,
    "start_time": "2024-07-04T21:21:07.554Z"
   },
   {
    "duration": 13,
    "start_time": "2024-07-04T21:21:07.648Z"
   },
   {
    "duration": 8,
    "start_time": "2024-07-04T21:21:07.664Z"
   },
   {
    "duration": 62,
    "start_time": "2024-07-04T21:21:07.675Z"
   },
   {
    "duration": 33,
    "start_time": "2024-07-04T21:21:07.740Z"
   },
   {
    "duration": 38,
    "start_time": "2024-07-04T21:21:07.803Z"
   },
   {
    "duration": 389,
    "start_time": "2024-07-04T21:21:07.844Z"
   },
   {
    "duration": 312,
    "start_time": "2024-07-04T21:21:08.235Z"
   },
   {
    "duration": 153,
    "start_time": "2024-07-04T21:21:08.550Z"
   },
   {
    "duration": 12,
    "start_time": "2024-07-04T21:21:08.707Z"
   },
   {
    "duration": 21,
    "start_time": "2024-07-04T21:21:08.722Z"
   },
   {
    "duration": 442,
    "start_time": "2024-07-04T21:21:08.745Z"
   },
   {
    "duration": 90,
    "start_time": "2024-07-04T21:21:09.190Z"
   },
   {
    "duration": 366,
    "start_time": "2024-07-04T21:21:09.283Z"
   },
   {
    "duration": 992,
    "start_time": "2024-07-04T21:21:09.652Z"
   },
   {
    "duration": 854,
    "start_time": "2024-07-04T21:21:10.647Z"
   },
   {
    "duration": 6,
    "start_time": "2024-07-04T21:21:11.504Z"
   },
   {
    "duration": 534,
    "start_time": "2024-07-04T21:21:11.514Z"
   },
   {
    "duration": 420,
    "start_time": "2024-07-04T21:21:12.051Z"
   },
   {
    "duration": 6,
    "start_time": "2024-07-04T21:21:12.475Z"
   },
   {
    "duration": 184,
    "start_time": "2024-07-04T21:21:12.500Z"
   },
   {
    "duration": 517,
    "start_time": "2024-07-04T21:21:12.687Z"
   },
   {
    "duration": 549,
    "start_time": "2024-07-04T21:21:13.207Z"
   },
   {
    "duration": 554,
    "start_time": "2024-07-04T21:21:13.760Z"
   },
   {
    "duration": 506,
    "start_time": "2024-07-04T21:21:42.526Z"
   },
   {
    "duration": 577,
    "start_time": "2024-07-04T21:26:40.740Z"
   },
   {
    "duration": 496,
    "start_time": "2024-07-04T21:27:29.837Z"
   },
   {
    "duration": 443,
    "start_time": "2024-07-04T21:28:11.234Z"
   },
   {
    "duration": 536,
    "start_time": "2024-07-04T21:32:00.384Z"
   },
   {
    "duration": 527,
    "start_time": "2024-07-04T21:33:14.954Z"
   },
   {
    "duration": 574,
    "start_time": "2024-07-04T21:33:26.582Z"
   },
   {
    "duration": 617,
    "start_time": "2024-07-04T21:33:45.299Z"
   },
   {
    "duration": 554,
    "start_time": "2024-07-04T21:34:35.559Z"
   },
   {
    "duration": 17,
    "start_time": "2024-07-04T21:36:35.340Z"
   },
   {
    "duration": 9,
    "start_time": "2024-07-04T21:37:05.885Z"
   },
   {
    "duration": 18,
    "start_time": "2024-07-04T21:47:25.937Z"
   },
   {
    "duration": 9,
    "start_time": "2024-07-04T21:47:28.058Z"
   },
   {
    "duration": 514,
    "start_time": "2024-07-04T21:47:29.808Z"
   },
   {
    "duration": 1459,
    "start_time": "2024-07-04T21:53:24.109Z"
   },
   {
    "duration": 23,
    "start_time": "2024-07-04T21:58:10.514Z"
   },
   {
    "duration": 504,
    "start_time": "2024-07-04T22:00:16.221Z"
   },
   {
    "duration": 993,
    "start_time": "2024-07-04T22:02:51.362Z"
   },
   {
    "duration": 1228,
    "start_time": "2024-07-04T22:04:12.877Z"
   },
   {
    "duration": 109,
    "start_time": "2024-07-04T22:04:24.608Z"
   },
   {
    "duration": 106,
    "start_time": "2024-07-04T22:04:36.218Z"
   },
   {
    "duration": 112,
    "start_time": "2024-07-04T22:05:48.878Z"
   },
   {
    "duration": 742,
    "start_time": "2024-07-04T22:06:25.672Z"
   },
   {
    "duration": 412,
    "start_time": "2024-07-04T22:08:13.784Z"
   },
   {
    "duration": 76,
    "start_time": "2024-07-04T22:09:35.469Z"
   },
   {
    "duration": 673,
    "start_time": "2024-07-04T22:11:50.070Z"
   },
   {
    "duration": 732,
    "start_time": "2024-07-04T22:12:43.959Z"
   },
   {
    "duration": 1084,
    "start_time": "2024-07-04T22:13:42.263Z"
   },
   {
    "duration": 1040,
    "start_time": "2024-07-04T22:14:08.305Z"
   },
   {
    "duration": 111,
    "start_time": "2024-07-04T22:14:26.471Z"
   },
   {
    "duration": 972,
    "start_time": "2024-07-04T22:14:28.792Z"
   },
   {
    "duration": 60,
    "start_time": "2024-07-04T22:14:43.945Z"
   },
   {
    "duration": 115,
    "start_time": "2024-07-04T22:14:48.860Z"
   },
   {
    "duration": 115,
    "start_time": "2024-07-04T22:14:58.720Z"
   },
   {
    "duration": 5,
    "start_time": "2024-07-04T22:16:24.351Z"
   },
   {
    "duration": 902,
    "start_time": "2024-07-04T22:16:34.266Z"
   },
   {
    "duration": 5,
    "start_time": "2024-07-04T22:16:38.652Z"
   },
   {
    "duration": 5158,
    "start_time": "2024-07-05T06:52:44.293Z"
   },
   {
    "duration": 1734,
    "start_time": "2024-07-05T06:52:49.456Z"
   },
   {
    "duration": 29,
    "start_time": "2024-07-05T06:52:51.194Z"
   },
   {
    "duration": 38,
    "start_time": "2024-07-05T06:52:51.227Z"
   },
   {
    "duration": 20,
    "start_time": "2024-07-05T06:52:51.268Z"
   },
   {
    "duration": 16,
    "start_time": "2024-07-05T06:52:51.323Z"
   },
   {
    "duration": 18,
    "start_time": "2024-07-05T06:52:51.342Z"
   },
   {
    "duration": 84,
    "start_time": "2024-07-05T06:52:51.365Z"
   },
   {
    "duration": 374,
    "start_time": "2024-07-05T06:52:51.452Z"
   },
   {
    "duration": 225,
    "start_time": "2024-07-05T06:52:51.832Z"
   },
   {
    "duration": 98,
    "start_time": "2024-07-05T06:52:52.060Z"
   },
   {
    "duration": 18,
    "start_time": "2024-07-05T06:52:52.161Z"
   },
   {
    "duration": 40,
    "start_time": "2024-07-05T06:52:52.182Z"
   },
   {
    "duration": 231,
    "start_time": "2024-07-05T06:52:52.226Z"
   },
   {
    "duration": 210,
    "start_time": "2024-07-05T06:52:52.460Z"
   },
   {
    "duration": 72,
    "start_time": "2024-07-05T06:52:52.674Z"
   },
   {
    "duration": 29,
    "start_time": "2024-07-05T06:52:52.750Z"
   },
   {
    "duration": 9,
    "start_time": "2024-07-05T06:52:52.782Z"
   },
   {
    "duration": 39,
    "start_time": "2024-07-05T06:52:52.823Z"
   },
   {
    "duration": 27,
    "start_time": "2024-07-05T06:52:52.865Z"
   },
   {
    "duration": 17,
    "start_time": "2024-07-05T06:52:52.923Z"
   },
   {
    "duration": 27,
    "start_time": "2024-07-05T06:52:52.943Z"
   },
   {
    "duration": 56,
    "start_time": "2024-07-05T06:52:52.973Z"
   },
   {
    "duration": 7,
    "start_time": "2024-07-05T06:52:53.032Z"
   },
   {
    "duration": 9,
    "start_time": "2024-07-05T06:52:53.043Z"
   },
   {
    "duration": 7,
    "start_time": "2024-07-05T06:52:53.056Z"
   },
   {
    "duration": 7,
    "start_time": "2024-07-05T06:52:53.067Z"
   },
   {
    "duration": 7,
    "start_time": "2024-07-05T06:52:53.131Z"
   },
   {
    "duration": 1482,
    "start_time": "2024-07-05T06:52:53.142Z"
   },
   {
    "duration": 1295,
    "start_time": "2024-07-05T06:52:54.627Z"
   },
   {
    "duration": 20,
    "start_time": "2024-07-05T06:52:55.926Z"
   },
   {
    "duration": 15,
    "start_time": "2024-07-05T06:52:55.950Z"
   },
   {
    "duration": 55,
    "start_time": "2024-07-05T06:52:55.968Z"
   },
   {
    "duration": 16,
    "start_time": "2024-07-05T06:52:56.026Z"
   },
   {
    "duration": 12,
    "start_time": "2024-07-05T06:52:56.045Z"
   },
   {
    "duration": 16,
    "start_time": "2024-07-05T06:52:56.061Z"
   },
   {
    "duration": 52,
    "start_time": "2024-07-05T06:52:56.081Z"
   },
   {
    "duration": 5,
    "start_time": "2024-07-05T06:52:56.136Z"
   },
   {
    "duration": 35,
    "start_time": "2024-07-05T06:52:56.144Z"
   },
   {
    "duration": 87,
    "start_time": "2024-07-05T06:52:56.183Z"
   },
   {
    "duration": 14,
    "start_time": "2024-07-05T06:52:56.275Z"
   },
   {
    "duration": 34,
    "start_time": "2024-07-05T06:52:56.293Z"
   },
   {
    "duration": 39,
    "start_time": "2024-07-05T06:52:56.331Z"
   },
   {
    "duration": 72,
    "start_time": "2024-07-05T06:52:56.374Z"
   },
   {
    "duration": 38,
    "start_time": "2024-07-05T06:52:56.449Z"
   },
   {
    "duration": 401,
    "start_time": "2024-07-05T06:52:56.490Z"
   },
   {
    "duration": 287,
    "start_time": "2024-07-05T06:52:56.895Z"
   },
   {
    "duration": 172,
    "start_time": "2024-07-05T06:52:57.185Z"
   },
   {
    "duration": 19,
    "start_time": "2024-07-05T06:52:57.360Z"
   },
   {
    "duration": 48,
    "start_time": "2024-07-05T06:52:57.382Z"
   },
   {
    "duration": 460,
    "start_time": "2024-07-05T06:52:57.433Z"
   },
   {
    "duration": 96,
    "start_time": "2024-07-05T06:52:57.896Z"
   },
   {
    "duration": 372,
    "start_time": "2024-07-05T06:52:57.994Z"
   },
   {
    "duration": 1066,
    "start_time": "2024-07-05T06:52:58.370Z"
   },
   {
    "duration": 894,
    "start_time": "2024-07-05T06:52:59.439Z"
   },
   {
    "duration": 7,
    "start_time": "2024-07-05T06:53:00.336Z"
   },
   {
    "duration": 610,
    "start_time": "2024-07-05T06:53:00.347Z"
   },
   {
    "duration": 529,
    "start_time": "2024-07-05T06:53:00.960Z"
   },
   {
    "duration": 210,
    "start_time": "2024-07-05T06:53:01.493Z"
   },
   {
    "duration": 1139,
    "start_time": "2024-07-05T06:53:01.707Z"
   },
   {
    "duration": 6,
    "start_time": "2024-07-05T06:53:02.850Z"
   },
   {
    "duration": 75,
    "start_time": "2024-07-05T06:53:02.859Z"
   },
   {
    "duration": 17,
    "start_time": "2024-07-05T06:53:02.937Z"
   },
   {
    "duration": 595,
    "start_time": "2024-07-05T06:53:02.957Z"
   },
   {
    "duration": 244,
    "start_time": "2024-07-05T06:58:41.674Z"
   },
   {
    "duration": 244,
    "start_time": "2024-07-05T06:58:48.731Z"
   },
   {
    "duration": 193,
    "start_time": "2024-07-05T06:59:39.255Z"
   },
   {
    "duration": 362,
    "start_time": "2024-07-05T07:00:18.372Z"
   },
   {
    "duration": 167,
    "start_time": "2024-07-05T07:00:24.045Z"
   },
   {
    "duration": 671,
    "start_time": "2024-07-05T07:05:33.478Z"
   },
   {
    "duration": 3667,
    "start_time": "2024-07-05T07:20:15.737Z"
   },
   {
    "duration": 3926,
    "start_time": "2024-07-05T07:20:28.241Z"
   },
   {
    "duration": 3954,
    "start_time": "2024-07-05T07:21:05.902Z"
   },
   {
    "duration": 873,
    "start_time": "2024-07-05T07:22:17.216Z"
   },
   {
    "duration": 1025,
    "start_time": "2024-07-05T07:22:30.234Z"
   },
   {
    "duration": 1081,
    "start_time": "2024-07-05T07:23:18.269Z"
   },
   {
    "duration": 96,
    "start_time": "2024-07-05T07:23:26.264Z"
   },
   {
    "duration": 104,
    "start_time": "2024-07-05T07:23:35.663Z"
   },
   {
    "duration": 883,
    "start_time": "2024-07-05T07:24:23.007Z"
   },
   {
    "duration": 885,
    "start_time": "2024-07-05T07:24:37.560Z"
   },
   {
    "duration": 823,
    "start_time": "2024-07-05T07:26:01.551Z"
   },
   {
    "duration": 14,
    "start_time": "2024-07-05T07:26:11.531Z"
   },
   {
    "duration": 675,
    "start_time": "2024-07-05T07:32:44.392Z"
   },
   {
    "duration": 748,
    "start_time": "2024-07-05T07:33:14.140Z"
   },
   {
    "duration": 1099,
    "start_time": "2024-07-05T07:33:22.877Z"
   },
   {
    "duration": 767,
    "start_time": "2024-07-05T07:34:22.666Z"
   },
   {
    "duration": 138,
    "start_time": "2024-07-05T07:35:12.472Z"
   },
   {
    "duration": 569,
    "start_time": "2024-07-05T07:35:15.550Z"
   },
   {
    "duration": 1384,
    "start_time": "2024-07-05T07:36:12.639Z"
   },
   {
    "duration": 1726,
    "start_time": "2024-07-05T07:36:14.026Z"
   },
   {
    "duration": 23,
    "start_time": "2024-07-05T07:36:15.756Z"
   },
   {
    "duration": 65,
    "start_time": "2024-07-05T07:36:15.784Z"
   },
   {
    "duration": 19,
    "start_time": "2024-07-05T07:36:15.853Z"
   },
   {
    "duration": 48,
    "start_time": "2024-07-05T07:36:15.875Z"
   },
   {
    "duration": 15,
    "start_time": "2024-07-05T07:36:15.926Z"
   },
   {
    "duration": 46,
    "start_time": "2024-07-05T07:36:15.945Z"
   },
   {
    "duration": 357,
    "start_time": "2024-07-05T07:36:16.023Z"
   },
   {
    "duration": 226,
    "start_time": "2024-07-05T07:36:16.383Z"
   },
   {
    "duration": 100,
    "start_time": "2024-07-05T07:36:16.612Z"
   },
   {
    "duration": 17,
    "start_time": "2024-07-05T07:36:16.724Z"
   },
   {
    "duration": 12,
    "start_time": "2024-07-05T07:36:16.744Z"
   },
   {
    "duration": 260,
    "start_time": "2024-07-05T07:36:16.763Z"
   },
   {
    "duration": 190,
    "start_time": "2024-07-05T07:36:17.026Z"
   },
   {
    "duration": 57,
    "start_time": "2024-07-05T07:36:17.224Z"
   },
   {
    "duration": 46,
    "start_time": "2024-07-05T07:36:17.284Z"
   },
   {
    "duration": 14,
    "start_time": "2024-07-05T07:36:17.333Z"
   },
   {
    "duration": 46,
    "start_time": "2024-07-05T07:36:17.351Z"
   },
   {
    "duration": 26,
    "start_time": "2024-07-05T07:36:17.423Z"
   },
   {
    "duration": 15,
    "start_time": "2024-07-05T07:36:17.452Z"
   },
   {
    "duration": 68,
    "start_time": "2024-07-05T07:36:17.471Z"
   },
   {
    "duration": 21,
    "start_time": "2024-07-05T07:36:17.542Z"
   },
   {
    "duration": 8,
    "start_time": "2024-07-05T07:36:17.567Z"
   },
   {
    "duration": 7,
    "start_time": "2024-07-05T07:36:17.578Z"
   },
   {
    "duration": 41,
    "start_time": "2024-07-05T07:36:17.589Z"
   },
   {
    "duration": 7,
    "start_time": "2024-07-05T07:36:17.635Z"
   },
   {
    "duration": 8,
    "start_time": "2024-07-05T07:36:17.645Z"
   },
   {
    "duration": 1502,
    "start_time": "2024-07-05T07:36:17.656Z"
   },
   {
    "duration": 1318,
    "start_time": "2024-07-05T07:36:19.161Z"
   },
   {
    "duration": 18,
    "start_time": "2024-07-05T07:36:20.481Z"
   },
   {
    "duration": 17,
    "start_time": "2024-07-05T07:36:20.522Z"
   },
   {
    "duration": 14,
    "start_time": "2024-07-05T07:36:20.542Z"
   },
   {
    "duration": 18,
    "start_time": "2024-07-05T07:36:20.560Z"
   },
   {
    "duration": 48,
    "start_time": "2024-07-05T07:36:20.582Z"
   },
   {
    "duration": 17,
    "start_time": "2024-07-05T07:36:20.634Z"
   },
   {
    "duration": 12,
    "start_time": "2024-07-05T07:36:20.655Z"
   },
   {
    "duration": 5,
    "start_time": "2024-07-05T07:36:20.670Z"
   },
   {
    "duration": 31,
    "start_time": "2024-07-05T07:36:20.724Z"
   },
   {
    "duration": 85,
    "start_time": "2024-07-05T07:36:20.758Z"
   },
   {
    "duration": 14,
    "start_time": "2024-07-05T07:36:20.856Z"
   },
   {
    "duration": 9,
    "start_time": "2024-07-05T07:36:20.874Z"
   },
   {
    "duration": 39,
    "start_time": "2024-07-05T07:36:20.922Z"
   },
   {
    "duration": 63,
    "start_time": "2024-07-05T07:36:20.965Z"
   },
   {
    "duration": 39,
    "start_time": "2024-07-05T07:36:21.031Z"
   },
   {
    "duration": 418,
    "start_time": "2024-07-05T07:36:21.076Z"
   },
   {
    "duration": 325,
    "start_time": "2024-07-05T07:36:21.498Z"
   },
   {
    "duration": 168,
    "start_time": "2024-07-05T07:36:21.827Z"
   },
   {
    "duration": 29,
    "start_time": "2024-07-05T07:36:21.999Z"
   },
   {
    "duration": 24,
    "start_time": "2024-07-05T07:36:22.031Z"
   },
   {
    "duration": 473,
    "start_time": "2024-07-05T07:36:22.058Z"
   },
   {
    "duration": 100,
    "start_time": "2024-07-05T07:36:22.534Z"
   },
   {
    "duration": 373,
    "start_time": "2024-07-05T07:36:22.637Z"
   },
   {
    "duration": 1110,
    "start_time": "2024-07-05T07:36:23.013Z"
   },
   {
    "duration": 1026,
    "start_time": "2024-07-05T07:36:24.127Z"
   },
   {
    "duration": 15,
    "start_time": "2024-07-05T07:36:25.157Z"
   },
   {
    "duration": 664,
    "start_time": "2024-07-05T07:36:25.176Z"
   },
   {
    "duration": 453,
    "start_time": "2024-07-05T07:36:25.844Z"
   },
   {
    "duration": 778,
    "start_time": "2024-07-05T07:36:26.301Z"
   },
   {
    "duration": 38,
    "start_time": "2024-07-05T07:36:27.085Z"
   },
   {
    "duration": 438,
    "start_time": "2024-07-05T07:36:27.126Z"
   },
   {
    "duration": 0,
    "start_time": "2024-07-05T07:36:27.567Z"
   },
   {
    "duration": 0,
    "start_time": "2024-07-05T07:36:27.569Z"
   },
   {
    "duration": 0,
    "start_time": "2024-07-05T07:36:27.572Z"
   },
   {
    "duration": 0,
    "start_time": "2024-07-05T07:36:27.575Z"
   },
   {
    "duration": 169,
    "start_time": "2024-07-05T07:37:00.682Z"
   },
   {
    "duration": 173,
    "start_time": "2024-07-05T07:37:15.243Z"
   },
   {
    "duration": 527,
    "start_time": "2024-07-05T07:39:51.023Z"
   },
   {
    "duration": 595,
    "start_time": "2024-07-05T07:39:54.111Z"
   },
   {
    "duration": 529,
    "start_time": "2024-07-05T07:39:56.810Z"
   },
   {
    "duration": 648,
    "start_time": "2024-07-05T07:40:33.826Z"
   },
   {
    "duration": 594,
    "start_time": "2024-07-05T07:40:54.628Z"
   },
   {
    "duration": 528,
    "start_time": "2024-07-05T07:40:56.940Z"
   },
   {
    "duration": 1049,
    "start_time": "2024-07-05T07:41:39.265Z"
   },
   {
    "duration": 559,
    "start_time": "2024-07-05T07:42:26.212Z"
   },
   {
    "duration": 17,
    "start_time": "2024-07-05T07:44:00.390Z"
   },
   {
    "duration": 166,
    "start_time": "2024-07-05T07:44:09.972Z"
   },
   {
    "duration": 163,
    "start_time": "2024-07-05T07:45:41.526Z"
   },
   {
    "duration": 354,
    "start_time": "2024-07-05T07:46:12.798Z"
   },
   {
    "duration": 548,
    "start_time": "2024-07-05T08:02:50.252Z"
   },
   {
    "duration": 563,
    "start_time": "2024-07-05T08:18:53.579Z"
   },
   {
    "duration": 520,
    "start_time": "2024-07-05T08:19:17.259Z"
   },
   {
    "duration": 546,
    "start_time": "2024-07-05T08:19:24.933Z"
   },
   {
    "duration": 567,
    "start_time": "2024-07-05T08:19:50.739Z"
   },
   {
    "duration": 579,
    "start_time": "2024-07-05T08:22:26.855Z"
   },
   {
    "duration": 3,
    "start_time": "2024-07-05T08:22:35.716Z"
   },
   {
    "duration": 164,
    "start_time": "2024-07-05T08:22:59.322Z"
   },
   {
    "duration": 161,
    "start_time": "2024-07-05T08:23:09.326Z"
   },
   {
    "duration": 179,
    "start_time": "2024-07-05T08:27:11.113Z"
   },
   {
    "duration": 605,
    "start_time": "2024-07-05T08:28:08.988Z"
   },
   {
    "duration": 236,
    "start_time": "2024-07-05T08:28:12.836Z"
   },
   {
    "duration": 250,
    "start_time": "2024-07-05T08:28:29.564Z"
   },
   {
    "duration": 224,
    "start_time": "2024-07-05T08:28:42.735Z"
   },
   {
    "duration": 639,
    "start_time": "2024-07-05T08:28:54.922Z"
   },
   {
    "duration": 613,
    "start_time": "2024-07-05T08:29:37.830Z"
   },
   {
    "duration": 631,
    "start_time": "2024-07-05T08:33:03.402Z"
   },
   {
    "duration": 644,
    "start_time": "2024-07-05T08:33:07.507Z"
   },
   {
    "duration": 259,
    "start_time": "2024-07-05T08:33:26.944Z"
   },
   {
    "duration": 243,
    "start_time": "2024-07-05T08:34:14.579Z"
   },
   {
    "duration": 230,
    "start_time": "2024-07-05T08:35:01.573Z"
   },
   {
    "duration": 329,
    "start_time": "2024-07-05T08:35:29.617Z"
   },
   {
    "duration": 221,
    "start_time": "2024-07-05T08:35:47.426Z"
   },
   {
    "duration": 215,
    "start_time": "2024-07-05T08:35:57.057Z"
   },
   {
    "duration": 213,
    "start_time": "2024-07-05T08:36:17.390Z"
   },
   {
    "duration": 616,
    "start_time": "2024-07-05T08:36:35.565Z"
   },
   {
    "duration": 507,
    "start_time": "2024-07-05T08:39:39.293Z"
   },
   {
    "duration": 11,
    "start_time": "2024-07-05T08:39:47.195Z"
   },
   {
    "duration": 38,
    "start_time": "2024-07-05T08:41:48.067Z"
   },
   {
    "duration": 595,
    "start_time": "2024-07-05T08:42:13.911Z"
   },
   {
    "duration": 351,
    "start_time": "2024-07-05T08:43:24.982Z"
   },
   {
    "duration": 513,
    "start_time": "2024-07-05T08:43:46.500Z"
   },
   {
    "duration": 12,
    "start_time": "2024-07-05T08:43:52.908Z"
   },
   {
    "duration": 892,
    "start_time": "2024-07-05T08:46:11.130Z"
   },
   {
    "duration": 1075,
    "start_time": "2024-07-05T08:46:13.985Z"
   },
   {
    "duration": 11,
    "start_time": "2024-07-05T08:46:17.250Z"
   },
   {
    "duration": 656,
    "start_time": "2024-07-05T08:48:01.032Z"
   },
   {
    "duration": 13,
    "start_time": "2024-07-05T08:48:03.485Z"
   },
   {
    "duration": 26,
    "start_time": "2024-07-05T08:48:50.951Z"
   },
   {
    "duration": 10,
    "start_time": "2024-07-05T08:48:57.246Z"
   },
   {
    "duration": 8,
    "start_time": "2024-07-05T08:50:43.733Z"
   },
   {
    "duration": 12,
    "start_time": "2024-07-05T08:50:54.993Z"
   },
   {
    "duration": 7,
    "start_time": "2024-07-05T08:51:51.009Z"
   },
   {
    "duration": 6,
    "start_time": "2024-07-05T08:52:18.104Z"
   },
   {
    "duration": 16,
    "start_time": "2024-07-05T08:52:29.902Z"
   },
   {
    "duration": 7,
    "start_time": "2024-07-05T08:53:51.778Z"
   },
   {
    "duration": 8,
    "start_time": "2024-07-05T08:54:30.236Z"
   },
   {
    "duration": 9,
    "start_time": "2024-07-05T08:54:59.709Z"
   },
   {
    "duration": 663,
    "start_time": "2024-07-05T08:56:00.656Z"
   },
   {
    "duration": 12,
    "start_time": "2024-07-05T08:56:07.914Z"
   },
   {
    "duration": 4,
    "start_time": "2024-07-05T08:57:14.160Z"
   },
   {
    "duration": 12,
    "start_time": "2024-07-05T08:57:20.844Z"
   },
   {
    "duration": 5,
    "start_time": "2024-07-05T08:57:55.246Z"
   },
   {
    "duration": 7,
    "start_time": "2024-07-05T08:57:59.677Z"
   },
   {
    "duration": 8,
    "start_time": "2024-07-05T08:58:08.256Z"
   },
   {
    "duration": 12,
    "start_time": "2024-07-05T08:58:19.682Z"
   },
   {
    "duration": 8,
    "start_time": "2024-07-05T08:58:53.843Z"
   },
   {
    "duration": 5,
    "start_time": "2024-07-05T08:59:03.798Z"
   },
   {
    "duration": 5,
    "start_time": "2024-07-05T08:59:18.919Z"
   },
   {
    "duration": 497,
    "start_time": "2024-07-05T08:59:27.932Z"
   },
   {
    "duration": 10,
    "start_time": "2024-07-05T09:02:17.247Z"
   },
   {
    "duration": 609,
    "start_time": "2024-07-05T09:03:15.062Z"
   },
   {
    "duration": 11,
    "start_time": "2024-07-05T09:03:18.656Z"
   },
   {
    "duration": 630,
    "start_time": "2024-07-05T09:04:31.619Z"
   },
   {
    "duration": 11,
    "start_time": "2024-07-05T09:04:34.055Z"
   },
   {
    "duration": 10,
    "start_time": "2024-07-05T09:05:16.982Z"
   },
   {
    "duration": 1332,
    "start_time": "2024-07-05T09:05:42.600Z"
   },
   {
    "duration": 11,
    "start_time": "2024-07-05T09:05:46.019Z"
   },
   {
    "duration": 570,
    "start_time": "2024-07-05T09:06:15.759Z"
   },
   {
    "duration": 11,
    "start_time": "2024-07-05T09:06:18.492Z"
   },
   {
    "duration": 9,
    "start_time": "2024-07-05T09:06:30.082Z"
   },
   {
    "duration": 1244,
    "start_time": "2024-07-05T09:06:40.660Z"
   },
   {
    "duration": 10,
    "start_time": "2024-07-05T09:06:56.738Z"
   },
   {
    "duration": 7,
    "start_time": "2024-07-05T09:07:04.347Z"
   },
   {
    "duration": 5,
    "start_time": "2024-07-05T09:07:06.855Z"
   },
   {
    "duration": 549,
    "start_time": "2024-07-05T09:07:08.778Z"
   },
   {
    "duration": 576,
    "start_time": "2024-07-05T09:07:49.335Z"
   },
   {
    "duration": 11,
    "start_time": "2024-07-05T09:08:12.677Z"
   },
   {
    "duration": 11,
    "start_time": "2024-07-05T09:09:40.755Z"
   },
   {
    "duration": 12,
    "start_time": "2024-07-05T09:10:49.297Z"
   },
   {
    "duration": 11,
    "start_time": "2024-07-05T09:11:44.706Z"
   },
   {
    "duration": 3,
    "start_time": "2024-07-05T09:11:50.919Z"
   },
   {
    "duration": 12,
    "start_time": "2024-07-05T09:14:05.155Z"
   },
   {
    "duration": 9,
    "start_time": "2024-07-05T09:15:37.349Z"
   },
   {
    "duration": 9,
    "start_time": "2024-07-05T09:15:55.271Z"
   },
   {
    "duration": 5052,
    "start_time": "2024-07-05T11:32:53.619Z"
   },
   {
    "duration": 1673,
    "start_time": "2024-07-05T11:32:58.675Z"
   },
   {
    "duration": 17,
    "start_time": "2024-07-05T11:33:00.353Z"
   },
   {
    "duration": 47,
    "start_time": "2024-07-05T11:33:00.374Z"
   },
   {
    "duration": 16,
    "start_time": "2024-07-05T11:33:00.424Z"
   },
   {
    "duration": 15,
    "start_time": "2024-07-05T11:33:00.443Z"
   },
   {
    "duration": 47,
    "start_time": "2024-07-05T11:33:00.460Z"
   },
   {
    "duration": 42,
    "start_time": "2024-07-05T11:33:00.510Z"
   },
   {
    "duration": 332,
    "start_time": "2024-07-05T11:33:00.555Z"
   },
   {
    "duration": 187,
    "start_time": "2024-07-05T11:33:00.901Z"
   },
   {
    "duration": 82,
    "start_time": "2024-07-05T11:33:01.091Z"
   },
   {
    "duration": 30,
    "start_time": "2024-07-05T11:33:01.176Z"
   },
   {
    "duration": 11,
    "start_time": "2024-07-05T11:33:01.209Z"
   },
   {
    "duration": 200,
    "start_time": "2024-07-05T11:33:01.223Z"
   },
   {
    "duration": 169,
    "start_time": "2024-07-05T11:33:01.426Z"
   },
   {
    "duration": 50,
    "start_time": "2024-07-05T11:33:01.598Z"
   },
   {
    "duration": 24,
    "start_time": "2024-07-05T11:33:01.651Z"
   },
   {
    "duration": 7,
    "start_time": "2024-07-05T11:33:01.703Z"
   },
   {
    "duration": 34,
    "start_time": "2024-07-05T11:33:01.714Z"
   },
   {
    "duration": 57,
    "start_time": "2024-07-05T11:33:01.751Z"
   },
   {
    "duration": 15,
    "start_time": "2024-07-05T11:33:01.810Z"
   },
   {
    "duration": 24,
    "start_time": "2024-07-05T11:33:01.828Z"
   },
   {
    "duration": 51,
    "start_time": "2024-07-05T11:33:01.856Z"
   },
   {
    "duration": 8,
    "start_time": "2024-07-05T11:33:01.910Z"
   },
   {
    "duration": 6,
    "start_time": "2024-07-05T11:33:01.921Z"
   },
   {
    "duration": 7,
    "start_time": "2024-07-05T11:33:01.930Z"
   },
   {
    "duration": 8,
    "start_time": "2024-07-05T11:33:01.940Z"
   },
   {
    "duration": 6,
    "start_time": "2024-07-05T11:33:02.004Z"
   },
   {
    "duration": 1341,
    "start_time": "2024-07-05T11:33:02.013Z"
   },
   {
    "duration": 1171,
    "start_time": "2024-07-05T11:33:03.357Z"
   },
   {
    "duration": 16,
    "start_time": "2024-07-05T11:33:04.531Z"
   },
   {
    "duration": 14,
    "start_time": "2024-07-05T11:33:04.550Z"
   },
   {
    "duration": 40,
    "start_time": "2024-07-05T11:33:04.569Z"
   },
   {
    "duration": 13,
    "start_time": "2024-07-05T11:33:04.612Z"
   },
   {
    "duration": 9,
    "start_time": "2024-07-05T11:33:04.628Z"
   },
   {
    "duration": 13,
    "start_time": "2024-07-05T11:33:04.640Z"
   },
   {
    "duration": 54,
    "start_time": "2024-07-05T11:33:04.656Z"
   },
   {
    "duration": 3,
    "start_time": "2024-07-05T11:33:04.713Z"
   },
   {
    "duration": 28,
    "start_time": "2024-07-05T11:33:04.719Z"
   },
   {
    "duration": 85,
    "start_time": "2024-07-05T11:33:04.750Z"
   },
   {
    "duration": 13,
    "start_time": "2024-07-05T11:33:04.838Z"
   },
   {
    "duration": 8,
    "start_time": "2024-07-05T11:33:04.854Z"
   },
   {
    "duration": 68,
    "start_time": "2024-07-05T11:33:04.865Z"
   },
   {
    "duration": 33,
    "start_time": "2024-07-05T11:33:04.935Z"
   },
   {
    "duration": 61,
    "start_time": "2024-07-05T11:33:04.971Z"
   },
   {
    "duration": 387,
    "start_time": "2024-07-05T11:33:05.035Z"
   },
   {
    "duration": 245,
    "start_time": "2024-07-05T11:33:05.425Z"
   },
   {
    "duration": 172,
    "start_time": "2024-07-05T11:33:05.673Z"
   },
   {
    "duration": 15,
    "start_time": "2024-07-05T11:33:05.849Z"
   },
   {
    "duration": 44,
    "start_time": "2024-07-05T11:33:05.867Z"
   },
   {
    "duration": 520,
    "start_time": "2024-07-05T11:33:05.914Z"
   },
   {
    "duration": 88,
    "start_time": "2024-07-05T11:33:06.437Z"
   },
   {
    "duration": 365,
    "start_time": "2024-07-05T11:33:06.529Z"
   },
   {
    "duration": 1093,
    "start_time": "2024-07-05T11:33:06.901Z"
   },
   {
    "duration": 1105,
    "start_time": "2024-07-05T11:33:08.001Z"
   },
   {
    "duration": 12,
    "start_time": "2024-07-05T11:33:09.109Z"
   },
   {
    "duration": 503,
    "start_time": "2024-07-05T11:33:09.125Z"
   },
   {
    "duration": 442,
    "start_time": "2024-07-05T11:33:09.631Z"
   },
   {
    "duration": 719,
    "start_time": "2024-07-05T11:33:10.076Z"
   },
   {
    "duration": 624,
    "start_time": "2024-07-05T11:33:10.798Z"
   },
   {
    "duration": 10,
    "start_time": "2024-07-05T11:33:11.425Z"
   },
   {
    "duration": 3,
    "start_time": "2024-07-05T11:33:11.439Z"
   },
   {
    "duration": 11,
    "start_time": "2024-07-05T11:33:11.445Z"
   },
   {
    "duration": 5,
    "start_time": "2024-07-05T11:33:11.459Z"
   },
   {
    "duration": 563,
    "start_time": "2024-07-05T11:33:11.503Z"
   },
   {
    "duration": 11,
    "start_time": "2024-07-05T11:36:37.451Z"
   },
   {
    "duration": 4,
    "start_time": "2024-07-05T11:39:47.622Z"
   },
   {
    "duration": 43,
    "start_time": "2024-07-05T11:43:56.416Z"
   },
   {
    "duration": 53,
    "start_time": "2024-07-05T11:45:30.862Z"
   },
   {
    "duration": 406,
    "start_time": "2024-07-05T11:46:17.371Z"
   },
   {
    "duration": 43,
    "start_time": "2024-07-05T11:46:44.404Z"
   },
   {
    "duration": 35,
    "start_time": "2024-07-05T11:48:10.367Z"
   },
   {
    "duration": 37,
    "start_time": "2024-07-05T11:48:57.895Z"
   },
   {
    "duration": 13,
    "start_time": "2024-07-05T11:50:08.466Z"
   },
   {
    "duration": 4,
    "start_time": "2024-07-05T11:51:22.449Z"
   },
   {
    "duration": 8,
    "start_time": "2024-07-05T11:51:34.231Z"
   },
   {
    "duration": 4,
    "start_time": "2024-07-05T11:51:59.093Z"
   },
   {
    "duration": 4,
    "start_time": "2024-07-05T11:52:01.565Z"
   },
   {
    "duration": 314,
    "start_time": "2024-07-05T11:58:21.146Z"
   },
   {
    "duration": 1290,
    "start_time": "2024-07-05T11:58:36.377Z"
   },
   {
    "duration": 1680,
    "start_time": "2024-07-05T11:58:37.670Z"
   },
   {
    "duration": 17,
    "start_time": "2024-07-05T11:58:39.354Z"
   },
   {
    "duration": 51,
    "start_time": "2024-07-05T11:58:39.375Z"
   },
   {
    "duration": 18,
    "start_time": "2024-07-05T11:58:39.430Z"
   },
   {
    "duration": 53,
    "start_time": "2024-07-05T11:58:39.451Z"
   },
   {
    "duration": 15,
    "start_time": "2024-07-05T11:58:39.509Z"
   },
   {
    "duration": 42,
    "start_time": "2024-07-05T11:58:39.526Z"
   },
   {
    "duration": 331,
    "start_time": "2024-07-05T11:58:39.572Z"
   },
   {
    "duration": 188,
    "start_time": "2024-07-05T11:58:39.909Z"
   },
   {
    "duration": 73,
    "start_time": "2024-07-05T11:58:40.101Z"
   },
   {
    "duration": 30,
    "start_time": "2024-07-05T11:58:40.177Z"
   },
   {
    "duration": 10,
    "start_time": "2024-07-05T11:58:40.210Z"
   },
   {
    "duration": 197,
    "start_time": "2024-07-05T11:58:40.223Z"
   },
   {
    "duration": 170,
    "start_time": "2024-07-05T11:58:40.422Z"
   },
   {
    "duration": 46,
    "start_time": "2024-07-05T11:58:40.601Z"
   },
   {
    "duration": 22,
    "start_time": "2024-07-05T11:58:40.650Z"
   },
   {
    "duration": 9,
    "start_time": "2024-07-05T11:58:40.701Z"
   },
   {
    "duration": 34,
    "start_time": "2024-07-05T11:58:40.712Z"
   },
   {
    "duration": 23,
    "start_time": "2024-07-05T11:58:40.749Z"
   },
   {
    "duration": 15,
    "start_time": "2024-07-05T11:58:40.802Z"
   },
   {
    "duration": 24,
    "start_time": "2024-07-05T11:58:40.820Z"
   },
   {
    "duration": 17,
    "start_time": "2024-07-05T11:58:40.848Z"
   },
   {
    "duration": 9,
    "start_time": "2024-07-05T11:58:40.901Z"
   },
   {
    "duration": 6,
    "start_time": "2024-07-05T11:58:40.913Z"
   },
   {
    "duration": 6,
    "start_time": "2024-07-05T11:58:40.922Z"
   },
   {
    "duration": 9,
    "start_time": "2024-07-05T11:58:40.932Z"
   },
   {
    "duration": 5,
    "start_time": "2024-07-05T11:58:40.950Z"
   },
   {
    "duration": 1331,
    "start_time": "2024-07-05T11:58:41.002Z"
   },
   {
    "duration": 1153,
    "start_time": "2024-07-05T11:58:42.336Z"
   },
   {
    "duration": 21,
    "start_time": "2024-07-05T11:58:43.492Z"
   },
   {
    "duration": 13,
    "start_time": "2024-07-05T11:58:43.515Z"
   },
   {
    "duration": 14,
    "start_time": "2024-07-05T11:58:43.531Z"
   },
   {
    "duration": 57,
    "start_time": "2024-07-05T11:58:43.547Z"
   },
   {
    "duration": 11,
    "start_time": "2024-07-05T11:58:43.608Z"
   },
   {
    "duration": 17,
    "start_time": "2024-07-05T11:58:43.623Z"
   },
   {
    "duration": 12,
    "start_time": "2024-07-05T11:58:43.644Z"
   },
   {
    "duration": 43,
    "start_time": "2024-07-05T11:58:43.659Z"
   },
   {
    "duration": 28,
    "start_time": "2024-07-05T11:58:43.706Z"
   },
   {
    "duration": 78,
    "start_time": "2024-07-05T11:58:43.737Z"
   },
   {
    "duration": 13,
    "start_time": "2024-07-05T11:58:43.818Z"
   },
   {
    "duration": 9,
    "start_time": "2024-07-05T11:58:43.834Z"
   },
   {
    "duration": 73,
    "start_time": "2024-07-05T11:58:43.846Z"
   },
   {
    "duration": 34,
    "start_time": "2024-07-05T11:58:43.922Z"
   },
   {
    "duration": 67,
    "start_time": "2024-07-05T11:58:43.960Z"
   },
   {
    "duration": 367,
    "start_time": "2024-07-05T11:58:44.031Z"
   },
   {
    "duration": 296,
    "start_time": "2024-07-05T11:58:44.400Z"
   },
   {
    "duration": 156,
    "start_time": "2024-07-05T11:58:44.703Z"
   },
   {
    "duration": 13,
    "start_time": "2024-07-05T11:58:44.861Z"
   },
   {
    "duration": 37,
    "start_time": "2024-07-05T11:58:44.877Z"
   },
   {
    "duration": 444,
    "start_time": "2024-07-05T11:58:44.917Z"
   },
   {
    "duration": 86,
    "start_time": "2024-07-05T11:58:45.364Z"
   },
   {
    "duration": 348,
    "start_time": "2024-07-05T11:58:45.453Z"
   },
   {
    "duration": 1100,
    "start_time": "2024-07-05T11:58:45.805Z"
   },
   {
    "duration": 1114,
    "start_time": "2024-07-05T11:58:46.911Z"
   },
   {
    "duration": 12,
    "start_time": "2024-07-05T11:58:48.028Z"
   },
   {
    "duration": 536,
    "start_time": "2024-07-05T11:58:48.044Z"
   },
   {
    "duration": 436,
    "start_time": "2024-07-05T11:58:48.582Z"
   },
   {
    "duration": 722,
    "start_time": "2024-07-05T11:58:49.021Z"
   },
   {
    "duration": 616,
    "start_time": "2024-07-05T11:58:49.746Z"
   },
   {
    "duration": 469,
    "start_time": "2024-07-05T11:58:50.365Z"
   },
   {
    "duration": 37,
    "start_time": "2024-07-05T11:58:50.837Z"
   },
   {
    "duration": 5,
    "start_time": "2024-07-05T11:58:50.877Z"
   },
   {
    "duration": 16,
    "start_time": "2024-07-05T11:58:50.885Z"
   },
   {
    "duration": 1304,
    "start_time": "2024-07-05T12:01:04.759Z"
   },
   {
    "duration": 1744,
    "start_time": "2024-07-05T12:01:06.067Z"
   },
   {
    "duration": 18,
    "start_time": "2024-07-05T12:01:07.814Z"
   },
   {
    "duration": 31,
    "start_time": "2024-07-05T12:01:07.836Z"
   },
   {
    "duration": 44,
    "start_time": "2024-07-05T12:01:07.870Z"
   },
   {
    "duration": 14,
    "start_time": "2024-07-05T12:01:07.917Z"
   },
   {
    "duration": 14,
    "start_time": "2024-07-05T12:01:07.934Z"
   },
   {
    "duration": 81,
    "start_time": "2024-07-05T12:01:07.951Z"
   },
   {
    "duration": 314,
    "start_time": "2024-07-05T12:01:08.034Z"
   },
   {
    "duration": 183,
    "start_time": "2024-07-05T12:01:08.354Z"
   },
   {
    "duration": 88,
    "start_time": "2024-07-05T12:01:08.540Z"
   },
   {
    "duration": 14,
    "start_time": "2024-07-05T12:01:08.631Z"
   },
   {
    "duration": 10,
    "start_time": "2024-07-05T12:01:08.648Z"
   },
   {
    "duration": 221,
    "start_time": "2024-07-05T12:01:08.661Z"
   },
   {
    "duration": 170,
    "start_time": "2024-07-05T12:01:08.885Z"
   },
   {
    "duration": 61,
    "start_time": "2024-07-05T12:01:09.058Z"
   },
   {
    "duration": 22,
    "start_time": "2024-07-05T12:01:09.122Z"
   },
   {
    "duration": 8,
    "start_time": "2024-07-05T12:01:09.147Z"
   },
   {
    "duration": 64,
    "start_time": "2024-07-05T12:01:09.158Z"
   },
   {
    "duration": 28,
    "start_time": "2024-07-05T12:01:09.225Z"
   },
   {
    "duration": 43,
    "start_time": "2024-07-05T12:01:09.258Z"
   },
   {
    "duration": 22,
    "start_time": "2024-07-05T12:01:09.305Z"
   },
   {
    "duration": 17,
    "start_time": "2024-07-05T12:01:09.330Z"
   },
   {
    "duration": 7,
    "start_time": "2024-07-05T12:01:09.349Z"
   },
   {
    "duration": 44,
    "start_time": "2024-07-05T12:01:09.359Z"
   },
   {
    "duration": 7,
    "start_time": "2024-07-05T12:01:09.406Z"
   },
   {
    "duration": 7,
    "start_time": "2024-07-05T12:01:09.416Z"
   },
   {
    "duration": 7,
    "start_time": "2024-07-05T12:01:09.433Z"
   },
   {
    "duration": 1384,
    "start_time": "2024-07-05T12:01:09.443Z"
   },
   {
    "duration": 1147,
    "start_time": "2024-07-05T12:01:10.830Z"
   },
   {
    "duration": 33,
    "start_time": "2024-07-05T12:01:11.980Z"
   },
   {
    "duration": 13,
    "start_time": "2024-07-05T12:01:12.016Z"
   },
   {
    "duration": 14,
    "start_time": "2024-07-05T12:01:12.032Z"
   },
   {
    "duration": 13,
    "start_time": "2024-07-05T12:01:12.050Z"
   },
   {
    "duration": 13,
    "start_time": "2024-07-05T12:01:12.103Z"
   },
   {
    "duration": 13,
    "start_time": "2024-07-05T12:01:12.122Z"
   },
   {
    "duration": 11,
    "start_time": "2024-07-05T12:01:12.138Z"
   },
   {
    "duration": 6,
    "start_time": "2024-07-05T12:01:12.152Z"
   },
   {
    "duration": 65,
    "start_time": "2024-07-05T12:01:12.160Z"
   },
   {
    "duration": 48,
    "start_time": "2024-07-05T12:01:12.227Z"
   },
   {
    "duration": 34,
    "start_time": "2024-07-05T12:01:12.278Z"
   },
   {
    "duration": 8,
    "start_time": "2024-07-05T12:01:12.315Z"
   },
   {
    "duration": 34,
    "start_time": "2024-07-05T12:01:12.326Z"
   },
   {
    "duration": 36,
    "start_time": "2024-07-05T12:01:12.401Z"
   },
   {
    "duration": 64,
    "start_time": "2024-07-05T12:01:12.439Z"
   },
   {
    "duration": 385,
    "start_time": "2024-07-05T12:01:12.506Z"
   },
   {
    "duration": 310,
    "start_time": "2024-07-05T12:01:12.894Z"
   },
   {
    "duration": 161,
    "start_time": "2024-07-05T12:01:13.206Z"
   },
   {
    "duration": 13,
    "start_time": "2024-07-05T12:01:13.370Z"
   },
   {
    "duration": 34,
    "start_time": "2024-07-05T12:01:13.386Z"
   },
   {
    "duration": 442,
    "start_time": "2024-07-05T12:01:13.422Z"
   },
   {
    "duration": 86,
    "start_time": "2024-07-05T12:01:13.867Z"
   },
   {
    "duration": 347,
    "start_time": "2024-07-05T12:01:13.957Z"
   },
   {
    "duration": 1079,
    "start_time": "2024-07-05T12:01:14.307Z"
   },
   {
    "duration": 1162,
    "start_time": "2024-07-05T12:01:15.388Z"
   },
   {
    "duration": 10,
    "start_time": "2024-07-05T12:01:16.553Z"
   },
   {
    "duration": 546,
    "start_time": "2024-07-05T12:01:16.566Z"
   },
   {
    "duration": 432,
    "start_time": "2024-07-05T12:01:17.118Z"
   },
   {
    "duration": 734,
    "start_time": "2024-07-05T12:01:17.553Z"
   },
   {
    "duration": 601,
    "start_time": "2024-07-05T12:01:18.290Z"
   },
   {
    "duration": 467,
    "start_time": "2024-07-05T12:01:18.895Z"
   },
   {
    "duration": 36,
    "start_time": "2024-07-05T12:01:19.365Z"
   },
   {
    "duration": 6,
    "start_time": "2024-07-05T12:01:19.404Z"
   },
   {
    "duration": 5,
    "start_time": "2024-07-05T12:01:19.413Z"
   },
   {
    "duration": 3,
    "start_time": "2024-07-05T12:01:19.421Z"
   },
   {
    "duration": 432,
    "start_time": "2024-07-05T12:01:38.076Z"
   },
   {
    "duration": 1793,
    "start_time": "2024-07-05T12:02:42.019Z"
   },
   {
    "duration": 560,
    "start_time": "2024-07-05T12:03:43.970Z"
   },
   {
    "duration": 365,
    "start_time": "2024-07-05T12:03:49.838Z"
   },
   {
    "duration": 8,
    "start_time": "2024-07-05T12:04:45.526Z"
   },
   {
    "duration": 288,
    "start_time": "2024-07-05T12:04:51.361Z"
   },
   {
    "duration": 388,
    "start_time": "2024-07-05T12:05:16.174Z"
   },
   {
    "duration": 55,
    "start_time": "2024-07-05T12:05:59.270Z"
   },
   {
    "duration": 364,
    "start_time": "2024-07-05T12:06:19.777Z"
   },
   {
    "duration": 547,
    "start_time": "2024-07-05T12:06:51.007Z"
   },
   {
    "duration": 373,
    "start_time": "2024-07-05T12:06:54.111Z"
   },
   {
    "duration": 383,
    "start_time": "2024-07-05T12:10:46.100Z"
   },
   {
    "duration": 373,
    "start_time": "2024-07-05T12:11:12.902Z"
   },
   {
    "duration": 131,
    "start_time": "2024-07-05T12:12:07.132Z"
   },
   {
    "duration": 365,
    "start_time": "2024-07-05T12:12:36.938Z"
   },
   {
    "duration": 350,
    "start_time": "2024-07-05T12:14:07.281Z"
   },
   {
    "duration": 954,
    "start_time": "2024-07-05T12:17:05.248Z"
   },
   {
    "duration": 1076,
    "start_time": "2024-07-05T12:17:08.962Z"
   },
   {
    "duration": 357,
    "start_time": "2024-07-05T12:17:36.826Z"
   },
   {
    "duration": 352,
    "start_time": "2024-07-05T12:18:54.395Z"
   },
   {
    "duration": 596,
    "start_time": "2024-07-05T12:25:44.267Z"
   },
   {
    "duration": 22,
    "start_time": "2024-07-05T12:48:07.277Z"
   },
   {
    "duration": 4,
    "start_time": "2024-07-05T12:48:35.236Z"
   },
   {
    "duration": 29,
    "start_time": "2024-07-05T12:50:18.093Z"
   },
   {
    "duration": 355,
    "start_time": "2024-07-05T12:50:57.688Z"
   },
   {
    "duration": 23,
    "start_time": "2024-07-05T12:52:09.877Z"
   },
   {
    "duration": 25,
    "start_time": "2024-07-05T12:52:32.570Z"
   },
   {
    "duration": 569,
    "start_time": "2024-07-05T12:53:14.078Z"
   },
   {
    "duration": 564,
    "start_time": "2024-07-05T12:54:02.892Z"
   },
   {
    "duration": 570,
    "start_time": "2024-07-05T12:54:12.696Z"
   },
   {
    "duration": 559,
    "start_time": "2024-07-05T12:54:36.403Z"
   },
   {
    "duration": 522,
    "start_time": "2024-07-05T12:54:43.169Z"
   },
   {
    "duration": 349,
    "start_time": "2024-07-05T12:54:52.746Z"
   },
   {
    "duration": 535,
    "start_time": "2024-07-05T12:56:13.804Z"
   },
   {
    "duration": 323,
    "start_time": "2024-07-05T12:56:16.492Z"
   },
   {
    "duration": 608,
    "start_time": "2024-07-05T12:56:36.032Z"
   },
   {
    "duration": 556,
    "start_time": "2024-07-05T12:56:51.048Z"
   },
   {
    "duration": 381,
    "start_time": "2024-07-05T12:56:56.500Z"
   },
   {
    "duration": 530,
    "start_time": "2024-07-05T12:57:30.246Z"
   },
   {
    "duration": 349,
    "start_time": "2024-07-05T12:57:32.832Z"
   },
   {
    "duration": 546,
    "start_time": "2024-07-05T12:58:52.109Z"
   },
   {
    "duration": 551,
    "start_time": "2024-07-05T12:59:01.418Z"
   },
   {
    "duration": 1427,
    "start_time": "2024-07-05T13:00:35.333Z"
   },
   {
    "duration": 1375,
    "start_time": "2024-07-05T13:00:40.692Z"
   },
   {
    "duration": 2203,
    "start_time": "2024-07-05T13:01:18.256Z"
   },
   {
    "duration": 30,
    "start_time": "2024-07-05T13:02:30.650Z"
   },
   {
    "duration": 43,
    "start_time": "2024-07-05T13:03:00.613Z"
   },
   {
    "duration": 34,
    "start_time": "2024-07-05T13:05:10.123Z"
   },
   {
    "duration": 34,
    "start_time": "2024-07-05T13:05:18.322Z"
   },
   {
    "duration": 46,
    "start_time": "2024-07-05T13:05:42.945Z"
   },
   {
    "duration": 50,
    "start_time": "2024-07-05T13:06:39.535Z"
   },
   {
    "duration": 33,
    "start_time": "2024-07-05T13:07:32.332Z"
   },
   {
    "duration": 32,
    "start_time": "2024-07-05T13:07:55.045Z"
   },
   {
    "duration": 5,
    "start_time": "2024-07-05T13:07:56.863Z"
   },
   {
    "duration": 5,
    "start_time": "2024-07-05T13:07:59.105Z"
   },
   {
    "duration": 421,
    "start_time": "2024-07-05T13:08:12.636Z"
   },
   {
    "duration": 441,
    "start_time": "2024-07-05T13:08:23.555Z"
   },
   {
    "duration": 417,
    "start_time": "2024-07-05T13:08:37.844Z"
   },
   {
    "duration": 411,
    "start_time": "2024-07-05T13:10:01.270Z"
   },
   {
    "duration": 10,
    "start_time": "2024-07-05T13:10:23.503Z"
   },
   {
    "duration": 449,
    "start_time": "2024-07-05T13:10:30.912Z"
   },
   {
    "duration": 533,
    "start_time": "2024-07-05T13:10:40.932Z"
   },
   {
    "duration": 46,
    "start_time": "2024-07-05T13:11:46.013Z"
   },
   {
    "duration": 54,
    "start_time": "2024-07-05T13:11:56.684Z"
   },
   {
    "duration": 536,
    "start_time": "2024-07-05T13:12:40.117Z"
   },
   {
    "duration": 109,
    "start_time": "2024-07-05T13:12:47.981Z"
   },
   {
    "duration": 107,
    "start_time": "2024-07-05T13:12:55.464Z"
   },
   {
    "duration": 56,
    "start_time": "2024-07-05T13:13:33.461Z"
   },
   {
    "duration": 48,
    "start_time": "2024-07-05T13:13:59.145Z"
   },
   {
    "duration": 75,
    "start_time": "2024-07-05T13:14:24.691Z"
   },
   {
    "duration": 88,
    "start_time": "2024-07-05T13:15:44.508Z"
   },
   {
    "duration": 47,
    "start_time": "2024-07-05T13:15:49.896Z"
   },
   {
    "duration": 1292,
    "start_time": "2024-07-05T13:16:09.990Z"
   },
   {
    "duration": 1549,
    "start_time": "2024-07-05T13:16:11.285Z"
   },
   {
    "duration": 18,
    "start_time": "2024-07-05T13:16:12.837Z"
   },
   {
    "duration": 56,
    "start_time": "2024-07-05T13:16:12.860Z"
   },
   {
    "duration": 17,
    "start_time": "2024-07-05T13:16:12.919Z"
   },
   {
    "duration": 15,
    "start_time": "2024-07-05T13:16:12.939Z"
   },
   {
    "duration": 46,
    "start_time": "2024-07-05T13:16:12.957Z"
   },
   {
    "duration": 41,
    "start_time": "2024-07-05T13:16:13.006Z"
   },
   {
    "duration": 322,
    "start_time": "2024-07-05T13:16:13.050Z"
   },
   {
    "duration": 185,
    "start_time": "2024-07-05T13:16:13.379Z"
   },
   {
    "duration": 85,
    "start_time": "2024-07-05T13:16:13.566Z"
   },
   {
    "duration": 15,
    "start_time": "2024-07-05T13:16:13.654Z"
   },
   {
    "duration": 36,
    "start_time": "2024-07-05T13:16:13.671Z"
   },
   {
    "duration": 208,
    "start_time": "2024-07-05T13:16:13.713Z"
   },
   {
    "duration": 163,
    "start_time": "2024-07-05T13:16:13.924Z"
   },
   {
    "duration": 55,
    "start_time": "2024-07-05T13:16:14.090Z"
   },
   {
    "duration": 23,
    "start_time": "2024-07-05T13:16:14.148Z"
   },
   {
    "duration": 29,
    "start_time": "2024-07-05T13:16:14.174Z"
   },
   {
    "duration": 36,
    "start_time": "2024-07-05T13:16:14.206Z"
   },
   {
    "duration": 23,
    "start_time": "2024-07-05T13:16:14.245Z"
   },
   {
    "duration": 49,
    "start_time": "2024-07-05T13:16:14.270Z"
   },
   {
    "duration": 23,
    "start_time": "2024-07-05T13:16:14.322Z"
   },
   {
    "duration": 18,
    "start_time": "2024-07-05T13:16:14.348Z"
   },
   {
    "duration": 39,
    "start_time": "2024-07-05T13:16:14.368Z"
   },
   {
    "duration": 9,
    "start_time": "2024-07-05T13:16:14.410Z"
   },
   {
    "duration": 7,
    "start_time": "2024-07-05T13:16:14.422Z"
   },
   {
    "duration": 8,
    "start_time": "2024-07-05T13:16:14.432Z"
   },
   {
    "duration": 55,
    "start_time": "2024-07-05T13:16:14.450Z"
   },
   {
    "duration": 1345,
    "start_time": "2024-07-05T13:16:14.508Z"
   },
   {
    "duration": 1196,
    "start_time": "2024-07-05T13:16:15.856Z"
   },
   {
    "duration": 18,
    "start_time": "2024-07-05T13:16:17.055Z"
   },
   {
    "duration": 41,
    "start_time": "2024-07-05T13:16:17.076Z"
   },
   {
    "duration": 15,
    "start_time": "2024-07-05T13:16:17.120Z"
   },
   {
    "duration": 14,
    "start_time": "2024-07-05T13:16:17.140Z"
   },
   {
    "duration": 44,
    "start_time": "2024-07-05T13:16:17.157Z"
   },
   {
    "duration": 14,
    "start_time": "2024-07-05T13:16:17.205Z"
   },
   {
    "duration": 13,
    "start_time": "2024-07-05T13:16:17.222Z"
   },
   {
    "duration": 4,
    "start_time": "2024-07-05T13:16:17.237Z"
   },
   {
    "duration": 72,
    "start_time": "2024-07-05T13:16:17.244Z"
   },
   {
    "duration": 48,
    "start_time": "2024-07-05T13:16:17.319Z"
   },
   {
    "duration": 32,
    "start_time": "2024-07-05T13:16:17.369Z"
   },
   {
    "duration": 8,
    "start_time": "2024-07-05T13:16:17.405Z"
   },
   {
    "duration": 35,
    "start_time": "2024-07-05T13:16:17.417Z"
   },
   {
    "duration": 72,
    "start_time": "2024-07-05T13:16:17.455Z"
   },
   {
    "duration": 37,
    "start_time": "2024-07-05T13:16:17.530Z"
   },
   {
    "duration": 391,
    "start_time": "2024-07-05T13:16:17.570Z"
   },
   {
    "duration": 333,
    "start_time": "2024-07-05T13:16:17.964Z"
   },
   {
    "duration": 163,
    "start_time": "2024-07-05T13:16:18.303Z"
   },
   {
    "duration": 13,
    "start_time": "2024-07-05T13:16:18.469Z"
   },
   {
    "duration": 24,
    "start_time": "2024-07-05T13:16:18.501Z"
   },
   {
    "duration": 432,
    "start_time": "2024-07-05T13:16:18.528Z"
   },
   {
    "duration": 86,
    "start_time": "2024-07-05T13:16:18.963Z"
   },
   {
    "duration": 360,
    "start_time": "2024-07-05T13:16:19.051Z"
   },
   {
    "duration": 1084,
    "start_time": "2024-07-05T13:16:19.415Z"
   },
   {
    "duration": 1148,
    "start_time": "2024-07-05T13:16:20.502Z"
   },
   {
    "duration": 394,
    "start_time": "2024-07-05T13:16:21.652Z"
   },
   {
    "duration": 516,
    "start_time": "2024-07-05T13:16:22.049Z"
   },
   {
    "duration": 432,
    "start_time": "2024-07-05T13:16:22.569Z"
   },
   {
    "duration": 743,
    "start_time": "2024-07-05T13:16:23.004Z"
   },
   {
    "duration": 769,
    "start_time": "2024-07-05T13:16:23.750Z"
   },
   {
    "duration": 406,
    "start_time": "2024-07-05T13:16:24.523Z"
   },
   {
    "duration": 234,
    "start_time": "2024-07-05T13:16:24.932Z"
   },
   {
    "duration": 0,
    "start_time": "2024-07-05T13:16:25.170Z"
   },
   {
    "duration": 0,
    "start_time": "2024-07-05T13:16:25.173Z"
   },
   {
    "duration": 0,
    "start_time": "2024-07-05T13:16:25.175Z"
   },
   {
    "duration": 21,
    "start_time": "2024-07-05T13:17:14.044Z"
   },
   {
    "duration": 21,
    "start_time": "2024-07-05T13:17:24.865Z"
   },
   {
    "duration": 1878,
    "start_time": "2024-07-05T13:22:27.134Z"
   },
   {
    "duration": 2130,
    "start_time": "2024-07-05T13:23:14.834Z"
   },
   {
    "duration": 1665,
    "start_time": "2024-07-05T13:23:40.411Z"
   },
   {
    "duration": 1694,
    "start_time": "2024-07-05T13:24:20.073Z"
   },
   {
    "duration": 110,
    "start_time": "2024-07-05T13:25:30.649Z"
   },
   {
    "duration": 1499,
    "start_time": "2024-07-05T13:25:42.389Z"
   },
   {
    "duration": 4,
    "start_time": "2024-07-05T13:25:45.751Z"
   },
   {
    "duration": 4,
    "start_time": "2024-07-05T13:25:47.922Z"
   },
   {
    "duration": 430,
    "start_time": "2024-07-05T13:27:00.324Z"
   },
   {
    "duration": 409,
    "start_time": "2024-07-05T13:27:54.753Z"
   },
   {
    "duration": 417,
    "start_time": "2024-07-05T13:28:06.317Z"
   },
   {
    "duration": 418,
    "start_time": "2024-07-05T13:28:16.486Z"
   },
   {
    "duration": 6,
    "start_time": "2024-07-05T13:35:01.268Z"
   },
   {
    "duration": 410,
    "start_time": "2024-07-05T13:35:11.361Z"
   },
   {
    "duration": 461,
    "start_time": "2024-07-05T13:35:27.023Z"
   },
   {
    "duration": 434,
    "start_time": "2024-07-05T13:35:47.885Z"
   },
   {
    "duration": 815,
    "start_time": "2024-07-05T13:45:22.918Z"
   },
   {
    "duration": 784,
    "start_time": "2024-07-05T13:46:51.235Z"
   },
   {
    "duration": 1592,
    "start_time": "2024-07-05T13:50:44.323Z"
   },
   {
    "duration": 5,
    "start_time": "2024-07-05T13:50:47.181Z"
   },
   {
    "duration": 4,
    "start_time": "2024-07-05T13:50:51.259Z"
   },
   {
    "duration": 288,
    "start_time": "2024-07-05T13:50:52.998Z"
   },
   {
    "duration": 1614,
    "start_time": "2024-07-05T13:52:52.275Z"
   },
   {
    "duration": 5,
    "start_time": "2024-07-05T13:53:21.585Z"
   },
   {
    "duration": 1604,
    "start_time": "2024-07-05T13:54:11.063Z"
   },
   {
    "duration": 280,
    "start_time": "2024-07-05T13:55:09.817Z"
   },
   {
    "duration": 1649,
    "start_time": "2024-07-05T13:57:52.699Z"
   },
   {
    "duration": 5,
    "start_time": "2024-07-05T13:59:10.007Z"
   },
   {
    "duration": 3,
    "start_time": "2024-07-05T13:59:12.043Z"
   },
   {
    "duration": 6,
    "start_time": "2024-07-05T13:59:30.961Z"
   },
   {
    "duration": 5,
    "start_time": "2024-07-05T14:00:04.039Z"
   },
   {
    "duration": 90,
    "start_time": "2024-07-05T14:02:17.063Z"
   },
   {
    "duration": 30,
    "start_time": "2024-07-05T14:02:34.353Z"
   },
   {
    "duration": 5,
    "start_time": "2024-07-05T14:02:44.183Z"
   },
   {
    "duration": 8,
    "start_time": "2024-07-05T14:03:17.329Z"
   },
   {
    "duration": 6,
    "start_time": "2024-07-05T14:04:59.732Z"
   },
   {
    "duration": 7,
    "start_time": "2024-07-05T14:05:21.738Z"
   },
   {
    "duration": 262,
    "start_time": "2024-07-05T14:05:48.558Z"
   },
   {
    "duration": 1724,
    "start_time": "2024-07-05T14:06:11.120Z"
   },
   {
    "duration": 6,
    "start_time": "2024-07-05T14:07:04.692Z"
   },
   {
    "duration": 1283,
    "start_time": "2024-07-05T14:07:45.769Z"
   },
   {
    "duration": 1553,
    "start_time": "2024-07-05T14:07:47.055Z"
   },
   {
    "duration": 20,
    "start_time": "2024-07-05T14:07:48.611Z"
   },
   {
    "duration": 65,
    "start_time": "2024-07-05T14:07:48.636Z"
   },
   {
    "duration": 19,
    "start_time": "2024-07-05T14:07:48.706Z"
   },
   {
    "duration": 14,
    "start_time": "2024-07-05T14:07:48.727Z"
   },
   {
    "duration": 13,
    "start_time": "2024-07-05T14:07:48.745Z"
   },
   {
    "duration": 81,
    "start_time": "2024-07-05T14:07:48.761Z"
   },
   {
    "duration": 324,
    "start_time": "2024-07-05T14:07:48.846Z"
   },
   {
    "duration": 209,
    "start_time": "2024-07-05T14:07:49.176Z"
   },
   {
    "duration": 80,
    "start_time": "2024-07-05T14:07:49.388Z"
   },
   {
    "duration": 39,
    "start_time": "2024-07-05T14:07:49.471Z"
   },
   {
    "duration": 11,
    "start_time": "2024-07-05T14:07:49.513Z"
   },
   {
    "duration": 207,
    "start_time": "2024-07-05T14:07:49.526Z"
   },
   {
    "duration": 183,
    "start_time": "2024-07-05T14:07:49.738Z"
   },
   {
    "duration": 48,
    "start_time": "2024-07-05T14:07:49.924Z"
   },
   {
    "duration": 48,
    "start_time": "2024-07-05T14:07:49.975Z"
   },
   {
    "duration": 7,
    "start_time": "2024-07-05T14:07:50.026Z"
   },
   {
    "duration": 34,
    "start_time": "2024-07-05T14:07:50.036Z"
   },
   {
    "duration": 26,
    "start_time": "2024-07-05T14:07:50.103Z"
   },
   {
    "duration": 15,
    "start_time": "2024-07-05T14:07:50.133Z"
   },
   {
    "duration": 55,
    "start_time": "2024-07-05T14:07:50.151Z"
   },
   {
    "duration": 17,
    "start_time": "2024-07-05T14:07:50.212Z"
   },
   {
    "duration": 7,
    "start_time": "2024-07-05T14:07:50.232Z"
   },
   {
    "duration": 6,
    "start_time": "2024-07-05T14:07:50.242Z"
   },
   {
    "duration": 49,
    "start_time": "2024-07-05T14:07:50.251Z"
   },
   {
    "duration": 10,
    "start_time": "2024-07-05T14:07:50.303Z"
   },
   {
    "duration": 6,
    "start_time": "2024-07-05T14:07:50.323Z"
   },
   {
    "duration": 1352,
    "start_time": "2024-07-05T14:07:50.332Z"
   },
   {
    "duration": 1160,
    "start_time": "2024-07-05T14:07:51.687Z"
   },
   {
    "duration": 16,
    "start_time": "2024-07-05T14:07:52.851Z"
   },
   {
    "duration": 32,
    "start_time": "2024-07-05T14:07:52.871Z"
   },
   {
    "duration": 15,
    "start_time": "2024-07-05T14:07:52.906Z"
   },
   {
    "duration": 14,
    "start_time": "2024-07-05T14:07:52.924Z"
   },
   {
    "duration": 10,
    "start_time": "2024-07-05T14:07:52.940Z"
   },
   {
    "duration": 61,
    "start_time": "2024-07-05T14:07:52.953Z"
   },
   {
    "duration": 11,
    "start_time": "2024-07-05T14:07:53.017Z"
   },
   {
    "duration": 3,
    "start_time": "2024-07-05T14:07:53.031Z"
   },
   {
    "duration": 76,
    "start_time": "2024-07-05T14:07:53.037Z"
   },
   {
    "duration": 55,
    "start_time": "2024-07-05T14:07:53.118Z"
   },
   {
    "duration": 33,
    "start_time": "2024-07-05T14:07:53.177Z"
   },
   {
    "duration": 9,
    "start_time": "2024-07-05T14:07:53.213Z"
   },
   {
    "duration": 36,
    "start_time": "2024-07-05T14:07:53.224Z"
   },
   {
    "duration": 67,
    "start_time": "2024-07-05T14:07:53.262Z"
   },
   {
    "duration": 36,
    "start_time": "2024-07-05T14:07:53.332Z"
   },
   {
    "duration": 406,
    "start_time": "2024-07-05T14:07:53.371Z"
   },
   {
    "duration": 310,
    "start_time": "2024-07-05T14:07:53.780Z"
   },
   {
    "duration": 166,
    "start_time": "2024-07-05T14:07:54.093Z"
   },
   {
    "duration": 15,
    "start_time": "2024-07-05T14:07:54.265Z"
   },
   {
    "duration": 38,
    "start_time": "2024-07-05T14:07:54.283Z"
   },
   {
    "duration": 448,
    "start_time": "2024-07-05T14:07:54.325Z"
   },
   {
    "duration": 90,
    "start_time": "2024-07-05T14:07:54.776Z"
   },
   {
    "duration": 349,
    "start_time": "2024-07-05T14:07:54.869Z"
   },
   {
    "duration": 1118,
    "start_time": "2024-07-05T14:07:55.221Z"
   },
   {
    "duration": 1135,
    "start_time": "2024-07-05T14:07:56.345Z"
   },
   {
    "duration": 403,
    "start_time": "2024-07-05T14:07:57.483Z"
   },
   {
    "duration": 564,
    "start_time": "2024-07-05T14:07:57.889Z"
   },
   {
    "duration": 452,
    "start_time": "2024-07-05T14:07:58.456Z"
   },
   {
    "duration": 733,
    "start_time": "2024-07-05T14:07:58.914Z"
   },
   {
    "duration": 632,
    "start_time": "2024-07-05T14:07:59.650Z"
   },
   {
    "duration": 379,
    "start_time": "2024-07-05T14:08:00.285Z"
   },
   {
    "duration": 1771,
    "start_time": "2024-07-05T14:08:00.667Z"
   },
   {
    "duration": 6,
    "start_time": "2024-07-05T14:08:02.441Z"
   },
   {
    "duration": 6,
    "start_time": "2024-07-05T14:08:02.451Z"
   },
   {
    "duration": 529,
    "start_time": "2024-07-05T14:08:02.460Z"
   },
   {
    "duration": 1663,
    "start_time": "2024-07-05T14:08:06.491Z"
   },
   {
    "duration": 9,
    "start_time": "2024-07-05T14:10:11.096Z"
   },
   {
    "duration": 6,
    "start_time": "2024-07-05T14:11:24.696Z"
   },
   {
    "duration": 4,
    "start_time": "2024-07-05T14:11:44.928Z"
   },
   {
    "duration": 2342,
    "start_time": "2024-07-05T14:12:39.807Z"
   },
   {
    "duration": 1652,
    "start_time": "2024-07-05T14:13:06.780Z"
   },
   {
    "duration": 1084,
    "start_time": "2024-07-05T14:14:19.871Z"
   },
   {
    "duration": 1974,
    "start_time": "2024-07-05T14:14:43.181Z"
   },
   {
    "duration": 1645,
    "start_time": "2024-07-05T14:14:52.911Z"
   },
   {
    "duration": 6,
    "start_time": "2024-07-05T14:15:39.785Z"
   },
   {
    "duration": 5,
    "start_time": "2024-07-05T14:15:44.444Z"
   },
   {
    "duration": 508,
    "start_time": "2024-07-05T14:15:46.986Z"
   },
   {
    "duration": 580,
    "start_time": "2024-07-05T14:16:54.651Z"
   },
   {
    "duration": 505,
    "start_time": "2024-07-05T14:17:11.187Z"
   },
   {
    "duration": 444,
    "start_time": "2024-07-05T14:20:41.664Z"
   },
   {
    "duration": 8,
    "start_time": "2024-07-05T14:23:55.767Z"
   },
   {
    "duration": 528,
    "start_time": "2024-07-05T14:24:06.114Z"
   },
   {
    "duration": 532,
    "start_time": "2024-07-05T14:25:13.596Z"
   },
   {
    "duration": 189,
    "start_time": "2024-07-05T14:25:41.129Z"
   },
   {
    "duration": 403,
    "start_time": "2024-07-05T14:26:05.138Z"
   },
   {
    "duration": 174,
    "start_time": "2024-07-05T14:26:46.210Z"
   },
   {
    "duration": 262,
    "start_time": "2024-07-05T14:33:34.928Z"
   },
   {
    "duration": 52,
    "start_time": "2024-07-05T14:34:14.830Z"
   },
   {
    "duration": 63,
    "start_time": "2024-07-05T14:35:46.980Z"
   },
   {
    "duration": 1407,
    "start_time": "2024-07-05T14:36:17.327Z"
   },
   {
    "duration": 1753,
    "start_time": "2024-07-05T14:36:18.738Z"
   },
   {
    "duration": 31,
    "start_time": "2024-07-05T14:36:20.494Z"
   },
   {
    "duration": 38,
    "start_time": "2024-07-05T14:36:20.534Z"
   },
   {
    "duration": 39,
    "start_time": "2024-07-05T14:36:20.581Z"
   },
   {
    "duration": 15,
    "start_time": "2024-07-05T14:36:20.626Z"
   },
   {
    "duration": 15,
    "start_time": "2024-07-05T14:36:20.645Z"
   },
   {
    "duration": 62,
    "start_time": "2024-07-05T14:36:20.663Z"
   },
   {
    "duration": 350,
    "start_time": "2024-07-05T14:36:20.729Z"
   },
   {
    "duration": 207,
    "start_time": "2024-07-05T14:36:21.087Z"
   },
   {
    "duration": 82,
    "start_time": "2024-07-05T14:36:21.298Z"
   },
   {
    "duration": 32,
    "start_time": "2024-07-05T14:36:21.384Z"
   },
   {
    "duration": 15,
    "start_time": "2024-07-05T14:36:21.422Z"
   },
   {
    "duration": 209,
    "start_time": "2024-07-05T14:36:21.441Z"
   },
   {
    "duration": 218,
    "start_time": "2024-07-05T14:36:21.653Z"
   },
   {
    "duration": 63,
    "start_time": "2024-07-05T14:36:21.874Z"
   },
   {
    "duration": 26,
    "start_time": "2024-07-05T14:36:21.939Z"
   },
   {
    "duration": 8,
    "start_time": "2024-07-05T14:36:21.969Z"
   },
   {
    "duration": 56,
    "start_time": "2024-07-05T14:36:21.979Z"
   },
   {
    "duration": 29,
    "start_time": "2024-07-05T14:36:22.038Z"
   },
   {
    "duration": 40,
    "start_time": "2024-07-05T14:36:22.071Z"
   },
   {
    "duration": 32,
    "start_time": "2024-07-05T14:36:22.114Z"
   },
   {
    "duration": 18,
    "start_time": "2024-07-05T14:36:22.148Z"
   },
   {
    "duration": 56,
    "start_time": "2024-07-05T14:36:22.169Z"
   },
   {
    "duration": 7,
    "start_time": "2024-07-05T14:36:22.228Z"
   },
   {
    "duration": 7,
    "start_time": "2024-07-05T14:36:22.238Z"
   },
   {
    "duration": 8,
    "start_time": "2024-07-05T14:36:22.247Z"
   },
   {
    "duration": 6,
    "start_time": "2024-07-05T14:36:22.266Z"
   },
   {
    "duration": 1452,
    "start_time": "2024-07-05T14:36:22.301Z"
   },
   {
    "duration": 1260,
    "start_time": "2024-07-05T14:36:23.756Z"
   },
   {
    "duration": 20,
    "start_time": "2024-07-05T14:36:25.019Z"
   },
   {
    "duration": 15,
    "start_time": "2024-07-05T14:36:25.042Z"
   },
   {
    "duration": 13,
    "start_time": "2024-07-05T14:36:25.060Z"
   },
   {
    "duration": 19,
    "start_time": "2024-07-05T14:36:25.109Z"
   },
   {
    "duration": 10,
    "start_time": "2024-07-05T14:36:25.135Z"
   },
   {
    "duration": 15,
    "start_time": "2024-07-05T14:36:25.148Z"
   },
   {
    "duration": 43,
    "start_time": "2024-07-05T14:36:25.166Z"
   },
   {
    "duration": 5,
    "start_time": "2024-07-05T14:36:25.212Z"
   },
   {
    "duration": 38,
    "start_time": "2024-07-05T14:36:25.220Z"
   },
   {
    "duration": 78,
    "start_time": "2024-07-05T14:36:25.261Z"
   },
   {
    "duration": 14,
    "start_time": "2024-07-05T14:36:25.342Z"
   },
   {
    "duration": 9,
    "start_time": "2024-07-05T14:36:25.360Z"
   },
   {
    "duration": 46,
    "start_time": "2024-07-05T14:36:25.404Z"
   },
   {
    "duration": 77,
    "start_time": "2024-07-05T14:36:25.453Z"
   },
   {
    "duration": 38,
    "start_time": "2024-07-05T14:36:25.533Z"
   },
   {
    "duration": 409,
    "start_time": "2024-07-05T14:36:25.574Z"
   },
   {
    "duration": 538,
    "start_time": "2024-07-05T14:36:25.986Z"
   },
   {
    "duration": 167,
    "start_time": "2024-07-05T14:36:26.527Z"
   },
   {
    "duration": 19,
    "start_time": "2024-07-05T14:36:26.697Z"
   },
   {
    "duration": 28,
    "start_time": "2024-07-05T14:36:26.720Z"
   },
   {
    "duration": 482,
    "start_time": "2024-07-05T14:36:26.758Z"
   },
   {
    "duration": 100,
    "start_time": "2024-07-05T14:36:27.246Z"
   },
   {
    "duration": 408,
    "start_time": "2024-07-05T14:36:27.349Z"
   },
   {
    "duration": 1168,
    "start_time": "2024-07-05T14:36:27.760Z"
   },
   {
    "duration": 1263,
    "start_time": "2024-07-05T14:36:28.931Z"
   },
   {
    "duration": 437,
    "start_time": "2024-07-05T14:36:30.197Z"
   },
   {
    "duration": 550,
    "start_time": "2024-07-05T14:36:30.637Z"
   },
   {
    "duration": 455,
    "start_time": "2024-07-05T14:36:31.190Z"
   },
   {
    "duration": 781,
    "start_time": "2024-07-05T14:36:31.648Z"
   },
   {
    "duration": 687,
    "start_time": "2024-07-05T14:36:32.433Z"
   },
   {
    "duration": 377,
    "start_time": "2024-07-05T14:36:33.123Z"
   },
   {
    "duration": 1925,
    "start_time": "2024-07-05T14:36:33.522Z"
   },
   {
    "duration": 6,
    "start_time": "2024-07-05T14:36:35.450Z"
   },
   {
    "duration": 6,
    "start_time": "2024-07-05T14:36:35.460Z"
   },
   {
    "duration": 1412,
    "start_time": "2024-07-05T14:36:35.470Z"
   },
   {
    "duration": 55,
    "start_time": "2024-07-05T14:37:01.118Z"
   },
   {
    "duration": 65,
    "start_time": "2024-07-05T14:38:25.998Z"
   },
   {
    "duration": 614,
    "start_time": "2024-07-05T14:39:25.114Z"
   },
   {
    "duration": 367,
    "start_time": "2024-07-05T14:39:45.774Z"
   },
   {
    "duration": 1329,
    "start_time": "2024-07-05T14:40:13.465Z"
   },
   {
    "duration": 1806,
    "start_time": "2024-07-05T14:40:14.802Z"
   },
   {
    "duration": 31,
    "start_time": "2024-07-05T14:40:16.614Z"
   },
   {
    "duration": 31,
    "start_time": "2024-07-05T14:40:16.647Z"
   },
   {
    "duration": 44,
    "start_time": "2024-07-05T14:40:16.683Z"
   },
   {
    "duration": 20,
    "start_time": "2024-07-05T14:40:16.730Z"
   },
   {
    "duration": 14,
    "start_time": "2024-07-05T14:40:16.754Z"
   },
   {
    "duration": 76,
    "start_time": "2024-07-05T14:40:16.771Z"
   },
   {
    "duration": 329,
    "start_time": "2024-07-05T14:40:16.850Z"
   },
   {
    "duration": 209,
    "start_time": "2024-07-05T14:40:17.182Z"
   },
   {
    "duration": 89,
    "start_time": "2024-07-05T14:40:17.394Z"
   },
   {
    "duration": 38,
    "start_time": "2024-07-05T14:40:17.486Z"
   },
   {
    "duration": 12,
    "start_time": "2024-07-05T14:40:17.534Z"
   },
   {
    "duration": 228,
    "start_time": "2024-07-05T14:40:17.552Z"
   },
   {
    "duration": 187,
    "start_time": "2024-07-05T14:40:17.783Z"
   },
   {
    "duration": 59,
    "start_time": "2024-07-05T14:40:17.973Z"
   },
   {
    "duration": 22,
    "start_time": "2024-07-05T14:40:18.040Z"
   },
   {
    "duration": 9,
    "start_time": "2024-07-05T14:40:18.065Z"
   },
   {
    "duration": 72,
    "start_time": "2024-07-05T14:40:18.076Z"
   },
   {
    "duration": 28,
    "start_time": "2024-07-05T14:40:18.153Z"
   },
   {
    "duration": 22,
    "start_time": "2024-07-05T14:40:18.188Z"
   },
   {
    "duration": 30,
    "start_time": "2024-07-05T14:40:18.219Z"
   },
   {
    "duration": 21,
    "start_time": "2024-07-05T14:40:18.252Z"
   },
   {
    "duration": 8,
    "start_time": "2024-07-05T14:40:18.276Z"
   },
   {
    "duration": 33,
    "start_time": "2024-07-05T14:40:18.302Z"
   },
   {
    "duration": 7,
    "start_time": "2024-07-05T14:40:18.338Z"
   },
   {
    "duration": 8,
    "start_time": "2024-07-05T14:40:18.349Z"
   },
   {
    "duration": 7,
    "start_time": "2024-07-05T14:40:18.360Z"
   },
   {
    "duration": 1466,
    "start_time": "2024-07-05T14:40:18.370Z"
   },
   {
    "duration": 1266,
    "start_time": "2024-07-05T14:40:19.838Z"
   },
   {
    "duration": 28,
    "start_time": "2024-07-05T14:40:21.115Z"
   },
   {
    "duration": 21,
    "start_time": "2024-07-05T14:40:21.145Z"
   },
   {
    "duration": 36,
    "start_time": "2024-07-05T14:40:21.169Z"
   },
   {
    "duration": 15,
    "start_time": "2024-07-05T14:40:21.212Z"
   },
   {
    "duration": 19,
    "start_time": "2024-07-05T14:40:21.230Z"
   },
   {
    "duration": 16,
    "start_time": "2024-07-05T14:40:21.253Z"
   },
   {
    "duration": 52,
    "start_time": "2024-07-05T14:40:21.272Z"
   },
   {
    "duration": 3,
    "start_time": "2024-07-05T14:40:21.327Z"
   },
   {
    "duration": 33,
    "start_time": "2024-07-05T14:40:21.337Z"
   },
   {
    "duration": 73,
    "start_time": "2024-07-05T14:40:21.373Z"
   },
   {
    "duration": 14,
    "start_time": "2024-07-05T14:40:21.455Z"
   },
   {
    "duration": 31,
    "start_time": "2024-07-05T14:40:21.472Z"
   },
   {
    "duration": 43,
    "start_time": "2024-07-05T14:40:21.505Z"
   },
   {
    "duration": 61,
    "start_time": "2024-07-05T14:40:21.551Z"
   },
   {
    "duration": 48,
    "start_time": "2024-07-05T14:40:21.617Z"
   },
   {
    "duration": 442,
    "start_time": "2024-07-05T14:40:21.668Z"
   },
   {
    "duration": 329,
    "start_time": "2024-07-05T14:40:22.121Z"
   },
   {
    "duration": 172,
    "start_time": "2024-07-05T14:40:22.452Z"
   },
   {
    "duration": 13,
    "start_time": "2024-07-05T14:40:22.633Z"
   },
   {
    "duration": 20,
    "start_time": "2024-07-05T14:40:22.649Z"
   },
   {
    "duration": 478,
    "start_time": "2024-07-05T14:40:22.672Z"
   },
   {
    "duration": 97,
    "start_time": "2024-07-05T14:40:23.153Z"
   },
   {
    "duration": 393,
    "start_time": "2024-07-05T14:40:23.253Z"
   },
   {
    "duration": 1142,
    "start_time": "2024-07-05T14:40:23.649Z"
   },
   {
    "duration": 1296,
    "start_time": "2024-07-05T14:40:24.795Z"
   },
   {
    "duration": 468,
    "start_time": "2024-07-05T14:40:26.094Z"
   },
   {
    "duration": 609,
    "start_time": "2024-07-05T14:40:26.566Z"
   },
   {
    "duration": 549,
    "start_time": "2024-07-05T14:40:27.179Z"
   },
   {
    "duration": 1133,
    "start_time": "2024-07-05T14:40:27.731Z"
   },
   {
    "duration": 704,
    "start_time": "2024-07-05T14:40:28.867Z"
   },
   {
    "duration": 398,
    "start_time": "2024-07-05T14:40:29.575Z"
   },
   {
    "duration": 1887,
    "start_time": "2024-07-05T14:40:29.976Z"
   },
   {
    "duration": 9,
    "start_time": "2024-07-05T14:40:31.866Z"
   },
   {
    "duration": 33,
    "start_time": "2024-07-05T14:40:31.878Z"
   },
   {
    "duration": 568,
    "start_time": "2024-07-05T14:40:31.914Z"
   },
   {
    "duration": 1994,
    "start_time": "2024-07-05T14:45:54.685Z"
   },
   {
    "duration": 1400,
    "start_time": "2024-07-05T14:46:23.224Z"
   },
   {
    "duration": 1890,
    "start_time": "2024-07-05T14:46:24.631Z"
   },
   {
    "duration": 23,
    "start_time": "2024-07-05T14:46:26.524Z"
   },
   {
    "duration": 33,
    "start_time": "2024-07-05T14:46:26.601Z"
   },
   {
    "duration": 22,
    "start_time": "2024-07-05T14:46:26.637Z"
   },
   {
    "duration": 58,
    "start_time": "2024-07-05T14:46:26.662Z"
   },
   {
    "duration": 20,
    "start_time": "2024-07-05T14:46:26.725Z"
   },
   {
    "duration": 82,
    "start_time": "2024-07-05T14:46:26.754Z"
   },
   {
    "duration": 386,
    "start_time": "2024-07-05T14:46:26.839Z"
   },
   {
    "duration": 225,
    "start_time": "2024-07-05T14:46:27.232Z"
   },
   {
    "duration": 89,
    "start_time": "2024-07-05T14:46:27.460Z"
   },
   {
    "duration": 19,
    "start_time": "2024-07-05T14:46:27.552Z"
   },
   {
    "duration": 35,
    "start_time": "2024-07-05T14:46:27.574Z"
   },
   {
    "duration": 218,
    "start_time": "2024-07-05T14:46:27.622Z"
   },
   {
    "duration": 193,
    "start_time": "2024-07-05T14:46:27.842Z"
   },
   {
    "duration": 47,
    "start_time": "2024-07-05T14:46:28.038Z"
   },
   {
    "duration": 51,
    "start_time": "2024-07-05T14:46:28.088Z"
   },
   {
    "duration": 9,
    "start_time": "2024-07-05T14:46:28.142Z"
   },
   {
    "duration": 76,
    "start_time": "2024-07-05T14:46:28.155Z"
   },
   {
    "duration": 44,
    "start_time": "2024-07-05T14:46:28.235Z"
   },
   {
    "duration": 16,
    "start_time": "2024-07-05T14:46:28.282Z"
   },
   {
    "duration": 42,
    "start_time": "2024-07-05T14:46:28.305Z"
   },
   {
    "duration": 22,
    "start_time": "2024-07-05T14:46:28.350Z"
   },
   {
    "duration": 9,
    "start_time": "2024-07-05T14:46:28.375Z"
   },
   {
    "duration": 35,
    "start_time": "2024-07-05T14:46:28.388Z"
   },
   {
    "duration": 6,
    "start_time": "2024-07-05T14:46:28.435Z"
   },
   {
    "duration": 7,
    "start_time": "2024-07-05T14:46:28.445Z"
   },
   {
    "duration": 6,
    "start_time": "2024-07-05T14:46:28.462Z"
   },
   {
    "duration": 1449,
    "start_time": "2024-07-05T14:46:28.471Z"
   },
   {
    "duration": 1230,
    "start_time": "2024-07-05T14:46:29.924Z"
   },
   {
    "duration": 17,
    "start_time": "2024-07-05T14:46:31.156Z"
   },
   {
    "duration": 38,
    "start_time": "2024-07-05T14:46:31.176Z"
   },
   {
    "duration": 22,
    "start_time": "2024-07-05T14:46:31.217Z"
   },
   {
    "duration": 13,
    "start_time": "2024-07-05T14:46:31.242Z"
   },
   {
    "duration": 10,
    "start_time": "2024-07-05T14:46:31.260Z"
   },
   {
    "duration": 17,
    "start_time": "2024-07-05T14:46:31.301Z"
   },
   {
    "duration": 12,
    "start_time": "2024-07-05T14:46:31.321Z"
   },
   {
    "duration": 3,
    "start_time": "2024-07-05T14:46:31.336Z"
   },
   {
    "duration": 92,
    "start_time": "2024-07-05T14:46:31.342Z"
   },
   {
    "duration": 50,
    "start_time": "2024-07-05T14:46:31.436Z"
   },
   {
    "duration": 36,
    "start_time": "2024-07-05T14:46:31.489Z"
   },
   {
    "duration": 9,
    "start_time": "2024-07-05T14:46:31.527Z"
   },
   {
    "duration": 36,
    "start_time": "2024-07-05T14:46:31.539Z"
   },
   {
    "duration": 60,
    "start_time": "2024-07-05T14:46:31.577Z"
   },
   {
    "duration": 38,
    "start_time": "2024-07-05T14:46:31.640Z"
   },
   {
    "duration": 415,
    "start_time": "2024-07-05T14:46:31.681Z"
   },
   {
    "duration": 356,
    "start_time": "2024-07-05T14:46:32.102Z"
   },
   {
    "duration": 176,
    "start_time": "2024-07-05T14:46:32.461Z"
   },
   {
    "duration": 16,
    "start_time": "2024-07-05T14:46:32.650Z"
   },
   {
    "duration": 22,
    "start_time": "2024-07-05T14:46:32.669Z"
   },
   {
    "duration": 509,
    "start_time": "2024-07-05T14:46:32.693Z"
   },
   {
    "duration": 81,
    "start_time": "2024-07-05T14:46:33.206Z"
   },
   {
    "duration": 398,
    "start_time": "2024-07-05T14:46:33.290Z"
   },
   {
    "duration": 1132,
    "start_time": "2024-07-05T14:46:33.692Z"
   },
   {
    "duration": 1236,
    "start_time": "2024-07-05T14:46:34.833Z"
   },
   {
    "duration": 458,
    "start_time": "2024-07-05T14:46:36.072Z"
   },
   {
    "duration": 559,
    "start_time": "2024-07-05T14:46:36.533Z"
   },
   {
    "duration": 493,
    "start_time": "2024-07-05T14:46:37.095Z"
   },
   {
    "duration": 820,
    "start_time": "2024-07-05T14:46:37.592Z"
   },
   {
    "duration": 721,
    "start_time": "2024-07-05T14:46:38.423Z"
   },
   {
    "duration": 425,
    "start_time": "2024-07-05T14:46:39.149Z"
   },
   {
    "duration": 1917,
    "start_time": "2024-07-05T14:46:39.578Z"
   },
   {
    "duration": 1680,
    "start_time": "2024-07-05T14:47:53.293Z"
   },
   {
    "duration": 1699,
    "start_time": "2024-07-05T14:48:07.097Z"
   },
   {
    "duration": 1850,
    "start_time": "2024-07-05T14:48:35.326Z"
   },
   {
    "duration": 1674,
    "start_time": "2024-07-05T14:48:47.254Z"
   },
   {
    "duration": 1703,
    "start_time": "2024-07-05T14:50:13.025Z"
   },
   {
    "duration": 1725,
    "start_time": "2024-07-05T14:50:36.781Z"
   },
   {
    "duration": 1687,
    "start_time": "2024-07-05T14:53:06.877Z"
   },
   {
    "duration": 1677,
    "start_time": "2024-07-05T14:53:23.249Z"
   },
   {
    "duration": 341,
    "start_time": "2024-07-05T14:54:42.267Z"
   },
   {
    "duration": 7,
    "start_time": "2024-07-05T14:55:17.636Z"
   },
   {
    "duration": 27,
    "start_time": "2024-07-05T14:55:37.128Z"
   },
   {
    "duration": 13,
    "start_time": "2024-07-05T14:56:13.859Z"
   },
   {
    "duration": 21,
    "start_time": "2024-07-05T14:56:25.908Z"
   },
   {
    "duration": 20,
    "start_time": "2024-07-05T15:02:32.049Z"
   },
   {
    "duration": 21,
    "start_time": "2024-07-05T15:03:45.408Z"
   },
   {
    "duration": 1353,
    "start_time": "2024-07-05T15:07:28.605Z"
   },
   {
    "duration": 1521,
    "start_time": "2024-07-05T15:07:29.962Z"
   },
   {
    "duration": 23,
    "start_time": "2024-07-05T15:07:31.486Z"
   },
   {
    "duration": 32,
    "start_time": "2024-07-05T15:07:31.517Z"
   },
   {
    "duration": 16,
    "start_time": "2024-07-05T15:07:31.552Z"
   },
   {
    "duration": 14,
    "start_time": "2024-07-05T15:07:31.603Z"
   },
   {
    "duration": 13,
    "start_time": "2024-07-05T15:07:31.620Z"
   },
   {
    "duration": 76,
    "start_time": "2024-07-05T15:07:31.636Z"
   },
   {
    "duration": 305,
    "start_time": "2024-07-05T15:07:31.715Z"
   },
   {
    "duration": 212,
    "start_time": "2024-07-05T15:07:32.026Z"
   },
   {
    "duration": 92,
    "start_time": "2024-07-05T15:07:32.241Z"
   },
   {
    "duration": 15,
    "start_time": "2024-07-05T15:07:32.336Z"
   },
   {
    "duration": 12,
    "start_time": "2024-07-05T15:07:32.354Z"
   },
   {
    "duration": 217,
    "start_time": "2024-07-05T15:07:32.369Z"
   },
   {
    "duration": 163,
    "start_time": "2024-07-05T15:07:32.589Z"
   },
   {
    "duration": 59,
    "start_time": "2024-07-05T15:07:32.754Z"
   },
   {
    "duration": 23,
    "start_time": "2024-07-05T15:07:32.817Z"
   },
   {
    "duration": 7,
    "start_time": "2024-07-05T15:07:32.843Z"
   },
   {
    "duration": 68,
    "start_time": "2024-07-05T15:07:32.853Z"
   },
   {
    "duration": 25,
    "start_time": "2024-07-05T15:07:32.924Z"
   },
   {
    "duration": 15,
    "start_time": "2024-07-05T15:07:32.952Z"
   },
   {
    "duration": 25,
    "start_time": "2024-07-05T15:07:33.003Z"
   },
   {
    "duration": 17,
    "start_time": "2024-07-05T15:07:33.031Z"
   },
   {
    "duration": 8,
    "start_time": "2024-07-05T15:07:33.051Z"
   },
   {
    "duration": 42,
    "start_time": "2024-07-05T15:07:33.063Z"
   },
   {
    "duration": 6,
    "start_time": "2024-07-05T15:07:33.109Z"
   },
   {
    "duration": 8,
    "start_time": "2024-07-05T15:07:33.118Z"
   },
   {
    "duration": 7,
    "start_time": "2024-07-05T15:07:33.135Z"
   },
   {
    "duration": 1409,
    "start_time": "2024-07-05T15:07:33.144Z"
   },
   {
    "duration": 1174,
    "start_time": "2024-07-05T15:07:34.555Z"
   },
   {
    "duration": 17,
    "start_time": "2024-07-05T15:07:35.732Z"
   },
   {
    "duration": 13,
    "start_time": "2024-07-05T15:07:35.751Z"
   },
   {
    "duration": 46,
    "start_time": "2024-07-05T15:07:35.767Z"
   },
   {
    "duration": 14,
    "start_time": "2024-07-05T15:07:35.816Z"
   },
   {
    "duration": 9,
    "start_time": "2024-07-05T15:07:35.833Z"
   },
   {
    "duration": 56,
    "start_time": "2024-07-05T15:07:35.846Z"
   },
   {
    "duration": 13,
    "start_time": "2024-07-05T15:07:35.905Z"
   },
   {
    "duration": 3,
    "start_time": "2024-07-05T15:07:35.921Z"
   },
   {
    "duration": 36,
    "start_time": "2024-07-05T15:07:35.931Z"
   },
   {
    "duration": 83,
    "start_time": "2024-07-05T15:07:35.970Z"
   },
   {
    "duration": 14,
    "start_time": "2024-07-05T15:07:36.056Z"
   },
   {
    "duration": 10,
    "start_time": "2024-07-05T15:07:36.102Z"
   },
   {
    "duration": 38,
    "start_time": "2024-07-05T15:07:36.118Z"
   },
   {
    "duration": 67,
    "start_time": "2024-07-05T15:07:36.158Z"
   },
   {
    "duration": 37,
    "start_time": "2024-07-05T15:07:36.228Z"
   },
   {
    "duration": 399,
    "start_time": "2024-07-05T15:07:36.268Z"
   },
   {
    "duration": 313,
    "start_time": "2024-07-05T15:07:36.673Z"
   },
   {
    "duration": 167,
    "start_time": "2024-07-05T15:07:36.989Z"
   },
   {
    "duration": 13,
    "start_time": "2024-07-05T15:07:37.159Z"
   },
   {
    "duration": 41,
    "start_time": "2024-07-05T15:07:37.174Z"
   },
   {
    "duration": 428,
    "start_time": "2024-07-05T15:07:37.218Z"
   },
   {
    "duration": 88,
    "start_time": "2024-07-05T15:07:37.651Z"
   },
   {
    "duration": 378,
    "start_time": "2024-07-05T15:07:37.741Z"
   },
   {
    "duration": 1117,
    "start_time": "2024-07-05T15:07:38.122Z"
   },
   {
    "duration": 1148,
    "start_time": "2024-07-05T15:07:39.242Z"
   },
   {
    "duration": 397,
    "start_time": "2024-07-05T15:07:40.393Z"
   },
   {
    "duration": 527,
    "start_time": "2024-07-05T15:07:40.794Z"
   },
   {
    "duration": 431,
    "start_time": "2024-07-05T15:07:41.324Z"
   },
   {
    "duration": 732,
    "start_time": "2024-07-05T15:07:41.758Z"
   },
   {
    "duration": 623,
    "start_time": "2024-07-05T15:07:42.493Z"
   },
   {
    "duration": 368,
    "start_time": "2024-07-05T15:07:43.119Z"
   },
   {
    "duration": 1647,
    "start_time": "2024-07-05T15:07:43.490Z"
   },
   {
    "duration": 36,
    "start_time": "2024-07-05T15:07:45.140Z"
   },
   {
    "duration": 42,
    "start_time": "2024-07-05T15:07:45.179Z"
   },
   {
    "duration": 4869,
    "start_time": "2024-07-05T18:16:25.267Z"
   },
   {
    "duration": 1720,
    "start_time": "2024-07-05T18:16:30.140Z"
   },
   {
    "duration": 19,
    "start_time": "2024-07-05T18:16:31.863Z"
   },
   {
    "duration": 46,
    "start_time": "2024-07-05T18:16:31.888Z"
   },
   {
    "duration": 16,
    "start_time": "2024-07-05T18:16:31.938Z"
   },
   {
    "duration": 19,
    "start_time": "2024-07-05T18:16:31.957Z"
   },
   {
    "duration": 41,
    "start_time": "2024-07-05T18:16:31.978Z"
   },
   {
    "duration": 44,
    "start_time": "2024-07-05T18:16:32.023Z"
   },
   {
    "duration": 353,
    "start_time": "2024-07-05T18:16:32.070Z"
   },
   {
    "duration": 213,
    "start_time": "2024-07-05T18:16:32.427Z"
   },
   {
    "duration": 93,
    "start_time": "2024-07-05T18:16:32.644Z"
   },
   {
    "duration": 15,
    "start_time": "2024-07-05T18:16:32.740Z"
   },
   {
    "duration": 12,
    "start_time": "2024-07-05T18:16:32.758Z"
   },
   {
    "duration": 222,
    "start_time": "2024-07-05T18:16:32.777Z"
   },
   {
    "duration": 181,
    "start_time": "2024-07-05T18:16:33.002Z"
   },
   {
    "duration": 70,
    "start_time": "2024-07-05T18:16:33.187Z"
   },
   {
    "duration": 23,
    "start_time": "2024-07-05T18:16:33.260Z"
   },
   {
    "duration": 27,
    "start_time": "2024-07-05T18:16:33.286Z"
   },
   {
    "duration": 39,
    "start_time": "2024-07-05T18:16:33.318Z"
   },
   {
    "duration": 53,
    "start_time": "2024-07-05T18:16:33.361Z"
   },
   {
    "duration": 17,
    "start_time": "2024-07-05T18:16:33.418Z"
   },
   {
    "duration": 29,
    "start_time": "2024-07-05T18:16:33.438Z"
   },
   {
    "duration": 61,
    "start_time": "2024-07-05T18:16:33.470Z"
   },
   {
    "duration": 7,
    "start_time": "2024-07-05T18:16:33.534Z"
   },
   {
    "duration": 6,
    "start_time": "2024-07-05T18:16:33.545Z"
   },
   {
    "duration": 7,
    "start_time": "2024-07-05T18:16:33.554Z"
   },
   {
    "duration": 54,
    "start_time": "2024-07-05T18:16:33.565Z"
   },
   {
    "duration": 7,
    "start_time": "2024-07-05T18:16:33.624Z"
   },
   {
    "duration": 1392,
    "start_time": "2024-07-05T18:16:33.634Z"
   },
   {
    "duration": 1184,
    "start_time": "2024-07-05T18:16:35.031Z"
   },
   {
    "duration": 18,
    "start_time": "2024-07-05T18:16:36.218Z"
   },
   {
    "duration": 15,
    "start_time": "2024-07-05T18:16:36.239Z"
   },
   {
    "duration": 55,
    "start_time": "2024-07-05T18:16:36.258Z"
   },
   {
    "duration": 15,
    "start_time": "2024-07-05T18:16:36.315Z"
   },
   {
    "duration": 12,
    "start_time": "2024-07-05T18:16:36.333Z"
   },
   {
    "duration": 15,
    "start_time": "2024-07-05T18:16:36.348Z"
   },
   {
    "duration": 13,
    "start_time": "2024-07-05T18:16:36.414Z"
   },
   {
    "duration": 5,
    "start_time": "2024-07-05T18:16:36.431Z"
   },
   {
    "duration": 38,
    "start_time": "2024-07-05T18:16:36.439Z"
   },
   {
    "duration": 80,
    "start_time": "2024-07-05T18:16:36.479Z"
   },
   {
    "duration": 13,
    "start_time": "2024-07-05T18:16:36.568Z"
   },
   {
    "duration": 9,
    "start_time": "2024-07-05T18:16:36.613Z"
   },
   {
    "duration": 35,
    "start_time": "2024-07-05T18:16:36.625Z"
   },
   {
    "duration": 69,
    "start_time": "2024-07-05T18:16:36.664Z"
   },
   {
    "duration": 42,
    "start_time": "2024-07-05T18:16:36.737Z"
   },
   {
    "duration": 415,
    "start_time": "2024-07-05T18:16:36.783Z"
   },
   {
    "duration": 241,
    "start_time": "2024-07-05T18:16:37.201Z"
   },
   {
    "duration": 158,
    "start_time": "2024-07-05T18:16:37.445Z"
   },
   {
    "duration": 13,
    "start_time": "2024-07-05T18:16:37.613Z"
   },
   {
    "duration": 21,
    "start_time": "2024-07-05T18:16:37.629Z"
   },
   {
    "duration": 461,
    "start_time": "2024-07-05T18:16:37.653Z"
   },
   {
    "duration": 73,
    "start_time": "2024-07-05T18:16:38.117Z"
   },
   {
    "duration": 425,
    "start_time": "2024-07-05T18:16:38.193Z"
   },
   {
    "duration": 1102,
    "start_time": "2024-07-05T18:16:38.621Z"
   },
   {
    "duration": 1154,
    "start_time": "2024-07-05T18:16:39.725Z"
   },
   {
    "duration": 399,
    "start_time": "2024-07-05T18:16:40.882Z"
   },
   {
    "duration": 502,
    "start_time": "2024-07-05T18:16:41.284Z"
   },
   {
    "duration": 439,
    "start_time": "2024-07-05T18:16:41.789Z"
   },
   {
    "duration": 726,
    "start_time": "2024-07-05T18:16:42.231Z"
   },
   {
    "duration": 661,
    "start_time": "2024-07-05T18:16:42.960Z"
   },
   {
    "duration": 367,
    "start_time": "2024-07-05T18:16:43.624Z"
   },
   {
    "duration": 1804,
    "start_time": "2024-07-05T18:16:43.994Z"
   },
   {
    "duration": 41,
    "start_time": "2024-07-05T18:16:45.801Z"
   },
   {
    "duration": 24,
    "start_time": "2024-07-05T18:16:45.846Z"
   },
   {
    "duration": 8,
    "start_time": "2024-07-05T18:39:04.680Z"
   },
   {
    "duration": 1397,
    "start_time": "2024-07-05T18:39:10.916Z"
   },
   {
    "duration": 1448,
    "start_time": "2024-07-05T18:39:28.636Z"
   },
   {
    "duration": 1393,
    "start_time": "2024-07-05T18:40:22.555Z"
   },
   {
    "duration": 312,
    "start_time": "2024-07-05T18:41:46.363Z"
   },
   {
    "duration": 1291,
    "start_time": "2024-07-05T18:41:55.041Z"
   },
   {
    "duration": 1703,
    "start_time": "2024-07-05T18:41:56.336Z"
   },
   {
    "duration": 19,
    "start_time": "2024-07-05T18:41:58.042Z"
   },
   {
    "duration": 50,
    "start_time": "2024-07-05T18:41:58.064Z"
   },
   {
    "duration": 15,
    "start_time": "2024-07-05T18:41:58.120Z"
   },
   {
    "duration": 14,
    "start_time": "2024-07-05T18:41:58.138Z"
   },
   {
    "duration": 13,
    "start_time": "2024-07-05T18:41:58.156Z"
   },
   {
    "duration": 41,
    "start_time": "2024-07-05T18:41:58.214Z"
   },
   {
    "duration": 319,
    "start_time": "2024-07-05T18:41:58.258Z"
   },
   {
    "duration": 204,
    "start_time": "2024-07-05T18:41:58.580Z"
   },
   {
    "duration": 89,
    "start_time": "2024-07-05T18:41:58.787Z"
   },
   {
    "duration": 14,
    "start_time": "2024-07-05T18:41:58.879Z"
   },
   {
    "duration": 10,
    "start_time": "2024-07-05T18:41:58.912Z"
   },
   {
    "duration": 197,
    "start_time": "2024-07-05T18:41:58.928Z"
   },
   {
    "duration": 167,
    "start_time": "2024-07-05T18:41:59.128Z"
   },
   {
    "duration": 60,
    "start_time": "2024-07-05T18:41:59.298Z"
   },
   {
    "duration": 23,
    "start_time": "2024-07-05T18:41:59.364Z"
   },
   {
    "duration": 28,
    "start_time": "2024-07-05T18:41:59.389Z"
   },
   {
    "duration": 37,
    "start_time": "2024-07-05T18:41:59.419Z"
   },
   {
    "duration": 54,
    "start_time": "2024-07-05T18:41:59.459Z"
   },
   {
    "duration": 15,
    "start_time": "2024-07-05T18:41:59.516Z"
   },
   {
    "duration": 24,
    "start_time": "2024-07-05T18:41:59.533Z"
   },
   {
    "duration": 54,
    "start_time": "2024-07-05T18:41:59.559Z"
   },
   {
    "duration": 8,
    "start_time": "2024-07-05T18:41:59.615Z"
   },
   {
    "duration": 6,
    "start_time": "2024-07-05T18:41:59.627Z"
   },
   {
    "duration": 7,
    "start_time": "2024-07-05T18:41:59.637Z"
   },
   {
    "duration": 8,
    "start_time": "2024-07-05T18:41:59.647Z"
   },
   {
    "duration": 57,
    "start_time": "2024-07-05T18:41:59.657Z"
   },
   {
    "duration": 1422,
    "start_time": "2024-07-05T18:41:59.718Z"
   },
   {
    "duration": 1181,
    "start_time": "2024-07-05T18:42:01.143Z"
   },
   {
    "duration": 16,
    "start_time": "2024-07-05T18:42:02.327Z"
   },
   {
    "duration": 14,
    "start_time": "2024-07-05T18:42:02.346Z"
   },
   {
    "duration": 50,
    "start_time": "2024-07-05T18:42:02.362Z"
   },
   {
    "duration": 14,
    "start_time": "2024-07-05T18:42:02.415Z"
   },
   {
    "duration": 12,
    "start_time": "2024-07-05T18:42:02.431Z"
   },
   {
    "duration": 15,
    "start_time": "2024-07-05T18:42:02.447Z"
   },
   {
    "duration": 51,
    "start_time": "2024-07-05T18:42:02.465Z"
   },
   {
    "duration": 4,
    "start_time": "2024-07-05T18:42:02.519Z"
   },
   {
    "duration": 27,
    "start_time": "2024-07-05T18:42:02.527Z"
   },
   {
    "duration": 87,
    "start_time": "2024-07-05T18:42:02.557Z"
   },
   {
    "duration": 13,
    "start_time": "2024-07-05T18:42:02.656Z"
   },
   {
    "duration": 8,
    "start_time": "2024-07-05T18:42:02.671Z"
   },
   {
    "duration": 60,
    "start_time": "2024-07-05T18:42:02.682Z"
   },
   {
    "duration": 35,
    "start_time": "2024-07-05T18:42:02.745Z"
   },
   {
    "duration": 62,
    "start_time": "2024-07-05T18:42:02.783Z"
   },
   {
    "duration": 425,
    "start_time": "2024-07-05T18:42:02.848Z"
   },
   {
    "duration": 310,
    "start_time": "2024-07-05T18:42:03.276Z"
   },
   {
    "duration": 171,
    "start_time": "2024-07-05T18:42:03.589Z"
   },
   {
    "duration": 14,
    "start_time": "2024-07-05T18:42:03.763Z"
   },
   {
    "duration": 42,
    "start_time": "2024-07-05T18:42:03.780Z"
   },
   {
    "duration": 448,
    "start_time": "2024-07-05T18:42:03.825Z"
   },
   {
    "duration": 83,
    "start_time": "2024-07-05T18:42:04.276Z"
   },
   {
    "duration": 350,
    "start_time": "2024-07-05T18:42:04.362Z"
   },
   {
    "duration": 1077,
    "start_time": "2024-07-05T18:42:04.716Z"
   },
   {
    "duration": 1152,
    "start_time": "2024-07-05T18:42:05.796Z"
   },
   {
    "duration": 398,
    "start_time": "2024-07-05T18:42:06.951Z"
   },
   {
    "duration": 514,
    "start_time": "2024-07-05T18:42:07.353Z"
   },
   {
    "duration": 433,
    "start_time": "2024-07-05T18:42:07.869Z"
   },
   {
    "duration": 732,
    "start_time": "2024-07-05T18:42:08.305Z"
   },
   {
    "duration": 633,
    "start_time": "2024-07-05T18:42:09.039Z"
   },
   {
    "duration": 374,
    "start_time": "2024-07-05T18:42:09.674Z"
   },
   {
    "duration": 1753,
    "start_time": "2024-07-05T18:42:10.052Z"
   },
   {
    "duration": 34,
    "start_time": "2024-07-05T18:42:11.812Z"
   },
   {
    "duration": 29,
    "start_time": "2024-07-05T18:42:11.849Z"
   },
   {
    "duration": 1948,
    "start_time": "2024-07-05T18:42:11.881Z"
   },
   {
    "duration": 750,
    "start_time": "2024-07-05T18:42:13.833Z"
   },
   {
    "duration": 169,
    "start_time": "2024-07-05T18:42:57.364Z"
   },
   {
    "duration": 164,
    "start_time": "2024-07-05T18:45:40.970Z"
   },
   {
    "duration": 327,
    "start_time": "2024-07-05T18:46:11.490Z"
   },
   {
    "duration": 130,
    "start_time": "2024-07-05T18:46:24.685Z"
   },
   {
    "duration": 143,
    "start_time": "2024-07-05T18:48:32.818Z"
   },
   {
    "duration": 155,
    "start_time": "2024-07-05T18:48:53.003Z"
   },
   {
    "duration": 142,
    "start_time": "2024-07-05T18:49:11.744Z"
   },
   {
    "duration": 137,
    "start_time": "2024-07-05T18:50:11.276Z"
   },
   {
    "duration": 1651,
    "start_time": "2024-07-05T18:50:39.951Z"
   },
   {
    "duration": 1364,
    "start_time": "2024-07-05T18:51:03.903Z"
   },
   {
    "duration": 1679,
    "start_time": "2024-07-05T18:51:05.270Z"
   },
   {
    "duration": 18,
    "start_time": "2024-07-05T18:51:06.952Z"
   },
   {
    "duration": 57,
    "start_time": "2024-07-05T18:51:06.975Z"
   },
   {
    "duration": 20,
    "start_time": "2024-07-05T18:51:07.036Z"
   },
   {
    "duration": 14,
    "start_time": "2024-07-05T18:51:07.059Z"
   },
   {
    "duration": 46,
    "start_time": "2024-07-05T18:51:07.076Z"
   },
   {
    "duration": 41,
    "start_time": "2024-07-05T18:51:07.125Z"
   },
   {
    "duration": 357,
    "start_time": "2024-07-05T18:51:07.169Z"
   },
   {
    "duration": 205,
    "start_time": "2024-07-05T18:51:07.533Z"
   },
   {
    "duration": 91,
    "start_time": "2024-07-05T18:51:07.740Z"
   },
   {
    "duration": 14,
    "start_time": "2024-07-05T18:51:07.835Z"
   },
   {
    "duration": 12,
    "start_time": "2024-07-05T18:51:07.852Z"
   },
   {
    "duration": 249,
    "start_time": "2024-07-05T18:51:07.866Z"
   },
   {
    "duration": 202,
    "start_time": "2024-07-05T18:51:08.118Z"
   },
   {
    "duration": 64,
    "start_time": "2024-07-05T18:51:08.323Z"
   },
   {
    "duration": 45,
    "start_time": "2024-07-05T18:51:08.390Z"
   },
   {
    "duration": 7,
    "start_time": "2024-07-05T18:51:08.438Z"
   },
   {
    "duration": 71,
    "start_time": "2024-07-05T18:51:08.452Z"
   },
   {
    "duration": 24,
    "start_time": "2024-07-05T18:51:08.527Z"
   },
   {
    "duration": 15,
    "start_time": "2024-07-05T18:51:08.555Z"
   },
   {
    "duration": 25,
    "start_time": "2024-07-05T18:51:08.611Z"
   },
   {
    "duration": 20,
    "start_time": "2024-07-05T18:51:08.640Z"
   },
   {
    "duration": 8,
    "start_time": "2024-07-05T18:51:08.663Z"
   },
   {
    "duration": 40,
    "start_time": "2024-07-05T18:51:08.675Z"
   },
   {
    "duration": 7,
    "start_time": "2024-07-05T18:51:08.719Z"
   },
   {
    "duration": 8,
    "start_time": "2024-07-05T18:51:08.729Z"
   },
   {
    "duration": 6,
    "start_time": "2024-07-05T18:51:08.746Z"
   },
   {
    "duration": 1385,
    "start_time": "2024-07-05T18:51:08.755Z"
   },
   {
    "duration": 1197,
    "start_time": "2024-07-05T18:51:10.142Z"
   },
   {
    "duration": 18,
    "start_time": "2024-07-05T18:51:11.342Z"
   },
   {
    "duration": 13,
    "start_time": "2024-07-05T18:51:11.363Z"
   },
   {
    "duration": 43,
    "start_time": "2024-07-05T18:51:11.380Z"
   },
   {
    "duration": 16,
    "start_time": "2024-07-05T18:51:11.426Z"
   },
   {
    "duration": 16,
    "start_time": "2024-07-05T18:51:11.445Z"
   },
   {
    "duration": 46,
    "start_time": "2024-07-05T18:51:11.466Z"
   },
   {
    "duration": 23,
    "start_time": "2024-07-05T18:51:11.516Z"
   },
   {
    "duration": 7,
    "start_time": "2024-07-05T18:51:11.543Z"
   },
   {
    "duration": 31,
    "start_time": "2024-07-05T18:51:11.553Z"
   },
   {
    "duration": 50,
    "start_time": "2024-07-05T18:51:11.613Z"
   },
   {
    "duration": 14,
    "start_time": "2024-07-05T18:51:11.665Z"
   },
   {
    "duration": 36,
    "start_time": "2024-07-05T18:51:11.682Z"
   },
   {
    "duration": 36,
    "start_time": "2024-07-05T18:51:11.724Z"
   },
   {
    "duration": 68,
    "start_time": "2024-07-05T18:51:11.763Z"
   },
   {
    "duration": 40,
    "start_time": "2024-07-05T18:51:11.834Z"
   },
   {
    "duration": 386,
    "start_time": "2024-07-05T18:51:11.877Z"
   },
   {
    "duration": 309,
    "start_time": "2024-07-05T18:51:12.266Z"
   },
   {
    "duration": 170,
    "start_time": "2024-07-05T18:51:12.578Z"
   },
   {
    "duration": 13,
    "start_time": "2024-07-05T18:51:12.751Z"
   },
   {
    "duration": 21,
    "start_time": "2024-07-05T18:51:12.768Z"
   },
   {
    "duration": 453,
    "start_time": "2024-07-05T18:51:12.814Z"
   },
   {
    "duration": 90,
    "start_time": "2024-07-05T18:51:13.270Z"
   },
   {
    "duration": 378,
    "start_time": "2024-07-05T18:51:13.363Z"
   },
   {
    "duration": 1109,
    "start_time": "2024-07-05T18:51:13.745Z"
   },
   {
    "duration": 1148,
    "start_time": "2024-07-05T18:51:14.860Z"
   },
   {
    "duration": 388,
    "start_time": "2024-07-05T18:51:16.013Z"
   },
   {
    "duration": 519,
    "start_time": "2024-07-05T18:51:16.404Z"
   },
   {
    "duration": 445,
    "start_time": "2024-07-05T18:51:16.926Z"
   },
   {
    "duration": 744,
    "start_time": "2024-07-05T18:51:17.374Z"
   },
   {
    "duration": 627,
    "start_time": "2024-07-05T18:51:18.121Z"
   },
   {
    "duration": 382,
    "start_time": "2024-07-05T18:51:18.751Z"
   },
   {
    "duration": 1717,
    "start_time": "2024-07-05T18:51:19.136Z"
   },
   {
    "duration": 36,
    "start_time": "2024-07-05T18:51:20.855Z"
   },
   {
    "duration": 34,
    "start_time": "2024-07-05T18:51:20.894Z"
   },
   {
    "duration": 1555,
    "start_time": "2024-07-05T18:51:20.933Z"
   },
   {
    "duration": 508,
    "start_time": "2024-07-05T18:51:22.491Z"
   },
   {
    "duration": 0,
    "start_time": "2024-07-05T18:51:23.002Z"
   },
   {
    "duration": 211,
    "start_time": "2024-07-05T18:52:00.552Z"
   },
   {
    "duration": 185,
    "start_time": "2024-07-05T18:52:46.097Z"
   },
   {
    "duration": 26,
    "start_time": "2024-07-05T18:57:56.690Z"
   },
   {
    "duration": 1373,
    "start_time": "2024-07-05T18:58:52.569Z"
   },
   {
    "duration": 215,
    "start_time": "2024-07-05T18:58:55.226Z"
   },
   {
    "duration": 291,
    "start_time": "2024-07-05T18:58:57.039Z"
   },
   {
    "duration": 101,
    "start_time": "2024-07-05T19:01:03.614Z"
   },
   {
    "duration": 38,
    "start_time": "2024-07-05T19:03:02.082Z"
   },
   {
    "duration": 36,
    "start_time": "2024-07-05T19:03:09.865Z"
   },
   {
    "duration": 1335,
    "start_time": "2024-07-05T19:03:31.021Z"
   },
   {
    "duration": 1727,
    "start_time": "2024-07-05T19:03:32.360Z"
   },
   {
    "duration": 33,
    "start_time": "2024-07-05T19:03:34.090Z"
   },
   {
    "duration": 31,
    "start_time": "2024-07-05T19:03:34.126Z"
   },
   {
    "duration": 16,
    "start_time": "2024-07-05T19:03:34.162Z"
   },
   {
    "duration": 44,
    "start_time": "2024-07-05T19:03:34.180Z"
   },
   {
    "duration": 14,
    "start_time": "2024-07-05T19:03:34.228Z"
   },
   {
    "duration": 75,
    "start_time": "2024-07-05T19:03:34.246Z"
   },
   {
    "duration": 319,
    "start_time": "2024-07-05T19:03:34.325Z"
   },
   {
    "duration": 191,
    "start_time": "2024-07-05T19:03:34.647Z"
   },
   {
    "duration": 95,
    "start_time": "2024-07-05T19:03:34.841Z"
   },
   {
    "duration": 15,
    "start_time": "2024-07-05T19:03:34.938Z"
   },
   {
    "duration": 12,
    "start_time": "2024-07-05T19:03:34.955Z"
   },
   {
    "duration": 220,
    "start_time": "2024-07-05T19:03:34.973Z"
   },
   {
    "duration": 171,
    "start_time": "2024-07-05T19:03:35.195Z"
   },
   {
    "duration": 66,
    "start_time": "2024-07-05T19:03:35.369Z"
   },
   {
    "duration": 26,
    "start_time": "2024-07-05T19:03:35.441Z"
   },
   {
    "duration": 8,
    "start_time": "2024-07-05T19:03:35.470Z"
   },
   {
    "duration": 70,
    "start_time": "2024-07-05T19:03:35.481Z"
   },
   {
    "duration": 30,
    "start_time": "2024-07-05T19:03:35.555Z"
   },
   {
    "duration": 14,
    "start_time": "2024-07-05T19:03:35.614Z"
   },
   {
    "duration": 25,
    "start_time": "2024-07-05T19:03:35.632Z"
   },
   {
    "duration": 54,
    "start_time": "2024-07-05T19:03:35.660Z"
   },
   {
    "duration": 7,
    "start_time": "2024-07-05T19:03:35.718Z"
   },
   {
    "duration": 7,
    "start_time": "2024-07-05T19:03:35.728Z"
   },
   {
    "duration": 7,
    "start_time": "2024-07-05T19:03:35.738Z"
   },
   {
    "duration": 7,
    "start_time": "2024-07-05T19:03:35.750Z"
   },
   {
    "duration": 9,
    "start_time": "2024-07-05T19:03:35.812Z"
   },
   {
    "duration": 1321,
    "start_time": "2024-07-05T19:03:35.824Z"
   },
   {
    "duration": 1184,
    "start_time": "2024-07-05T19:03:37.148Z"
   },
   {
    "duration": 17,
    "start_time": "2024-07-05T19:03:38.336Z"
   },
   {
    "duration": 14,
    "start_time": "2024-07-05T19:03:38.356Z"
   },
   {
    "duration": 49,
    "start_time": "2024-07-05T19:03:38.373Z"
   },
   {
    "duration": 14,
    "start_time": "2024-07-05T19:03:38.425Z"
   },
   {
    "duration": 10,
    "start_time": "2024-07-05T19:03:38.443Z"
   },
   {
    "duration": 13,
    "start_time": "2024-07-05T19:03:38.457Z"
   },
   {
    "duration": 12,
    "start_time": "2024-07-05T19:03:38.514Z"
   },
   {
    "duration": 7,
    "start_time": "2024-07-05T19:03:38.529Z"
   },
   {
    "duration": 29,
    "start_time": "2024-07-05T19:03:38.540Z"
   },
   {
    "duration": 90,
    "start_time": "2024-07-05T19:03:38.572Z"
   },
   {
    "duration": 42,
    "start_time": "2024-07-05T19:03:38.673Z"
   },
   {
    "duration": 9,
    "start_time": "2024-07-05T19:03:38.718Z"
   },
   {
    "duration": 38,
    "start_time": "2024-07-05T19:03:38.731Z"
   },
   {
    "duration": 74,
    "start_time": "2024-07-05T19:03:38.772Z"
   },
   {
    "duration": 63,
    "start_time": "2024-07-05T19:03:38.849Z"
   },
   {
    "duration": 399,
    "start_time": "2024-07-05T19:03:38.916Z"
   },
   {
    "duration": 403,
    "start_time": "2024-07-05T19:03:39.318Z"
   },
   {
    "duration": 250,
    "start_time": "2024-07-05T19:03:39.724Z"
   },
   {
    "duration": 35,
    "start_time": "2024-07-05T19:03:39.977Z"
   },
   {
    "duration": 24,
    "start_time": "2024-07-05T19:03:40.016Z"
   },
   {
    "duration": 452,
    "start_time": "2024-07-05T19:03:40.044Z"
   },
   {
    "duration": 83,
    "start_time": "2024-07-05T19:03:40.499Z"
   },
   {
    "duration": 348,
    "start_time": "2024-07-05T19:03:40.585Z"
   },
   {
    "duration": 1097,
    "start_time": "2024-07-05T19:03:40.936Z"
   },
   {
    "duration": 1164,
    "start_time": "2024-07-05T19:03:42.036Z"
   },
   {
    "duration": 421,
    "start_time": "2024-07-05T19:03:43.204Z"
   },
   {
    "duration": 519,
    "start_time": "2024-07-05T19:03:43.628Z"
   },
   {
    "duration": 442,
    "start_time": "2024-07-05T19:03:44.150Z"
   },
   {
    "duration": 730,
    "start_time": "2024-07-05T19:03:44.596Z"
   },
   {
    "duration": 623,
    "start_time": "2024-07-05T19:03:45.329Z"
   },
   {
    "duration": 366,
    "start_time": "2024-07-05T19:03:45.955Z"
   },
   {
    "duration": 1684,
    "start_time": "2024-07-05T19:03:46.324Z"
   },
   {
    "duration": 35,
    "start_time": "2024-07-05T19:03:48.010Z"
   },
   {
    "duration": 22,
    "start_time": "2024-07-05T19:03:48.049Z"
   },
   {
    "duration": 1543,
    "start_time": "2024-07-05T19:03:48.074Z"
   },
   {
    "duration": 213,
    "start_time": "2024-07-05T19:03:49.620Z"
   },
   {
    "duration": 335,
    "start_time": "2024-07-05T19:03:49.837Z"
   },
   {
    "duration": 158,
    "start_time": "2024-07-05T19:04:10.104Z"
   },
   {
    "duration": 575,
    "start_time": "2024-07-05T19:05:17.664Z"
   },
   {
    "duration": 608,
    "start_time": "2024-07-05T19:05:33.493Z"
   },
   {
    "duration": 1339,
    "start_time": "2024-07-05T19:07:36.930Z"
   },
   {
    "duration": 1903,
    "start_time": "2024-07-05T19:07:38.272Z"
   },
   {
    "duration": 19,
    "start_time": "2024-07-05T19:07:40.178Z"
   },
   {
    "duration": 43,
    "start_time": "2024-07-05T19:07:40.200Z"
   },
   {
    "duration": 17,
    "start_time": "2024-07-05T19:07:40.248Z"
   },
   {
    "duration": 51,
    "start_time": "2024-07-05T19:07:40.268Z"
   },
   {
    "duration": 19,
    "start_time": "2024-07-05T19:07:40.325Z"
   },
   {
    "duration": 69,
    "start_time": "2024-07-05T19:07:40.347Z"
   },
   {
    "duration": 328,
    "start_time": "2024-07-05T19:07:40.419Z"
   },
   {
    "duration": 215,
    "start_time": "2024-07-05T19:07:40.749Z"
   },
   {
    "duration": 88,
    "start_time": "2024-07-05T19:07:40.967Z"
   },
   {
    "duration": 21,
    "start_time": "2024-07-05T19:07:41.057Z"
   },
   {
    "duration": 11,
    "start_time": "2024-07-05T19:07:41.081Z"
   },
   {
    "duration": 208,
    "start_time": "2024-07-05T19:07:41.117Z"
   },
   {
    "duration": 175,
    "start_time": "2024-07-05T19:07:41.328Z"
   },
   {
    "duration": 65,
    "start_time": "2024-07-05T19:07:41.513Z"
   },
   {
    "duration": 40,
    "start_time": "2024-07-05T19:07:41.581Z"
   },
   {
    "duration": 8,
    "start_time": "2024-07-05T19:07:41.624Z"
   },
   {
    "duration": 36,
    "start_time": "2024-07-05T19:07:41.636Z"
   },
   {
    "duration": 25,
    "start_time": "2024-07-05T19:07:41.711Z"
   },
   {
    "duration": 15,
    "start_time": "2024-07-05T19:07:41.740Z"
   },
   {
    "duration": 56,
    "start_time": "2024-07-05T19:07:41.758Z"
   },
   {
    "duration": 17,
    "start_time": "2024-07-05T19:07:41.817Z"
   },
   {
    "duration": 7,
    "start_time": "2024-07-05T19:07:41.837Z"
   },
   {
    "duration": 8,
    "start_time": "2024-07-05T19:07:41.847Z"
   },
   {
    "duration": 7,
    "start_time": "2024-07-05T19:07:41.858Z"
   },
   {
    "duration": 9,
    "start_time": "2024-07-05T19:07:41.912Z"
   },
   {
    "duration": 8,
    "start_time": "2024-07-05T19:07:41.924Z"
   },
   {
    "duration": 1409,
    "start_time": "2024-07-05T19:07:41.934Z"
   },
   {
    "duration": 1204,
    "start_time": "2024-07-05T19:07:43.346Z"
   },
   {
    "duration": 17,
    "start_time": "2024-07-05T19:07:44.554Z"
   },
   {
    "duration": 38,
    "start_time": "2024-07-05T19:07:44.574Z"
   },
   {
    "duration": 14,
    "start_time": "2024-07-05T19:07:44.615Z"
   },
   {
    "duration": 14,
    "start_time": "2024-07-05T19:07:44.632Z"
   },
   {
    "duration": 10,
    "start_time": "2024-07-05T19:07:44.649Z"
   },
   {
    "duration": 57,
    "start_time": "2024-07-05T19:07:44.662Z"
   },
   {
    "duration": 11,
    "start_time": "2024-07-05T19:07:44.722Z"
   },
   {
    "duration": 4,
    "start_time": "2024-07-05T19:07:44.736Z"
   },
   {
    "duration": 69,
    "start_time": "2024-07-05T19:07:44.742Z"
   },
   {
    "duration": 48,
    "start_time": "2024-07-05T19:07:44.814Z"
   },
   {
    "duration": 13,
    "start_time": "2024-07-05T19:07:44.871Z"
   },
   {
    "duration": 7,
    "start_time": "2024-07-05T19:07:44.913Z"
   },
   {
    "duration": 36,
    "start_time": "2024-07-05T19:07:44.923Z"
   },
   {
    "duration": 65,
    "start_time": "2024-07-05T19:07:44.962Z"
   },
   {
    "duration": 36,
    "start_time": "2024-07-05T19:07:45.030Z"
   },
   {
    "duration": 401,
    "start_time": "2024-07-05T19:07:45.069Z"
   },
   {
    "duration": 305,
    "start_time": "2024-07-05T19:07:45.473Z"
   },
   {
    "duration": 159,
    "start_time": "2024-07-05T19:07:45.781Z"
   },
   {
    "duration": 12,
    "start_time": "2024-07-05T19:07:45.943Z"
   },
   {
    "duration": 21,
    "start_time": "2024-07-05T19:07:45.958Z"
   },
   {
    "duration": 479,
    "start_time": "2024-07-05T19:07:45.982Z"
   },
   {
    "duration": 93,
    "start_time": "2024-07-05T19:07:46.464Z"
   },
   {
    "duration": 370,
    "start_time": "2024-07-05T19:07:46.560Z"
   },
   {
    "duration": 1111,
    "start_time": "2024-07-05T19:07:46.933Z"
   },
   {
    "duration": 1159,
    "start_time": "2024-07-05T19:07:48.047Z"
   },
   {
    "duration": 405,
    "start_time": "2024-07-05T19:07:49.208Z"
   },
   {
    "duration": 523,
    "start_time": "2024-07-05T19:07:49.618Z"
   },
   {
    "duration": 434,
    "start_time": "2024-07-05T19:07:50.144Z"
   },
   {
    "duration": 739,
    "start_time": "2024-07-05T19:07:50.581Z"
   },
   {
    "duration": 662,
    "start_time": "2024-07-05T19:07:51.323Z"
   },
   {
    "duration": 368,
    "start_time": "2024-07-05T19:07:51.988Z"
   },
   {
    "duration": 1861,
    "start_time": "2024-07-05T19:07:52.359Z"
   },
   {
    "duration": 39,
    "start_time": "2024-07-05T19:07:54.224Z"
   },
   {
    "duration": 46,
    "start_time": "2024-07-05T19:07:54.266Z"
   },
   {
    "duration": 1539,
    "start_time": "2024-07-05T19:07:54.316Z"
   },
   {
    "duration": 220,
    "start_time": "2024-07-05T19:07:55.858Z"
   },
   {
    "duration": 332,
    "start_time": "2024-07-05T19:07:56.080Z"
   },
   {
    "duration": 332,
    "start_time": "2024-07-05T19:12:12.536Z"
   },
   {
    "duration": 365,
    "start_time": "2024-07-05T19:12:23.030Z"
   },
   {
    "duration": 409,
    "start_time": "2024-07-05T19:14:27.985Z"
   },
   {
    "duration": 365,
    "start_time": "2024-07-05T19:14:38.734Z"
   },
   {
    "duration": 374,
    "start_time": "2024-07-05T19:16:00.937Z"
   },
   {
    "duration": 380,
    "start_time": "2024-07-05T19:17:23.234Z"
   },
   {
    "duration": 367,
    "start_time": "2024-07-05T19:17:40.960Z"
   },
   {
    "duration": 422,
    "start_time": "2024-07-05T19:18:25.410Z"
   },
   {
    "duration": 518,
    "start_time": "2024-07-05T19:20:01.717Z"
   },
   {
    "duration": 360,
    "start_time": "2024-07-05T19:23:16.362Z"
   },
   {
    "duration": 405,
    "start_time": "2024-07-05T19:23:22.707Z"
   },
   {
    "duration": 295,
    "start_time": "2024-07-05T19:53:55.485Z"
   },
   {
    "duration": 1170,
    "start_time": "2024-07-05T19:55:03.243Z"
   },
   {
    "duration": 1357,
    "start_time": "2024-07-05T19:56:53.393Z"
   },
   {
    "duration": 303,
    "start_time": "2024-07-05T19:57:11.397Z"
   },
   {
    "duration": 1318,
    "start_time": "2024-07-05T20:02:50.558Z"
   },
   {
    "duration": 1721,
    "start_time": "2024-07-05T20:02:51.879Z"
   },
   {
    "duration": 28,
    "start_time": "2024-07-05T20:02:53.603Z"
   },
   {
    "duration": 30,
    "start_time": "2024-07-05T20:02:53.636Z"
   },
   {
    "duration": 44,
    "start_time": "2024-07-05T20:02:53.669Z"
   },
   {
    "duration": 15,
    "start_time": "2024-07-05T20:02:53.719Z"
   },
   {
    "duration": 14,
    "start_time": "2024-07-05T20:02:53.738Z"
   },
   {
    "duration": 75,
    "start_time": "2024-07-05T20:02:53.755Z"
   },
   {
    "duration": 332,
    "start_time": "2024-07-05T20:02:53.833Z"
   },
   {
    "duration": 211,
    "start_time": "2024-07-05T20:02:54.172Z"
   },
   {
    "duration": 86,
    "start_time": "2024-07-05T20:02:54.385Z"
   },
   {
    "duration": 14,
    "start_time": "2024-07-05T20:02:54.474Z"
   },
   {
    "duration": 30,
    "start_time": "2024-07-05T20:02:54.491Z"
   },
   {
    "duration": 210,
    "start_time": "2024-07-05T20:02:54.523Z"
   },
   {
    "duration": 169,
    "start_time": "2024-07-05T20:02:54.736Z"
   },
   {
    "duration": 52,
    "start_time": "2024-07-05T20:02:54.908Z"
   },
   {
    "duration": 50,
    "start_time": "2024-07-05T20:02:54.963Z"
   },
   {
    "duration": 7,
    "start_time": "2024-07-05T20:02:55.016Z"
   },
   {
    "duration": 37,
    "start_time": "2024-07-05T20:02:55.026Z"
   },
   {
    "duration": 56,
    "start_time": "2024-07-05T20:02:55.065Z"
   },
   {
    "duration": 16,
    "start_time": "2024-07-05T20:02:55.124Z"
   },
   {
    "duration": 23,
    "start_time": "2024-07-05T20:02:55.143Z"
   },
   {
    "duration": 58,
    "start_time": "2024-07-05T20:02:55.169Z"
   },
   {
    "duration": 9,
    "start_time": "2024-07-05T20:02:55.231Z"
   },
   {
    "duration": 11,
    "start_time": "2024-07-05T20:02:55.243Z"
   },
   {
    "duration": 7,
    "start_time": "2024-07-05T20:02:55.257Z"
   },
   {
    "duration": 9,
    "start_time": "2024-07-05T20:02:55.313Z"
   },
   {
    "duration": 7,
    "start_time": "2024-07-05T20:02:55.333Z"
   },
   {
    "duration": 1383,
    "start_time": "2024-07-05T20:02:55.344Z"
   },
   {
    "duration": 1176,
    "start_time": "2024-07-05T20:02:56.730Z"
   },
   {
    "duration": 19,
    "start_time": "2024-07-05T20:02:57.908Z"
   },
   {
    "duration": 15,
    "start_time": "2024-07-05T20:02:57.930Z"
   },
   {
    "duration": 14,
    "start_time": "2024-07-05T20:02:57.948Z"
   },
   {
    "duration": 54,
    "start_time": "2024-07-05T20:02:57.965Z"
   },
   {
    "duration": 11,
    "start_time": "2024-07-05T20:02:58.022Z"
   },
   {
    "duration": 14,
    "start_time": "2024-07-05T20:02:58.036Z"
   },
   {
    "duration": 11,
    "start_time": "2024-07-05T20:02:58.054Z"
   },
   {
    "duration": 45,
    "start_time": "2024-07-05T20:02:58.068Z"
   },
   {
    "duration": 29,
    "start_time": "2024-07-05T20:02:58.117Z"
   },
   {
    "duration": 83,
    "start_time": "2024-07-05T20:02:58.149Z"
   },
   {
    "duration": 14,
    "start_time": "2024-07-05T20:02:58.235Z"
   },
   {
    "duration": 8,
    "start_time": "2024-07-05T20:02:58.256Z"
   },
   {
    "duration": 70,
    "start_time": "2024-07-05T20:02:58.267Z"
   },
   {
    "duration": 35,
    "start_time": "2024-07-05T20:02:58.340Z"
   },
   {
    "duration": 66,
    "start_time": "2024-07-05T20:02:58.378Z"
   },
   {
    "duration": 381,
    "start_time": "2024-07-05T20:02:58.446Z"
   },
   {
    "duration": 315,
    "start_time": "2024-07-05T20:02:58.830Z"
   },
   {
    "duration": 161,
    "start_time": "2024-07-05T20:02:59.148Z"
   },
   {
    "duration": 12,
    "start_time": "2024-07-05T20:02:59.313Z"
   },
   {
    "duration": 24,
    "start_time": "2024-07-05T20:02:59.328Z"
   },
   {
    "duration": 534,
    "start_time": "2024-07-05T20:02:59.357Z"
   },
   {
    "duration": 92,
    "start_time": "2024-07-05T20:02:59.894Z"
   },
   {
    "duration": 383,
    "start_time": "2024-07-05T20:02:59.989Z"
   },
   {
    "duration": 1173,
    "start_time": "2024-07-05T20:03:00.375Z"
   },
   {
    "duration": 1320,
    "start_time": "2024-07-05T20:03:01.552Z"
   },
   {
    "duration": 456,
    "start_time": "2024-07-05T20:03:02.875Z"
   },
   {
    "duration": 566,
    "start_time": "2024-07-05T20:03:03.334Z"
   },
   {
    "duration": 445,
    "start_time": "2024-07-05T20:03:03.903Z"
   },
   {
    "duration": 785,
    "start_time": "2024-07-05T20:03:04.352Z"
   },
   {
    "duration": 685,
    "start_time": "2024-07-05T20:03:05.141Z"
   },
   {
    "duration": 368,
    "start_time": "2024-07-05T20:03:05.830Z"
   },
   {
    "duration": 1899,
    "start_time": "2024-07-05T20:03:06.202Z"
   },
   {
    "duration": 47,
    "start_time": "2024-07-05T20:03:08.104Z"
   },
   {
    "duration": 26,
    "start_time": "2024-07-05T20:03:08.154Z"
   },
   {
    "duration": 1638,
    "start_time": "2024-07-05T20:03:08.184Z"
   },
   {
    "duration": 1851,
    "start_time": "2024-07-05T20:03:09.826Z"
   },
   {
    "duration": 311,
    "start_time": "2024-07-05T20:03:11.680Z"
   },
   {
    "duration": 403,
    "start_time": "2024-07-05T20:03:11.994Z"
   },
   {
    "duration": 355,
    "start_time": "2024-07-05T20:03:12.399Z"
   },
   {
    "duration": 23,
    "start_time": "2024-07-05T20:08:15.135Z"
   },
   {
    "duration": 16,
    "start_time": "2024-07-05T20:08:39.516Z"
   },
   {
    "duration": 6,
    "start_time": "2024-07-05T20:11:20.930Z"
   },
   {
    "duration": 25,
    "start_time": "2024-07-05T20:16:35.961Z"
   },
   {
    "duration": 1106,
    "start_time": "2024-07-05T20:21:36.973Z"
   },
   {
    "duration": 150,
    "start_time": "2024-07-05T20:21:47.416Z"
   },
   {
    "duration": 1234,
    "start_time": "2024-07-05T20:36:03.278Z"
   },
   {
    "duration": 384,
    "start_time": "2024-07-05T20:36:06.767Z"
   },
   {
    "duration": 1266,
    "start_time": "2024-07-05T20:36:36.149Z"
   },
   {
    "duration": 374,
    "start_time": "2024-07-05T20:36:38.886Z"
   },
   {
    "duration": 1106,
    "start_time": "2024-07-05T20:37:27.642Z"
   },
   {
    "duration": 1079,
    "start_time": "2024-07-05T20:38:20.150Z"
   },
   {
    "duration": 1168,
    "start_time": "2024-07-05T20:40:06.708Z"
   },
   {
    "duration": 451,
    "start_time": "2024-07-05T20:40:15.849Z"
   },
   {
    "duration": 338,
    "start_time": "2024-07-05T20:40:41.951Z"
   },
   {
    "duration": 534,
    "start_time": "2024-07-05T20:47:23.027Z"
   },
   {
    "duration": 513,
    "start_time": "2024-07-05T20:47:37.333Z"
   },
   {
    "duration": 511,
    "start_time": "2024-07-05T20:48:00.151Z"
   },
   {
    "duration": 439,
    "start_time": "2024-07-05T20:48:04.079Z"
   },
   {
    "duration": 1304,
    "start_time": "2024-07-05T20:53:50.956Z"
   },
   {
    "duration": 1648,
    "start_time": "2024-07-05T20:53:52.263Z"
   },
   {
    "duration": 21,
    "start_time": "2024-07-05T20:53:53.915Z"
   },
   {
    "duration": 16,
    "start_time": "2024-07-05T20:53:53.941Z"
   },
   {
    "duration": 13,
    "start_time": "2024-07-05T20:53:53.960Z"
   },
   {
    "duration": 15,
    "start_time": "2024-07-05T20:53:54.011Z"
   },
   {
    "duration": 44,
    "start_time": "2024-07-05T20:53:54.029Z"
   },
   {
    "duration": 204,
    "start_time": "2024-07-05T20:53:54.078Z"
   },
   {
    "duration": 98,
    "start_time": "2024-07-05T20:53:54.285Z"
   },
   {
    "duration": 25,
    "start_time": "2024-07-05T20:53:54.389Z"
   },
   {
    "duration": 12,
    "start_time": "2024-07-05T20:53:54.417Z"
   },
   {
    "duration": 206,
    "start_time": "2024-07-05T20:53:54.431Z"
   },
   {
    "duration": 170,
    "start_time": "2024-07-05T20:53:54.640Z"
   },
   {
    "duration": 46,
    "start_time": "2024-07-05T20:53:54.813Z"
   },
   {
    "duration": 24,
    "start_time": "2024-07-05T20:53:54.862Z"
   },
   {
    "duration": 29,
    "start_time": "2024-07-05T20:53:54.888Z"
   },
   {
    "duration": 40,
    "start_time": "2024-07-05T20:53:54.920Z"
   },
   {
    "duration": 55,
    "start_time": "2024-07-05T20:53:54.963Z"
   },
   {
    "duration": 15,
    "start_time": "2024-07-05T20:53:55.022Z"
   },
   {
    "duration": 25,
    "start_time": "2024-07-05T20:53:55.040Z"
   },
   {
    "duration": 50,
    "start_time": "2024-07-05T20:53:55.069Z"
   },
   {
    "duration": 7,
    "start_time": "2024-07-05T20:53:55.122Z"
   },
   {
    "duration": 7,
    "start_time": "2024-07-05T20:53:55.132Z"
   },
   {
    "duration": 7,
    "start_time": "2024-07-05T20:53:55.142Z"
   },
   {
    "duration": 11,
    "start_time": "2024-07-05T20:53:55.151Z"
   },
   {
    "duration": 11,
    "start_time": "2024-07-05T20:53:55.212Z"
   },
   {
    "duration": 1338,
    "start_time": "2024-07-05T20:53:55.227Z"
   },
   {
    "duration": 1180,
    "start_time": "2024-07-05T20:53:56.575Z"
   },
   {
    "duration": 27,
    "start_time": "2024-07-05T20:53:57.758Z"
   },
   {
    "duration": 36,
    "start_time": "2024-07-05T20:53:57.788Z"
   },
   {
    "duration": 14,
    "start_time": "2024-07-05T20:53:57.827Z"
   },
   {
    "duration": 15,
    "start_time": "2024-07-05T20:53:57.844Z"
   },
   {
    "duration": 53,
    "start_time": "2024-07-05T20:53:57.861Z"
   },
   {
    "duration": 14,
    "start_time": "2024-07-05T20:53:57.917Z"
   },
   {
    "duration": 12,
    "start_time": "2024-07-05T20:53:57.934Z"
   },
   {
    "duration": 6,
    "start_time": "2024-07-05T20:53:57.950Z"
   },
   {
    "duration": 68,
    "start_time": "2024-07-05T20:53:57.959Z"
   },
   {
    "duration": 50,
    "start_time": "2024-07-05T20:53:58.030Z"
   },
   {
    "duration": 32,
    "start_time": "2024-07-05T20:53:58.084Z"
   },
   {
    "duration": 8,
    "start_time": "2024-07-05T20:53:58.119Z"
   },
   {
    "duration": 35,
    "start_time": "2024-07-05T20:53:58.131Z"
   },
   {
    "duration": 64,
    "start_time": "2024-07-05T20:53:58.169Z"
   },
   {
    "duration": 27,
    "start_time": "2024-07-05T20:53:58.236Z"
   },
   {
    "duration": 383,
    "start_time": "2024-07-05T20:53:58.266Z"
   },
   {
    "duration": 300,
    "start_time": "2024-07-05T20:53:58.652Z"
   },
   {
    "duration": 160,
    "start_time": "2024-07-05T20:53:58.955Z"
   },
   {
    "duration": 12,
    "start_time": "2024-07-05T20:53:59.118Z"
   },
   {
    "duration": 22,
    "start_time": "2024-07-05T20:53:59.133Z"
   },
   {
    "duration": 476,
    "start_time": "2024-07-05T20:53:59.158Z"
   },
   {
    "duration": 93,
    "start_time": "2024-07-05T20:53:59.638Z"
   },
   {
    "duration": 348,
    "start_time": "2024-07-05T20:53:59.734Z"
   },
   {
    "duration": 1117,
    "start_time": "2024-07-05T20:54:00.085Z"
   },
   {
    "duration": 1160,
    "start_time": "2024-07-05T20:54:01.204Z"
   },
   {
    "duration": 366,
    "start_time": "2024-07-05T20:54:02.367Z"
   },
   {
    "duration": 551,
    "start_time": "2024-07-05T20:54:02.736Z"
   },
   {
    "duration": 446,
    "start_time": "2024-07-05T20:54:03.290Z"
   },
   {
    "duration": 768,
    "start_time": "2024-07-05T20:54:03.739Z"
   },
   {
    "duration": 635,
    "start_time": "2024-07-05T20:54:04.509Z"
   },
   {
    "duration": 382,
    "start_time": "2024-07-05T20:54:05.148Z"
   },
   {
    "duration": 1779,
    "start_time": "2024-07-05T20:54:05.533Z"
   },
   {
    "duration": 41,
    "start_time": "2024-07-05T20:54:07.316Z"
   },
   {
    "duration": 55,
    "start_time": "2024-07-05T20:54:07.359Z"
   },
   {
    "duration": 1484,
    "start_time": "2024-07-05T20:54:07.417Z"
   },
   {
    "duration": 1740,
    "start_time": "2024-07-05T20:54:08.904Z"
   },
   {
    "duration": 313,
    "start_time": "2024-07-05T20:54:10.647Z"
   },
   {
    "duration": 371,
    "start_time": "2024-07-05T20:54:10.964Z"
   },
   {
    "duration": 308,
    "start_time": "2024-07-05T20:54:11.337Z"
   },
   {
    "duration": 379,
    "start_time": "2024-07-05T20:55:57.183Z"
   },
   {
    "duration": 327,
    "start_time": "2024-07-05T20:56:28.678Z"
   },
   {
    "duration": 438,
    "start_time": "2024-07-05T20:56:42.618Z"
   },
   {
    "duration": 1368,
    "start_time": "2024-07-05T21:01:42.707Z"
   },
   {
    "duration": 1533,
    "start_time": "2024-07-05T21:01:44.080Z"
   },
   {
    "duration": 18,
    "start_time": "2024-07-05T21:01:45.615Z"
   },
   {
    "duration": 16,
    "start_time": "2024-07-05T21:01:45.638Z"
   },
   {
    "duration": 55,
    "start_time": "2024-07-05T21:01:45.658Z"
   },
   {
    "duration": 13,
    "start_time": "2024-07-05T21:01:45.717Z"
   },
   {
    "duration": 41,
    "start_time": "2024-07-05T21:01:45.733Z"
   },
   {
    "duration": 196,
    "start_time": "2024-07-05T21:01:45.777Z"
   },
   {
    "duration": 87,
    "start_time": "2024-07-05T21:01:45.976Z"
   },
   {
    "duration": 16,
    "start_time": "2024-07-05T21:01:46.069Z"
   },
   {
    "duration": 32,
    "start_time": "2024-07-05T21:01:46.088Z"
   },
   {
    "duration": 199,
    "start_time": "2024-07-05T21:01:46.124Z"
   },
   {
    "duration": 187,
    "start_time": "2024-07-05T21:01:46.326Z"
   },
   {
    "duration": 46,
    "start_time": "2024-07-05T21:01:46.519Z"
   },
   {
    "duration": 45,
    "start_time": "2024-07-05T21:01:46.568Z"
   },
   {
    "duration": 7,
    "start_time": "2024-07-05T21:01:46.616Z"
   },
   {
    "duration": 36,
    "start_time": "2024-07-05T21:01:46.626Z"
   },
   {
    "duration": 56,
    "start_time": "2024-07-05T21:01:46.665Z"
   },
   {
    "duration": 14,
    "start_time": "2024-07-05T21:01:46.724Z"
   },
   {
    "duration": 24,
    "start_time": "2024-07-05T21:01:46.742Z"
   },
   {
    "duration": 48,
    "start_time": "2024-07-05T21:01:46.770Z"
   },
   {
    "duration": 9,
    "start_time": "2024-07-05T21:01:46.821Z"
   },
   {
    "duration": 6,
    "start_time": "2024-07-05T21:01:46.833Z"
   },
   {
    "duration": 7,
    "start_time": "2024-07-05T21:01:46.842Z"
   },
   {
    "duration": 9,
    "start_time": "2024-07-05T21:01:46.852Z"
   },
   {
    "duration": 7,
    "start_time": "2024-07-05T21:01:46.913Z"
   },
   {
    "duration": 1342,
    "start_time": "2024-07-05T21:01:46.923Z"
   },
   {
    "duration": 1172,
    "start_time": "2024-07-05T21:01:48.275Z"
   },
   {
    "duration": 28,
    "start_time": "2024-07-05T21:01:49.452Z"
   },
   {
    "duration": 34,
    "start_time": "2024-07-05T21:01:49.484Z"
   },
   {
    "duration": 15,
    "start_time": "2024-07-05T21:01:49.521Z"
   },
   {
    "duration": 13,
    "start_time": "2024-07-05T21:01:49.539Z"
   },
   {
    "duration": 10,
    "start_time": "2024-07-05T21:01:49.555Z"
   },
   {
    "duration": 15,
    "start_time": "2024-07-05T21:01:49.612Z"
   },
   {
    "duration": 12,
    "start_time": "2024-07-05T21:01:49.629Z"
   },
   {
    "duration": 8,
    "start_time": "2024-07-05T21:01:49.644Z"
   },
   {
    "duration": 65,
    "start_time": "2024-07-05T21:01:49.655Z"
   },
   {
    "duration": 56,
    "start_time": "2024-07-05T21:01:49.723Z"
   },
   {
    "duration": 31,
    "start_time": "2024-07-05T21:01:49.782Z"
   },
   {
    "duration": 8,
    "start_time": "2024-07-05T21:01:49.816Z"
   },
   {
    "duration": 35,
    "start_time": "2024-07-05T21:01:49.826Z"
   },
   {
    "duration": 72,
    "start_time": "2024-07-05T21:01:49.864Z"
   },
   {
    "duration": 25,
    "start_time": "2024-07-05T21:01:49.940Z"
   },
   {
    "duration": 392,
    "start_time": "2024-07-05T21:01:49.968Z"
   },
   {
    "duration": 302,
    "start_time": "2024-07-05T21:01:50.362Z"
   },
   {
    "duration": 185,
    "start_time": "2024-07-05T21:01:50.667Z"
   },
   {
    "duration": 13,
    "start_time": "2024-07-05T21:01:50.855Z"
   },
   {
    "duration": 42,
    "start_time": "2024-07-05T21:01:50.871Z"
   },
   {
    "duration": 443,
    "start_time": "2024-07-05T21:01:50.916Z"
   },
   {
    "duration": 90,
    "start_time": "2024-07-05T21:01:51.362Z"
   },
   {
    "duration": 359,
    "start_time": "2024-07-05T21:01:51.456Z"
   },
   {
    "duration": 1098,
    "start_time": "2024-07-05T21:01:51.819Z"
   },
   {
    "duration": 1192,
    "start_time": "2024-07-05T21:01:52.920Z"
   },
   {
    "duration": 395,
    "start_time": "2024-07-05T21:01:54.118Z"
   },
   {
    "duration": 529,
    "start_time": "2024-07-05T21:01:54.517Z"
   },
   {
    "duration": 432,
    "start_time": "2024-07-05T21:01:55.051Z"
   },
   {
    "duration": 730,
    "start_time": "2024-07-05T21:01:55.486Z"
   },
   {
    "duration": 686,
    "start_time": "2024-07-05T21:01:56.220Z"
   },
   {
    "duration": 342,
    "start_time": "2024-07-05T21:01:56.913Z"
   },
   {
    "duration": 39,
    "start_time": "2024-07-05T21:01:57.257Z"
   },
   {
    "duration": 23,
    "start_time": "2024-07-05T21:01:57.313Z"
   },
   {
    "duration": 1497,
    "start_time": "2024-07-05T21:01:57.338Z"
   },
   {
    "duration": 1677,
    "start_time": "2024-07-05T21:01:58.838Z"
   },
   {
    "duration": 314,
    "start_time": "2024-07-05T21:02:00.518Z"
   },
   {
    "duration": 355,
    "start_time": "2024-07-05T21:02:00.835Z"
   },
   {
    "duration": 308,
    "start_time": "2024-07-05T21:02:01.193Z"
   },
   {
    "duration": 1462,
    "start_time": "2024-07-05T21:05:31.786Z"
   },
   {
    "duration": 1719,
    "start_time": "2024-07-05T21:05:33.253Z"
   },
   {
    "duration": 18,
    "start_time": "2024-07-05T21:05:34.974Z"
   },
   {
    "duration": 18,
    "start_time": "2024-07-05T21:05:35.011Z"
   },
   {
    "duration": 13,
    "start_time": "2024-07-05T21:05:35.034Z"
   },
   {
    "duration": 16,
    "start_time": "2024-07-05T21:05:35.051Z"
   },
   {
    "duration": 81,
    "start_time": "2024-07-05T21:05:35.071Z"
   },
   {
    "duration": 184,
    "start_time": "2024-07-05T21:05:35.155Z"
   },
   {
    "duration": 89,
    "start_time": "2024-07-05T21:05:35.341Z"
   },
   {
    "duration": 20,
    "start_time": "2024-07-05T21:05:35.436Z"
   },
   {
    "duration": 12,
    "start_time": "2024-07-05T21:05:35.459Z"
   },
   {
    "duration": 221,
    "start_time": "2024-07-05T21:05:35.474Z"
   },
   {
    "duration": 175,
    "start_time": "2024-07-05T21:05:35.697Z"
   },
   {
    "duration": 60,
    "start_time": "2024-07-05T21:05:35.880Z"
   },
   {
    "duration": 23,
    "start_time": "2024-07-05T21:05:35.942Z"
   },
   {
    "duration": 7,
    "start_time": "2024-07-05T21:05:35.968Z"
   },
   {
    "duration": 64,
    "start_time": "2024-07-05T21:05:35.978Z"
   },
   {
    "duration": 25,
    "start_time": "2024-07-05T21:05:36.045Z"
   },
   {
    "duration": 42,
    "start_time": "2024-07-05T21:05:36.072Z"
   },
   {
    "duration": 23,
    "start_time": "2024-07-05T21:05:36.118Z"
   },
   {
    "duration": 17,
    "start_time": "2024-07-05T21:05:36.144Z"
   },
   {
    "duration": 7,
    "start_time": "2024-07-05T21:05:36.164Z"
   },
   {
    "duration": 7,
    "start_time": "2024-07-05T21:05:36.214Z"
   },
   {
    "duration": 6,
    "start_time": "2024-07-05T21:05:36.225Z"
   },
   {
    "duration": 7,
    "start_time": "2024-07-05T21:05:36.234Z"
   },
   {
    "duration": 9,
    "start_time": "2024-07-05T21:05:36.245Z"
   },
   {
    "duration": 1406,
    "start_time": "2024-07-05T21:05:36.258Z"
   },
   {
    "duration": 1172,
    "start_time": "2024-07-05T21:05:37.667Z"
   },
   {
    "duration": 26,
    "start_time": "2024-07-05T21:05:38.842Z"
   },
   {
    "duration": 41,
    "start_time": "2024-07-05T21:05:38.871Z"
   },
   {
    "duration": 13,
    "start_time": "2024-07-05T21:05:38.916Z"
   },
   {
    "duration": 24,
    "start_time": "2024-07-05T21:05:38.932Z"
   },
   {
    "duration": 12,
    "start_time": "2024-07-05T21:05:38.958Z"
   },
   {
    "duration": 47,
    "start_time": "2024-07-05T21:05:38.973Z"
   },
   {
    "duration": 12,
    "start_time": "2024-07-05T21:05:39.023Z"
   },
   {
    "duration": 3,
    "start_time": "2024-07-05T21:05:39.038Z"
   },
   {
    "duration": 69,
    "start_time": "2024-07-05T21:05:39.044Z"
   },
   {
    "duration": 50,
    "start_time": "2024-07-05T21:05:39.117Z"
   },
   {
    "duration": 8,
    "start_time": "2024-07-05T21:05:39.170Z"
   },
   {
    "duration": 34,
    "start_time": "2024-07-05T21:05:39.181Z"
   },
   {
    "duration": 36,
    "start_time": "2024-07-05T21:05:39.227Z"
   },
   {
    "duration": 71,
    "start_time": "2024-07-05T21:05:39.266Z"
   },
   {
    "duration": 26,
    "start_time": "2024-07-05T21:05:39.340Z"
   },
   {
    "duration": 449,
    "start_time": "2024-07-05T21:05:39.369Z"
   },
   {
    "duration": 494,
    "start_time": "2024-07-05T21:05:39.822Z"
   },
   {
    "duration": 182,
    "start_time": "2024-07-05T21:05:40.319Z"
   },
   {
    "duration": 17,
    "start_time": "2024-07-05T21:05:40.504Z"
   },
   {
    "duration": 20,
    "start_time": "2024-07-05T21:05:40.524Z"
   },
   {
    "duration": 472,
    "start_time": "2024-07-05T21:05:40.546Z"
   },
   {
    "duration": 75,
    "start_time": "2024-07-05T21:05:41.021Z"
   },
   {
    "duration": 366,
    "start_time": "2024-07-05T21:05:41.098Z"
   },
   {
    "duration": 1109,
    "start_time": "2024-07-05T21:05:41.468Z"
   },
   {
    "duration": 1225,
    "start_time": "2024-07-05T21:05:42.581Z"
   },
   {
    "duration": 396,
    "start_time": "2024-07-05T21:05:43.809Z"
   },
   {
    "duration": 560,
    "start_time": "2024-07-05T21:05:44.208Z"
   },
   {
    "duration": 432,
    "start_time": "2024-07-05T21:05:44.771Z"
   },
   {
    "duration": 724,
    "start_time": "2024-07-05T21:05:45.213Z"
   },
   {
    "duration": 674,
    "start_time": "2024-07-05T21:05:45.940Z"
   },
   {
    "duration": 355,
    "start_time": "2024-07-05T21:05:46.617Z"
   },
   {
    "duration": 53,
    "start_time": "2024-07-05T21:05:46.975Z"
   },
   {
    "duration": 22,
    "start_time": "2024-07-05T21:05:47.031Z"
   },
   {
    "duration": 1488,
    "start_time": "2024-07-05T21:05:47.057Z"
   },
   {
    "duration": 1623,
    "start_time": "2024-07-05T21:05:48.547Z"
   },
   {
    "duration": 262,
    "start_time": "2024-07-05T21:05:50.173Z"
   },
   {
    "duration": 351,
    "start_time": "2024-07-05T21:05:50.437Z"
   },
   {
    "duration": 1442,
    "start_time": "2024-07-05T21:05:50.791Z"
   },
   {
    "duration": 727,
    "start_time": "2024-07-05T21:06:36.681Z"
   },
   {
    "duration": 727,
    "start_time": "2024-07-05T21:07:24.914Z"
   },
   {
    "duration": 1322,
    "start_time": "2024-07-05T21:09:10.299Z"
   },
   {
    "duration": 1545,
    "start_time": "2024-07-05T21:09:11.625Z"
   },
   {
    "duration": 21,
    "start_time": "2024-07-05T21:09:13.173Z"
   },
   {
    "duration": 30,
    "start_time": "2024-07-05T21:09:13.196Z"
   },
   {
    "duration": 14,
    "start_time": "2024-07-05T21:09:13.231Z"
   },
   {
    "duration": 15,
    "start_time": "2024-07-05T21:09:13.248Z"
   },
   {
    "duration": 84,
    "start_time": "2024-07-05T21:09:13.266Z"
   },
   {
    "duration": 193,
    "start_time": "2024-07-05T21:09:13.352Z"
   },
   {
    "duration": 86,
    "start_time": "2024-07-05T21:09:13.549Z"
   },
   {
    "duration": 17,
    "start_time": "2024-07-05T21:09:13.638Z"
   },
   {
    "duration": 13,
    "start_time": "2024-07-05T21:09:13.658Z"
   },
   {
    "duration": 213,
    "start_time": "2024-07-05T21:09:13.673Z"
   },
   {
    "duration": 193,
    "start_time": "2024-07-05T21:09:13.890Z"
   },
   {
    "duration": 54,
    "start_time": "2024-07-05T21:09:14.090Z"
   },
   {
    "duration": 23,
    "start_time": "2024-07-05T21:09:14.147Z"
   },
   {
    "duration": 8,
    "start_time": "2024-07-05T21:09:14.172Z"
   },
   {
    "duration": 51,
    "start_time": "2024-07-05T21:09:14.211Z"
   },
   {
    "duration": 23,
    "start_time": "2024-07-05T21:09:14.264Z"
   },
   {
    "duration": 32,
    "start_time": "2024-07-05T21:09:14.291Z"
   },
   {
    "duration": 27,
    "start_time": "2024-07-05T21:09:14.326Z"
   },
   {
    "duration": 17,
    "start_time": "2024-07-05T21:09:14.357Z"
   },
   {
    "duration": 7,
    "start_time": "2024-07-05T21:09:14.412Z"
   },
   {
    "duration": 7,
    "start_time": "2024-07-05T21:09:14.423Z"
   },
   {
    "duration": 7,
    "start_time": "2024-07-05T21:09:14.432Z"
   },
   {
    "duration": 8,
    "start_time": "2024-07-05T21:09:14.442Z"
   },
   {
    "duration": 8,
    "start_time": "2024-07-05T21:09:14.453Z"
   },
   {
    "duration": 1414,
    "start_time": "2024-07-05T21:09:14.464Z"
   },
   {
    "duration": 1203,
    "start_time": "2024-07-05T21:09:15.881Z"
   },
   {
    "duration": 39,
    "start_time": "2024-07-05T21:09:17.088Z"
   },
   {
    "duration": 13,
    "start_time": "2024-07-05T21:09:17.130Z"
   },
   {
    "duration": 13,
    "start_time": "2024-07-05T21:09:17.146Z"
   },
   {
    "duration": 51,
    "start_time": "2024-07-05T21:09:17.162Z"
   },
   {
    "duration": 9,
    "start_time": "2024-07-05T21:09:17.216Z"
   },
   {
    "duration": 13,
    "start_time": "2024-07-05T21:09:17.229Z"
   },
   {
    "duration": 11,
    "start_time": "2024-07-05T21:09:17.245Z"
   },
   {
    "duration": 4,
    "start_time": "2024-07-05T21:09:17.259Z"
   },
   {
    "duration": 29,
    "start_time": "2024-07-05T21:09:17.313Z"
   },
   {
    "duration": 78,
    "start_time": "2024-07-05T21:09:17.346Z"
   },
   {
    "duration": 9,
    "start_time": "2024-07-05T21:09:17.427Z"
   },
   {
    "duration": 8,
    "start_time": "2024-07-05T21:09:17.440Z"
   },
   {
    "duration": 75,
    "start_time": "2024-07-05T21:09:17.457Z"
   },
   {
    "duration": 35,
    "start_time": "2024-07-05T21:09:17.534Z"
   },
   {
    "duration": 46,
    "start_time": "2024-07-05T21:09:17.572Z"
   },
   {
    "duration": 372,
    "start_time": "2024-07-05T21:09:17.620Z"
   },
   {
    "duration": 303,
    "start_time": "2024-07-05T21:09:17.995Z"
   },
   {
    "duration": 174,
    "start_time": "2024-07-05T21:09:18.301Z"
   },
   {
    "duration": 13,
    "start_time": "2024-07-05T21:09:18.478Z"
   },
   {
    "duration": 20,
    "start_time": "2024-07-05T21:09:18.512Z"
   },
   {
    "duration": 435,
    "start_time": "2024-07-05T21:09:18.534Z"
   },
   {
    "duration": 93,
    "start_time": "2024-07-05T21:09:18.971Z"
   },
   {
    "duration": 346,
    "start_time": "2024-07-05T21:09:19.066Z"
   },
   {
    "duration": 1122,
    "start_time": "2024-07-05T21:09:19.416Z"
   },
   {
    "duration": 1175,
    "start_time": "2024-07-05T21:09:20.540Z"
   },
   {
    "duration": 386,
    "start_time": "2024-07-05T21:09:21.719Z"
   },
   {
    "duration": 518,
    "start_time": "2024-07-05T21:09:22.108Z"
   },
   {
    "duration": 458,
    "start_time": "2024-07-05T21:09:22.629Z"
   },
   {
    "duration": 742,
    "start_time": "2024-07-05T21:09:23.089Z"
   },
   {
    "duration": 674,
    "start_time": "2024-07-05T21:09:23.834Z"
   },
   {
    "duration": 355,
    "start_time": "2024-07-05T21:09:24.514Z"
   },
   {
    "duration": 52,
    "start_time": "2024-07-05T21:09:24.872Z"
   },
   {
    "duration": 21,
    "start_time": "2024-07-05T21:09:24.927Z"
   },
   {
    "duration": 1478,
    "start_time": "2024-07-05T21:09:24.950Z"
   },
   {
    "duration": 230,
    "start_time": "2024-07-05T21:09:26.431Z"
   },
   {
    "duration": 731,
    "start_time": "2024-07-05T21:09:26.664Z"
   },
   {
    "duration": 0,
    "start_time": "2024-07-05T21:09:27.398Z"
   },
   {
    "duration": 0,
    "start_time": "2024-07-05T21:09:27.400Z"
   },
   {
    "duration": 348,
    "start_time": "2024-07-05T21:09:36.304Z"
   },
   {
    "duration": 1801,
    "start_time": "2024-07-05T21:09:54.409Z"
   },
   {
    "duration": 1531,
    "start_time": "2024-07-05T21:09:57.683Z"
   },
   {
    "duration": 1624,
    "start_time": "2024-07-05T21:10:31.760Z"
   },
   {
    "duration": 1868,
    "start_time": "2024-07-05T21:12:13.107Z"
   },
   {
    "duration": 1513,
    "start_time": "2024-07-05T21:13:57.085Z"
   },
   {
    "duration": 1403,
    "start_time": "2024-07-05T21:15:54.317Z"
   },
   {
    "duration": 1306,
    "start_time": "2024-07-05T21:16:32.737Z"
   },
   {
    "duration": 1271,
    "start_time": "2024-07-05T21:18:44.285Z"
   },
   {
    "duration": 7,
    "start_time": "2024-07-05T21:22:01.591Z"
   },
   {
    "duration": 1331,
    "start_time": "2024-07-05T21:22:05.608Z"
   },
   {
    "duration": 603,
    "start_time": "2024-07-05T21:22:23.974Z"
   },
   {
    "duration": 623,
    "start_time": "2024-07-05T21:22:51.733Z"
   },
   {
    "duration": 1338,
    "start_time": "2024-07-05T21:24:10.313Z"
   },
   {
    "duration": 1353,
    "start_time": "2024-07-05T21:24:24.953Z"
   },
   {
    "duration": 1371,
    "start_time": "2024-07-05T21:25:17.289Z"
   },
   {
    "duration": 1394,
    "start_time": "2024-07-05T21:25:54.838Z"
   },
   {
    "duration": 1414,
    "start_time": "2024-07-05T21:26:17.954Z"
   },
   {
    "duration": 1401,
    "start_time": "2024-07-05T21:27:00.611Z"
   },
   {
    "duration": 80,
    "start_time": "2024-07-05T21:27:04.743Z"
   },
   {
    "duration": 70,
    "start_time": "2024-07-05T21:30:27.280Z"
   },
   {
    "duration": 24,
    "start_time": "2024-07-05T21:31:00.819Z"
   },
   {
    "duration": 6,
    "start_time": "2024-07-05T21:32:37.947Z"
   },
   {
    "duration": 80,
    "start_time": "2024-07-05T21:32:45.153Z"
   },
   {
    "duration": 933,
    "start_time": "2024-07-05T21:35:08.038Z"
   },
   {
    "duration": 193,
    "start_time": "2024-07-05T21:35:18.367Z"
   },
   {
    "duration": 130,
    "start_time": "2024-07-05T21:36:11.280Z"
   },
   {
    "duration": 150,
    "start_time": "2024-07-05T21:38:36.138Z"
   },
   {
    "duration": 138,
    "start_time": "2024-07-05T21:39:52.444Z"
   },
   {
    "duration": 11,
    "start_time": "2024-07-05T21:40:06.780Z"
   },
   {
    "duration": 1326,
    "start_time": "2024-07-05T22:05:10.563Z"
   },
   {
    "duration": 1666,
    "start_time": "2024-07-05T22:05:11.894Z"
   },
   {
    "duration": 21,
    "start_time": "2024-07-05T22:05:13.563Z"
   },
   {
    "duration": 36,
    "start_time": "2024-07-05T22:05:13.589Z"
   },
   {
    "duration": 15,
    "start_time": "2024-07-05T22:05:13.628Z"
   },
   {
    "duration": 14,
    "start_time": "2024-07-05T22:05:13.647Z"
   },
   {
    "duration": 82,
    "start_time": "2024-07-05T22:05:13.664Z"
   },
   {
    "duration": 194,
    "start_time": "2024-07-05T22:05:13.749Z"
   },
   {
    "duration": 89,
    "start_time": "2024-07-05T22:05:13.946Z"
   },
   {
    "duration": 17,
    "start_time": "2024-07-05T22:05:14.042Z"
   },
   {
    "duration": 12,
    "start_time": "2024-07-05T22:05:14.062Z"
   },
   {
    "duration": 219,
    "start_time": "2024-07-05T22:05:14.078Z"
   },
   {
    "duration": 168,
    "start_time": "2024-07-05T22:05:14.303Z"
   },
   {
    "duration": 71,
    "start_time": "2024-07-05T22:05:14.474Z"
   },
   {
    "duration": 25,
    "start_time": "2024-07-05T22:05:14.549Z"
   },
   {
    "duration": 7,
    "start_time": "2024-07-05T22:05:14.577Z"
   },
   {
    "duration": 47,
    "start_time": "2024-07-05T22:05:14.613Z"
   },
   {
    "duration": 49,
    "start_time": "2024-07-05T22:05:14.664Z"
   },
   {
    "duration": 17,
    "start_time": "2024-07-05T22:05:14.717Z"
   },
   {
    "duration": 25,
    "start_time": "2024-07-05T22:05:14.737Z"
   },
   {
    "duration": 51,
    "start_time": "2024-07-05T22:05:14.765Z"
   },
   {
    "duration": 9,
    "start_time": "2024-07-05T22:05:14.819Z"
   },
   {
    "duration": 7,
    "start_time": "2024-07-05T22:05:14.833Z"
   },
   {
    "duration": 8,
    "start_time": "2024-07-05T22:05:14.844Z"
   },
   {
    "duration": 8,
    "start_time": "2024-07-05T22:05:14.855Z"
   },
   {
    "duration": 8,
    "start_time": "2024-07-05T22:05:14.914Z"
   },
   {
    "duration": 1361,
    "start_time": "2024-07-05T22:05:14.926Z"
   },
   {
    "duration": 1153,
    "start_time": "2024-07-05T22:05:16.296Z"
   },
   {
    "duration": 26,
    "start_time": "2024-07-05T22:05:17.452Z"
   },
   {
    "duration": 32,
    "start_time": "2024-07-05T22:05:17.481Z"
   },
   {
    "duration": 14,
    "start_time": "2024-07-05T22:05:17.517Z"
   },
   {
    "duration": 14,
    "start_time": "2024-07-05T22:05:17.534Z"
   },
   {
    "duration": 10,
    "start_time": "2024-07-05T22:05:17.552Z"
   },
   {
    "duration": 61,
    "start_time": "2024-07-05T22:05:17.565Z"
   },
   {
    "duration": 12,
    "start_time": "2024-07-05T22:05:17.629Z"
   },
   {
    "duration": 69,
    "start_time": "2024-07-05T22:05:17.645Z"
   },
   {
    "duration": 50,
    "start_time": "2024-07-05T22:05:17.717Z"
   },
   {
    "duration": 8,
    "start_time": "2024-07-05T22:05:17.770Z"
   },
   {
    "duration": 37,
    "start_time": "2024-07-05T22:05:17.781Z"
   },
   {
    "duration": 36,
    "start_time": "2024-07-05T22:05:17.822Z"
   },
   {
    "duration": 72,
    "start_time": "2024-07-05T22:05:17.861Z"
   },
   {
    "duration": 28,
    "start_time": "2024-07-05T22:05:17.936Z"
   },
   {
    "duration": 387,
    "start_time": "2024-07-05T22:05:17.967Z"
   },
   {
    "duration": 301,
    "start_time": "2024-07-05T22:05:18.357Z"
   },
   {
    "duration": 155,
    "start_time": "2024-07-05T22:05:18.661Z"
   },
   {
    "duration": 13,
    "start_time": "2024-07-05T22:05:18.818Z"
   },
   {
    "duration": 20,
    "start_time": "2024-07-05T22:05:18.834Z"
   },
   {
    "duration": 479,
    "start_time": "2024-07-05T22:05:18.857Z"
   },
   {
    "duration": 87,
    "start_time": "2024-07-05T22:05:19.338Z"
   },
   {
    "duration": 370,
    "start_time": "2024-07-05T22:05:19.432Z"
   },
   {
    "duration": 1092,
    "start_time": "2024-07-05T22:05:19.813Z"
   },
   {
    "duration": 1180,
    "start_time": "2024-07-05T22:05:20.911Z"
   },
   {
    "duration": 375,
    "start_time": "2024-07-05T22:05:22.094Z"
   },
   {
    "duration": 523,
    "start_time": "2024-07-05T22:05:22.473Z"
   },
   {
    "duration": 453,
    "start_time": "2024-07-05T22:05:22.999Z"
   },
   {
    "duration": 722,
    "start_time": "2024-07-05T22:05:23.456Z"
   },
   {
    "duration": 662,
    "start_time": "2024-07-05T22:05:24.181Z"
   },
   {
    "duration": 346,
    "start_time": "2024-07-05T22:05:24.846Z"
   },
   {
    "duration": 47,
    "start_time": "2024-07-05T22:05:25.195Z"
   },
   {
    "duration": 24,
    "start_time": "2024-07-05T22:05:25.245Z"
   },
   {
    "duration": 1537,
    "start_time": "2024-07-05T22:05:25.273Z"
   },
   {
    "duration": 249,
    "start_time": "2024-07-05T22:05:26.814Z"
   },
   {
    "duration": 372,
    "start_time": "2024-07-05T22:05:27.065Z"
   },
   {
    "duration": 1642,
    "start_time": "2024-07-05T22:05:27.440Z"
   },
   {
    "duration": 143,
    "start_time": "2024-07-05T22:05:29.085Z"
   },
   {
    "duration": 7,
    "start_time": "2024-07-05T22:05:29.231Z"
   },
   {
    "duration": 5128,
    "start_time": "2024-07-06T20:50:23.828Z"
   },
   {
    "duration": 1787,
    "start_time": "2024-07-06T20:50:28.960Z"
   },
   {
    "duration": 20,
    "start_time": "2024-07-06T20:50:30.750Z"
   },
   {
    "duration": 17,
    "start_time": "2024-07-06T20:50:30.777Z"
   },
   {
    "duration": 13,
    "start_time": "2024-07-06T20:50:30.827Z"
   },
   {
    "duration": 15,
    "start_time": "2024-07-06T20:50:30.844Z"
   },
   {
    "duration": 74,
    "start_time": "2024-07-06T20:50:30.863Z"
   },
   {
    "duration": 214,
    "start_time": "2024-07-06T20:50:30.941Z"
   },
   {
    "duration": 99,
    "start_time": "2024-07-06T20:50:31.159Z"
   },
   {
    "duration": 19,
    "start_time": "2024-07-06T20:50:31.264Z"
   },
   {
    "duration": 40,
    "start_time": "2024-07-06T20:50:31.286Z"
   },
   {
    "duration": 210,
    "start_time": "2024-07-06T20:50:31.329Z"
   },
   {
    "duration": 206,
    "start_time": "2024-07-06T20:50:31.542Z"
   },
   {
    "duration": 72,
    "start_time": "2024-07-06T20:50:31.752Z"
   },
   {
    "duration": 25,
    "start_time": "2024-07-06T20:50:31.827Z"
   },
   {
    "duration": 7,
    "start_time": "2024-07-06T20:50:31.855Z"
   },
   {
    "duration": 73,
    "start_time": "2024-07-06T20:50:31.865Z"
   },
   {
    "duration": 26,
    "start_time": "2024-07-06T20:50:31.941Z"
   },
   {
    "duration": 18,
    "start_time": "2024-07-06T20:50:31.969Z"
   },
   {
    "duration": 27,
    "start_time": "2024-07-06T20:50:32.022Z"
   },
   {
    "duration": 23,
    "start_time": "2024-07-06T20:50:32.052Z"
   },
   {
    "duration": 7,
    "start_time": "2024-07-06T20:50:32.078Z"
   },
   {
    "duration": 41,
    "start_time": "2024-07-06T20:50:32.088Z"
   },
   {
    "duration": 7,
    "start_time": "2024-07-06T20:50:32.133Z"
   },
   {
    "duration": 11,
    "start_time": "2024-07-06T20:50:32.143Z"
   },
   {
    "duration": 7,
    "start_time": "2024-07-06T20:50:32.157Z"
   },
   {
    "duration": 1493,
    "start_time": "2024-07-06T20:50:32.168Z"
   },
   {
    "duration": 1339,
    "start_time": "2024-07-06T20:50:33.671Z"
   },
   {
    "duration": 32,
    "start_time": "2024-07-06T20:50:35.013Z"
   },
   {
    "duration": 22,
    "start_time": "2024-07-06T20:50:35.048Z"
   },
   {
    "duration": 14,
    "start_time": "2024-07-06T20:50:35.074Z"
   },
   {
    "duration": 45,
    "start_time": "2024-07-06T20:50:35.091Z"
   },
   {
    "duration": 15,
    "start_time": "2024-07-06T20:50:35.139Z"
   },
   {
    "duration": 19,
    "start_time": "2024-07-06T20:50:35.158Z"
   },
   {
    "duration": 48,
    "start_time": "2024-07-06T20:50:35.181Z"
   },
   {
    "duration": 31,
    "start_time": "2024-07-06T20:50:35.234Z"
   },
   {
    "duration": 94,
    "start_time": "2024-07-06T20:50:35.268Z"
   },
   {
    "duration": 10,
    "start_time": "2024-07-06T20:50:35.366Z"
   },
   {
    "duration": 9,
    "start_time": "2024-07-06T20:50:35.379Z"
   },
   {
    "duration": 40,
    "start_time": "2024-07-06T20:50:35.422Z"
   },
   {
    "duration": 61,
    "start_time": "2024-07-06T20:50:35.465Z"
   },
   {
    "duration": 30,
    "start_time": "2024-07-06T20:50:35.529Z"
   },
   {
    "duration": 413,
    "start_time": "2024-07-06T20:50:35.562Z"
   },
   {
    "duration": 259,
    "start_time": "2024-07-06T20:50:35.979Z"
   },
   {
    "duration": 184,
    "start_time": "2024-07-06T20:50:36.241Z"
   },
   {
    "duration": 12,
    "start_time": "2024-07-06T20:50:36.429Z"
   },
   {
    "duration": 22,
    "start_time": "2024-07-06T20:50:36.445Z"
   },
   {
    "duration": 473,
    "start_time": "2024-07-06T20:50:36.471Z"
   },
   {
    "duration": 102,
    "start_time": "2024-07-06T20:50:36.947Z"
   },
   {
    "duration": 380,
    "start_time": "2024-07-06T20:50:37.053Z"
   },
   {
    "duration": 1236,
    "start_time": "2024-07-06T20:50:37.437Z"
   },
   {
    "duration": 1408,
    "start_time": "2024-07-06T20:50:38.678Z"
   },
   {
    "duration": 423,
    "start_time": "2024-07-06T20:50:40.089Z"
   },
   {
    "duration": 614,
    "start_time": "2024-07-06T20:50:40.515Z"
   },
   {
    "duration": 511,
    "start_time": "2024-07-06T20:50:41.133Z"
   },
   {
    "duration": 1278,
    "start_time": "2024-07-06T20:50:41.647Z"
   },
   {
    "duration": 1012,
    "start_time": "2024-07-06T20:50:42.928Z"
   },
   {
    "duration": 374,
    "start_time": "2024-07-06T20:50:43.943Z"
   },
   {
    "duration": 56,
    "start_time": "2024-07-06T20:50:44.324Z"
   },
   {
    "duration": 52,
    "start_time": "2024-07-06T20:50:44.383Z"
   },
   {
    "duration": 2316,
    "start_time": "2024-07-06T20:50:44.441Z"
   },
   {
    "duration": 359,
    "start_time": "2024-07-06T20:50:46.761Z"
   },
   {
    "duration": 409,
    "start_time": "2024-07-06T20:50:47.124Z"
   },
   {
    "duration": 1866,
    "start_time": "2024-07-06T20:50:47.536Z"
   },
   {
    "duration": 149,
    "start_time": "2024-07-06T20:50:49.406Z"
   },
   {
    "duration": 8,
    "start_time": "2024-07-06T20:50:49.558Z"
   },
   {
    "duration": 329,
    "start_time": "2024-07-07T16:11:37.529Z"
   },
   {
    "duration": 21,
    "start_time": "2024-07-07T16:11:42.084Z"
   },
   {
    "duration": 5176,
    "start_time": "2024-07-07T16:12:50.409Z"
   },
   {
    "duration": 1695,
    "start_time": "2024-07-07T16:12:55.589Z"
   },
   {
    "duration": 28,
    "start_time": "2024-07-07T16:12:57.287Z"
   },
   {
    "duration": 41,
    "start_time": "2024-07-07T16:12:57.320Z"
   },
   {
    "duration": 13,
    "start_time": "2024-07-07T16:12:57.364Z"
   },
   {
    "duration": 39,
    "start_time": "2024-07-07T16:12:57.386Z"
   },
   {
    "duration": 840,
    "start_time": "2024-07-07T16:12:57.428Z"
   },
   {
    "duration": 175,
    "start_time": "2024-07-07T16:12:58.270Z"
   },
   {
    "duration": 91,
    "start_time": "2024-07-07T16:12:58.448Z"
   },
   {
    "duration": 14,
    "start_time": "2024-07-07T16:12:58.546Z"
   },
   {
    "duration": 11,
    "start_time": "2024-07-07T16:12:58.563Z"
   },
   {
    "duration": 216,
    "start_time": "2024-07-07T16:12:58.577Z"
   },
   {
    "duration": 162,
    "start_time": "2024-07-07T16:12:58.795Z"
   },
   {
    "duration": 55,
    "start_time": "2024-07-07T16:12:58.959Z"
   },
   {
    "duration": 23,
    "start_time": "2024-07-07T16:12:59.017Z"
   },
   {
    "duration": 8,
    "start_time": "2024-07-07T16:12:59.043Z"
   },
   {
    "duration": 67,
    "start_time": "2024-07-07T16:12:59.057Z"
   },
   {
    "duration": 24,
    "start_time": "2024-07-07T16:12:59.127Z"
   },
   {
    "duration": 15,
    "start_time": "2024-07-07T16:12:59.154Z"
   },
   {
    "duration": 61,
    "start_time": "2024-07-07T16:12:59.172Z"
   },
   {
    "duration": 18,
    "start_time": "2024-07-07T16:12:59.235Z"
   },
   {
    "duration": 7,
    "start_time": "2024-07-07T16:12:59.255Z"
   },
   {
    "duration": 46,
    "start_time": "2024-07-07T16:12:59.266Z"
   },
   {
    "duration": 6,
    "start_time": "2024-07-07T16:12:59.315Z"
   },
   {
    "duration": 7,
    "start_time": "2024-07-07T16:12:59.324Z"
   },
   {
    "duration": 7,
    "start_time": "2024-07-07T16:12:59.334Z"
   },
   {
    "duration": 1389,
    "start_time": "2024-07-07T16:12:59.344Z"
   },
   {
    "duration": 1189,
    "start_time": "2024-07-07T16:13:00.743Z"
   },
   {
    "duration": 26,
    "start_time": "2024-07-07T16:13:01.935Z"
   },
   {
    "duration": 13,
    "start_time": "2024-07-07T16:13:01.964Z"
   },
   {
    "duration": 15,
    "start_time": "2024-07-07T16:13:02.013Z"
   },
   {
    "duration": 16,
    "start_time": "2024-07-07T16:13:02.031Z"
   },
   {
    "duration": 12,
    "start_time": "2024-07-07T16:13:02.050Z"
   },
   {
    "duration": 51,
    "start_time": "2024-07-07T16:13:02.066Z"
   },
   {
    "duration": 11,
    "start_time": "2024-07-07T16:13:02.120Z"
   },
   {
    "duration": 29,
    "start_time": "2024-07-07T16:13:02.134Z"
   },
   {
    "duration": 91,
    "start_time": "2024-07-07T16:13:02.165Z"
   },
   {
    "duration": 9,
    "start_time": "2024-07-07T16:13:02.258Z"
   },
   {
    "duration": 9,
    "start_time": "2024-07-07T16:13:02.270Z"
   },
   {
    "duration": 63,
    "start_time": "2024-07-07T16:13:02.282Z"
   },
   {
    "duration": 35,
    "start_time": "2024-07-07T16:13:02.348Z"
   },
   {
    "duration": 26,
    "start_time": "2024-07-07T16:13:02.413Z"
   },
   {
    "duration": 387,
    "start_time": "2024-07-07T16:13:02.441Z"
   },
   {
    "duration": 257,
    "start_time": "2024-07-07T16:13:02.831Z"
   },
   {
    "duration": 186,
    "start_time": "2024-07-07T16:13:03.094Z"
   },
   {
    "duration": 12,
    "start_time": "2024-07-07T16:13:03.284Z"
   },
   {
    "duration": 27,
    "start_time": "2024-07-07T16:13:03.315Z"
   },
   {
    "duration": 537,
    "start_time": "2024-07-07T16:13:03.345Z"
   },
   {
    "duration": 85,
    "start_time": "2024-07-07T16:13:03.885Z"
   },
   {
    "duration": 371,
    "start_time": "2024-07-07T16:13:03.973Z"
   },
   {
    "duration": 1072,
    "start_time": "2024-07-07T16:13:04.347Z"
   },
   {
    "duration": 1177,
    "start_time": "2024-07-07T16:13:05.423Z"
   },
   {
    "duration": 370,
    "start_time": "2024-07-07T16:13:06.603Z"
   },
   {
    "duration": 510,
    "start_time": "2024-07-07T16:13:06.976Z"
   },
   {
    "duration": 441,
    "start_time": "2024-07-07T16:13:07.488Z"
   },
   {
    "duration": 724,
    "start_time": "2024-07-07T16:13:07.932Z"
   },
   {
    "duration": 644,
    "start_time": "2024-07-07T16:13:08.659Z"
   },
   {
    "duration": 352,
    "start_time": "2024-07-07T16:13:09.311Z"
   },
   {
    "duration": 47,
    "start_time": "2024-07-07T16:13:09.666Z"
   },
   {
    "duration": 26,
    "start_time": "2024-07-07T16:13:09.716Z"
   },
   {
    "duration": 1457,
    "start_time": "2024-07-07T16:13:09.745Z"
   },
   {
    "duration": 239,
    "start_time": "2024-07-07T16:13:11.205Z"
   },
   {
    "duration": 397,
    "start_time": "2024-07-07T16:13:11.448Z"
   },
   {
    "duration": 1783,
    "start_time": "2024-07-07T16:13:11.850Z"
   },
   {
    "duration": 149,
    "start_time": "2024-07-07T16:13:13.636Z"
   },
   {
    "duration": 9,
    "start_time": "2024-07-07T16:13:13.789Z"
   },
   {
    "duration": 146,
    "start_time": "2024-07-07T16:14:28.328Z"
   },
   {
    "duration": 41,
    "start_time": "2024-07-07T16:15:23.208Z"
   },
   {
    "duration": 21,
    "start_time": "2024-07-07T16:15:37.133Z"
   },
   {
    "duration": 38,
    "start_time": "2024-07-07T16:16:01.553Z"
   },
   {
    "duration": 12,
    "start_time": "2024-07-07T16:18:56.896Z"
   },
   {
    "duration": 1074,
    "start_time": "2024-07-07T16:30:31.078Z"
   },
   {
    "duration": 6,
    "start_time": "2024-07-07T16:39:20.025Z"
   },
   {
    "duration": 9,
    "start_time": "2024-07-07T16:40:24.608Z"
   },
   {
    "duration": 1342,
    "start_time": "2024-07-07T16:40:43.523Z"
   },
   {
    "duration": 1570,
    "start_time": "2024-07-07T16:40:44.869Z"
   },
   {
    "duration": 44,
    "start_time": "2024-07-07T16:40:46.442Z"
   },
   {
    "duration": 22,
    "start_time": "2024-07-07T16:40:46.511Z"
   },
   {
    "duration": 14,
    "start_time": "2024-07-07T16:40:46.536Z"
   },
   {
    "duration": 14,
    "start_time": "2024-07-07T16:40:46.553Z"
   },
   {
    "duration": 87,
    "start_time": "2024-07-07T16:40:46.570Z"
   },
   {
    "duration": 190,
    "start_time": "2024-07-07T16:40:46.660Z"
   },
   {
    "duration": 85,
    "start_time": "2024-07-07T16:40:46.854Z"
   },
   {
    "duration": 15,
    "start_time": "2024-07-07T16:40:46.944Z"
   },
   {
    "duration": 11,
    "start_time": "2024-07-07T16:40:46.964Z"
   },
   {
    "duration": 210,
    "start_time": "2024-07-07T16:40:46.978Z"
   },
   {
    "duration": 182,
    "start_time": "2024-07-07T16:40:47.191Z"
   },
   {
    "duration": 76,
    "start_time": "2024-07-07T16:40:47.378Z"
   },
   {
    "duration": 24,
    "start_time": "2024-07-07T16:40:47.460Z"
   },
   {
    "duration": 25,
    "start_time": "2024-07-07T16:40:47.487Z"
   },
   {
    "duration": 40,
    "start_time": "2024-07-07T16:40:47.515Z"
   },
   {
    "duration": 23,
    "start_time": "2024-07-07T16:40:47.557Z"
   },
   {
    "duration": 14,
    "start_time": "2024-07-07T16:40:47.612Z"
   },
   {
    "duration": 24,
    "start_time": "2024-07-07T16:40:47.630Z"
   },
   {
    "duration": 54,
    "start_time": "2024-07-07T16:40:47.658Z"
   },
   {
    "duration": 7,
    "start_time": "2024-07-07T16:40:47.715Z"
   },
   {
    "duration": 6,
    "start_time": "2024-07-07T16:40:47.725Z"
   },
   {
    "duration": 10,
    "start_time": "2024-07-07T16:40:47.735Z"
   },
   {
    "duration": 8,
    "start_time": "2024-07-07T16:40:47.748Z"
   },
   {
    "duration": 53,
    "start_time": "2024-07-07T16:40:47.759Z"
   },
   {
    "duration": 1350,
    "start_time": "2024-07-07T16:40:47.815Z"
   },
   {
    "duration": 1189,
    "start_time": "2024-07-07T16:40:49.175Z"
   },
   {
    "duration": 27,
    "start_time": "2024-07-07T16:40:50.368Z"
   },
   {
    "duration": 14,
    "start_time": "2024-07-07T16:40:50.413Z"
   },
   {
    "duration": 14,
    "start_time": "2024-07-07T16:40:50.430Z"
   },
   {
    "duration": 15,
    "start_time": "2024-07-07T16:40:50.446Z"
   },
   {
    "duration": 49,
    "start_time": "2024-07-07T16:40:50.464Z"
   },
   {
    "duration": 15,
    "start_time": "2024-07-07T16:40:50.517Z"
   },
   {
    "duration": 11,
    "start_time": "2024-07-07T16:40:50.535Z"
   },
   {
    "duration": 69,
    "start_time": "2024-07-07T16:40:50.549Z"
   },
   {
    "duration": 54,
    "start_time": "2024-07-07T16:40:50.621Z"
   },
   {
    "duration": 40,
    "start_time": "2024-07-07T16:40:50.679Z"
   },
   {
    "duration": 6,
    "start_time": "2024-07-07T16:40:50.724Z"
   },
   {
    "duration": 35,
    "start_time": "2024-07-07T16:40:50.733Z"
   },
   {
    "duration": 65,
    "start_time": "2024-07-07T16:40:50.771Z"
   },
   {
    "duration": 30,
    "start_time": "2024-07-07T16:40:50.839Z"
   },
   {
    "duration": 395,
    "start_time": "2024-07-07T16:40:50.871Z"
   },
   {
    "duration": 308,
    "start_time": "2024-07-07T16:40:51.269Z"
   },
   {
    "duration": 168,
    "start_time": "2024-07-07T16:40:51.580Z"
   },
   {
    "duration": 18,
    "start_time": "2024-07-07T16:40:51.751Z"
   },
   {
    "duration": 43,
    "start_time": "2024-07-07T16:40:51.775Z"
   },
   {
    "duration": 433,
    "start_time": "2024-07-07T16:40:51.822Z"
   },
   {
    "duration": 87,
    "start_time": "2024-07-07T16:40:52.258Z"
   },
   {
    "duration": 347,
    "start_time": "2024-07-07T16:40:52.348Z"
   },
   {
    "duration": 1170,
    "start_time": "2024-07-07T16:40:52.698Z"
   },
   {
    "duration": 1183,
    "start_time": "2024-07-07T16:40:53.870Z"
   },
   {
    "duration": 381,
    "start_time": "2024-07-07T16:40:55.056Z"
   },
   {
    "duration": 494,
    "start_time": "2024-07-07T16:40:55.441Z"
   },
   {
    "duration": 430,
    "start_time": "2024-07-07T16:40:55.938Z"
   },
   {
    "duration": 718,
    "start_time": "2024-07-07T16:40:56.371Z"
   },
   {
    "duration": 666,
    "start_time": "2024-07-07T16:40:57.092Z"
   },
   {
    "duration": 345,
    "start_time": "2024-07-07T16:40:57.761Z"
   },
   {
    "duration": 35,
    "start_time": "2024-07-07T16:40:58.113Z"
   },
   {
    "duration": 21,
    "start_time": "2024-07-07T16:40:58.151Z"
   },
   {
    "duration": 1454,
    "start_time": "2024-07-07T16:40:58.175Z"
   },
   {
    "duration": 221,
    "start_time": "2024-07-07T16:40:59.632Z"
   },
   {
    "duration": 351,
    "start_time": "2024-07-07T16:40:59.856Z"
   },
   {
    "duration": 322,
    "start_time": "2024-07-07T16:42:23.469Z"
   },
   {
    "duration": 23,
    "start_time": "2024-07-07T16:42:32.074Z"
   },
   {
    "duration": 1370,
    "start_time": "2024-07-07T16:43:04.932Z"
   },
   {
    "duration": 1655,
    "start_time": "2024-07-07T16:43:06.305Z"
   },
   {
    "duration": 52,
    "start_time": "2024-07-07T16:43:07.962Z"
   },
   {
    "duration": 23,
    "start_time": "2024-07-07T16:43:08.019Z"
   },
   {
    "duration": 15,
    "start_time": "2024-07-07T16:43:08.045Z"
   },
   {
    "duration": 53,
    "start_time": "2024-07-07T16:43:08.062Z"
   },
   {
    "duration": 51,
    "start_time": "2024-07-07T16:43:08.118Z"
   },
   {
    "duration": 229,
    "start_time": "2024-07-07T16:43:08.173Z"
   },
   {
    "duration": 80,
    "start_time": "2024-07-07T16:43:08.404Z"
   },
   {
    "duration": 30,
    "start_time": "2024-07-07T16:43:08.490Z"
   },
   {
    "duration": 11,
    "start_time": "2024-07-07T16:43:08.524Z"
   },
   {
    "duration": 214,
    "start_time": "2024-07-07T16:43:08.539Z"
   },
   {
    "duration": 165,
    "start_time": "2024-07-07T16:43:08.756Z"
   },
   {
    "duration": 45,
    "start_time": "2024-07-07T16:43:08.925Z"
   },
   {
    "duration": 45,
    "start_time": "2024-07-07T16:43:08.973Z"
   },
   {
    "duration": 7,
    "start_time": "2024-07-07T16:43:09.021Z"
   },
   {
    "duration": 41,
    "start_time": "2024-07-07T16:43:09.032Z"
   },
   {
    "duration": 56,
    "start_time": "2024-07-07T16:43:09.076Z"
   },
   {
    "duration": 16,
    "start_time": "2024-07-07T16:43:09.135Z"
   },
   {
    "duration": 24,
    "start_time": "2024-07-07T16:43:09.154Z"
   },
   {
    "duration": 19,
    "start_time": "2024-07-07T16:43:09.213Z"
   },
   {
    "duration": 8,
    "start_time": "2024-07-07T16:43:09.235Z"
   },
   {
    "duration": 8,
    "start_time": "2024-07-07T16:43:09.246Z"
   },
   {
    "duration": 6,
    "start_time": "2024-07-07T16:43:09.257Z"
   },
   {
    "duration": 49,
    "start_time": "2024-07-07T16:43:09.267Z"
   },
   {
    "duration": 6,
    "start_time": "2024-07-07T16:43:09.320Z"
   },
   {
    "duration": 1410,
    "start_time": "2024-07-07T16:43:09.329Z"
   },
   {
    "duration": 1260,
    "start_time": "2024-07-07T16:43:10.748Z"
   },
   {
    "duration": 28,
    "start_time": "2024-07-07T16:43:12.010Z"
   },
   {
    "duration": 14,
    "start_time": "2024-07-07T16:43:12.041Z"
   },
   {
    "duration": 13,
    "start_time": "2024-07-07T16:43:12.058Z"
   },
   {
    "duration": 51,
    "start_time": "2024-07-07T16:43:12.073Z"
   },
   {
    "duration": 12,
    "start_time": "2024-07-07T16:43:12.127Z"
   },
   {
    "duration": 17,
    "start_time": "2024-07-07T16:43:12.143Z"
   },
   {
    "duration": 50,
    "start_time": "2024-07-07T16:43:12.164Z"
   },
   {
    "duration": 28,
    "start_time": "2024-07-07T16:43:12.216Z"
   },
   {
    "duration": 79,
    "start_time": "2024-07-07T16:43:12.247Z"
   },
   {
    "duration": 14,
    "start_time": "2024-07-07T16:43:12.329Z"
   },
   {
    "duration": 6,
    "start_time": "2024-07-07T16:43:12.347Z"
   },
   {
    "duration": 72,
    "start_time": "2024-07-07T16:43:12.357Z"
   },
   {
    "duration": 35,
    "start_time": "2024-07-07T16:43:12.432Z"
   },
   {
    "duration": 50,
    "start_time": "2024-07-07T16:43:12.469Z"
   },
   {
    "duration": 390,
    "start_time": "2024-07-07T16:43:12.522Z"
   },
   {
    "duration": 326,
    "start_time": "2024-07-07T16:43:12.915Z"
   },
   {
    "duration": 319,
    "start_time": "2024-07-07T16:43:13.244Z"
   },
   {
    "duration": 17,
    "start_time": "2024-07-07T16:43:13.567Z"
   },
   {
    "duration": 49,
    "start_time": "2024-07-07T16:43:13.587Z"
   },
   {
    "duration": 480,
    "start_time": "2024-07-07T16:43:13.642Z"
   },
   {
    "duration": 90,
    "start_time": "2024-07-07T16:43:14.126Z"
   },
   {
    "duration": 369,
    "start_time": "2024-07-07T16:43:14.220Z"
   },
   {
    "duration": 1088,
    "start_time": "2024-07-07T16:43:14.592Z"
   },
   {
    "duration": 1155,
    "start_time": "2024-07-07T16:43:15.683Z"
   },
   {
    "duration": 388,
    "start_time": "2024-07-07T16:43:16.841Z"
   },
   {
    "duration": 515,
    "start_time": "2024-07-07T16:43:17.233Z"
   },
   {
    "duration": 431,
    "start_time": "2024-07-07T16:43:17.751Z"
   },
   {
    "duration": 733,
    "start_time": "2024-07-07T16:43:18.185Z"
   },
   {
    "duration": 671,
    "start_time": "2024-07-07T16:43:18.921Z"
   },
   {
    "duration": 369,
    "start_time": "2024-07-07T16:43:19.595Z"
   },
   {
    "duration": 50,
    "start_time": "2024-07-07T16:43:19.968Z"
   },
   {
    "duration": 22,
    "start_time": "2024-07-07T16:43:20.021Z"
   },
   {
    "duration": 1480,
    "start_time": "2024-07-07T16:43:20.046Z"
   },
   {
    "duration": 208,
    "start_time": "2024-07-07T16:43:21.529Z"
   },
   {
    "duration": 365,
    "start_time": "2024-07-07T16:43:21.740Z"
   },
   {
    "duration": 307,
    "start_time": "2024-07-07T16:55:25.373Z"
   },
   {
    "duration": 1333,
    "start_time": "2024-07-07T16:55:51.232Z"
   },
   {
    "duration": 1699,
    "start_time": "2024-07-07T16:55:52.569Z"
   },
   {
    "duration": 52,
    "start_time": "2024-07-07T16:55:54.271Z"
   },
   {
    "duration": 22,
    "start_time": "2024-07-07T16:55:54.327Z"
   },
   {
    "duration": 13,
    "start_time": "2024-07-07T16:55:54.352Z"
   },
   {
    "duration": 50,
    "start_time": "2024-07-07T16:55:54.368Z"
   },
   {
    "duration": 49,
    "start_time": "2024-07-07T16:55:54.422Z"
   },
   {
    "duration": 190,
    "start_time": "2024-07-07T16:55:54.474Z"
   },
   {
    "duration": 84,
    "start_time": "2024-07-07T16:55:54.667Z"
   },
   {
    "duration": 14,
    "start_time": "2024-07-07T16:55:54.757Z"
   },
   {
    "duration": 39,
    "start_time": "2024-07-07T16:55:54.774Z"
   },
   {
    "duration": 181,
    "start_time": "2024-07-07T16:55:54.816Z"
   },
   {
    "duration": 205,
    "start_time": "2024-07-07T16:55:55.000Z"
   },
   {
    "duration": 49,
    "start_time": "2024-07-07T16:55:55.214Z"
   },
   {
    "duration": 23,
    "start_time": "2024-07-07T16:55:55.266Z"
   },
   {
    "duration": 8,
    "start_time": "2024-07-07T16:55:55.314Z"
   },
   {
    "duration": 37,
    "start_time": "2024-07-07T16:55:55.325Z"
   },
   {
    "duration": 55,
    "start_time": "2024-07-07T16:55:55.365Z"
   },
   {
    "duration": 15,
    "start_time": "2024-07-07T16:55:55.423Z"
   },
   {
    "duration": 24,
    "start_time": "2024-07-07T16:55:55.442Z"
   },
   {
    "duration": 54,
    "start_time": "2024-07-07T16:55:55.468Z"
   },
   {
    "duration": 7,
    "start_time": "2024-07-07T16:55:55.525Z"
   },
   {
    "duration": 7,
    "start_time": "2024-07-07T16:55:55.535Z"
   },
   {
    "duration": 6,
    "start_time": "2024-07-07T16:55:55.546Z"
   },
   {
    "duration": 8,
    "start_time": "2024-07-07T16:55:55.555Z"
   },
   {
    "duration": 8,
    "start_time": "2024-07-07T16:55:55.614Z"
   },
   {
    "duration": 1343,
    "start_time": "2024-07-07T16:55:55.625Z"
   },
   {
    "duration": 1125,
    "start_time": "2024-07-07T16:55:56.978Z"
   },
   {
    "duration": 26,
    "start_time": "2024-07-07T16:55:58.111Z"
   },
   {
    "duration": 15,
    "start_time": "2024-07-07T16:55:58.140Z"
   },
   {
    "duration": 15,
    "start_time": "2024-07-07T16:55:58.159Z"
   },
   {
    "duration": 13,
    "start_time": "2024-07-07T16:55:58.212Z"
   },
   {
    "duration": 11,
    "start_time": "2024-07-07T16:55:58.227Z"
   },
   {
    "duration": 14,
    "start_time": "2024-07-07T16:55:58.241Z"
   },
   {
    "duration": 54,
    "start_time": "2024-07-07T16:55:58.259Z"
   },
   {
    "duration": 31,
    "start_time": "2024-07-07T16:55:58.316Z"
   },
   {
    "duration": 81,
    "start_time": "2024-07-07T16:55:58.350Z"
   },
   {
    "duration": 13,
    "start_time": "2024-07-07T16:55:58.434Z"
   },
   {
    "duration": 7,
    "start_time": "2024-07-07T16:55:58.450Z"
   },
   {
    "duration": 71,
    "start_time": "2024-07-07T16:55:58.461Z"
   },
   {
    "duration": 34,
    "start_time": "2024-07-07T16:55:58.535Z"
   },
   {
    "duration": 51,
    "start_time": "2024-07-07T16:55:58.573Z"
   },
   {
    "duration": 369,
    "start_time": "2024-07-07T16:55:58.627Z"
   },
   {
    "duration": 298,
    "start_time": "2024-07-07T16:55:58.999Z"
   },
   {
    "duration": 320,
    "start_time": "2024-07-07T16:55:59.300Z"
   },
   {
    "duration": 12,
    "start_time": "2024-07-07T16:55:59.623Z"
   },
   {
    "duration": 21,
    "start_time": "2024-07-07T16:55:59.638Z"
   },
   {
    "duration": 453,
    "start_time": "2024-07-07T16:55:59.662Z"
   },
   {
    "duration": 74,
    "start_time": "2024-07-07T16:56:00.118Z"
   },
   {
    "duration": 370,
    "start_time": "2024-07-07T16:56:00.195Z"
   },
   {
    "duration": 1095,
    "start_time": "2024-07-07T16:56:00.568Z"
   },
   {
    "duration": 1173,
    "start_time": "2024-07-07T16:56:01.666Z"
   },
   {
    "duration": 414,
    "start_time": "2024-07-07T16:56:02.843Z"
   },
   {
    "duration": 531,
    "start_time": "2024-07-07T16:56:03.260Z"
   },
   {
    "duration": 445,
    "start_time": "2024-07-07T16:56:03.794Z"
   },
   {
    "duration": 735,
    "start_time": "2024-07-07T16:56:04.243Z"
   },
   {
    "duration": 617,
    "start_time": "2024-07-07T16:56:04.984Z"
   },
   {
    "duration": 346,
    "start_time": "2024-07-07T16:56:05.612Z"
   },
   {
    "duration": 52,
    "start_time": "2024-07-07T16:56:05.961Z"
   },
   {
    "duration": 22,
    "start_time": "2024-07-07T16:56:06.016Z"
   },
   {
    "duration": 1420,
    "start_time": "2024-07-07T16:56:06.041Z"
   },
   {
    "duration": 227,
    "start_time": "2024-07-07T16:56:07.464Z"
   },
   {
    "duration": 352,
    "start_time": "2024-07-07T16:56:07.694Z"
   },
   {
    "duration": 308,
    "start_time": "2024-07-07T16:57:55.917Z"
   },
   {
    "duration": 21,
    "start_time": "2024-07-07T16:58:40.150Z"
   },
   {
    "duration": 1336,
    "start_time": "2024-07-07T16:58:48.981Z"
   },
   {
    "duration": 1689,
    "start_time": "2024-07-07T16:58:50.321Z"
   },
   {
    "duration": 51,
    "start_time": "2024-07-07T16:58:52.013Z"
   },
   {
    "duration": 50,
    "start_time": "2024-07-07T16:58:52.069Z"
   },
   {
    "duration": 14,
    "start_time": "2024-07-07T16:58:52.122Z"
   },
   {
    "duration": 14,
    "start_time": "2024-07-07T16:58:52.140Z"
   },
   {
    "duration": 82,
    "start_time": "2024-07-07T16:58:52.157Z"
   },
   {
    "duration": 175,
    "start_time": "2024-07-07T16:58:52.242Z"
   },
   {
    "duration": 76,
    "start_time": "2024-07-07T16:58:52.420Z"
   },
   {
    "duration": 14,
    "start_time": "2024-07-07T16:58:52.515Z"
   },
   {
    "duration": 12,
    "start_time": "2024-07-07T16:58:52.532Z"
   },
   {
    "duration": 214,
    "start_time": "2024-07-07T16:58:52.547Z"
   },
   {
    "duration": 172,
    "start_time": "2024-07-07T16:58:52.764Z"
   },
   {
    "duration": 60,
    "start_time": "2024-07-07T16:58:52.939Z"
   },
   {
    "duration": 40,
    "start_time": "2024-07-07T16:58:53.014Z"
   },
   {
    "duration": 8,
    "start_time": "2024-07-07T16:58:53.058Z"
   },
   {
    "duration": 68,
    "start_time": "2024-07-07T16:58:53.070Z"
   },
   {
    "duration": 24,
    "start_time": "2024-07-07T16:58:53.141Z"
   },
   {
    "duration": 15,
    "start_time": "2024-07-07T16:58:53.167Z"
   },
   {
    "duration": 55,
    "start_time": "2024-07-07T16:58:53.185Z"
   },
   {
    "duration": 18,
    "start_time": "2024-07-07T16:58:53.243Z"
   },
   {
    "duration": 7,
    "start_time": "2024-07-07T16:58:53.264Z"
   },
   {
    "duration": 40,
    "start_time": "2024-07-07T16:58:53.275Z"
   },
   {
    "duration": 10,
    "start_time": "2024-07-07T16:58:53.320Z"
   },
   {
    "duration": 9,
    "start_time": "2024-07-07T16:58:53.332Z"
   },
   {
    "duration": 7,
    "start_time": "2024-07-07T16:58:53.344Z"
   },
   {
    "duration": 1406,
    "start_time": "2024-07-07T16:58:53.354Z"
   },
   {
    "duration": 1172,
    "start_time": "2024-07-07T16:58:54.769Z"
   },
   {
    "duration": 30,
    "start_time": "2024-07-07T16:58:55.944Z"
   },
   {
    "duration": 37,
    "start_time": "2024-07-07T16:58:55.976Z"
   },
   {
    "duration": 15,
    "start_time": "2024-07-07T16:58:56.016Z"
   },
   {
    "duration": 13,
    "start_time": "2024-07-07T16:58:56.034Z"
   },
   {
    "duration": 11,
    "start_time": "2024-07-07T16:58:56.050Z"
   },
   {
    "duration": 60,
    "start_time": "2024-07-07T16:58:56.064Z"
   },
   {
    "duration": 11,
    "start_time": "2024-07-07T16:58:56.127Z"
   },
   {
    "duration": 30,
    "start_time": "2024-07-07T16:58:56.141Z"
   },
   {
    "duration": 81,
    "start_time": "2024-07-07T16:58:56.174Z"
   },
   {
    "duration": 13,
    "start_time": "2024-07-07T16:58:56.258Z"
   },
   {
    "duration": 6,
    "start_time": "2024-07-07T16:58:56.274Z"
   },
   {
    "duration": 68,
    "start_time": "2024-07-07T16:58:56.283Z"
   },
   {
    "duration": 66,
    "start_time": "2024-07-07T16:58:56.354Z"
   },
   {
    "duration": 30,
    "start_time": "2024-07-07T16:58:56.423Z"
   },
   {
    "duration": 220,
    "start_time": "2024-07-07T16:58:56.457Z"
   },
   {
    "duration": 0,
    "start_time": "2024-07-07T16:58:56.680Z"
   },
   {
    "duration": 0,
    "start_time": "2024-07-07T16:58:56.682Z"
   },
   {
    "duration": 0,
    "start_time": "2024-07-07T16:58:56.685Z"
   },
   {
    "duration": 0,
    "start_time": "2024-07-07T16:58:56.687Z"
   },
   {
    "duration": 0,
    "start_time": "2024-07-07T16:58:56.689Z"
   },
   {
    "duration": 0,
    "start_time": "2024-07-07T16:58:56.712Z"
   },
   {
    "duration": 0,
    "start_time": "2024-07-07T16:58:56.714Z"
   },
   {
    "duration": 0,
    "start_time": "2024-07-07T16:58:56.716Z"
   },
   {
    "duration": 0,
    "start_time": "2024-07-07T16:58:56.718Z"
   },
   {
    "duration": 0,
    "start_time": "2024-07-07T16:58:56.720Z"
   },
   {
    "duration": 0,
    "start_time": "2024-07-07T16:58:56.723Z"
   },
   {
    "duration": 0,
    "start_time": "2024-07-07T16:58:56.726Z"
   },
   {
    "duration": 0,
    "start_time": "2024-07-07T16:58:56.728Z"
   },
   {
    "duration": 0,
    "start_time": "2024-07-07T16:58:56.730Z"
   },
   {
    "duration": 0,
    "start_time": "2024-07-07T16:58:56.734Z"
   },
   {
    "duration": 0,
    "start_time": "2024-07-07T16:58:56.736Z"
   },
   {
    "duration": 0,
    "start_time": "2024-07-07T16:58:56.739Z"
   },
   {
    "duration": 0,
    "start_time": "2024-07-07T16:58:56.741Z"
   },
   {
    "duration": 0,
    "start_time": "2024-07-07T16:58:56.743Z"
   },
   {
    "duration": 0,
    "start_time": "2024-07-07T16:58:56.745Z"
   },
   {
    "duration": 0,
    "start_time": "2024-07-07T16:58:56.750Z"
   },
   {
    "duration": 0,
    "start_time": "2024-07-07T16:58:56.814Z"
   },
   {
    "duration": 0,
    "start_time": "2024-07-07T16:58:56.816Z"
   },
   {
    "duration": 0,
    "start_time": "2024-07-07T16:58:56.818Z"
   },
   {
    "duration": 10,
    "start_time": "2024-07-07T17:00:16.884Z"
   },
   {
    "duration": 287,
    "start_time": "2024-07-07T17:00:39.439Z"
   },
   {
    "duration": 25,
    "start_time": "2024-07-07T17:00:53.876Z"
   },
   {
    "duration": 9,
    "start_time": "2024-07-07T17:01:06.487Z"
   },
   {
    "duration": 325,
    "start_time": "2024-07-07T20:21:36.151Z"
   },
   {
    "duration": 5165,
    "start_time": "2024-07-07T20:21:56.094Z"
   },
   {
    "duration": 1792,
    "start_time": "2024-07-07T20:22:01.262Z"
   },
   {
    "duration": 58,
    "start_time": "2024-07-07T20:22:03.056Z"
   },
   {
    "duration": 25,
    "start_time": "2024-07-07T20:22:03.119Z"
   },
   {
    "duration": 17,
    "start_time": "2024-07-07T20:22:03.148Z"
   },
   {
    "duration": 46,
    "start_time": "2024-07-07T20:22:03.169Z"
   },
   {
    "duration": 48,
    "start_time": "2024-07-07T20:22:03.218Z"
   },
   {
    "duration": 201,
    "start_time": "2024-07-07T20:22:03.268Z"
   },
   {
    "duration": 85,
    "start_time": "2024-07-07T20:22:03.473Z"
   },
   {
    "duration": 18,
    "start_time": "2024-07-07T20:22:03.564Z"
   },
   {
    "duration": 23,
    "start_time": "2024-07-07T20:22:03.585Z"
   },
   {
    "duration": 184,
    "start_time": "2024-07-07T20:22:03.611Z"
   },
   {
    "duration": 167,
    "start_time": "2024-07-07T20:22:03.798Z"
   },
   {
    "duration": 57,
    "start_time": "2024-07-07T20:22:03.968Z"
   },
   {
    "duration": 23,
    "start_time": "2024-07-07T20:22:04.028Z"
   },
   {
    "duration": 7,
    "start_time": "2024-07-07T20:22:04.054Z"
   },
   {
    "duration": 64,
    "start_time": "2024-07-07T20:22:04.064Z"
   },
   {
    "duration": 23,
    "start_time": "2024-07-07T20:22:04.131Z"
   },
   {
    "duration": 15,
    "start_time": "2024-07-07T20:22:04.157Z"
   },
   {
    "duration": 56,
    "start_time": "2024-07-07T20:22:04.174Z"
   },
   {
    "duration": 20,
    "start_time": "2024-07-07T20:22:04.235Z"
   },
   {
    "duration": 8,
    "start_time": "2024-07-07T20:22:04.258Z"
   },
   {
    "duration": 8,
    "start_time": "2024-07-07T20:22:04.307Z"
   },
   {
    "duration": 7,
    "start_time": "2024-07-07T20:22:04.318Z"
   },
   {
    "duration": 8,
    "start_time": "2024-07-07T20:22:04.329Z"
   },
   {
    "duration": 6,
    "start_time": "2024-07-07T20:22:04.340Z"
   },
   {
    "duration": 1340,
    "start_time": "2024-07-07T20:22:04.349Z"
   },
   {
    "duration": 1142,
    "start_time": "2024-07-07T20:22:05.698Z"
   },
   {
    "duration": 27,
    "start_time": "2024-07-07T20:22:06.843Z"
   },
   {
    "duration": 34,
    "start_time": "2024-07-07T20:22:06.873Z"
   },
   {
    "duration": 16,
    "start_time": "2024-07-07T20:22:06.910Z"
   },
   {
    "duration": 15,
    "start_time": "2024-07-07T20:22:06.928Z"
   },
   {
    "duration": 13,
    "start_time": "2024-07-07T20:22:06.947Z"
   },
   {
    "duration": 56,
    "start_time": "2024-07-07T20:22:06.963Z"
   },
   {
    "duration": 12,
    "start_time": "2024-07-07T20:22:07.021Z"
   },
   {
    "duration": 28,
    "start_time": "2024-07-07T20:22:07.036Z"
   },
   {
    "duration": 86,
    "start_time": "2024-07-07T20:22:07.067Z"
   },
   {
    "duration": 13,
    "start_time": "2024-07-07T20:22:07.156Z"
   },
   {
    "duration": 236,
    "start_time": "2024-07-07T20:22:07.172Z"
   },
   {
    "duration": 0,
    "start_time": "2024-07-07T20:22:07.411Z"
   },
   {
    "duration": 0,
    "start_time": "2024-07-07T20:22:07.414Z"
   },
   {
    "duration": 0,
    "start_time": "2024-07-07T20:22:07.416Z"
   },
   {
    "duration": 0,
    "start_time": "2024-07-07T20:22:07.419Z"
   },
   {
    "duration": 0,
    "start_time": "2024-07-07T20:22:07.422Z"
   },
   {
    "duration": 0,
    "start_time": "2024-07-07T20:22:07.424Z"
   },
   {
    "duration": 1,
    "start_time": "2024-07-07T20:22:07.426Z"
   },
   {
    "duration": 1,
    "start_time": "2024-07-07T20:22:07.428Z"
   },
   {
    "duration": 0,
    "start_time": "2024-07-07T20:22:07.431Z"
   },
   {
    "duration": 0,
    "start_time": "2024-07-07T20:22:07.434Z"
   },
   {
    "duration": 0,
    "start_time": "2024-07-07T20:22:07.437Z"
   },
   {
    "duration": 0,
    "start_time": "2024-07-07T20:22:07.439Z"
   },
   {
    "duration": 0,
    "start_time": "2024-07-07T20:22:07.442Z"
   },
   {
    "duration": 0,
    "start_time": "2024-07-07T20:22:07.444Z"
   },
   {
    "duration": 0,
    "start_time": "2024-07-07T20:22:07.447Z"
   },
   {
    "duration": 0,
    "start_time": "2024-07-07T20:22:07.449Z"
   },
   {
    "duration": 0,
    "start_time": "2024-07-07T20:22:07.507Z"
   },
   {
    "duration": 0,
    "start_time": "2024-07-07T20:22:07.509Z"
   },
   {
    "duration": 0,
    "start_time": "2024-07-07T20:22:07.512Z"
   },
   {
    "duration": 0,
    "start_time": "2024-07-07T20:22:07.513Z"
   },
   {
    "duration": 0,
    "start_time": "2024-07-07T20:22:07.515Z"
   },
   {
    "duration": 0,
    "start_time": "2024-07-07T20:22:07.518Z"
   },
   {
    "duration": 0,
    "start_time": "2024-07-07T20:22:07.519Z"
   },
   {
    "duration": 0,
    "start_time": "2024-07-07T20:22:07.521Z"
   },
   {
    "duration": 0,
    "start_time": "2024-07-07T20:22:07.523Z"
   },
   {
    "duration": 0,
    "start_time": "2024-07-07T20:22:07.526Z"
   },
   {
    "duration": 0,
    "start_time": "2024-07-07T20:22:07.528Z"
   },
   {
    "duration": 0,
    "start_time": "2024-07-07T20:22:07.530Z"
   },
   {
    "duration": 453,
    "start_time": "2024-07-07T20:22:50.518Z"
   },
   {
    "duration": 29,
    "start_time": "2024-07-07T20:23:27.544Z"
   },
   {
    "duration": 7,
    "start_time": "2024-07-07T20:23:39.176Z"
   },
   {
    "duration": 9,
    "start_time": "2024-07-07T20:25:54.466Z"
   },
   {
    "duration": 8,
    "start_time": "2024-07-07T20:29:23.302Z"
   },
   {
    "duration": 1138,
    "start_time": "2024-07-07T20:38:52.014Z"
   },
   {
    "duration": 589,
    "start_time": "2024-07-07T20:39:32.990Z"
   },
   {
    "duration": 83,
    "start_time": "2024-07-07T20:41:43.300Z"
   },
   {
    "duration": 11,
    "start_time": "2024-07-07T20:43:05.783Z"
   },
   {
    "duration": 84,
    "start_time": "2024-07-07T20:44:02.231Z"
   },
   {
    "duration": 11,
    "start_time": "2024-07-07T20:44:25.608Z"
   },
   {
    "duration": 58,
    "start_time": "2024-07-07T20:45:12.876Z"
   },
   {
    "duration": 55,
    "start_time": "2024-07-07T20:45:39.614Z"
   },
   {
    "duration": 60,
    "start_time": "2024-07-07T20:45:48.748Z"
   },
   {
    "duration": 61,
    "start_time": "2024-07-07T20:45:56.967Z"
   },
   {
    "duration": 62,
    "start_time": "2024-07-07T20:46:19.436Z"
   },
   {
    "duration": 58,
    "start_time": "2024-07-07T20:46:33.600Z"
   },
   {
    "duration": 59,
    "start_time": "2024-07-07T20:52:20.335Z"
   },
   {
    "duration": 65,
    "start_time": "2024-07-07T20:52:33.258Z"
   },
   {
    "duration": 8,
    "start_time": "2024-07-07T20:53:30.528Z"
   },
   {
    "duration": 74,
    "start_time": "2024-07-07T20:53:36.326Z"
   },
   {
    "duration": 65,
    "start_time": "2024-07-07T20:53:42.563Z"
   },
   {
    "duration": 12,
    "start_time": "2024-07-07T20:54:29.686Z"
   },
   {
    "duration": 61,
    "start_time": "2024-07-07T20:55:45.865Z"
   },
   {
    "duration": 62,
    "start_time": "2024-07-07T20:57:00.507Z"
   },
   {
    "duration": 1303,
    "start_time": "2024-07-07T21:07:15.960Z"
   },
   {
    "duration": 1515,
    "start_time": "2024-07-07T21:07:17.267Z"
   },
   {
    "duration": 59,
    "start_time": "2024-07-07T21:07:18.785Z"
   },
   {
    "duration": 22,
    "start_time": "2024-07-07T21:07:18.848Z"
   },
   {
    "duration": 37,
    "start_time": "2024-07-07T21:07:18.873Z"
   },
   {
    "duration": 14,
    "start_time": "2024-07-07T21:07:18.913Z"
   },
   {
    "duration": 79,
    "start_time": "2024-07-07T21:07:18.930Z"
   },
   {
    "duration": 177,
    "start_time": "2024-07-07T21:07:19.013Z"
   },
   {
    "duration": 77,
    "start_time": "2024-07-07T21:07:19.193Z"
   },
   {
    "duration": 34,
    "start_time": "2024-07-07T21:07:19.276Z"
   },
   {
    "duration": 12,
    "start_time": "2024-07-07T21:07:19.313Z"
   },
   {
    "duration": 207,
    "start_time": "2024-07-07T21:07:19.328Z"
   },
   {
    "duration": 166,
    "start_time": "2024-07-07T21:07:19.538Z"
   },
   {
    "duration": 47,
    "start_time": "2024-07-07T21:07:19.710Z"
   },
   {
    "duration": 22,
    "start_time": "2024-07-07T21:07:19.760Z"
   },
   {
    "duration": 7,
    "start_time": "2024-07-07T21:07:19.807Z"
   },
   {
    "duration": 34,
    "start_time": "2024-07-07T21:07:19.818Z"
   },
   {
    "duration": 55,
    "start_time": "2024-07-07T21:07:19.854Z"
   },
   {
    "duration": 15,
    "start_time": "2024-07-07T21:07:19.912Z"
   },
   {
    "duration": 24,
    "start_time": "2024-07-07T21:07:19.930Z"
   },
   {
    "duration": 16,
    "start_time": "2024-07-07T21:07:19.956Z"
   },
   {
    "duration": 8,
    "start_time": "2024-07-07T21:07:20.007Z"
   },
   {
    "duration": 7,
    "start_time": "2024-07-07T21:07:20.017Z"
   },
   {
    "duration": 8,
    "start_time": "2024-07-07T21:07:20.027Z"
   },
   {
    "duration": 7,
    "start_time": "2024-07-07T21:07:20.038Z"
   },
   {
    "duration": 59,
    "start_time": "2024-07-07T21:07:20.048Z"
   },
   {
    "duration": 1350,
    "start_time": "2024-07-07T21:07:20.110Z"
   },
   {
    "duration": 1138,
    "start_time": "2024-07-07T21:07:21.470Z"
   },
   {
    "duration": 29,
    "start_time": "2024-07-07T21:07:22.614Z"
   },
   {
    "duration": 13,
    "start_time": "2024-07-07T21:07:22.646Z"
   },
   {
    "duration": 49,
    "start_time": "2024-07-07T21:07:22.662Z"
   },
   {
    "duration": 14,
    "start_time": "2024-07-07T21:07:22.714Z"
   },
   {
    "duration": 10,
    "start_time": "2024-07-07T21:07:22.731Z"
   },
   {
    "duration": 13,
    "start_time": "2024-07-07T21:07:22.744Z"
   },
   {
    "duration": 55,
    "start_time": "2024-07-07T21:07:22.761Z"
   },
   {
    "duration": 29,
    "start_time": "2024-07-07T21:07:22.819Z"
   },
   {
    "duration": 79,
    "start_time": "2024-07-07T21:07:22.851Z"
   },
   {
    "duration": 11,
    "start_time": "2024-07-07T21:07:22.933Z"
   },
   {
    "duration": 85,
    "start_time": "2024-07-07T21:07:22.947Z"
   },
   {
    "duration": 35,
    "start_time": "2024-07-07T21:07:23.035Z"
   },
   {
    "duration": 56,
    "start_time": "2024-07-07T21:07:23.072Z"
   },
   {
    "duration": 25,
    "start_time": "2024-07-07T21:07:23.130Z"
   },
   {
    "duration": 9,
    "start_time": "2024-07-07T21:07:23.158Z"
   },
   {
    "duration": 394,
    "start_time": "2024-07-07T21:07:23.170Z"
   },
   {
    "duration": 302,
    "start_time": "2024-07-07T21:07:23.568Z"
   },
   {
    "duration": 294,
    "start_time": "2024-07-07T21:07:23.873Z"
   },
   {
    "duration": 12,
    "start_time": "2024-07-07T21:07:24.170Z"
   },
   {
    "duration": 36,
    "start_time": "2024-07-07T21:07:24.184Z"
   },
   {
    "duration": 435,
    "start_time": "2024-07-07T21:07:24.223Z"
   },
   {
    "duration": 92,
    "start_time": "2024-07-07T21:07:24.661Z"
   },
   {
    "duration": 349,
    "start_time": "2024-07-07T21:07:24.757Z"
   },
   {
    "duration": 1082,
    "start_time": "2024-07-07T21:07:25.109Z"
   },
   {
    "duration": 1120,
    "start_time": "2024-07-07T21:07:26.194Z"
   },
   {
    "duration": 366,
    "start_time": "2024-07-07T21:07:27.317Z"
   },
   {
    "duration": 520,
    "start_time": "2024-07-07T21:07:27.686Z"
   },
   {
    "duration": 440,
    "start_time": "2024-07-07T21:07:28.208Z"
   },
   {
    "duration": 725,
    "start_time": "2024-07-07T21:07:28.651Z"
   },
   {
    "duration": 624,
    "start_time": "2024-07-07T21:07:29.379Z"
   },
   {
    "duration": 346,
    "start_time": "2024-07-07T21:07:30.007Z"
   },
   {
    "duration": 34,
    "start_time": "2024-07-07T21:07:30.356Z"
   },
   {
    "duration": 23,
    "start_time": "2024-07-07T21:07:30.405Z"
   },
   {
    "duration": 1434,
    "start_time": "2024-07-07T21:07:30.433Z"
   },
   {
    "duration": 229,
    "start_time": "2024-07-07T21:07:31.870Z"
   },
   {
    "duration": 356,
    "start_time": "2024-07-07T21:07:32.105Z"
   },
   {
    "duration": 4,
    "start_time": "2024-07-07T21:09:32.162Z"
   },
   {
    "duration": 308,
    "start_time": "2024-07-07T21:10:53.388Z"
   },
   {
    "duration": 1289,
    "start_time": "2024-07-07T21:11:11.481Z"
   },
   {
    "duration": 1647,
    "start_time": "2024-07-07T21:11:12.774Z"
   },
   {
    "duration": 46,
    "start_time": "2024-07-07T21:11:14.425Z"
   },
   {
    "duration": 46,
    "start_time": "2024-07-07T21:11:14.474Z"
   },
   {
    "duration": 15,
    "start_time": "2024-07-07T21:11:14.524Z"
   },
   {
    "duration": 13,
    "start_time": "2024-07-07T21:11:14.542Z"
   },
   {
    "duration": 85,
    "start_time": "2024-07-07T21:11:14.558Z"
   },
   {
    "duration": 177,
    "start_time": "2024-07-07T21:11:14.646Z"
   },
   {
    "duration": 84,
    "start_time": "2024-07-07T21:11:14.826Z"
   },
   {
    "duration": 14,
    "start_time": "2024-07-07T21:11:14.913Z"
   },
   {
    "duration": 13,
    "start_time": "2024-07-07T21:11:14.930Z"
   },
   {
    "duration": 203,
    "start_time": "2024-07-07T21:11:14.945Z"
   },
   {
    "duration": 175,
    "start_time": "2024-07-07T21:11:15.151Z"
   },
   {
    "duration": 46,
    "start_time": "2024-07-07T21:11:15.334Z"
   },
   {
    "duration": 43,
    "start_time": "2024-07-07T21:11:15.383Z"
   },
   {
    "duration": 7,
    "start_time": "2024-07-07T21:11:15.429Z"
   },
   {
    "duration": 67,
    "start_time": "2024-07-07T21:11:15.438Z"
   },
   {
    "duration": 27,
    "start_time": "2024-07-07T21:11:15.512Z"
   },
   {
    "duration": 15,
    "start_time": "2024-07-07T21:11:15.542Z"
   },
   {
    "duration": 53,
    "start_time": "2024-07-07T21:11:15.559Z"
   },
   {
    "duration": 18,
    "start_time": "2024-07-07T21:11:15.618Z"
   },
   {
    "duration": 6,
    "start_time": "2024-07-07T21:11:15.639Z"
   },
   {
    "duration": 6,
    "start_time": "2024-07-07T21:11:15.649Z"
   },
   {
    "duration": 6,
    "start_time": "2024-07-07T21:11:15.658Z"
   },
   {
    "duration": 48,
    "start_time": "2024-07-07T21:11:15.667Z"
   },
   {
    "duration": 7,
    "start_time": "2024-07-07T21:11:15.719Z"
   },
   {
    "duration": 1344,
    "start_time": "2024-07-07T21:11:15.729Z"
   },
   {
    "duration": 1164,
    "start_time": "2024-07-07T21:11:17.076Z"
   },
   {
    "duration": 26,
    "start_time": "2024-07-07T21:11:18.243Z"
   },
   {
    "duration": 37,
    "start_time": "2024-07-07T21:11:18.272Z"
   },
   {
    "duration": 15,
    "start_time": "2024-07-07T21:11:18.313Z"
   },
   {
    "duration": 14,
    "start_time": "2024-07-07T21:11:18.332Z"
   },
   {
    "duration": 10,
    "start_time": "2024-07-07T21:11:18.348Z"
   },
   {
    "duration": 58,
    "start_time": "2024-07-07T21:11:18.361Z"
   },
   {
    "duration": 14,
    "start_time": "2024-07-07T21:11:18.426Z"
   },
   {
    "duration": 30,
    "start_time": "2024-07-07T21:11:18.443Z"
   },
   {
    "duration": 75,
    "start_time": "2024-07-07T21:11:18.476Z"
   },
   {
    "duration": 11,
    "start_time": "2024-07-07T21:11:18.554Z"
   },
   {
    "duration": 86,
    "start_time": "2024-07-07T21:11:18.567Z"
   },
   {
    "duration": 54,
    "start_time": "2024-07-07T21:11:18.656Z"
   },
   {
    "duration": 35,
    "start_time": "2024-07-07T21:11:18.720Z"
   },
   {
    "duration": 4,
    "start_time": "2024-07-07T21:11:18.757Z"
   },
   {
    "duration": 11,
    "start_time": "2024-07-07T21:11:18.763Z"
   },
   {
    "duration": 378,
    "start_time": "2024-07-07T21:11:18.807Z"
   },
   {
    "duration": 300,
    "start_time": "2024-07-07T21:11:19.188Z"
   },
   {
    "duration": 301,
    "start_time": "2024-07-07T21:11:19.491Z"
   },
   {
    "duration": 19,
    "start_time": "2024-07-07T21:11:19.795Z"
   },
   {
    "duration": 20,
    "start_time": "2024-07-07T21:11:19.817Z"
   },
   {
    "duration": 451,
    "start_time": "2024-07-07T21:11:19.839Z"
   },
   {
    "duration": 84,
    "start_time": "2024-07-07T21:11:20.292Z"
   },
   {
    "duration": 363,
    "start_time": "2024-07-07T21:11:20.379Z"
   },
   {
    "duration": 1097,
    "start_time": "2024-07-07T21:11:20.745Z"
   },
   {
    "duration": 1154,
    "start_time": "2024-07-07T21:11:21.845Z"
   },
   {
    "duration": 365,
    "start_time": "2024-07-07T21:11:23.006Z"
   },
   {
    "duration": 518,
    "start_time": "2024-07-07T21:11:23.373Z"
   },
   {
    "duration": 427,
    "start_time": "2024-07-07T21:11:23.893Z"
   },
   {
    "duration": 742,
    "start_time": "2024-07-07T21:11:24.324Z"
   },
   {
    "duration": 628,
    "start_time": "2024-07-07T21:11:25.069Z"
   },
   {
    "duration": 375,
    "start_time": "2024-07-07T21:11:25.706Z"
   },
   {
    "duration": 44,
    "start_time": "2024-07-07T21:11:26.084Z"
   },
   {
    "duration": 22,
    "start_time": "2024-07-07T21:11:26.130Z"
   },
   {
    "duration": 1380,
    "start_time": "2024-07-07T21:11:26.155Z"
   },
   {
    "duration": 218,
    "start_time": "2024-07-07T21:11:27.538Z"
   },
   {
    "duration": 383,
    "start_time": "2024-07-07T21:11:27.758Z"
   },
   {
    "duration": 1365,
    "start_time": "2024-07-07T21:13:19.996Z"
   },
   {
    "duration": 1616,
    "start_time": "2024-07-07T21:13:21.364Z"
   },
   {
    "duration": 51,
    "start_time": "2024-07-07T21:13:22.983Z"
   },
   {
    "duration": 22,
    "start_time": "2024-07-07T21:13:23.039Z"
   },
   {
    "duration": 42,
    "start_time": "2024-07-07T21:13:23.064Z"
   },
   {
    "duration": 14,
    "start_time": "2024-07-07T21:13:23.109Z"
   },
   {
    "duration": 80,
    "start_time": "2024-07-07T21:13:23.126Z"
   },
   {
    "duration": 169,
    "start_time": "2024-07-07T21:13:23.208Z"
   },
   {
    "duration": 88,
    "start_time": "2024-07-07T21:13:23.380Z"
   },
   {
    "duration": 15,
    "start_time": "2024-07-07T21:13:23.475Z"
   },
   {
    "duration": 24,
    "start_time": "2024-07-07T21:13:23.492Z"
   },
   {
    "duration": 190,
    "start_time": "2024-07-07T21:13:23.521Z"
   },
   {
    "duration": 169,
    "start_time": "2024-07-07T21:13:23.713Z"
   },
   {
    "duration": 55,
    "start_time": "2024-07-07T21:13:23.885Z"
   },
   {
    "duration": 22,
    "start_time": "2024-07-07T21:13:23.943Z"
   },
   {
    "duration": 8,
    "start_time": "2024-07-07T21:13:23.968Z"
   },
   {
    "duration": 36,
    "start_time": "2024-07-07T21:13:24.005Z"
   },
   {
    "duration": 22,
    "start_time": "2024-07-07T21:13:24.044Z"
   },
   {
    "duration": 43,
    "start_time": "2024-07-07T21:13:24.069Z"
   },
   {
    "duration": 26,
    "start_time": "2024-07-07T21:13:24.115Z"
   },
   {
    "duration": 18,
    "start_time": "2024-07-07T21:13:24.146Z"
   },
   {
    "duration": 39,
    "start_time": "2024-07-07T21:13:24.167Z"
   },
   {
    "duration": 6,
    "start_time": "2024-07-07T21:13:24.209Z"
   },
   {
    "duration": 7,
    "start_time": "2024-07-07T21:13:24.218Z"
   },
   {
    "duration": 7,
    "start_time": "2024-07-07T21:13:24.228Z"
   },
   {
    "duration": 8,
    "start_time": "2024-07-07T21:13:24.238Z"
   },
   {
    "duration": 1372,
    "start_time": "2024-07-07T21:13:24.249Z"
   },
   {
    "duration": 1155,
    "start_time": "2024-07-07T21:13:25.631Z"
   },
   {
    "duration": 35,
    "start_time": "2024-07-07T21:13:26.788Z"
   },
   {
    "duration": 13,
    "start_time": "2024-07-07T21:13:26.826Z"
   },
   {
    "duration": 13,
    "start_time": "2024-07-07T21:13:26.843Z"
   },
   {
    "duration": 53,
    "start_time": "2024-07-07T21:13:26.859Z"
   },
   {
    "duration": 9,
    "start_time": "2024-07-07T21:13:26.915Z"
   },
   {
    "duration": 20,
    "start_time": "2024-07-07T21:13:26.928Z"
   },
   {
    "duration": 13,
    "start_time": "2024-07-07T21:13:26.953Z"
   },
   {
    "duration": 61,
    "start_time": "2024-07-07T21:13:26.969Z"
   },
   {
    "duration": 72,
    "start_time": "2024-07-07T21:13:27.034Z"
   },
   {
    "duration": 12,
    "start_time": "2024-07-07T21:13:27.109Z"
   },
   {
    "duration": 82,
    "start_time": "2024-07-07T21:13:27.124Z"
   },
   {
    "duration": 35,
    "start_time": "2024-07-07T21:13:27.209Z"
   },
   {
    "duration": 34,
    "start_time": "2024-07-07T21:13:27.247Z"
   },
   {
    "duration": 3,
    "start_time": "2024-07-07T21:13:27.308Z"
   },
   {
    "duration": 13,
    "start_time": "2024-07-07T21:13:27.314Z"
   },
   {
    "duration": 419,
    "start_time": "2024-07-07T21:13:27.330Z"
   },
   {
    "duration": 315,
    "start_time": "2024-07-07T21:13:27.754Z"
   },
   {
    "duration": 303,
    "start_time": "2024-07-07T21:13:28.072Z"
   },
   {
    "duration": 12,
    "start_time": "2024-07-07T21:13:28.378Z"
   },
   {
    "duration": 21,
    "start_time": "2024-07-07T21:13:28.407Z"
   },
   {
    "duration": 448,
    "start_time": "2024-07-07T21:13:28.431Z"
   },
   {
    "duration": 87,
    "start_time": "2024-07-07T21:13:28.885Z"
   },
   {
    "duration": 342,
    "start_time": "2024-07-07T21:13:28.975Z"
   },
   {
    "duration": 1069,
    "start_time": "2024-07-07T21:13:29.320Z"
   },
   {
    "duration": 1118,
    "start_time": "2024-07-07T21:13:30.391Z"
   },
   {
    "duration": 367,
    "start_time": "2024-07-07T21:13:31.512Z"
   },
   {
    "duration": 491,
    "start_time": "2024-07-07T21:13:31.881Z"
   },
   {
    "duration": 421,
    "start_time": "2024-07-07T21:13:32.375Z"
   },
   {
    "duration": 721,
    "start_time": "2024-07-07T21:13:32.799Z"
   },
   {
    "duration": 617,
    "start_time": "2024-07-07T21:13:33.523Z"
   },
   {
    "duration": 347,
    "start_time": "2024-07-07T21:13:34.142Z"
   },
   {
    "duration": 48,
    "start_time": "2024-07-07T21:13:34.492Z"
   },
   {
    "duration": 21,
    "start_time": "2024-07-07T21:13:34.543Z"
   },
   {
    "duration": 1426,
    "start_time": "2024-07-07T21:13:34.567Z"
   },
   {
    "duration": 229,
    "start_time": "2024-07-07T21:13:35.995Z"
   },
   {
    "duration": 348,
    "start_time": "2024-07-07T21:13:36.226Z"
   },
   {
    "duration": 1209,
    "start_time": "2024-07-07T21:19:12.568Z"
   },
   {
    "duration": 1646,
    "start_time": "2024-07-07T21:19:15.582Z"
   },
   {
    "duration": 44,
    "start_time": "2024-07-07T21:19:19.933Z"
   },
   {
    "duration": 24,
    "start_time": "2024-07-07T21:19:22.893Z"
   },
   {
    "duration": 15,
    "start_time": "2024-07-07T21:19:24.572Z"
   },
   {
    "duration": 14,
    "start_time": "2024-07-07T21:19:28.788Z"
   },
   {
    "duration": 48,
    "start_time": "2024-07-07T21:19:30.278Z"
   },
   {
    "duration": 170,
    "start_time": "2024-07-07T21:19:39.271Z"
   },
   {
    "duration": 74,
    "start_time": "2024-07-07T21:19:40.837Z"
   },
   {
    "duration": 13,
    "start_time": "2024-07-07T21:19:43.365Z"
   },
   {
    "duration": 13,
    "start_time": "2024-07-07T21:19:46.388Z"
   },
   {
    "duration": 171,
    "start_time": "2024-07-07T21:19:49.923Z"
   },
   {
    "duration": 154,
    "start_time": "2024-07-07T21:19:51.715Z"
   },
   {
    "duration": 48,
    "start_time": "2024-07-07T21:19:53.328Z"
   },
   {
    "duration": 23,
    "start_time": "2024-07-07T21:19:56.088Z"
   },
   {
    "duration": 7,
    "start_time": "2024-07-07T21:19:57.270Z"
   },
   {
    "duration": 37,
    "start_time": "2024-07-07T21:19:58.487Z"
   },
   {
    "duration": 23,
    "start_time": "2024-07-07T21:20:00.258Z"
   },
   {
    "duration": 15,
    "start_time": "2024-07-07T21:20:01.795Z"
   },
   {
    "duration": 25,
    "start_time": "2024-07-07T21:20:03.217Z"
   },
   {
    "duration": 18,
    "start_time": "2024-07-07T21:20:04.756Z"
   },
   {
    "duration": 7,
    "start_time": "2024-07-07T21:20:08.057Z"
   },
   {
    "duration": 6,
    "start_time": "2024-07-07T21:20:09.605Z"
   },
   {
    "duration": 6,
    "start_time": "2024-07-07T21:20:10.904Z"
   },
   {
    "duration": 7,
    "start_time": "2024-07-07T21:20:14.985Z"
   },
   {
    "duration": 7,
    "start_time": "2024-07-07T21:20:15.666Z"
   },
   {
    "duration": 1335,
    "start_time": "2024-07-07T21:20:19.201Z"
   },
   {
    "duration": 1155,
    "start_time": "2024-07-07T21:20:48.334Z"
   },
   {
    "duration": 26,
    "start_time": "2024-07-07T21:20:51.974Z"
   },
   {
    "duration": 12,
    "start_time": "2024-07-07T21:20:57.079Z"
   },
   {
    "duration": 13,
    "start_time": "2024-07-07T21:20:59.218Z"
   },
   {
    "duration": 13,
    "start_time": "2024-07-07T21:21:01.284Z"
   },
   {
    "duration": 10,
    "start_time": "2024-07-07T21:21:04.729Z"
   },
   {
    "duration": 13,
    "start_time": "2024-07-07T21:21:07.937Z"
   },
   {
    "duration": 11,
    "start_time": "2024-07-07T21:21:10.598Z"
   },
   {
    "duration": 28,
    "start_time": "2024-07-07T21:21:13.492Z"
   },
   {
    "duration": 48,
    "start_time": "2024-07-07T21:21:15.272Z"
   },
   {
    "duration": 15,
    "start_time": "2024-07-07T21:21:17.466Z"
   },
   {
    "duration": 57,
    "start_time": "2024-07-07T21:21:18.782Z"
   },
   {
    "duration": 35,
    "start_time": "2024-07-07T21:21:22.576Z"
   },
   {
    "duration": 28,
    "start_time": "2024-07-07T21:21:41.777Z"
   },
   {
    "duration": 32,
    "start_time": "2024-07-07T21:21:45.871Z"
   },
   {
    "duration": 11,
    "start_time": "2024-07-07T21:21:50.124Z"
   },
   {
    "duration": 364,
    "start_time": "2024-07-07T21:22:01.517Z"
   },
   {
    "duration": 223,
    "start_time": "2024-07-07T21:22:05.555Z"
   },
   {
    "duration": 345,
    "start_time": "2024-07-07T21:22:11.539Z"
   },
   {
    "duration": 13,
    "start_time": "2024-07-07T21:22:17.448Z"
   },
   {
    "duration": 19,
    "start_time": "2024-07-07T21:22:18.764Z"
   },
   {
    "duration": 413,
    "start_time": "2024-07-07T21:22:20.640Z"
   },
   {
    "duration": 72,
    "start_time": "2024-07-07T21:22:29.933Z"
   },
   {
    "duration": 332,
    "start_time": "2024-07-07T21:22:31.908Z"
   },
   {
    "duration": 1059,
    "start_time": "2024-07-07T21:22:35.131Z"
   },
   {
    "duration": 1134,
    "start_time": "2024-07-07T21:22:39.593Z"
   },
   {
    "duration": 350,
    "start_time": "2024-07-07T21:22:42.077Z"
   },
   {
    "duration": 529,
    "start_time": "2024-07-07T21:22:47.980Z"
   },
   {
    "duration": 440,
    "start_time": "2024-07-07T21:22:50.345Z"
   },
   {
    "duration": 702,
    "start_time": "2024-07-07T21:22:53.835Z"
   },
   {
    "duration": 633,
    "start_time": "2024-07-07T21:23:03.058Z"
   },
   {
    "duration": 322,
    "start_time": "2024-07-07T21:23:05.795Z"
   },
   {
    "duration": 34,
    "start_time": "2024-07-07T21:23:08.641Z"
   },
   {
    "duration": 21,
    "start_time": "2024-07-07T21:23:14.183Z"
   },
   {
    "duration": 1306,
    "start_time": "2024-07-07T21:23:22.942Z"
   },
   {
    "duration": 207,
    "start_time": "2024-07-07T21:23:27.710Z"
   },
   {
    "duration": 337,
    "start_time": "2024-07-07T21:23:29.733Z"
   },
   {
    "duration": 4902,
    "start_time": "2024-07-08T22:16:33.523Z"
   },
   {
    "duration": 1692,
    "start_time": "2024-07-08T22:16:38.429Z"
   },
   {
    "duration": 45,
    "start_time": "2024-07-08T22:16:40.125Z"
   },
   {
    "duration": 40,
    "start_time": "2024-07-08T22:16:40.173Z"
   },
   {
    "duration": 14,
    "start_time": "2024-07-08T22:16:40.218Z"
   },
   {
    "duration": 16,
    "start_time": "2024-07-08T22:16:40.235Z"
   },
   {
    "duration": 87,
    "start_time": "2024-07-08T22:16:40.254Z"
   },
   {
    "duration": 182,
    "start_time": "2024-07-08T22:16:40.344Z"
   },
   {
    "duration": 86,
    "start_time": "2024-07-08T22:16:40.528Z"
   },
   {
    "duration": 14,
    "start_time": "2024-07-08T22:16:40.617Z"
   },
   {
    "duration": 12,
    "start_time": "2024-07-08T22:16:40.634Z"
   },
   {
    "duration": 227,
    "start_time": "2024-07-08T22:16:40.649Z"
   },
   {
    "duration": 163,
    "start_time": "2024-07-08T22:16:40.879Z"
   },
   {
    "duration": 62,
    "start_time": "2024-07-08T22:16:41.049Z"
   },
   {
    "duration": 23,
    "start_time": "2024-07-08T22:16:41.114Z"
   },
   {
    "duration": 6,
    "start_time": "2024-07-08T22:16:41.140Z"
   },
   {
    "duration": 67,
    "start_time": "2024-07-08T22:16:41.149Z"
   },
   {
    "duration": 24,
    "start_time": "2024-07-08T22:16:41.219Z"
   },
   {
    "duration": 16,
    "start_time": "2024-07-08T22:16:41.245Z"
   },
   {
    "duration": 54,
    "start_time": "2024-07-08T22:16:41.264Z"
   },
   {
    "duration": 25,
    "start_time": "2024-07-08T22:16:41.321Z"
   },
   {
    "duration": 8,
    "start_time": "2024-07-08T22:16:41.349Z"
   },
   {
    "duration": 42,
    "start_time": "2024-07-08T22:16:41.362Z"
   },
   {
    "duration": 7,
    "start_time": "2024-07-08T22:16:41.407Z"
   },
   {
    "duration": 8,
    "start_time": "2024-07-08T22:16:41.417Z"
   },
   {
    "duration": 7,
    "start_time": "2024-07-08T22:16:41.428Z"
   },
   {
    "duration": 1397,
    "start_time": "2024-07-08T22:16:41.438Z"
   },
   {
    "duration": 1158,
    "start_time": "2024-07-08T22:16:42.838Z"
   },
   {
    "duration": 27,
    "start_time": "2024-07-08T22:16:44.003Z"
   },
   {
    "duration": 13,
    "start_time": "2024-07-08T22:16:44.033Z"
   },
   {
    "duration": 53,
    "start_time": "2024-07-08T22:16:44.049Z"
   },
   {
    "duration": 13,
    "start_time": "2024-07-08T22:16:44.106Z"
   },
   {
    "duration": 11,
    "start_time": "2024-07-08T22:16:44.123Z"
   },
   {
    "duration": 16,
    "start_time": "2024-07-08T22:16:44.138Z"
   },
   {
    "duration": 52,
    "start_time": "2024-07-08T22:16:44.157Z"
   },
   {
    "duration": 28,
    "start_time": "2024-07-08T22:16:44.212Z"
   },
   {
    "duration": 81,
    "start_time": "2024-07-08T22:16:44.244Z"
   },
   {
    "duration": 11,
    "start_time": "2024-07-08T22:16:44.328Z"
   },
   {
    "duration": 82,
    "start_time": "2024-07-08T22:16:44.342Z"
   },
   {
    "duration": 34,
    "start_time": "2024-07-08T22:16:44.427Z"
   },
   {
    "duration": 61,
    "start_time": "2024-07-08T22:16:44.470Z"
   },
   {
    "duration": 4,
    "start_time": "2024-07-08T22:16:44.533Z"
   },
   {
    "duration": 10,
    "start_time": "2024-07-08T22:16:44.539Z"
   },
   {
    "duration": 401,
    "start_time": "2024-07-08T22:16:44.552Z"
   },
   {
    "duration": 248,
    "start_time": "2024-07-08T22:16:44.956Z"
   },
   {
    "duration": 300,
    "start_time": "2024-07-08T22:16:45.208Z"
   },
   {
    "duration": 13,
    "start_time": "2024-07-08T22:16:45.511Z"
   },
   {
    "duration": 20,
    "start_time": "2024-07-08T22:16:45.526Z"
   },
   {
    "duration": 459,
    "start_time": "2024-07-08T22:16:45.548Z"
   },
   {
    "duration": 72,
    "start_time": "2024-07-08T22:16:46.021Z"
   },
   {
    "duration": 366,
    "start_time": "2024-07-08T22:16:46.101Z"
   },
   {
    "duration": 1086,
    "start_time": "2024-07-08T22:16:46.470Z"
   },
   {
    "duration": 1166,
    "start_time": "2024-07-08T22:16:47.558Z"
   },
   {
    "duration": 382,
    "start_time": "2024-07-08T22:16:48.728Z"
   },
   {
    "duration": 512,
    "start_time": "2024-07-08T22:16:49.113Z"
   },
   {
    "duration": 530,
    "start_time": "2024-07-08T22:16:49.628Z"
   },
   {
    "duration": 722,
    "start_time": "2024-07-08T22:16:50.161Z"
   },
   {
    "duration": 637,
    "start_time": "2024-07-08T22:16:50.886Z"
   },
   {
    "duration": 345,
    "start_time": "2024-07-08T22:16:51.526Z"
   },
   {
    "duration": 52,
    "start_time": "2024-07-08T22:16:51.874Z"
   },
   {
    "duration": 25,
    "start_time": "2024-07-08T22:16:51.930Z"
   },
   {
    "duration": 1453,
    "start_time": "2024-07-08T22:16:51.964Z"
   },
   {
    "duration": 233,
    "start_time": "2024-07-08T22:16:53.420Z"
   },
   {
    "duration": 357,
    "start_time": "2024-07-08T22:16:53.655Z"
   },
   {
    "duration": 8,
    "start_time": "2024-07-08T22:25:31.931Z"
   },
   {
    "duration": 305,
    "start_time": "2024-07-08T22:25:40.389Z"
   }
  ],
  "colab": {
   "provenance": []
  },
  "kernelspec": {
   "display_name": "Python 3 (ipykernel)",
   "language": "python",
   "name": "python3"
  },
  "language_info": {
   "codemirror_mode": {
    "name": "ipython",
    "version": 3
   },
   "file_extension": ".py",
   "mimetype": "text/x-python",
   "name": "python",
   "nbconvert_exporter": "python",
   "pygments_lexer": "ipython3",
   "version": "3.9.19"
  },
  "toc": {
   "base_numbering": 1,
   "nav_menu": {},
   "number_sections": true,
   "sideBar": true,
   "skip_h1_title": true,
   "title_cell": "Table of Contents",
   "title_sidebar": "Contents",
   "toc_cell": false,
   "toc_position": {},
   "toc_section_display": true,
   "toc_window_display": false
  },
  "vscode": {
   "interpreter": {
    "hash": "01a7be9ec63e704a62cefc5fe7a4756944464ee731be31632bdf42a4cb4688cf"
   }
  }
 },
 "nbformat": 4,
 "nbformat_minor": 5
}
